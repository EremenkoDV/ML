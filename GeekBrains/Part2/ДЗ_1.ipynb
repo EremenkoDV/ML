{
 "cells": [
  {
   "cell_type": "markdown",
   "metadata": {},
   "source": [
    "ДЗ 1. Градиентный спуск."
   ]
  },
  {
   "cell_type": "markdown",
   "metadata": {},
   "source": [
    "1. Подберите скорость обучения (alpha) и количество итераций:"
   ]
  },
  {
   "cell_type": "code",
   "execution_count": 12,
   "metadata": {},
   "outputs": [],
   "source": [
    "import numpy as np\n",
    "import matplotlib.pyplot as plt"
   ]
  },
  {
   "cell_type": "code",
   "execution_count": 13,
   "metadata": {},
   "outputs": [],
   "source": [
    "def calc_mse(y, y_pred):\n",
    "    err = np.mean((y - y_pred)**2)\n",
    "    return err"
   ]
  },
  {
   "cell_type": "code",
   "execution_count": 14,
   "metadata": {},
   "outputs": [],
   "source": [
    "y = [45, 55, 50, 59, 65, 35, 75, 80, 50, 60]"
   ]
  },
  {
   "cell_type": "code",
   "execution_count": 15,
   "metadata": {},
   "outputs": [],
   "source": [
    "X = np.array([[1, 1, 1, 1, 1, 1, 1, 1, 1, 1],\n",
    "              [1, 1, 2, 1, 3, 0, 5, 10, 1, 2]])"
   ]
  },
  {
   "cell_type": "code",
   "execution_count": 29,
   "metadata": {},
   "outputs": [
    {
     "data": {
      "text/plain": [
       "(array([1. , 0.5]), 10.0)"
      ]
     },
     "execution_count": 29,
     "metadata": {},
     "output_type": "execute_result"
    }
   ],
   "source": [
    "n = X.shape[1]\n",
    "alpha = 1e+1\n",
    "W = np.array([1, 0.5])\n",
    "W, alpha"
   ]
  },
  {
   "cell_type": "code",
   "execution_count": 30,
   "metadata": {},
   "outputs": [
    {
     "name": "stdout",
     "output_type": "stream",
     "text": [
      "0 [1.103e+03 5.000e-01] 3173.15 inf 10.0\n",
      "0 [1103.  3400.5] 3173.15 inf 10.0\n",
      "********************* уменьшение alpha= 5.0\n",
      "********************* уменьшение alpha= 2.5\n",
      "********************* уменьшение alpha= 1.25\n",
      "********************* уменьшение alpha= 0.625\n",
      "********************* уменьшение alpha= 0.3125\n",
      "********************* уменьшение alpha= 0.15625\n",
      "********************* уменьшение alpha= 0.078125\n",
      "********************* уменьшение alpha= 0.0390625\n",
      "100 [44.0232288  4.528351 ] 51.95207642895291 0.5200457280124411 0.0390625\n",
      "100 [44.0232288   4.50326481] 51.95207642895291 0.5200457280124411 0.0390625\n",
      "200 [47.18137528  3.92048579] 45.939005434085 0.00013016620105332777 0.0390625\n",
      "200 [47.18137528  3.92008891] 45.939005434085 0.00013016620105332777 0.0390625\n",
      "300 [47.23133967  3.91086888] 45.93750037680654 3.258028868913243e-08 0.0390625\n",
      "300 [47.23133967  3.9108626 ] 45.93750037680654 3.258028868913243e-08 0.0390625\n",
      "400 [47.23213015  3.91071673] 45.937500000094296 8.15703060652595e-12 0.0390625\n",
      "400 [47.23213015  3.91071663] 45.937500000094296 8.15703060652595e-12 0.0390625\n",
      "err_prev - err= 0.0\n"
     ]
    }
   ],
   "source": [
    "err = np.float('inf')\n",
    "for i in range(100000):\n",
    "    y_pred = np.dot(W, X)\n",
    "    err_prev = err\n",
    "    err = calc_mse(y, y_pred)\n",
    "    if err_prev < err:\n",
    "        alpha = alpha / 2\n",
    "        print('********************* уменьшение alpha=', alpha)\n",
    "    if err_prev - err == 0:\n",
    "        print('err_prev - err=',err_prev - err)\n",
    "        break\n",
    "    for ii in range(W.shape[0]):\n",
    "        W[ii] -= alpha * (1/n * 2 * np.sum(X[ii] * (y_pred - y)))\n",
    "        if i % 100 == 0:\n",
    "            print(i, W, err, err_prev - err, alpha)"
   ]
  },
  {
   "cell_type": "code",
   "execution_count": 31,
   "metadata": {},
   "outputs": [
    {
     "data": {
      "text/plain": [
       "<matplotlib.legend.Legend at 0x1743d0c86c8>"
      ]
     },
     "execution_count": 31,
     "metadata": {},
     "output_type": "execute_result"
    },
    {
     "data": {
      "image/png": "[encoded data removed]",
      "text/plain": [
       "<Figure size 432x288 with 1 Axes>"
      ]
     },
     "metadata": {
      "needs_background": "light"
     },
     "output_type": "display_data"
    }
   ],
   "source": [
    "plt.scatter(X[1], y)\n",
    "plt.plot(X[1], W[0] + W[1] * X[1], label=\"ДЗ1\")\n",
    "plt.legend()"
   ]
  },
  {
   "cell_type": "markdown",
   "metadata": {},
   "source": [
    "*2. В этом коде мы избавляемся от итераций по весам, но тут есть ошибка, исправьте ее:"
   ]
  },
  {
   "cell_type": "code",
   "execution_count": 28,
   "metadata": {},
   "outputs": [
    {
     "name": "stdout",
     "output_type": "stream",
     "text": [
      "0 [1103.  3400.5] 3173.15\n",
      "********************* уменьшение alpha= 5.0\n",
      "********************* уменьшение alpha= 2.5\n",
      "********************* уменьшение alpha= 1.25\n",
      "********************* уменьшение alpha= 0.625\n",
      "********************* уменьшение alpha= 0.3125\n",
      "********************* уменьшение alpha= 0.15625\n",
      "********************* уменьшение alpha= 0.078125\n",
      "********************* уменьшение alpha= 0.0390625\n",
      "100 [44.0232288   4.50326481] 51.95207642895291\n",
      "200 [47.18137528  3.92008891] 45.939005434085\n",
      "300 [47.23133967  3.9108626 ] 45.93750037680654\n",
      "400 [47.23213015  3.91071663] 45.937500000094296\n",
      "err_prev - err= 0.0\n"
     ]
    }
   ],
   "source": [
    "err = np.float('inf')\n",
    "for i in range(100000):\n",
    "    y_pred = np.dot(W, X)\n",
    "    err_prev = err\n",
    "    err = calc_mse(y, y_pred)\n",
    "    if err_prev < err:\n",
    "        alpha = alpha / 2\n",
    "        print('********************* уменьшение alpha=', alpha)\n",
    "    if err_prev - err == 0:\n",
    "        print('err_prev - err=',err_prev - err)\n",
    "        break\n",
    "    W -= alpha * (1/n * 2 * np.sum(X * (y_pred - y), axis = 1))\n",
    "    if i % 100 == 0:\n",
    "        print(i, W, err)"
   ]
  }
 ],
 "metadata": {
  "kernelspec": {
   "display_name": "Python 3",
   "language": "python",
   "name": "python3"
  },
  "language_info": {
   "codemirror_mode": {
    "name": "ipython",
    "version": 3
   },
   "file_extension": ".py",
   "mimetype": "text/x-python",
   "name": "python",
   "nbconvert_exporter": "python",
   "pygments_lexer": "ipython3",
   "version": "3.7.6"
  }
 },
 "nbformat": 4,
 "nbformat_minor": 4
}
