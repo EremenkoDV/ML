{
  "nbformat": 4,
  "nbformat_minor": 0,
  "metadata": {
    "colab": {
      "name": "ДЗ_5.ipynb",
      "provenance": [],
      "collapsed_sections": []
    },
    "kernelspec": {
      "name": "python3",
      "display_name": "Python 3"
    }
  },
  "cells": [
    {
      "cell_type": "markdown",
      "metadata": {
        "id": "qGUIZbs0P18k",
        "colab_type": "text"
      },
      "source": [
        "# **ДЗ к уроку 5**"
      ]
    },
    {
      "cell_type": "markdown",
      "metadata": {
        "id": "T2xhjjkPP9Xb",
        "colab_type": "text"
      },
      "source": [
        "**Задание 1.**\n"
      ]
    },
    {
      "cell_type": "markdown",
      "metadata": {
        "id": "N-RKk45xQXIz",
        "colab_type": "text"
      },
      "source": [
        "Известно, что генеральная совокупность распределена нормально со средним квадратическим отклонением, равным 16. Найти доверительный интервал для оценки математического ожидания с надежностью 0.95, если выборочная средняя M = 80, а объем выборки n = 256."
      ]
    },
    {
      "cell_type": "markdown",
      "metadata": {
        "id": "8p3ytxUJQa6b",
        "colab_type": "text"
      },
      "source": [
        "**Решение.**"
      ]
    },
    {
      "cell_type": "markdown",
      "metadata": {
        "id": "GlapgldXQx90",
        "colab_type": "text"
      },
      "source": [
        "Используем формулу определения доверительного интервала при известной  генеральной совокупности: $$\\bar{X}\\ \\ \\pm\\ Z_{{\\alpha}/{2}}\\ \\ast\\ {\\sigma}/{\\sqrt n}$$\n",
        "Подставляем значения в формулу при p = 1 - α => α = 0.05; Z(α/2 = 1 - 0.025) = 1.96:\n",
        "$$80 \\pm 1.96 * 16 / 16 = [78.04; 81.96]$$"
      ]
    },
    {
      "cell_type": "code",
      "metadata": {
        "colab_type": "code",
        "id": "WQsJiB0m2D6M",
        "colab": {
          "base_uri": "https://localhost:8080/",
          "height": 34
        },
        "outputId": "c341c107-98a1-49d0-d9c8-e677b82a46f9"
      },
      "source": [
        "from scipy.stats import norm\n",
        "import math\n",
        "\n",
        "p = 0.95\n",
        "a = 1 - p\n",
        "x1 = norm.ppf(a / 2)\n",
        "x1"
      ],
      "execution_count": null,
      "outputs": [
        {
          "output_type": "execute_result",
          "data": {
            "text/plain": [
              "-1.959963984540054"
            ]
          },
          "metadata": {
            "tags": []
          },
          "execution_count": 70
        }
      ]
    },
    {
      "cell_type": "code",
      "metadata": {
        "colab_type": "code",
        "id": "5fLGqvLc-Q6c",
        "colab": {
          "base_uri": "https://localhost:8080/",
          "height": 34
        },
        "outputId": "b8e78292-16f5-4e6f-aac1-ba90ea661b2d"
      },
      "source": [
        "# Проверка\n",
        "norm.cdf(x1)"
      ],
      "execution_count": null,
      "outputs": [
        {
          "output_type": "execute_result",
          "data": {
            "text/plain": [
              "0.025"
            ]
          },
          "metadata": {
            "tags": []
          },
          "execution_count": 71
        }
      ]
    },
    {
      "cell_type": "code",
      "metadata": {
        "id": "1TqX1-_F-HaY",
        "colab_type": "code",
        "colab": {
          "base_uri": "https://localhost:8080/",
          "height": 34
        },
        "outputId": "740318cf-ce41-47ab-995d-99d2f69a27c3"
      },
      "source": [
        "x2 = norm.ppf(1 - a / 2)\n",
        "x2"
      ],
      "execution_count": null,
      "outputs": [
        {
          "output_type": "execute_result",
          "data": {
            "text/plain": [
              "1.959963984540054"
            ]
          },
          "metadata": {
            "tags": []
          },
          "execution_count": 72
        }
      ]
    },
    {
      "cell_type": "code",
      "metadata": {
        "id": "cHQVkTYs8IIi",
        "colab_type": "code",
        "colab": {
          "base_uri": "https://localhost:8080/",
          "height": 34
        },
        "outputId": "60f2f248-1def-43a9-fdb6-fb0f7d7c777b"
      },
      "source": [
        "# Проверка\n",
        "norm.cdf(x2)"
      ],
      "execution_count": null,
      "outputs": [
        {
          "output_type": "execute_result",
          "data": {
            "text/plain": [
              "0.975"
            ]
          },
          "metadata": {
            "tags": []
          },
          "execution_count": 73
        }
      ]
    },
    {
      "cell_type": "code",
      "metadata": {
        "id": "iklbkdH_2IR3",
        "colab_type": "code",
        "colab": {
          "base_uri": "https://localhost:8080/",
          "height": 34
        },
        "outputId": "6ced6709-3a10-4472-c08b-12bfab1815fd"
      },
      "source": [
        "mean = 80\n",
        "std = 16\n",
        "n = 256\n",
        "\n",
        "x1 = mean + x1 * std / math.sqrt(n)\n",
        "x1"
      ],
      "execution_count": null,
      "outputs": [
        {
          "output_type": "execute_result",
          "data": {
            "text/plain": [
              "78.04003601545995"
            ]
          },
          "metadata": {
            "tags": []
          },
          "execution_count": 74
        }
      ]
    },
    {
      "cell_type": "code",
      "metadata": {
        "id": "BmlRixzJ82s4",
        "colab_type": "code",
        "colab": {
          "base_uri": "https://localhost:8080/",
          "height": 34
        },
        "outputId": "672ede39-c8bc-4025-c7d7-88db4bd32dbc"
      },
      "source": [
        "x2 = mean + x2 * std / math.sqrt(n)\n",
        "x2"
      ],
      "execution_count": null,
      "outputs": [
        {
          "output_type": "execute_result",
          "data": {
            "text/plain": [
              "81.95996398454005"
            ]
          },
          "metadata": {
            "tags": []
          },
          "execution_count": 75
        }
      ]
    },
    {
      "cell_type": "markdown",
      "metadata": {
        "colab_type": "text",
        "id": "wdlLwaeRayCM"
      },
      "source": [
        "**Задание 2.**\n"
      ]
    },
    {
      "cell_type": "markdown",
      "metadata": {
        "colab_type": "text",
        "id": "X10luBD0ayCP"
      },
      "source": [
        "В результате 10 независимых измерений некоторой величины X, выполненных с одинаковой точностью, получены опытные данные: 6.9, 6.1, 6.2, 6.8, 7.5, 6.3, 6.4, 6.9, 6.7, 6.1. Предполагая, что результаты измерений подчинены нормальному закону распределения вероятностей, оценить истинное значение величины X при помощи доверительного интервала, покрывающего это значение с доверительной вероятностью 0,95."
      ]
    },
    {
      "cell_type": "markdown",
      "metadata": {
        "colab_type": "text",
        "id": "GP_bD82eayCR"
      },
      "source": [
        "**Решение.**"
      ]
    },
    {
      "cell_type": "markdown",
      "metadata": {
        "colab_type": "text",
        "id": "xgigB05RayCS"
      },
      "source": [
        "Среднее арифметическое:\n",
        "M(X) = Σ(I = 1, n) xi / n = 6.59\n",
        "\n",
        "Несмещенная дисперсия:\n",
        "D(X) = Σ(I = 1, n) (xi - X)**2 / (n – 1) = 0.2032\n",
        "\n",
        "Несмещенное среднеквадратичное отклонение:\n",
        "σ = D(X)**0.5 = 0.45\n",
        "\n",
        "Используем формулу определения доверительного интервала при неизвестной  генеральной совокупности: $$\\bar{X}\\ \\ \\pm\\ t_{{\\alpha}/{2}}\\ \\ast\\ {\\sigma}/{\\sqrt n}$$\n",
        "Подставляем значения в формулу при p = 1 - α => α = 0.05; t(α/2 = 0.025, v = n - 1 = 9) = 2.262:\n",
        "$$6.59 \\pm 2.262 * 0.45 / \\sqrt{10} = [6.268; 6.912]$$"
      ]
    },
    {
      "cell_type": "code",
      "metadata": {
        "id": "5tsg2ZOLdf_1",
        "colab_type": "code",
        "colab": {
          "base_uri": "https://localhost:8080/",
          "height": 153
        },
        "outputId": "a23293f4-326e-4942-c551-f5e2bb4367ce"
      },
      "source": [
        "import numpy as np\n",
        "import pandas as pd\n",
        "\n",
        "input_data = pd.array([6.9, 6.1, 6.2, 6.8, 7.5, 6.3, 6.4, 6.9, 6.7, 6.1])\n",
        "n = input_data.size\n",
        "print('Количество измерений:\\t\\t\\t\\t', n)\n",
        "print('Сумма значений:\\t\\t\\t\\t\\t', input_data.sum())\n",
        "print('Среднее значений:\\t\\t\\t\\t', input_data.mean())\n",
        "print('Несмещенная дисперсия:\\t\\t\\t\\t', input_data.var(ddof=1))\n",
        "print('Несмещенное среднеквадратичное отклонение:\\t', input_data.std(ddof=1))\n",
        "\n",
        "# Среднее арифметическое\n",
        "mean = input_data.sum() / n\n",
        "print(mean)\n",
        "\n",
        "# Несмещенная оценка дисперсии\n",
        "var_ddof_1 = ((input_data - mean)**2).sum() / (n - 1)\n",
        "print(var_ddof_1)\n",
        "\n",
        "# Среднеквадратическое отклонение выборки\n",
        "std_ddof_1 = np.sqrt(((input_data - mean)**2).sum() / (n - 1))\n",
        "print(std_ddof_1)\n"
      ],
      "execution_count": null,
      "outputs": [
        {
          "output_type": "stream",
          "text": [
            "Количество измерений:\t\t\t\t 10\n",
            "Сумма значений:\t\t\t\t\t 65.9\n",
            "Среднее значений:\t\t\t\t 6.589999999999999\n",
            "Несмещенная дисперсия:\t\t\t\t 0.2032222222222223\n",
            "Несмещенное среднеквадратичное отклонение:\t 0.4508017549014448\n",
            "6.590000000000001\n",
            "0.2032222222222223\n",
            "0.4508017549014448\n"
          ],
          "name": "stdout"
        }
      ]
    },
    {
      "cell_type": "code",
      "metadata": {
        "id": "mP9lOM8onT36",
        "colab_type": "code",
        "colab": {
          "base_uri": "https://localhost:8080/",
          "height": 34
        },
        "outputId": "2524160c-297b-419d-9b11-96a284e23c17"
      },
      "source": [
        "import scipy.stats\n",
        "\n",
        "p = 0.95\n",
        "a = 1 - p\n",
        "x1 = scipy.stats.t.ppf(a / 2, n - 1)\n",
        "x2 = scipy.stats.t.ppf(1 - a / 2, n - 1)\n",
        "x1\n",
        "x2"
      ],
      "execution_count": null,
      "outputs": [
        {
          "output_type": "execute_result",
          "data": {
            "text/plain": [
              "2.2621571627409915"
            ]
          },
          "metadata": {
            "tags": []
          },
          "execution_count": 77
        }
      ]
    },
    {
      "cell_type": "code",
      "metadata": {
        "id": "RrGNRoXend0Y",
        "colab_type": "code",
        "colab": {
          "base_uri": "https://localhost:8080/",
          "height": 34
        },
        "outputId": "98db623c-1b1c-493c-d3a4-4d10c1019b2d"
      },
      "source": [
        "x1 = mean + x1 * std_ddof_1 / math.sqrt(n)\n",
        "x1"
      ],
      "execution_count": null,
      "outputs": [
        {
          "output_type": "execute_result",
          "data": {
            "text/plain": [
              "6.267515851415713"
            ]
          },
          "metadata": {
            "tags": []
          },
          "execution_count": 78
        }
      ]
    },
    {
      "cell_type": "code",
      "metadata": {
        "colab_type": "code",
        "id": "hkn4OQd7q6pt",
        "colab": {
          "base_uri": "https://localhost:8080/",
          "height": 34
        },
        "outputId": "31cbd000-e889-48b6-e10b-af225409f8ed"
      },
      "source": [
        "x2 = mean + x2 * std_ddof_1 / math.sqrt(n)\n",
        "x2"
      ],
      "execution_count": null,
      "outputs": [
        {
          "output_type": "execute_result",
          "data": {
            "text/plain": [
              "6.912484148584288"
            ]
          },
          "metadata": {
            "tags": []
          },
          "execution_count": 79
        }
      ]
    },
    {
      "cell_type": "markdown",
      "metadata": {
        "colab_type": "text",
        "id": "Gkxppilk9R1n"
      },
      "source": [
        "**Задание 3.**"
      ]
    },
    {
      "cell_type": "markdown",
      "metadata": {
        "colab_type": "text",
        "id": "8FXNbbjl9R1o"
      },
      "source": [
        "Утверждается, что шарики для подшипников, изготовленные автоматическим станком, имеют средний диаметр 17 мм. Используя односторонний критерий с α=0,05, проверить эту гипотезу, если в выборке из n=100 шариков средний диаметр оказался равным 17.5 мм, а дисперсия известна и равна 4 кв.мм."
      ]
    },
    {
      "cell_type": "markdown",
      "metadata": {
        "colab_type": "text",
        "id": "-aTspOlL9R1p"
      },
      "source": [
        "**Решение. Тестирование гипотезы.**"
      ]
    },
    {
      "cell_type": "markdown",
      "metadata": {
        "colab_type": "text",
        "id": "Pv9KerJa9R1q"
      },
      "source": [
        "Гипотеза H0 -  шарики для подшипников, изготовленные автоматическим станком, имеют средний диаметр 17 мм.\n",
        "\n",
        "Гипотеза H1 -  шарики для подшипников, изготовленные автоматическим станком, имеют средний диаметр больше 17 мм.\n",
        "$$\\mu0 = 17 мм, \\bar{X} = \\mu = 17.5 мм, n = 100, Z_{т, α=0.05} = 1.645$$\n",
        "\n",
        "Среднеквадратичное отклонение:\n",
        "σ = D(X)\\*\\*0.5 = 2 мм\n",
        "\n",
        "Используем формулу\n",
        "$$Z_{н} = (\\bar{X} - {\\mu0}) / ({\\sigma}/{\\sqrt n}) = (17.5-17)/(2/10) = 2.5$$\n",
        "$$Z_{т, α=0.05} = 1.645 < Z_{н} = 2.5 => H1\\ -\\ верна, H0\\ -\\ ложна\\ (\\mu > \\mu0)$$\n",
        "\n"
      ]
    },
    {
      "cell_type": "code",
      "metadata": {
        "id": "ljJVsaMpztgx",
        "colab_type": "code",
        "colab": {
          "base_uri": "https://localhost:8080/",
          "height": 34
        },
        "outputId": "2a294e7c-1fd5-4dde-bff7-d81ca5d0d861"
      },
      "source": [
        "mean_h0 = 17\n",
        "mean_h1 = 17.5\n",
        "var = 4\n",
        "a = 0.05\n",
        "n = 100\n",
        "\n",
        "Zt = norm.ppf(1 - a)\n",
        "Zt"
      ],
      "execution_count": null,
      "outputs": [
        {
          "output_type": "execute_result",
          "data": {
            "text/plain": [
              "1.6448536269514722"
            ]
          },
          "metadata": {
            "tags": []
          },
          "execution_count": 80
        }
      ]
    },
    {
      "cell_type": "code",
      "metadata": {
        "id": "WYKt7xi00ViH",
        "colab_type": "code",
        "colab": {
          "base_uri": "https://localhost:8080/",
          "height": 34
        },
        "outputId": "4283ac52-b87d-4572-df47-ca85229b507a"
      },
      "source": [
        "Zn = (mean_h1 - mean_h0) / math.sqrt(var / n)\n",
        "Zn"
      ],
      "execution_count": null,
      "outputs": [
        {
          "output_type": "execute_result",
          "data": {
            "text/plain": [
              "2.5"
            ]
          },
          "metadata": {
            "tags": []
          },
          "execution_count": 81
        }
      ]
    },
    {
      "cell_type": "code",
      "metadata": {
        "id": "6n37phP30yn2",
        "colab_type": "code",
        "colab": {
          "base_uri": "https://localhost:8080/",
          "height": 34
        },
        "outputId": "03c2c70b-5909-44af-e7a3-5e07e3ec2e6a"
      },
      "source": [
        "if abs(abs(Zt) - abs(Zn)) < 0.01:\n",
        "    print(\"Необходимо увеличить число испытаний и повторить выборку\")\n",
        "elif abs(Zt) < abs(Zn):\n",
        "  if Zn > 0:\n",
        "      print(\"Гипотеза H1 − верна, H0 − ложна, т.е. {0} > {1}\".format(\"Mu\", \"Mu0\"))\n",
        "  else:\n",
        "      print(\"Гипотеза H1 − верна, H0 − ложна, т.е. {0} < {1}\".format(\"Mu\", \"Mu0\"))\n",
        "else:\n",
        "    print(\"Гипотеза H0 − верна, H1 − ложна, т.е. {0} = {1}\".format(\"Mu\", \"Mu0\"))"
      ],
      "execution_count": null,
      "outputs": [
        {
          "output_type": "stream",
          "text": [
            "Гипотеза H1 − верна, H0 − ложна, т.е. Mu > Mu0\n"
          ],
          "name": "stdout"
        }
      ]
    },
    {
      "cell_type": "markdown",
      "metadata": {
        "colab_type": "text",
        "id": "DgQcRXdB9dvs"
      },
      "source": [
        "**Задание 4.**"
      ]
    },
    {
      "cell_type": "markdown",
      "metadata": {
        "colab_type": "text",
        "id": "JhuDFK5D9dvv"
      },
      "source": [
        "Продавец утверждает, что средний вес пачки печенья составляет 200 г. Из партии извлечена выборка из 10 пачек. Вес каждой пачки составляет: 202, 203, 199, 197, 195, 201, 200, 204, 194, 190. Известно, что их веса распределены нормально.\n",
        "Верно ли утверждение продавца, если учитывать, что доверительная вероятность равна 99%?."
      ]
    },
    {
      "cell_type": "markdown",
      "metadata": {
        "colab_type": "text",
        "id": "Z8ObBe2Z9dvx"
      },
      "source": [
        "**Решение. Тестирование гипотезы.**"
      ]
    },
    {
      "cell_type": "markdown",
      "metadata": {
        "colab_type": "text",
        "id": "8WNKnadC9dvx"
      },
      "source": [
        "Гипотеза H0 - средний вес пачки печенья составляет 200 г.\n",
        "\n",
        "Гипотеза H1 - средний вес пачки печенья не равен 200 г.\n",
        "\n",
        "Среднее арифметическое:\n",
        "M(X) = Σ(I = 1, n) xi / n = 198.5\n",
        "\n",
        "Несмещенная дисперсия:\n",
        "D(X) = Σ(I = 1, n) (xi - X)**2 / (n – 1) = 19.8(3)\n",
        "\n",
        "Несмещенное среднеквадратичное отклонение:\n",
        "σ = D(X)**0.5 = 4.453\n",
        "$$\\mu0 = 200 мм, \\bar{X} = \\mu = 198.5 мм, n = 10, t_{т, α=0.01/2} = -3.25$$\n",
        "\n",
        "Используем формулу\n",
        "$$t_{н} = (\\bar{X} - {\\mu0}) / ({\\sigma}/{\\sqrt n}) = (198.5-200)/(4.453/\\sqrt {10}) = -1.0652$$\n",
        "$$t_{т, α=0.01/2} = -3.25 < t_{н} = -1.0652 => H0 - верна, H1 - ложна\\ (\\mu = \\mu0)$$\n"
      ]
    },
    {
      "cell_type": "code",
      "metadata": {
        "id": "wabA8MA64Lhe",
        "colab_type": "code",
        "colab": {
          "base_uri": "https://localhost:8080/",
          "height": 153
        },
        "outputId": "584873b2-75e7-47d4-f214-1e05df7b2221"
      },
      "source": [
        "input_data = pd.array([202, 203, 199, 197, 195, 201, 200, 204, 194, 190], float)\n",
        "n = input_data.size\n",
        "print('Количество измерений:\\t\\t\\t\\t', n)\n",
        "print('Сумма значений:\\t\\t\\t\\t\\t', input_data.sum())\n",
        "print('Среднее значений:\\t\\t\\t\\t', input_data.mean())\n",
        "print('Несмещенная дисперсия:\\t\\t\\t\\t', input_data.var(ddof=1))\n",
        "print('Несмещенное среднеквадратичное отклонение:\\t', input_data.std(ddof=1))\n",
        "\n",
        "# Среднее арифметическое\n",
        "mean = input_data.sum() / n\n",
        "print(mean)\n",
        "\n",
        "# Несмещенная оценка дисперсии\n",
        "var_ddof_1 = ((input_data - mean)**2).sum() / (n - 1)\n",
        "print(var_ddof_1)\n",
        "\n",
        "# Среднеквадратическое отклонение выборки\n",
        "std_ddof_1 = np.sqrt(((input_data - mean)**2).sum() / (n - 1))\n",
        "print(std_ddof_1)\n"
      ],
      "execution_count": null,
      "outputs": [
        {
          "output_type": "stream",
          "text": [
            "Количество измерений:\t\t\t\t 10\n",
            "Сумма значений:\t\t\t\t\t 1985.0\n",
            "Среднее значений:\t\t\t\t 198.5\n",
            "Несмещенная дисперсия:\t\t\t\t 19.833333333333332\n",
            "Несмещенное среднеквадратичное отклонение:\t 4.453463071962462\n",
            "198.5\n",
            "19.833333333333332\n",
            "4.453463071962462\n"
          ],
          "name": "stdout"
        }
      ]
    },
    {
      "cell_type": "code",
      "metadata": {
        "colab_type": "code",
        "id": "Q4U9_ENWEcDq",
        "colab": {
          "base_uri": "https://localhost:8080/",
          "height": 34
        },
        "outputId": "f4ae5d2e-0c50-474f-f777-34a48a2df6f5"
      },
      "source": [
        "mean_h0 = 200\n",
        "var = 4\n",
        "a = 0.01\n",
        "\n",
        "tt = scipy.stats.t.ppf(a / 2, n - 1)\n",
        "tt"
      ],
      "execution_count": null,
      "outputs": [
        {
          "output_type": "execute_result",
          "data": {
            "text/plain": [
              "-3.24983554401537"
            ]
          },
          "metadata": {
            "tags": []
          },
          "execution_count": 84
        }
      ]
    },
    {
      "cell_type": "code",
      "metadata": {
        "colab_type": "code",
        "id": "xZqVsc4cEcDw",
        "colab": {
          "base_uri": "https://localhost:8080/",
          "height": 34
        },
        "outputId": "3763b17f-9822-4576-8a15-fe326375113a"
      },
      "source": [
        "tn = (mean - mean_h0) / math.sqrt(var_ddof_1 / n)\n",
        "tn"
      ],
      "execution_count": null,
      "outputs": [
        {
          "output_type": "execute_result",
          "data": {
            "text/plain": [
              "-1.0651074037450896"
            ]
          },
          "metadata": {
            "tags": []
          },
          "execution_count": 85
        }
      ]
    },
    {
      "cell_type": "code",
      "metadata": {
        "colab_type": "code",
        "id": "UvGuNhPOJuuG",
        "colab": {
          "base_uri": "https://localhost:8080/",
          "height": 34
        },
        "outputId": "77757fd2-3079-4660-b00e-9f98c2a61065"
      },
      "source": [
        "if abs(abs(tt) - abs(tn)) < 0.01:\n",
        "    print(\"Необходимо увеличить число испытаний и повторить выборку\")\n",
        "elif abs(tt) < abs(tn):\n",
        "  if tn > 0:\n",
        "      print(\"Гипотеза H1 − верна, H0 − ложна, т.е. {0} > {1}\".format(\"Mu\", \"Mu0\"))\n",
        "  else:\n",
        "      print(\"Гипотеза H1 − верна, H0 − ложна, т.е. {0} < {1}\".format(\"Mu\", \"Mu0\"))\n",
        "else:\n",
        "    print(\"Гипотеза H0 − верна, H1 − ложна, т.е. {0} = {1}\".format(\"Mu\", \"Mu0\"))"
      ],
      "execution_count": null,
      "outputs": [
        {
          "output_type": "stream",
          "text": [
            "Гипотеза H0 − верна, H1 − ложна, т.е. Mu = Mu0\n"
          ],
          "name": "stdout"
        }
      ]
    }
  ]
}