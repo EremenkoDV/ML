{
  "nbformat": 4,
  "nbformat_minor": 0,
  "metadata": {
    "colab": {
      "name": "ДЗ_8.ipynb",
      "provenance": [],
      "collapsed_sections": []
    },
    "kernelspec": {
      "name": "python3",
      "display_name": "Python 3"
    }
  },
  "cells": [
    {
      "cell_type": "markdown",
      "metadata": {
        "id": "qGUIZbs0P18k",
        "colab_type": "text"
      },
      "source": [
        "# **ДЗ к уроку 8**"
      ]
    },
    {
      "cell_type": "markdown",
      "metadata": {
        "id": "T2xhjjkPP9Xb",
        "colab_type": "text"
      },
      "source": [
        "**Задание 1.**\n"
      ]
    },
    {
      "cell_type": "markdown",
      "metadata": {
        "id": "N-RKk45xQXIz",
        "colab_type": "text"
      },
      "source": [
        "Провести дисперсионный анализ для определения того, есть ли различия среднего роста среди взрослых футболистов, хоккеистов и штангистов.\n",
        "Даны значения роста в трех группах случайно выбранных спортсменов:\n",
        "Футболисты: 173, 175, 180, 178, 177, 185, 183, 182.\n",
        "Хоккеисты: 177, 179, 180, 188, 177, 172, 171, 184, 180.\n",
        "Штангисты: 172, 173, 169, 177, 166, 180, 178, 177, 172, 166, 170."
      ]
    },
    {
      "cell_type": "markdown",
      "metadata": {
        "id": "8p3ytxUJQa6b",
        "colab_type": "text"
      },
      "source": [
        "**Решение.**"
      ]
    },
    {
      "cell_type": "markdown",
      "metadata": {
        "id": "GlapgldXQx90",
        "colab_type": "text"
      },
      "source": [
        "Теcтируем гипотезу H0 о том, что значения mu1, mu2, mu3 среднего роста среди взрослых футболистов, хоккеистов и штангистов равны:\n",
        "$$\\mu1=\\mu2=\\mu3$$\n",
        "\n",
        "Для чего проведем дисперсионный анализ, используя метод stats.f_oneway из пакета \n",
        "scipy. Получим следующие результаты:\\\n",
        "F_onewayResult(statistic=5.500053450812596, pvalue=0.010482206918698694)\n",
        "\n",
        "Вывод. При alfa=0.005 (5%) pvalue=0.01048 (10.48%), лежит левее уровня значимости alfa в области H0. Т.О. гипотеза H0 (mu1=mu2=mu3) верна.\n"
      ]
    },
    {
      "cell_type": "code",
      "metadata": {
        "id": "O04IbTLXKP4v",
        "colab_type": "code",
        "colab": {}
      },
      "source": [
        "import numpy as np\n",
        "from scipy import stats"
      ],
      "execution_count": 1,
      "outputs": []
    },
    {
      "cell_type": "code",
      "metadata": {
        "id": "We_FjJh7iPdh",
        "colab_type": "code",
        "colab": {
          "base_uri": "https://localhost:8080/",
          "height": 34
        },
        "outputId": "a0dbb3b0-4472-4372-a619-a925739924b6"
      },
      "source": [
        "y1 = np.array([173, 175, 180, 178, 177, 185, 183, 182])\n",
        "y2 = np.array([177, 179, 180, 188, 177, 172, 171, 184, 180])\n",
        "y3 = np.array([172, 173, 169, 177, 166, 180, 178, 177, 172, 166, 170])\n",
        "\n",
        "stats.f_oneway(y1, y2, y3)\n"
      ],
      "execution_count": 61,
      "outputs": [
        {
          "output_type": "execute_result",
          "data": {
            "text/plain": [
              "F_onewayResult(statistic=5.500053450812596, pvalue=0.010482206918698694)"
            ]
          },
          "metadata": {
            "tags": []
          },
          "execution_count": 61
        }
      ]
    },
    {
      "cell_type": "code",
      "metadata": {
        "id": "CoYNfrIpCmdo",
        "colab_type": "code",
        "colab": {
          "base_uri": "https://localhost:8080/",
          "height": 340
        },
        "outputId": "179faead-35cf-4bf0-8ca0-aba898837858"
      },
      "source": [
        "# Проверка\n",
        "\n",
        "# Количество уровней k\n",
        "k = 3\n",
        "print('Число уровней k = {0}'.format(k))\n",
        "\n",
        "# Число наблюдений n1 для y1\n",
        "n1 = y1.size\n",
        "print('Число наблюдений для y1 n1 = {0}'.format(n1))\n",
        "\n",
        "# Число наблюдений n1 для y2\n",
        "n2 = y2.size\n",
        "print('Число наблюдений для y2 n2 = {0}'.format(n2))\n",
        "\n",
        "# Число наблюдений n1 для y3\n",
        "n3 = y3.size\n",
        "print('Число наблюдений для y3 n3 = {0}'.format(n3))\n",
        "\n",
        "# Общее число наблюдений n\n",
        "n = n1 + n2 + n3\n",
        "print('Общее число наблюдений n = {0}'.format(n))\n",
        "\n",
        "# Среднее арифмтическое общее y_mean\n",
        "y_mean = (y1.sum() + y2.sum() + y3.sum()) / n\n",
        "print('Среднее арифмтическое y_mean = {0}'.format(y_mean))\n",
        "\n",
        "# Среднее арифмтическое y1_mean\n",
        "y1_mean = y1.mean()\n",
        "print('Среднее арифмтическое y1_mean = {0}'.format(y1_mean))\n",
        "\n",
        "# Среднее арифмтическое y2_mean\n",
        "y2_mean = y2.mean()\n",
        "print('Среднее арифмтическое y2_mean = {0}'.format(y2_mean))\n",
        "\n",
        "# Среднее арифмтическое y3_mean\n",
        "y3_mean = y3.mean()\n",
        "print('Среднее арифмтическое y3_mean = {0}'.format(y3_mean))\n",
        "\n",
        "# Сумма квадратов отклонений наблюдений от общего среднего S2\n",
        "S2 = ((y1 - y_mean)**2).sum() + ((y2 - y_mean)**2).sum() + ((y3 - y_mean)**2).sum()\n",
        "print('Сумма квадратов отклонений наблюдений от общего среднего S2 = {0}'.format(S2))\n",
        "\n",
        "# Сумма квадратов отклонений средних групповых значений от общего среднего S2_f\n",
        "S2_f = n1*(y1_mean - y_mean)**2 + n2*(y2_mean - y_mean)**2 + n3*(y3_mean - y_mean)**2\n",
        "print('Сумма квадратов отклонений средних групповых значений от общего среднего S2_f = {0}'.format(S2_f))\n",
        "\n",
        "# Остаточная сумма квадратов отклонений S2_ost\n",
        "S2_ost = ((y1 - y1_mean)**2).sum() + ((y2 - y2_mean)**2).sum() + ((y3 - y3_mean)**2).sum()\n",
        "print('Остаточная сумма квадратов отклонений S2_ost = {0}'.format(S2_ost))\n",
        "\n",
        "# S2 = S2_f + S2_ost\n",
        "S2 = ((y1 - y_mean)**2).sum() + ((y2 - y_mean)**2).sum() + ((y3 - y_mean)**2).sum()\n",
        "print('Проверка равенства S2 = S2_f + S2_ost = {0}'.format(S2_f + S2_ost))\n",
        "\n",
        "# Общая дисперсия var\n",
        "var = S2 / (n - 1)\n",
        "print('Общая дисперсия var = {0}'.format(var))\n",
        "\n",
        "# Факторная дисперсия var_f\n",
        "var_f = S2_f / (k - 1)\n",
        "print('Факторная дисперсия var_f = {0}'.format(var_f))\n",
        "\n",
        "# Остаточная дисперсия var_ost\n",
        "var_ost = S2_ost / (n - k)\n",
        "print('Факторная дисперсия var_ost = {0}'.format(var_ost))\n",
        "\n",
        "# Критерий Фишера F_n\n",
        "F_n = var_f / var_ost\n",
        "print('Критерий Фишера F_n = {0}'.format(F_n))\n",
        "\n",
        "# Число степеней свободы числителя df_m\n",
        "df_m = k - 1\n",
        "print('Число степеней свободы числителя = {0}'.format(df_m))\n",
        "\n",
        "# Число степеней свободы знаменателя df_v\n",
        "df_v = n - k\n",
        "print('Число степеней свободы знаменателя = {0}'.format(df_v))\n",
        "\n",
        "# ???? Критерий Фишера по таб. F_t = 3.38 (при alfa = 0.05) ???\n",
        "# ???? Непонятный момент, т.к. F_t = 3.38 < F_n = 5.50, но pvalue = 0.01048 > alfa = 0.005\n",
        "\n"
      ],
      "execution_count": 62,
      "outputs": [
        {
          "output_type": "stream",
          "text": [
            "Число уровней k = 3\n",
            "Число наблюдений для y1 n1 = 8\n",
            "Число наблюдений для y2 n2 = 9\n",
            "Число наблюдений для y3 n3 = 11\n",
            "Общее число наблюдений n = 28\n",
            "Среднее арифмтическое y_mean = 176.46428571428572\n",
            "Среднее арифмтическое y1_mean = 179.125\n",
            "Среднее арифмтическое y2_mean = 178.66666666666666\n",
            "Среднее арифмтическое y3_mean = 172.72727272727272\n",
            "Сумма квадратов отклонений наблюдений от общего среднего S2 = 830.9642857142858\n",
            "Сумма квадратов отклонений средних групповых значений от общего среднего S2_f = 253.9074675324678\n",
            "Остаточная сумма квадратов отклонений S2_ost = 577.0568181818182\n",
            "Проверка равенства S2 = S2_f + S2_ost = 830.964285714286\n",
            "Общая дисперсия var = 30.77645502645503\n",
            "Факторная дисперсия var_f = 126.9537337662339\n",
            "Факторная дисперсия var_ost = 23.08227272727273\n",
            "Критерий Фишера F_n = 5.500053450812598\n",
            "Число степеней свободы числителя = 2\n",
            "Число степеней свободы знаменателя = 25\n"
          ],
          "name": "stdout"
        }
      ]
    },
    {
      "cell_type": "markdown",
      "metadata": {
        "colab_type": "text",
        "id": "wdlLwaeRayCM"
      },
      "source": [
        "**Задание 2.**\n"
      ]
    },
    {
      "cell_type": "markdown",
      "metadata": {
        "colab_type": "text",
        "id": "X10luBD0ayCP"
      },
      "source": [
        "Прикрепить ссылку на курсовой проект на github. (см. выбор темы в ДЗ к Уроку 6)"
      ]
    },
    {
      "cell_type": "markdown",
      "metadata": {
        "colab_type": "text",
        "id": "GP_bD82eayCR"
      },
      "source": [
        "**Ответ.**"
      ]
    },
    {
      "cell_type": "markdown",
      "metadata": {
        "colab_type": "text",
        "id": "xgigB05RayCS"
      },
      "source": [
        "Проект в процессе..."
      ]
    }
  ]
}