{
  "nbformat": 4,
  "nbformat_minor": 0,
  "metadata": {
    "colab": {
      "name": "ДЗ_3.ipynb",
      "provenance": [],
      "collapsed_sections": []
    },
    "kernelspec": {
      "name": "python3",
      "display_name": "Python 3"
    }
  },
  "cells": [
    {
      "cell_type": "markdown",
      "metadata": {
        "id": "qGUIZbs0P18k",
        "colab_type": "text"
      },
      "source": [
        "# **ДЗ к уроку 3**"
      ]
    },
    {
      "cell_type": "markdown",
      "metadata": {
        "id": "T2xhjjkPP9Xb",
        "colab_type": "text"
      },
      "source": [
        "**Задание 1.**\n"
      ]
    },
    {
      "cell_type": "markdown",
      "metadata": {
        "id": "N-RKk45xQXIz",
        "colab_type": "text"
      },
      "source": [
        "Даны значения зарплат из выборки выпускников: 100, 80, 75, 77, 89, 33, 45, 25, 65, 17, 30, 24, 57, 55, 70, 75, 65, 84, 90, 150. Посчитать (желательно без использования статистических методов наподобие std, var, mean) среднее арифметическое, среднее квадратичное отклонение, смещенную и несмещенную оценки дисперсий для данной выборки."
      ]
    },
    {
      "cell_type": "markdown",
      "metadata": {
        "id": "8p3ytxUJQa6b",
        "colab_type": "text"
      },
      "source": [
        "**Решение.**"
      ]
    },
    {
      "cell_type": "markdown",
      "metadata": {
        "id": "GlapgldXQx90",
        "colab_type": "text"
      },
      "source": [
        "Среднее арифметическое:\n",
        "X = (Σ(i = 1, n) xi) / n = (100 + 80 + 75 + 77 + 89 + 33 + 45 + 25 + 65 + 17 + 30 + 24 + 57 + 55 + 70 + 75 + 65 + 84 + 90 + 150) / 20 = 1306 / 20 = 65.3\n",
        "\n",
        "Смещенная оценка дисперсии:\n",
        "D(X) = σ\\*\\*2 = Σ(i = 1, n) (xi - X)\\*\\*2 / n = ((100 – 65.3)\\*\\*2 + (80 – 65.3)\\*\\*2 + (75 – 65.3)\\*\\*2 + (77 – 65.3)\\*\\*2 + (89 – 65.3)\\*\\*2 + (33 – 65.3)\\*\\*2 + (45 – 65.3)\\*\\*2 + (25 – 65.3)\\*\\*2 + (65 – 65.3)\\*\\*2 + (17 – 65.3)\\*\\*2 + (30 – 65.3)\\*\\*2 + (24 – 65.3)\\*\\*2 + (57 – 65.3)\\*\\*2 + (55 – 65.3)\\*\\*2 + (70 – 65.3)\\*\\*2 + (75 – 65.3)\\*\\*2 + (65 – 65.3)\\*\\*2 + (84 – 65.3)\\*\\*2 + (90 – 65.3)\\*\\*2 + (150 – 65.3)\\*\\*2) / 20 = 950.11 / 20 = 950.11\n",
        "\n",
        "Среднеквадратическое отклонение генеральной совокупности:\n",
        "σ = (950.11)\\*\\*1/2 = 30.8239\n",
        "\n",
        "Несмещенная оценка дисперсии:\n",
        "S2 = Σ(I = 1, n) (xi - X)\\*\\*2 / (n – 1) = ((100 – 65.3)\\*\\*2 + (80 – 65.3)\\*\\*2 + (75 – 65.3)\\*\\*2 + (77 – 65.3)\\*\\*2 + (89 – 65.3)\\*\\*2 + (33 – 65.3)\\*\\*2 + (45 – 65.3)\\*\\*2 + (25 – 65.3)\\*\\*2 + (65 – 65.3)\\*\\*2 + (17 – 65.3)\\*\\*2 + (30 – 65.3)\\*\\*2 + (24 – 65.3)\\*\\*2 + (57 – 65.3)\\*\\*2 + (55 – 65.3)\\*\\*2 + (70 – 65.3)\\*\\*2 + (75 – 65.3)\\*\\*2 + (65 – 65.3)\\*\\*2 + (84 – 65.3)\\*\\*2 + (90 – 65.3)\\*\\*2 + (150 – 65.3)\\*\\*2) / (20 – 1) = 950.11 / (20 – 1) = 1000.116\n",
        "\n",
        "Среднеквадратическое отклонение выборки:\n",
        "S = (1000.116)\\*\\*1/2 = 31.6246\n"
      ]
    },
    {
      "cell_type": "code",
      "metadata": {
        "id": "MUz7ORW8Nbrp",
        "colab_type": "code",
        "colab": {
          "base_uri": "https://localhost:8080/",
          "height": 102
        },
        "outputId": "2f855500-14c1-4c0f-bfed-96675120b788"
      },
      "source": [
        "import numpy as np\n",
        "import pandas as pd\n",
        "import matplotlib.pyplot as plt\n",
        "\n",
        "df = pd.read_csv('https://raw.githubusercontent.com/EremenkoDV/ML/master/numbers.csv', encoding='cp1251', sep=';')\n",
        "#print(df.columns.tolist())\n",
        "\n",
        "# Среднее арифметическое\n",
        "numbers_mean = df['number'].sum() / df['number'].count()\n",
        "\n",
        "# Смещенная оценка дисперсии\n",
        "numbers_var_ddof_0 = ((df['number'] - df['number'].mean())**2).sum() / df['number'].count()\n",
        "\n",
        "# Среднеквадратическое отклонение генеральной совокупности\n",
        "numbers_std_ddof_0 = np.sqrt(((df['number'] - df['number'].mean())**2).sum() / df['number'].count())\n",
        "\n",
        "# Несмещенная оценка дисперсии\n",
        "numbers_var_ddof_1 = ((df['number'] - df['number'].mean())**2).sum() / (df['number'].count() - 1)\n",
        "\n",
        "# Среднеквадратическое отклонение выборки\n",
        "numbers_std_ddof_1 = np.sqrt(((df['number'] - df['number'].mean())**2).sum() / (df['number'].count() - 1))\n",
        "\n",
        "print('Среднее арифметическое:\\t\\t\\t\\t\\t\\t', numbers_mean)\n",
        "print('Смещенная оценка дисперсии:\\t\\t\\t\\t\\t', numbers_var_ddof_0)\n",
        "print('Среднеквадратическое отклонение генеральной совокупности:\\t', numbers_std_ddof_0)\n",
        "print('Несмещенная оценка дисперсии:\\t\\t\\t\\t\\t', numbers_var_ddof_1)\n",
        "print('Среднеквадратическое отклонение выборки:\\t\\t\\t', numbers_std_ddof_1)\n"
      ],
      "execution_count": null,
      "outputs": [
        {
          "output_type": "stream",
          "text": [
            "Среднее арифметическое:\t\t\t\t\t\t 65.3\n",
            "Смещенная оценка дисперсии:\t\t\t\t\t 950.11\n",
            "Среднеквадратическое отклонение генеральной совокупности:\t 30.823854398825596\n",
            "Несмещенная оценка дисперсии:\t\t\t\t\t 1000.1157894736842\n",
            "Среднеквадратическое отклонение выборки:\t\t\t 31.624607341019814\n"
          ],
          "name": "stdout"
        }
      ]
    },
    {
      "cell_type": "markdown",
      "metadata": {
        "colab_type": "text",
        "id": "_Woub5CjUl4t"
      },
      "source": [
        "**Задание 2.**\n"
      ]
    },
    {
      "cell_type": "markdown",
      "metadata": {
        "colab_type": "text",
        "id": "YawH7wejUl4v"
      },
      "source": [
        "В первом ящике находится 8 мячей, из которых 5 - белые. Во втором ящике - 12 мячей, из которых 5 белых. Из первого ящика вытаскивают случайным образом два мяча, из второго - 4. Какова вероятность того, что 3 мяча белые?"
      ]
    },
    {
      "cell_type": "markdown",
      "metadata": {
        "colab_type": "text",
        "id": "17K5JTEdUl4x"
      },
      "source": [
        "**Решение.**"
      ]
    },
    {
      "cell_type": "markdown",
      "metadata": {
        "id": "eDhdQYbCqOSS",
        "colab_type": "text"
      },
      "source": [
        "**Комбинаторика.**"
      ]
    },
    {
      "cell_type": "markdown",
      "metadata": {
        "id": "M0V24VAhqTaa",
        "colab_type": "text"
      },
      "source": [
        "**Случай 1.** 2 б.м. из 1-го ящика и 1 б.м. из 2-го ящика:\n",
        "\n",
        "C(2,5) = 5! / (2! \\* 3!) = 10;\n",
        "\n",
        "C(2,8) = 8! / (2! \\* 6!) = 28;\n",
        "\n",
        "C(3,7) = 7! / (3! \\* 4!) = 35;\n",
        "\n",
        "C(1,5) = 5! / 4! = 5;\n",
        "\n",
        "C(4,12) = 12! / (4! \\* 8!) = 495\n",
        "\n",
        "P1 = [C(2,5) / C(2,8)] \\* [C(3,7) \\* C(1,5) / C(4,12)] = [10 / 28] \\* [35 \\* 5 / 495] = 0.35714 \\* 0.(35) = 0.1(26)"
      ]
    },
    {
      "cell_type": "markdown",
      "metadata": {
        "id": "QSR6pN8dqYEJ",
        "colab_type": "text"
      },
      "source": [
        "**Случай 2.** 3 б.м. из 2-го ящика:\n",
        "\n",
        "C(2,3) = 3! / 2! = 3;\n",
        "\n",
        "C(3,5) = 5! / (3! \\* 2!) = 10;\n",
        "\n",
        "C(1,7) = 5! / 4! = 7;\n",
        "\n",
        "P2 = [C(2,3) / C(2,8)] \\* [C(3,5) \\* C(1,7) / C(4,12)] = [3 / 28] \\* [10 \\* 7 / 495] = 0.10714 \\* 0.(14) = 0.0(15)"
      ]
    },
    {
      "cell_type": "markdown",
      "metadata": {
        "id": "tn9mUFXuqeeZ",
        "colab_type": "text"
      },
      "source": [
        "**Случай 3.** 1 б.м. из 1-го ящика и 2 б.м. из 2-го ящика:\n",
        "\n",
        "C(1,3) = 3! / 1! = 3;\n",
        "\n",
        "C(2,7) = 7! / (2! \\* 5!) = 21;\n",
        "\n",
        "P3 = [C(1,5) \\* С(1,3) / C(2,8)] \\* [C(2,5) \\* C(2,7) / C(4,12)] = [5 \\* 3 / 28] \\* [10 \\* 21 / 495] = 0.535714 \\* 0.(42) = 0.2(27)"
      ]
    },
    {
      "cell_type": "markdown",
      "metadata": {
        "colab_type": "text",
        "id": "iubleZBcUl4y"
      },
      "source": [
        "P = P1 + P2 + P3 = 0.1(26) + 0.0(15) + 0.2(27) = 0.3(68)"
      ]
    },
    {
      "cell_type": "code",
      "metadata": {
        "id": "SgrjUevTsXQB",
        "colab_type": "code",
        "colab": {}
      },
      "source": [
        "from math import factorial\n",
        "\n",
        "def combinations(k, n):\n",
        "    return int(factorial(n) / (factorial(k) * factorial(n - k)))"
      ],
      "execution_count": null,
      "outputs": []
    },
    {
      "cell_type": "code",
      "metadata": {
        "id": "OXpoMzrdrlj7",
        "colab_type": "code",
        "colab": {
          "base_uri": "https://localhost:8080/",
          "height": 34
        },
        "outputId": "352ac51b-4921-4e11-eb1e-d8053a46e67a"
      },
      "source": [
        "\n",
        "p1 = (combinations(2, 5) / combinations(2, 8)) * (combinations(3, 7) * combinations(1, 5) / combinations(4, 12))\n",
        "p1"
      ],
      "execution_count": null,
      "outputs": [
        {
          "output_type": "execute_result",
          "data": {
            "text/plain": [
              "0.12626262626262627"
            ]
          },
          "metadata": {
            "tags": []
          },
          "execution_count": 17
        }
      ]
    },
    {
      "cell_type": "code",
      "metadata": {
        "id": "vL24D1MHseXh",
        "colab_type": "code",
        "colab": {
          "base_uri": "https://localhost:8080/",
          "height": 34
        },
        "outputId": "5dee531a-8e61-424d-ce80-2c9e74b8e855"
      },
      "source": [
        "p2 = (combinations(2, 3) / combinations(2, 8)) * (combinations(3, 5) * combinations(1, 7) / combinations(4, 12))\n",
        "p2"
      ],
      "execution_count": null,
      "outputs": [
        {
          "output_type": "execute_result",
          "data": {
            "text/plain": [
              "0.01515151515151515"
            ]
          },
          "metadata": {
            "tags": []
          },
          "execution_count": 18
        }
      ]
    },
    {
      "cell_type": "code",
      "metadata": {
        "colab_type": "code",
        "id": "dPuD3wWnsvZL",
        "colab": {
          "base_uri": "https://localhost:8080/",
          "height": 34
        },
        "outputId": "316a574c-00b7-4f8b-c6a9-c7840e18fb7d"
      },
      "source": [
        "p3 = (combinations(1, 5) * combinations(1, 3) / combinations(2, 8)) * (combinations(2, 5) * combinations(2, 7) / combinations(4, 12))\n",
        "p3"
      ],
      "execution_count": null,
      "outputs": [
        {
          "output_type": "execute_result",
          "data": {
            "text/plain": [
              "0.22727272727272727"
            ]
          },
          "metadata": {
            "tags": []
          },
          "execution_count": 19
        }
      ]
    },
    {
      "cell_type": "code",
      "metadata": {
        "id": "3SYCmrJ4s81p",
        "colab_type": "code",
        "colab": {
          "base_uri": "https://localhost:8080/",
          "height": 34
        },
        "outputId": "7b751f40-96f5-4a05-e334-56e127eabacf"
      },
      "source": [
        "p = p1 + p2 + p3\n",
        "p"
      ],
      "execution_count": null,
      "outputs": [
        {
          "output_type": "execute_result",
          "data": {
            "text/plain": [
              "0.3686868686868687"
            ]
          },
          "metadata": {
            "tags": []
          },
          "execution_count": 20
        }
      ]
    },
    {
      "cell_type": "markdown",
      "metadata": {
        "colab_type": "text",
        "id": "T2HOgGocthYK"
      },
      "source": [
        "**Условная вероятность.**"
      ]
    },
    {
      "cell_type": "markdown",
      "metadata": {
        "colab_type": "text",
        "id": "OzVTksJ8thYM"
      },
      "source": [
        "**Случай 1.** 2 б.м. из 1-го ящика и 1 б.м. из 2-го ящика (4 случая вытаскивания б.м. из 2-го ящика или 1-м, или 2-м, или 3-м, или 4-м):\n",
        "\n",
        "P1 = [(5 / 8) \\* (4 / 7)] \\* \\\n",
        " [((5 / 12) \\* (7 / 11) \\* (6 / 10) \\* (5 / 9)) + \\\n",
        " ((7 / 12) \\* (5 / 11) \\* (6 / 10) \\* (5 / 9)) + \\\n",
        " ((7 / 12) \\* (6 / 11) \\* (5 / 10) \\* (5 / 9)) + \\\n",
        " ((7 / 12) \\* (6 / 11) \\* (5 / 10) \\* (5 / 9))] = 0.1(26)"
      ]
    },
    {
      "cell_type": "markdown",
      "metadata": {
        "colab_type": "text",
        "id": "BOLbSVwRthYO"
      },
      "source": [
        "**Случай 2.** 3 б.м. из 2-го ящика (4 случая вытаскивания 3-х б.м. из 2-го ящика или 1-м, 2-м и 3-м, или 1-м, 2-м и 4-м, или 1-м, 3-м и 4-м, или 2-м, 3м и 4-м):\n",
        "\n",
        "P2 = [(3 / 8) \\* (2 / 7)] \\* \\\n",
        "    [\n",
        "        ((5 / 12) \\* (4 / 11) \\* (3 / 10) \\* (7 / 9)) + \\\n",
        "        ((5 / 12) \\* (4 / 11) \\* (7 / 10) \\* (3 / 9)) + \\\n",
        "        ((5 / 12) \\* (7 / 11) \\* (4 / 10) \\* (3 / 9)) + \\\n",
        "        ((7 / 12) \\* (5 / 11) \\* (4 / 10) \\* (3 / 9))\n",
        "    ] = 0.0(15)"
      ]
    },
    {
      "cell_type": "markdown",
      "metadata": {
        "colab_type": "text",
        "id": "m5bDj4rqtYb6"
      },
      "source": [
        "**Случай 3.** 1 б.м. из 1-го ящика (2 случая вытаскивания б.м. из 1-го ящика в порядке или 1-м, или 2-м) и 2 б.м. из 2-го ящика (6 случаев вытаскивания 2-х б.м. из 2-го ящика в порядке или 1-м и 2-м, или 1-м и 3-м, или 1-м и 4-м, или 2-м и 3-м, или 2-м и 4-м, или 3-м и 4-м):\n",
        "\n",
        "P3 = [\n",
        "        ((5 / 8) \\* (3 / 7)) + \\\n",
        "        ((3 / 8) \\* (5 / 7))\n",
        " ] * \\\n",
        "    [\n",
        "        ((5 / 12) \\* (4 / 11) \\* (7 / 10) \\* (6 / 9)) + \\\n",
        "        ((5 / 12) \\* (7 / 11) \\* (4 / 10) \\* (6 / 9)) + \\\n",
        "        ((5 / 12) \\* (7 / 11) \\* (6 / 10) \\* (4 / 9)) + \\\n",
        "        ((7 / 12) \\* (5 / 11) \\* (4 / 10) \\* (6 / 9)) + \\\n",
        "        ((7 / 12) \\* (5 / 11) \\* (6 / 10) \\* (4 / 9)) + \\\n",
        "        ((7 / 12) \\* (6 / 11) \\* (5 / 10) \\* (4 / 9))\n",
        "    ] = 0.2(27)"
      ]
    },
    {
      "cell_type": "markdown",
      "metadata": {
        "colab_type": "text",
        "id": "Zji44MpJtYb8"
      },
      "source": [
        "P = P1 + P2 + P3 = 0.1(26) + 0.0(15) + 0.2(27) = 0.3(68)"
      ]
    },
    {
      "cell_type": "code",
      "metadata": {
        "id": "PsRwM1ywwDT4",
        "colab_type": "code",
        "colab": {
          "base_uri": "https://localhost:8080/",
          "height": 34
        },
        "outputId": "dd555b2c-d514-4e17-e384-a612b8415bf3"
      },
      "source": [
        "p1 = ((5 / 8) * (4 / 7)) * \\\n",
        "    (\n",
        "        ((5 / 12) * (7 / 11) * (6 / 10) * (5 / 9)) + \\\n",
        "        ((7 / 12) * (5 / 11) * (6 / 10) * (5 / 9)) + \\\n",
        "        ((7 / 12) * (6 / 11) * (5 / 10) * (5 / 9)) + \\\n",
        "        ((7 / 12) * (6 / 11) * (5 / 10) * (5 / 9))\n",
        "    )\n",
        "p1"
      ],
      "execution_count": null,
      "outputs": [
        {
          "output_type": "execute_result",
          "data": {
            "text/plain": [
              "0.12626262626262624"
            ]
          },
          "metadata": {
            "tags": []
          },
          "execution_count": 33
        }
      ]
    },
    {
      "cell_type": "code",
      "metadata": {
        "colab_type": "code",
        "id": "r9XNWvUO5_OM",
        "colab": {
          "base_uri": "https://localhost:8080/",
          "height": 34
        },
        "outputId": "569a94a1-bac5-4d09-cf09-973afaac19b4"
      },
      "source": [
        "p2 = ((3 / 8) * (2 / 7)) * \\\n",
        "    (\n",
        "        ((5 / 12) * (4 / 11) * (3 / 10) * (7 / 9)) + \\\n",
        "        ((5 / 12) * (4 / 11) * (7 / 10) * (3 / 9)) + \\\n",
        "        ((5 / 12) * (7 / 11) * (4 / 10) * (3 / 9)) + \\\n",
        "        ((7 / 12) * (5 / 11) * (4 / 10) * (3 / 9))\n",
        "    )\n",
        "p2"
      ],
      "execution_count": null,
      "outputs": [
        {
          "output_type": "execute_result",
          "data": {
            "text/plain": [
              "0.01515151515151515"
            ]
          },
          "metadata": {
            "tags": []
          },
          "execution_count": 34
        }
      ]
    },
    {
      "cell_type": "code",
      "metadata": {
        "colab_type": "code",
        "id": "BjKfgjjZ0pfO",
        "colab": {
          "base_uri": "https://localhost:8080/",
          "height": 34
        },
        "outputId": "77ca8f8e-eb57-4bb1-b819-78a3b3afbcf0"
      },
      "source": [
        "p3 = (\n",
        "        ((5 / 8) * (3 / 7)) + \\\n",
        "        ((3 / 8) * (5 / 7))\n",
        "    ) * \\\n",
        "    (\n",
        "        ((5 / 12) * (4 / 11) * (7 / 10) * (6 / 9)) + \\\n",
        "        ((5 / 12) * (7 / 11) * (4 / 10) * (6 / 9)) + \\\n",
        "        ((5 / 12) * (7 / 11) * (6 / 10) * (4 / 9)) + \\\n",
        "        ((7 / 12) * (5 / 11) * (4 / 10) * (6 / 9)) + \\\n",
        "        ((7 / 12) * (5 / 11) * (6 / 10) * (4 / 9)) + \\\n",
        "        ((7 / 12) * (6 / 11) * (5 / 10) * (4 / 9))\n",
        "    )\n",
        "p3"
      ],
      "execution_count": null,
      "outputs": [
        {
          "output_type": "execute_result",
          "data": {
            "text/plain": [
              "0.22727272727272727"
            ]
          },
          "metadata": {
            "tags": []
          },
          "execution_count": 35
        }
      ]
    },
    {
      "cell_type": "code",
      "metadata": {
        "colab_type": "code",
        "id": "CONc23fV8O6c",
        "colab": {
          "base_uri": "https://localhost:8080/",
          "height": 34
        },
        "outputId": "ad03a712-aeec-4347-ee14-9c52f7cb53b7"
      },
      "source": [
        "p = p1 + p2 + p3\n",
        "p"
      ],
      "execution_count": null,
      "outputs": [
        {
          "output_type": "execute_result",
          "data": {
            "text/plain": [
              "0.3686868686868686"
            ]
          },
          "metadata": {
            "tags": []
          },
          "execution_count": 36
        }
      ]
    },
    {
      "cell_type": "markdown",
      "metadata": {
        "colab_type": "text",
        "id": "KV5U9nQm8gMm"
      },
      "source": [
        "**Задание 3.**\n"
      ]
    },
    {
      "cell_type": "markdown",
      "metadata": {
        "colab_type": "text",
        "id": "4Zv2ASHg8gMn"
      },
      "source": [
        "На соревновании по биатлону один из трех спортсменов стреляет и попадает в мишень. Вероятность попадания для первого спортсмена равна 0.9, для второго — 0.8, для третьего — 0.6. Найти вероятность того, что выстрел произведен: a). первым спортсменом б). вторым спортсменом в). третьим спортсменом."
      ]
    },
    {
      "cell_type": "markdown",
      "metadata": {
        "colab_type": "text",
        "id": "Al_WfFIH8gMn"
      },
      "source": [
        "**Решение.**"
      ]
    },
    {
      "cell_type": "markdown",
      "metadata": {
        "colab_type": "text",
        "id": "m6sdHUMh8gMo"
      },
      "source": [
        "Событие A — попадение в мишень.\n",
        "\n",
        "Вероятность попадания в мишень каждым спортсменом равновероятны,т.е.  \n",
        "P(B1) = P(B2) = P(B3) = 1 / 3\n",
        "\n",
        "P(A|B1) = 0.9; P(A|B2) = 0.8; P(A|B3) = 0.6;\n",
        "\n",
        "Находим полную вероятность поражения мишени:\n",
        "\n",
        "P(A) = P(B1) \\* P(A|B1) + P(B2) \\* P(A|B2) + P(B3) \\* P(A|B3) = 1 / 3 \\* 9 / 10 + 1 / 3 \\* 8 / 10 + 1 / 3 \\* 6 / 10 = 0.7(6)\n",
        "\n",
        "Используем формулу Байеса.\n",
        "P(Bn|A) = P(Bn) \\* P(A|Bn) / P(A)\n",
        "\n",
        "1. Вероятность попадания по мишени 1-м спортсменом:\n",
        "\n",
        "P(B1|A) = P(B1) \\* P(A|B1) / P(A) = 0.3 \\* 0.9 / 0.7(6) = 0.3913\n",
        "\n",
        "2. Вероятность попадания по мишени 2-м спортсменом:\n",
        "\n",
        "P(B2|A) = P(B2) \\* P(A|B2) / P(A) = 0.3 \\* 0.8 / 0.7(6) = 0.3478\n",
        "\n",
        "3. Вероятность попадания по мишени 3-м спортсменом:\n",
        "\n",
        "P(B3|A) = P(B3) \\* P(A|B3) / P(A) = 0.3 \\* 0.6 / 0.7(6) = 0.2608\n"
      ]
    },
    {
      "cell_type": "code",
      "metadata": {
        "id": "YEj_Z1OWAwiI",
        "colab_type": "code",
        "colab": {
          "base_uri": "https://localhost:8080/",
          "height": 34
        },
        "outputId": "5e109b8e-40b0-4998-f7b1-dcd0081dd329"
      },
      "source": [
        "pa =  1 / 3 * 9 / 10 + 1 / 3 * 8 / 10 + 1 / 3 * 6 / 10\n",
        "pa"
      ],
      "execution_count": 2,
      "outputs": [
        {
          "output_type": "execute_result",
          "data": {
            "text/plain": [
              "0.7666666666666666"
            ]
          },
          "metadata": {
            "tags": []
          },
          "execution_count": 2
        }
      ]
    },
    {
      "cell_type": "code",
      "metadata": {
        "colab_type": "code",
        "id": "_VZJE7c-DR8H",
        "colab": {
          "base_uri": "https://localhost:8080/",
          "height": 34
        },
        "outputId": "dc062984-e373-4599-fc02-c4dcbd0b8e73"
      },
      "source": [
        "p1 =  1 / 3 * 0.9 / pa\n",
        "p1"
      ],
      "execution_count": 3,
      "outputs": [
        {
          "output_type": "execute_result",
          "data": {
            "text/plain": [
              "0.391304347826087"
            ]
          },
          "metadata": {
            "tags": []
          },
          "execution_count": 3
        }
      ]
    },
    {
      "cell_type": "code",
      "metadata": {
        "colab_type": "code",
        "id": "yj0kmlI-DSWG",
        "colab": {
          "base_uri": "https://localhost:8080/",
          "height": 34
        },
        "outputId": "68c7f371-a861-47f2-fd4c-6655c484456d"
      },
      "source": [
        "p2 =  1 / 3 * 0.8 / pa\n",
        "p2"
      ],
      "execution_count": 4,
      "outputs": [
        {
          "output_type": "execute_result",
          "data": {
            "text/plain": [
              "0.3478260869565218"
            ]
          },
          "metadata": {
            "tags": []
          },
          "execution_count": 4
        }
      ]
    },
    {
      "cell_type": "code",
      "metadata": {
        "colab_type": "code",
        "id": "EObyZ8o8DWCo",
        "colab": {
          "base_uri": "https://localhost:8080/",
          "height": 34
        },
        "outputId": "e70131e0-3f81-4d97-e093-cf5b470fa7fe"
      },
      "source": [
        "p3 =  1 / 3 * 0.6 / pa\n",
        "p3"
      ],
      "execution_count": 5,
      "outputs": [
        {
          "output_type": "execute_result",
          "data": {
            "text/plain": [
              "0.2608695652173913"
            ]
          },
          "metadata": {
            "tags": []
          },
          "execution_count": 5
        }
      ]
    },
    {
      "cell_type": "code",
      "metadata": {
        "colab_type": "code",
        "id": "iNnUTIJaWHfz",
        "colab": {
          "base_uri": "https://localhost:8080/",
          "height": 34
        },
        "outputId": "f83bdebd-1f92-4857-8604-0c436782974f"
      },
      "source": [
        "# проверка\n",
        "p = p1 + p2 + p3\n",
        "p"
      ],
      "execution_count": 12,
      "outputs": [
        {
          "output_type": "execute_result",
          "data": {
            "text/plain": [
              "1.0"
            ]
          },
          "metadata": {
            "tags": []
          },
          "execution_count": 12
        }
      ]
    },
    {
      "cell_type": "markdown",
      "metadata": {
        "colab_type": "text",
        "id": "4HscbAp5EEnn"
      },
      "source": [
        "**Задание 4.**\n"
      ]
    },
    {
      "cell_type": "markdown",
      "metadata": {
        "colab_type": "text",
        "id": "fAf1wRLtEEnp"
      },
      "source": [
        "В университет на факультеты A и B поступило равное количество студентов, а на факультет C студентов поступило столько же, сколько на A и B вместе. Вероятность того, что студент факультета A сдаст первую сессию, равна 0.8. Для студента факультета B эта вероятность равна 0.7, а для студента факультета C - 0.9. Студент сдал первую сессию. Какова вероятность, что он учится: a). на факультете A б). на факультете B в). на факультете C?"
      ]
    },
    {
      "cell_type": "markdown",
      "metadata": {
        "colab_type": "text",
        "id": "PVj18dM2EEnp"
      },
      "source": [
        "**Решение.**"
      ]
    },
    {
      "cell_type": "markdown",
      "metadata": {
        "colab_type": "text",
        "id": "ZBJtTM_5EEnq"
      },
      "source": [
        "O - событие сдачи сессии.\n",
        "\n",
        "На факультет A поступило 1 / 4 от всех студентов. \\\n",
        "На факультет B поступило 1 / 4 от всех студентов. \\\n",
        "На факультет C поступило 1 / 2 от всех студентов. \\\n",
        "\n",
        "В соответствии с количеством студентов вероятность сдачи сессии студентом факультетов разная:\n",
        "P(A) = P(B) = 1 / 4; P(C) = 1 / 2\n",
        "\n",
        "P(O|A) = 0.8; P(O|B) = 0.7; P(O|C) = 0.9;\n",
        "\n",
        "Находим полною вероятность сдачи сессии:\n",
        "\n",
        "P(O) = P(A) \\* P(O|A) + P(B) \\* P(O|B) + P(C) \\* P(O|C) = 1 / 4 \\* 8 / 10 + 1 / 4 \\* 7 / 10 + 1 / 2 \\* 9 / 10 = 0.825\n",
        "\n",
        "Используем формулу Байеса.\n",
        "P(F|O) = P(F) \\* P(O|F) / P(O)\n",
        "\n",
        "1. Вероятность того, что сдавший сессию студент c факультета A:\n",
        "\n",
        "P(A|O) = P(A) \\* P(O|A) / P(O) = 1 / 4 \\* 0.8 / 0.825 = 0.(24)\n",
        "\n",
        "2. Вероятность того, что сдавший сессию студент c факультета B:\n",
        "\n",
        "P(B|O) = P(B) \\* P(O|B) / P(O) = 1 / 4 \\* 0.7 / 0.825 = 0.(21)\n",
        "\n",
        "3. Вероятность того, что сдавший сессию студент c факультета C:\n",
        "\n",
        "P(C|O) = P(C) \\* P(O|C) / P(O) = 1 / 2 \\* 0.9 / 0.825 = 0.(54)\n",
        "\n"
      ]
    },
    {
      "cell_type": "code",
      "metadata": {
        "colab_type": "code",
        "id": "8ou2Nd6kUyIT",
        "colab": {
          "base_uri": "https://localhost:8080/",
          "height": 34
        },
        "outputId": "27f269e4-8f0b-4e29-f82d-bffbcdebbb15"
      },
      "source": [
        "po =  1 / 4 * 8 / 10 + 1 / 4 * 7 / 10 + 1 / 2 * 9 / 10\n",
        "po"
      ],
      "execution_count": 7,
      "outputs": [
        {
          "output_type": "execute_result",
          "data": {
            "text/plain": [
              "0.825"
            ]
          },
          "metadata": {
            "tags": []
          },
          "execution_count": 7
        }
      ]
    },
    {
      "cell_type": "code",
      "metadata": {
        "colab_type": "code",
        "id": "OAyVAeamUyIY",
        "colab": {
          "base_uri": "https://localhost:8080/",
          "height": 34
        },
        "outputId": "c0607cf2-59cf-4a73-dba2-3af8ab4ffecd"
      },
      "source": [
        "pa =  1 / 4 * 0.8 / po\n",
        "pa"
      ],
      "execution_count": 8,
      "outputs": [
        {
          "output_type": "execute_result",
          "data": {
            "text/plain": [
              "0.24242424242424246"
            ]
          },
          "metadata": {
            "tags": []
          },
          "execution_count": 8
        }
      ]
    },
    {
      "cell_type": "code",
      "metadata": {
        "colab_type": "code",
        "id": "iZxbwenDUyIa",
        "colab": {
          "base_uri": "https://localhost:8080/",
          "height": 34
        },
        "outputId": "23fa2dfe-7baf-449a-91d9-8581b0a0e3f5"
      },
      "source": [
        "pb =  1 / 4 * 0.7 / po\n",
        "pb"
      ],
      "execution_count": 9,
      "outputs": [
        {
          "output_type": "execute_result",
          "data": {
            "text/plain": [
              "0.21212121212121213"
            ]
          },
          "metadata": {
            "tags": []
          },
          "execution_count": 9
        }
      ]
    },
    {
      "cell_type": "code",
      "metadata": {
        "colab_type": "code",
        "id": "4stl8NDuUyId",
        "colab": {
          "base_uri": "https://localhost:8080/",
          "height": 34
        },
        "outputId": "80d2b50a-0561-4d37-d975-6d2c1012c54d"
      },
      "source": [
        "pc =  1 / 2 * 0.9 / po\n",
        "pc"
      ],
      "execution_count": 10,
      "outputs": [
        {
          "output_type": "execute_result",
          "data": {
            "text/plain": [
              "0.5454545454545455"
            ]
          },
          "metadata": {
            "tags": []
          },
          "execution_count": 10
        }
      ]
    },
    {
      "cell_type": "code",
      "metadata": {
        "id": "f2ktz_nJV-NT",
        "colab_type": "code",
        "colab": {
          "base_uri": "https://localhost:8080/",
          "height": 34
        },
        "outputId": "c58c2aef-3045-4a32-8c95-df4997d549a7"
      },
      "source": [
        "# проверка\n",
        "p = pa + pb + pc\n",
        "p"
      ],
      "execution_count": 11,
      "outputs": [
        {
          "output_type": "execute_result",
          "data": {
            "text/plain": [
              "1.0"
            ]
          },
          "metadata": {
            "tags": []
          },
          "execution_count": 11
        }
      ]
    },
    {
      "cell_type": "markdown",
      "metadata": {
        "colab_type": "text",
        "id": "LFRPE_3VWZ3i"
      },
      "source": [
        "**Задание 5.**\n"
      ]
    },
    {
      "cell_type": "markdown",
      "metadata": {
        "colab_type": "text",
        "id": "5IjMd66yWZ3j"
      },
      "source": [
        "Устройство состоит из трех деталей. Для первой детали вероятность выйти из строя в первый месяц равна 0.1, для второй - 0.2, для третьей - 0.25. Какова вероятность того, что в первый месяц выйдут из строя: а). все детали б). только две детали в). хотя бы одна деталь г). от одной до двух деталей?"
      ]
    },
    {
      "cell_type": "markdown",
      "metadata": {
        "colab_type": "text",
        "id": "Fucz8g8jWZ3k"
      },
      "source": [
        "**Решение.**"
      ]
    },
    {
      "cell_type": "markdown",
      "metadata": {
        "colab_type": "text",
        "id": "_3EQFylUWZ3l"
      },
      "source": [
        "A - событие выхода из строя детали.\n",
        "\n",
        "Вероятности выхода из строя деталей:\n",
        "P1(A) = p1 = 0.1; P2(A) = p2 = 0.2; P3(A) = p3 = 0.25;\n",
        "\n",
        "Вероятности работоспособности деталей:\n",
        "q1 = 1 - p1 = 0.9; q2 = 1 - p2 = 0.8; q3 = 1 - p3 = 0.75;"
      ]
    },
    {
      "cell_type": "markdown",
      "metadata": {
        "id": "QeDrY1VVeK30",
        "colab_type": "text"
      },
      "source": [
        "**a) выйдут из строя все детали:**\\\n",
        "P(A) = P1(A) \\* P2(A) \\* P3(A) = p1 \\* p2 \\* p3 = 0.1 \\* 0.2 \\* 0.25 = 0.005"
      ]
    },
    {
      "cell_type": "markdown",
      "metadata": {
        "colab_type": "text",
        "id": "-sW66TcMe0Z2"
      },
      "source": [
        "**б) выйдут из строя только 2 детали:**\\\n",
        "P(A)2 = (P1(A) \\* P2(A) \\* P3(Ᾱ)) + (P1(A) \\* P2(Ᾱ) \\* P3(A)) + (P1(Ᾱ) \\* P2(A) \\* P3(A)) = (p1 \\* p2 \\* q3) + (p1 \\* q2 \\* p3) + (q1 \\* p2 \\* p3) = (0.1 \\* 0.2 \\* 0.75) + (0.1 \\* 0.8 \\* 0.25) + (0.9 \\* 0.2 \\* 0.25) = 0.015 + 0.02 + 0.045 = 0.08"
      ]
    },
    {
      "cell_type": "markdown",
      "metadata": {
        "colab_type": "text",
        "id": "Xgnc5Ftlhf1a"
      },
      "source": [
        "**в) выйдет из строя хотя бы 1 деталь:**\\\n",
        "Решение от противного: вероятность, что не выйдет из строя ни одна из деталей:\\\n",
        "P(Ᾱ) = P1(Ᾱ) \\* P2(Ᾱ) \\* P3(Ᾱ) = q1 \\* q2 \\* q3 = 0.9 \\* 0.8 \\* 0.75 = 0.54\n",
        "\n",
        "P(A) = 1 - P(Ᾱ) = 1 - 0.54 = 0.46"
      ]
    },
    {
      "cell_type": "markdown",
      "metadata": {
        "colab_type": "text",
        "id": "hY_eT3m9iyMZ"
      },
      "source": [
        "**г) выйдут из строя от 1 до 2 деталей:**\\\n",
        "Вероятность, что выйдет из строя 2 деталь (б): P(A)2 = 0.08\\\n",
        "Вероятность, что выйдет из строя 1 деталь:\\\n",
        "P(A)1 = (P1(A) \\* P2(Ᾱ) \\* P3(Ᾱ)) + (P1(Ᾱ) \\* P2(A) \\* P3(Ᾱ)) + (P1(Ᾱ) \\* P2(Ᾱ) \\* P3(A)) = (p1 \\* q2 \\* q3) + (q1 \\* p2 \\* q3) + (q1 \\* q2 \\* p3) = (0.1 \\* 0.8 \\* 0.75) + (0.9 \\* 0.2 \\* 0.75) + (0.9 \\* 0.8 \\* 0.25) = 0.006 + 0.135 + 0.18 = 0.375\n",
        "\n",
        "P(A) = P(A)1 + P(A)2 = 0.375 + 0.08 = 0.455"
      ]
    },
    {
      "cell_type": "code",
      "metadata": {
        "id": "Pi2uxLJPl8H6",
        "colab_type": "code",
        "colab": {
          "base_uri": "https://localhost:8080/",
          "height": 34
        },
        "outputId": "3c3be0f2-6556-40cb-b99b-8167dadd2384"
      },
      "source": [
        "p = [1, 0.1, 0.2, 0.25]\n",
        "q = []\n",
        "for pi in p:\n",
        "    q.append(p[0] - pi)\n",
        "\n",
        "q[0], q[1], q[2], q[3]"
      ],
      "execution_count": 17,
      "outputs": [
        {
          "output_type": "execute_result",
          "data": {
            "text/plain": [
              "(0, 0.9, 0.8, 0.75)"
            ]
          },
          "metadata": {
            "tags": []
          },
          "execution_count": 17
        }
      ]
    },
    {
      "cell_type": "code",
      "metadata": {
        "id": "i5GpMI3goRnT",
        "colab_type": "code",
        "colab": {
          "base_uri": "https://localhost:8080/",
          "height": 34
        },
        "outputId": "b85b1bb0-afb1-455f-b863-48f4f2530d57"
      },
      "source": [
        "# а) выйдут из строя все детали:\n",
        "pa = p[1] * p[2] * p[3]\n",
        "pa"
      ],
      "execution_count": 18,
      "outputs": [
        {
          "output_type": "execute_result",
          "data": {
            "text/plain": [
              "0.005000000000000001"
            ]
          },
          "metadata": {
            "tags": []
          },
          "execution_count": 18
        }
      ]
    },
    {
      "cell_type": "code",
      "metadata": {
        "id": "I2u-YwQ_otvP",
        "colab_type": "code",
        "colab": {
          "base_uri": "https://localhost:8080/",
          "height": 34
        },
        "outputId": "7ee823d1-f22b-44bc-c1e4-6b4823258609"
      },
      "source": [
        "# б) выйдут из строя только 2 детали:\n",
        "pb = (p[1] * p[2] * q[3]) + (p[1] * q[2] * p[3]) + (q[1] * p[2] * p[3])\n",
        "pb"
      ],
      "execution_count": 19,
      "outputs": [
        {
          "output_type": "execute_result",
          "data": {
            "text/plain": [
              "0.08000000000000002"
            ]
          },
          "metadata": {
            "tags": []
          },
          "execution_count": 19
        }
      ]
    },
    {
      "cell_type": "code",
      "metadata": {
        "id": "-PCdZOX5pBLQ",
        "colab_type": "code",
        "colab": {
          "base_uri": "https://localhost:8080/",
          "height": 34
        },
        "outputId": "2890070d-ac8b-4edc-8269-606bdaae03b0"
      },
      "source": [
        "# в) выйдет из строя хотя бы 1 деталь:\n",
        "pc = 1 - q[1] * q[2] * q[3]\n",
        "pc"
      ],
      "execution_count": 20,
      "outputs": [
        {
          "output_type": "execute_result",
          "data": {
            "text/plain": [
              "0.45999999999999996"
            ]
          },
          "metadata": {
            "tags": []
          },
          "execution_count": 20
        }
      ]
    },
    {
      "cell_type": "code",
      "metadata": {
        "id": "YLFj8bR3pS-n",
        "colab_type": "code",
        "colab": {
          "base_uri": "https://localhost:8080/",
          "height": 34
        },
        "outputId": "9d8e591d-3ad4-4822-f74f-07ad4e3d2542"
      },
      "source": [
        "# г) выйдут из строя от 1 до 2 деталей:\n",
        "pd = (p[1] * q[2] * q[3]) + (q[1] * p[2] * q[3]) + (q[1] * q[2] * p[3])\n",
        "pd = pd + pb\n",
        "pd"
      ],
      "execution_count": 21,
      "outputs": [
        {
          "output_type": "execute_result",
          "data": {
            "text/plain": [
              "0.455"
            ]
          },
          "metadata": {
            "tags": []
          },
          "execution_count": 21
        }
      ]
    }
  ]
}