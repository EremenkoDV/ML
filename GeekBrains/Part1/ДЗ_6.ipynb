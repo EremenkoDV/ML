{
  "nbformat": 4,
  "nbformat_minor": 0,
  "metadata": {
    "colab": {
      "name": "ДЗ_6.ipynb",
      "provenance": [],
      "collapsed_sections": []
    },
    "kernelspec": {
      "name": "python3",
      "display_name": "Python 3"
    }
  },
  "cells": [
    {
      "cell_type": "markdown",
      "metadata": {
        "id": "qGUIZbs0P18k",
        "colab_type": "text"
      },
      "source": [
        "# **ДЗ к уроку 6**"
      ]
    },
    {
      "cell_type": "markdown",
      "metadata": {
        "id": "T2xhjjkPP9Xb",
        "colab_type": "text"
      },
      "source": [
        "**Задание 1.**\n"
      ]
    },
    {
      "cell_type": "markdown",
      "metadata": {
        "id": "N-RKk45xQXIz",
        "colab_type": "text"
      },
      "source": [
        "Даны значения величины заработной платы заемщиков банка (zp) и значения их поведенческого кредитного скоринга (ks):\n",
        "zp = [35, 45, 190, 200, 40, 70, 54, 150, 120, 110],\n",
        "ks = [401, 574, 874, 919, 459, 739, 653, 902, 746, 832].\n",
        "Найдите ковариацию этих двух величин с помощью элементарных действий, а затем с помощью функции cov из numpy\n",
        "Полученные значения должны быть равны.\n",
        "Найдите коэффициент корреляции Пирсона с помощью ковариации и среднеквадратичных отклонений двух признаков,\n",
        "а затем с использованием функций из библиотек numpy и pandas."
      ]
    },
    {
      "cell_type": "markdown",
      "metadata": {
        "id": "8p3ytxUJQa6b",
        "colab_type": "text"
      },
      "source": [
        "**Решение.**"
      ]
    },
    {
      "cell_type": "markdown",
      "metadata": {
        "id": "GlapgldXQx90",
        "colab_type": "text"
      },
      "source": [
        "1. Используем формулу определения ковариации:\n",
        "$$cov = np.mean(zp * ks) - np.mean(zp) * np.mean(ks)$$\n",
        "\n",
        "Подставляем значения в формулу, получим cov = 9157.84;\n",
        "\n",
        "2. Используем формулу определения коэффициента кореляции Пирсона:\n",
        "$$cor = cov / (np.std(zp) * np.std(ks))$$\n",
        "\n",
        "Подставляем значения в формулу, получим cor = 0.8875.\n"
      ]
    },
    {
      "cell_type": "code",
      "metadata": {
        "id": "O04IbTLXKP4v",
        "colab_type": "code",
        "colab": {}
      },
      "source": [
        "import numpy as np\n",
        "import pandas as pd"
      ],
      "execution_count": 72,
      "outputs": []
    },
    {
      "cell_type": "code",
      "metadata": {
        "id": "We_FjJh7iPdh",
        "colab_type": "code",
        "colab": {
          "base_uri": "https://localhost:8080/",
          "height": 289
        },
        "outputId": "57f134e0-6aee-4b72-d31c-286aa798a469"
      },
      "source": [
        "zp = pd.array([35, 45, 190, 200, 40, 70, 54, 150, 120, 110], float)\n",
        "ks = pd.array([401, 574, 874, 919, 459, 739, 653, 902, 746, 832], float)\n",
        "\n",
        "# Количество измерений zp\n",
        "zp_n = zp.size\n",
        "\n",
        "# Среднее арифметическое zp\n",
        "zp_mean = zp.sum() / zp_n\n",
        "print(zp_mean)\n",
        "\n",
        "# Несмещенная оценка дисперсии zp\n",
        "zp_var_ddof_1 = ((zp - zp_mean)**2).sum() / (zp_n - 1)\n",
        "print(zp_var_ddof_1)\n",
        "\n",
        "# Среднеквадратическое отклонение выборки zp\n",
        "zp_std_ddof_1 = np.sqrt(((zp - zp_mean)**2).sum() / (zp_n - 1))\n",
        "print(zp_std_ddof_1)\n",
        "\n",
        "# Количество измерений ks\n",
        "ks_n = zp.size\n",
        "\n",
        "# Среднее арифметическое ks\n",
        "ks_mean = ks.sum() / ks_n\n",
        "print(ks_mean)\n",
        "\n",
        "# Несмещенная оценка дисперсии ks\n",
        "ks_var_ddof_1 = ((ks - ks_mean)**2).sum() / (ks_n - 1)\n",
        "print(ks_var_ddof_1)\n",
        "\n",
        "# Среднеквадратическое отклонение выборки sk\n",
        "ks_std_ddof_1 = np.sqrt(((ks - ks_mean)**2).sum() / (ks_n - 1))\n",
        "print(ks_std_ddof_1)\n",
        "\n",
        "# Проверка\n",
        "print('Количество измерений zp:\\t\\t\\t', zp_n)\n",
        "print('Количество измерений ks:\\t\\t\\t', ks_n)\n",
        "print('Сумма значений zp:\\t\\t\\t\\t', zp.sum())\n",
        "print('Сумма значений ks:\\t\\t\\t\\t', ks.sum())\n",
        "print('Среднее значений zp:\\t\\t\\t\\t', zp.mean())\n",
        "print('Среднее значений ks:\\t\\t\\t\\t', ks.mean())\n",
        "print('Несмещенная дисперсия zp:\\t\\t\\t', zp.var(ddof=1))\n",
        "print('Несмещенная дисперсия ks:\\t\\t\\t', ks.var(ddof=1))\n",
        "print('Несмещенное среднеквадратичное отклонение zp:\\t', zp.std(ddof=1))\n",
        "print('Несмещенное среднеквадратичное отклонение ks:\\t', ks.std(ddof=1))\n"
      ],
      "execution_count": 73,
      "outputs": [
        {
          "output_type": "stream",
          "text": [
            "101.4\n",
            "3882.9333333333334\n",
            "62.31318747531162\n",
            "709.9\n",
            "33854.32222222223\n",
            "183.99544076477068\n",
            "Количество измерений zp:\t\t\t 10\n",
            "Количество измерений ks:\t\t\t 10\n",
            "Сумма значений zp:\t\t\t\t 1014.0\n",
            "Сумма значений ks:\t\t\t\t 7099.0\n",
            "Среднее значений zp:\t\t\t\t 101.4\n",
            "Среднее значений ks:\t\t\t\t 709.9\n",
            "Несмещенная дисперсия zp:\t\t\t 3882.9333333333334\n",
            "Несмещенная дисперсия ks:\t\t\t 33854.32222222223\n",
            "Несмещенное среднеквадратичное отклонение zp:\t 62.31318747531162\n",
            "Несмещенное среднеквадратичное отклонение ks:\t 183.99544076477068\n"
          ],
          "name": "stdout"
        }
      ]
    },
    {
      "cell_type": "code",
      "metadata": {
        "id": "IDixqzBQKP5b",
        "colab_type": "code",
        "colab": {
          "base_uri": "https://localhost:8080/",
          "height": 323
        },
        "outputId": "4d625601-cc14-4aa3-da08-110037f2b429"
      },
      "source": [
        "# Ковариация\n",
        "cov = np.mean(zp * ks) - np.mean(zp) * np.mean(ks)\n",
        "print(\"Ковариация расчетная:\\t\\t\\t\\t\", cov)\n",
        "\n",
        "print(\"Проверка расчета ковариации\")\n",
        "# Проверка расчета ковариации\n",
        "print(\"numpy (ddof=0):\\n\", np.cov(zp, ks, ddof=0))\n",
        "\n",
        "# Проверка расчета ковариации (ddof=1 - по умолчанию)\n",
        "print(\"numpy (ddof=1):\\n\", np.cov(zp, ks, ddof=1))\n",
        "\n",
        "# Проверка расчета ковариации (pandas)\n",
        "# К сожалению, в методе pandas.Series().cov() нет параметра, аналогичного ddof,\n",
        "# поэтому значение ковариации получается как при ddof=1\n",
        "print(\"pandas:\\n\", pd.Series(zp).cov(pd.Series(ks)))\n",
        "\n",
        "print(\"-----------------------------\")\n",
        "\n",
        "# Проверка расчета ковариации\n",
        "cor = cov / (np.std(zp) * np.std(ks))\n",
        "print(\"Коэффициент корреляции Пирсона расчетный:\\t\", cor)\n",
        "\n",
        "print(\"Проверка расчета коэффициента кореляции\")\n",
        "# Проверка расчета к. кореляции\n",
        "print(\"numpy:\\n\", np.corrcoef(zp, ks))\n",
        "\n",
        "# Проверка расчета к. кореляции (pandas)\n",
        "print(\"pandas:\\n\", pd.Series(zp).corr(pd.Series(ks)))\n"
      ],
      "execution_count": 74,
      "outputs": [
        {
          "output_type": "stream",
          "text": [
            "Ковариация расчетная:\t\t\t\t 9157.839999999997\n",
            "Проверка расчета ковариации\n",
            "numpy (ddof=0):\n",
            " [[ 3494.64  9157.84]\n",
            " [ 9157.84 30468.89]]\n",
            "numpy (ddof=1):\n",
            " [[ 3882.93333333 10175.37777778]\n",
            " [10175.37777778 33854.32222222]]\n",
            "pandas:\n",
            " 10175.377777777776\n",
            "-----------------------------\n",
            "Коэффициент корреляции Пирсона расчетный:\t 0.8874900920739158\n",
            "Проверка расчета коэффициента кореляции\n",
            "numpy:\n",
            " [[1.         0.88749009]\n",
            " [0.88749009 1.        ]]\n",
            "pandas:\n",
            " 0.8874900920739162\n"
          ],
          "name": "stdout"
        }
      ]
    },
    {
      "cell_type": "markdown",
      "metadata": {
        "colab_type": "text",
        "id": "wdlLwaeRayCM"
      },
      "source": [
        "**Задание 2.**\n"
      ]
    },
    {
      "cell_type": "markdown",
      "metadata": {
        "colab_type": "text",
        "id": "X10luBD0ayCP"
      },
      "source": [
        "Измерены значения IQ выборки студентов,\n",
        "обучающихся в местных технических вузах:\n",
        "131, 125, 115, 122, 131, 115, 107, 99, 125, 111.\n",
        "Известно, что в генеральной совокупности IQ распределен нормально.\n",
        "Найдите доверительный интервал для математического ожидания с надежностью 0.95."
      ]
    },
    {
      "cell_type": "markdown",
      "metadata": {
        "colab_type": "text",
        "id": "GP_bD82eayCR"
      },
      "source": [
        "**Решение.**"
      ]
    },
    {
      "cell_type": "markdown",
      "metadata": {
        "colab_type": "text",
        "id": "xgigB05RayCS"
      },
      "source": [
        "Среднее арифметическое:\n",
        "M(X) = Σ(I = 1, n) xi / n = 118.1\n",
        "\n",
        "Несмещенная дисперсия:\n",
        "D(X) = Σ(I = 1, n) (xi - X)**2 / (n – 1) = 111.2(1)\n",
        "\n",
        "Несмещенное среднеквадратичное отклонение:\n",
        "σ = D(X)**0.5 = 10.5456\n",
        "\n",
        "Используем формулу определения доверительного интервала при неизвестной  генеральной совокупности: $$\\bar{X}\\ \\ \\pm\\ t_{{\\alpha}/{2}}\\ \\ast\\ {\\sigma}/{\\sqrt n}$$\n",
        "Подставляем значения в формулу при p = 1 - α => α = 0.05; t(α/2 = 0.025, v = n - 1 = 9) = 2.262:\n",
        "$$118.1 \\pm 2.262 * 10.5456 / \\sqrt{10} = [110.556; 125.644]\\ при\\ α=5\\%$$"
      ]
    },
    {
      "cell_type": "code",
      "metadata": {
        "id": "5tsg2ZOLdf_1",
        "colab_type": "code",
        "colab": {
          "base_uri": "https://localhost:8080/",
          "height": 153
        },
        "outputId": "168b8b8c-e432-433c-d373-1b4df008e9ee"
      },
      "source": [
        "input_data = pd.array([131, 125, 115, 122, 131, 115, 107, 99, 125, 111], float)\n",
        "n = input_data.size\n",
        "print('Количество измерений:\\t\\t\\t\\t', n)\n",
        "print('Сумма значений:\\t\\t\\t\\t\\t', input_data.sum())\n",
        "print('Среднее значений:\\t\\t\\t\\t', input_data.mean())\n",
        "print('Несмещенная дисперсия:\\t\\t\\t\\t', input_data.var(ddof=1))\n",
        "print('Несмещенное среднеквадратичное отклонение:\\t', input_data.std(ddof=1))\n",
        "\n",
        "# Среднее арифметическое\n",
        "mean = input_data.sum() / n\n",
        "print(mean)\n",
        "\n",
        "# Несмещенная оценка дисперсии\n",
        "var_ddof_1 = ((input_data - mean)**2).sum() / (n - 1)\n",
        "print(var_ddof_1)\n",
        "\n",
        "# Среднеквадратическое отклонение выборки\n",
        "std_ddof_1 = np.sqrt(((input_data - mean)**2).sum() / (n - 1))\n",
        "print(std_ddof_1)\n"
      ],
      "execution_count": 75,
      "outputs": [
        {
          "output_type": "stream",
          "text": [
            "Количество измерений:\t\t\t\t 10\n",
            "Сумма значений:\t\t\t\t\t 1181.0\n",
            "Среднее значений:\t\t\t\t 118.1\n",
            "Несмещенная дисперсия:\t\t\t\t 111.21111111111111\n",
            "Несмещенное среднеквадратичное отклонение:\t 10.54566788359614\n",
            "118.1\n",
            "111.21111111111111\n",
            "10.54566788359614\n"
          ],
          "name": "stdout"
        }
      ]
    },
    {
      "cell_type": "code",
      "metadata": {
        "id": "mP9lOM8onT36",
        "colab_type": "code",
        "colab": {
          "base_uri": "https://localhost:8080/",
          "height": 51
        },
        "outputId": "30428e27-5ba9-4a6d-e37c-0839adf9d087"
      },
      "source": [
        "import scipy.stats\n",
        "import math\n",
        "\n",
        "p = 0.95\n",
        "a = 1 - p\n",
        "x1 = scipy.stats.t.ppf(a / 2, n - 1)\n",
        "x2 = scipy.stats.t.ppf(1 - a / 2, n - 1)\n",
        "print(x1)\n",
        "print(x2)"
      ],
      "execution_count": 76,
      "outputs": [
        {
          "output_type": "stream",
          "text": [
            "-2.2621571627409915\n",
            "2.2621571627409915\n"
          ],
          "name": "stdout"
        }
      ]
    },
    {
      "cell_type": "code",
      "metadata": {
        "id": "RrGNRoXend0Y",
        "colab_type": "code",
        "colab": {
          "base_uri": "https://localhost:8080/",
          "height": 34
        },
        "outputId": "4292a1a3-ba43-42c6-8484-6dd0e6e925e5"
      },
      "source": [
        "x1 = mean + x1 * std_ddof_1 / math.sqrt(n)\n",
        "x1"
      ],
      "execution_count": 77,
      "outputs": [
        {
          "output_type": "execute_result",
          "data": {
            "text/plain": [
              "110.55608365158724"
            ]
          },
          "metadata": {
            "tags": []
          },
          "execution_count": 77
        }
      ]
    },
    {
      "cell_type": "code",
      "metadata": {
        "colab_type": "code",
        "id": "hkn4OQd7q6pt",
        "colab": {
          "base_uri": "https://localhost:8080/",
          "height": 34
        },
        "outputId": "8b2282b5-f0f7-40c3-cb2e-345886f38b0e"
      },
      "source": [
        "x2 = mean + x2 * std_ddof_1 / math.sqrt(n)\n",
        "x2"
      ],
      "execution_count": 78,
      "outputs": [
        {
          "output_type": "execute_result",
          "data": {
            "text/plain": [
              "125.64391634841274"
            ]
          },
          "metadata": {
            "tags": []
          },
          "execution_count": 78
        }
      ]
    },
    {
      "cell_type": "markdown",
      "metadata": {
        "colab_type": "text",
        "id": "Gkxppilk9R1n"
      },
      "source": [
        "**Задание 3.**"
      ]
    },
    {
      "cell_type": "markdown",
      "metadata": {
        "colab_type": "text",
        "id": "8FXNbbjl9R1o"
      },
      "source": [
        "Известно, что рост футболистов в сборной распределен нормально\n",
        "с дисперсией генеральной совокупности, равной 25 кв.см. Объем выборки равен 27,\n",
        "среднее выборочное составляет 174.2. Найдите доверительный интервал для математического\n",
        "ожидания с надежностью 0.95.\n"
      ]
    },
    {
      "cell_type": "markdown",
      "metadata": {
        "colab_type": "text",
        "id": "-aTspOlL9R1p"
      },
      "source": [
        "**Решение.**"
      ]
    },
    {
      "cell_type": "markdown",
      "metadata": {
        "colab_type": "text",
        "id": "Vqes8pqLsoqZ"
      },
      "source": [
        "Используем формулу определения доверительного интервала при известной  генеральной совокупности: $$\\bar{X}\\ \\ \\pm\\ Z_{{\\alpha}/{2}}\\ \\ast\\ {\\sigma}/{\\sqrt n}$$\n",
        "Подставляем значения в формулу при p = 1 - α => α = 0.05; Z(α/2 = 1 - 0.025) = 1.96:\n",
        "$$174.2 \\pm 1.96 * {\\sqrt{25 / 27}} = [172.314; 176.086]\\ при\\ α=5\\%$$"
      ]
    },
    {
      "cell_type": "code",
      "metadata": {
        "colab_type": "code",
        "id": "WQsJiB0m2D6M",
        "colab": {
          "base_uri": "https://localhost:8080/",
          "height": 34
        },
        "outputId": "91a548cb-71f1-45ca-9a35-8bd7f5890d46"
      },
      "source": [
        "from scipy.stats import norm\n",
        "\n",
        "\n",
        "mean = 174.2\n",
        "var = 25\n",
        "n = 27\n",
        "p = 0.95\n",
        "\n",
        "\n",
        "a = 1 - p\n",
        "x1 = norm.ppf(a / 2)\n",
        "x1"
      ],
      "execution_count": 79,
      "outputs": [
        {
          "output_type": "execute_result",
          "data": {
            "text/plain": [
              "-1.959963984540054"
            ]
          },
          "metadata": {
            "tags": []
          },
          "execution_count": 79
        }
      ]
    },
    {
      "cell_type": "code",
      "metadata": {
        "id": "1TqX1-_F-HaY",
        "colab_type": "code",
        "colab": {
          "base_uri": "https://localhost:8080/",
          "height": 34
        },
        "outputId": "f2a1b5ce-ef9a-4d96-c863-5624f80507a0"
      },
      "source": [
        "x2 = norm.ppf(1 - a / 2)\n",
        "x2"
      ],
      "execution_count": 80,
      "outputs": [
        {
          "output_type": "execute_result",
          "data": {
            "text/plain": [
              "1.959963984540054"
            ]
          },
          "metadata": {
            "tags": []
          },
          "execution_count": 80
        }
      ]
    },
    {
      "cell_type": "code",
      "metadata": {
        "id": "cHQVkTYs8IIi",
        "colab_type": "code",
        "colab": {
          "base_uri": "https://localhost:8080/",
          "height": 51
        },
        "outputId": "8cdf28da-88bd-4338-d199-2e05375e35bb"
      },
      "source": [
        "# Проверка\n",
        "print(norm.cdf(x1))\n",
        "print(norm.cdf(x2))\n"
      ],
      "execution_count": 81,
      "outputs": [
        {
          "output_type": "stream",
          "text": [
            "0.025\n",
            "0.975\n"
          ],
          "name": "stdout"
        }
      ]
    },
    {
      "cell_type": "code",
      "metadata": {
        "id": "iklbkdH_2IR3",
        "colab_type": "code",
        "colab": {
          "base_uri": "https://localhost:8080/",
          "height": 34
        },
        "outputId": "f38a76c4-72fd-4a0f-f923-f56d4d819c0f"
      },
      "source": [
        "x1 = mean + x1 * math.sqrt(var / n)\n",
        "x1"
      ],
      "execution_count": 82,
      "outputs": [
        {
          "output_type": "execute_result",
          "data": {
            "text/plain": [
              "172.3140237765397"
            ]
          },
          "metadata": {
            "tags": []
          },
          "execution_count": 82
        }
      ]
    },
    {
      "cell_type": "code",
      "metadata": {
        "id": "BmlRixzJ82s4",
        "colab_type": "code",
        "colab": {
          "base_uri": "https://localhost:8080/",
          "height": 34
        },
        "outputId": "61343ccf-5ada-4163-c151-552a4987c70d"
      },
      "source": [
        "x2 = mean + x2 * math.sqrt(var / n)\n",
        "x2"
      ],
      "execution_count": 83,
      "outputs": [
        {
          "output_type": "execute_result",
          "data": {
            "text/plain": [
              "176.08597622346028"
            ]
          },
          "metadata": {
            "tags": []
          },
          "execution_count": 83
        }
      ]
    },
    {
      "cell_type": "markdown",
      "metadata": {
        "colab_type": "text",
        "id": "DgQcRXdB9dvs"
      },
      "source": [
        "**Задание 4.**"
      ]
    },
    {
      "cell_type": "markdown",
      "metadata": {
        "colab_type": "text",
        "id": "JhuDFK5D9dvv"
      },
      "source": [
        "Выберите тему для проектной работы по курсу Теории вероятностей и математической статистики\n",
        "и напишите ее в комментарии к Практическому заданию. (ПРОЕКТ ДОБРОВОЛЬНЫЙ)\n",
        "\n",
        "Описание курсового проекта по предмету Теория вероятностей и математическая статистика\n",
        "\n",
        "Во второй половине курса студентам даётся проект с темой на выбор. Студентам предлагается общее направление для проекта - исследовать данные с imdb. Для этих данных можно сделать EDA (Exploratory Data Analysis – разведочный анализ данных) либо проверить предложенную самим студентом статистическую гипотезу. При наличии опыта работы с данными и статистикой некоторые студенты также могут взять другую тему - например, исследовать курс биткойна.\n",
        "\n",
        "В качестве данных студенты могут брать датасеты с информацией с сайта imdb (либо с Kaggle, либо откуда-то из Интернета, эти данные нужно искать самим). Также есть возможность взять любые другие данные, если выбрана другая тема. Работы выполняются с использованием любых методов из вебинаров и методичек по предмету Теория вероятностей и математическая статистика. Это может быть постановка и проверка статистических гипотез, EDA, дисперсионный анализ и т.д.\n",
        "\n",
        "Готовый проект должен быть выложен на github в аккаунте студента в виде файла с расширением ipynb (Jupyter Notebook), ссылка на проект прикладывается в раздел Задание. Срок выполнения задания - неделя после 8-го вебинара. Начинать можно после 6-го вебинара, после того, как преподаватель одобрит тему (студент указывает тему работы в Задание к вебинару 6).\n",
        "\n",
        "Ссылка на проект должна быть добавлена студентом к Заданию вебинара 8.\n",
        "\n",
        "Примеры постановки темы проекта:\n",
        "\n",
        "Проверить гипотезу: Комедийные фильмы, снятые до 1990 года, в среднем имеют более высокую оценку, чем комедийные фильмы, снятые позже.\n",
        "Статистическое сопоставление цены биткоина с курсами фиатных активов (USD,EUR,RUR), ценами на нефть, драг металлы или с ценами других криптовалют по отношению к биткойну.\n",
        "Также студент может до выполнения работы поставить широкий круг задач для проекта и уже в процессе выполнения оставить только то, что вошло в проект.\n",
        "\n",
        "Пример:\n",
        "\n",
        "\"В проектной работе хотела бы сделать анализ по Странам по данным imbd.com.\n",
        "По странам рассчитать основные статистические показатели: Мода, медиана, квартили, дисперсию.\n",
        "Проверить, работает ли нормальное распределение и Паретто.\n",
        "Проверить есть ли зависимость бюджетов, рейтингов, жанров от страны выпуска фильмов.\n",
        "Посмотреть поведение стран во времени.\n",
        "В идеале, хотела бы сделать прогноз на 2020 год: какие страны с какой вероятностью выпустят определенное количество фильмов с определенным бюджетом определенного жанра.\""
      ]
    },
    {
      "cell_type": "markdown",
      "metadata": {
        "colab_type": "text",
        "id": "Z8ObBe2Z9dvx"
      },
      "source": [
        "**Ответ.**"
      ]
    },
    {
      "cell_type": "markdown",
      "metadata": {
        "colab_type": "text",
        "id": "8WNKnadC9dvx"
      },
      "source": [
        "Конечно, же я буду делать проектную работу по курсу \"Теории вероятностей и математической статистики\".\n",
        "\n",
        "С темой, пожалуй, я уже определился. Тут ничего нового для текущей ситуации - я, как и многие, хочу, чтобы в этой работе был хоть какой-то практический смысл. Данные по COVID-19 я уже нашел на github, а вот что, какие именно данные и как их анализировать я пока еще не созрел, слишком мало знаний. Я думаю, после 7-го или 8-го урока станет яснее."
      ]
    }
  ]
}