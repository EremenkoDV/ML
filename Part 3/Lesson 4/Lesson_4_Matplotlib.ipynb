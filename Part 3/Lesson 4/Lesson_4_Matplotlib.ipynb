{
  "nbformat": 4,
  "nbformat_minor": 0,
  "metadata": {
    "colab": {
      "name": "Lesson_4_Matplotlib.ipynb",
      "provenance": [],
      "collapsed_sections": []
    },
    "kernelspec": {
      "display_name": "Python 3",
      "language": "python",
      "name": "python3"
    },
    "language_info": {
      "codemirror_mode": {
        "name": "ipython",
        "version": 3
      },
      "file_extension": ".py",
      "mimetype": "text/x-python",
      "name": "python",
      "nbconvert_exporter": "python",
      "pygments_lexer": "ipython3",
      "version": "3.7.6"
    }
  },
  "cells": [
    {
      "cell_type": "markdown",
      "metadata": {
        "id": "0BlE9bBvr_v_"
      },
      "source": [
        "# Тема “Визуализация данных в Matplotlib”"
      ]
    },
    {
      "cell_type": "markdown",
      "metadata": {
        "id": "kQjZhKiFsVNl"
      },
      "source": [
        "**Задание 1.**\n",
        "\n",
        "Загрузите модуль pyplot библиотеки matplotlib с псевдонимом plt, а также библиотеку numpy с псевдонимом np.\n",
        "Примените магическую функцию %matplotlib inline для отображения графиков в Jupyter Notebook и настройки конфигурации ноутбука со значением 'svg' для более четкого отображения графиков.\n",
        "Создайте список под названием x с числами 1, 2, 3, 4, 5, 6, 7 и список y с числами 3.5, 3.8, 4.2, 4.5, 5, 5.5, 7.\n",
        "С помощью функции plot постройте график, соединяющий линиями точки с горизонтальными координатами из списка x и вертикальными - из списка y.\n",
        "Затем в следующей ячейке постройте диаграмму рассеяния (другие названия - диаграмма разброса, scatter plot)."
      ]
    },
    {
      "cell_type": "code",
      "metadata": {
        "id": "H1osXcdDxPzV"
      },
      "source": [
        "import numpy as np\n",
        "import pandas as pd\n",
        "\n",
        "import matplotlib.pyplot as plt"
      ],
      "execution_count": 57,
      "outputs": []
    },
    {
      "cell_type": "code",
      "metadata": {
        "id": "HUYDOPh69ocE"
      },
      "source": [
        "%matplotlib inline\n",
        "%config InlineBackend.figure_format = 'svg'"
      ],
      "execution_count": 58,
      "outputs": []
    },
    {
      "cell_type": "code",
      "metadata": {
        "id": "N62KGiSk-ZlF"
      },
      "source": [
        "x = [1, 2, 3, 4, 5, 6, 7]\n",
        "y = [3.5, 3.8, 4.2, 4.5, 5, 5.5, 7]"
      ],
      "execution_count": 59,
      "outputs": []
    },
    {
      "cell_type": "code",
      "metadata": {
        "id": "Ste-C150-vim",
        "outputId": "9d51eda8-3680-4131-8a6b-6a1f88ca47fb",
        "colab": {
          "base_uri": "https://localhost:8080/",
          "height": 348
        }
      },
      "source": [
        "plt.plot(x, y)\n",
        "plt.show()"
      ],
      "execution_count": 60,
      "outputs": [
        {
          "output_type": "display_data",
          "data": {
            "text/plain": [
              "<Figure size 432x288 with 1 Axes>"
            ],
            "image/svg+xml": "<?xml version=\"1.0\" encoding=\"utf-8\" standalone=\"no\"?>\n<!DOCTYPE svg PUBLIC \"-//W3C//DTD SVG 1.1//EN\"\n  \"http://www.w3.org/Graphics/SVG/1.1/DTD/svg11.dtd\">\n<!-- Created with matplotlib (https://matplotlib.org/) -->\n<svg height=\"245.018125pt\" version=\"1.1\" viewBox=\"0 0 409.643125 245.018125\" width=\"409.643125pt\" xmlns=\"http://www.w3.org/2000/svg\" xmlns:xlink=\"http://www.w3.org/1999/xlink\">\n <defs>\n  <style type=\"text/css\">\n*{stroke-linecap:butt;stroke-linejoin:round;}\n  </style>\n </defs>\n <g id=\"figure_1\">\n  <g id=\"patch_1\">\n   <path d=\"M -0 245.018125 \nL 409.643125 245.018125 \nL 409.643125 0 \nL -0 0 \nz\n\" style=\"fill:none;\"/>\n  </g>\n  <g id=\"axes_1\">\n   <g id=\"patch_2\">\n    <path d=\"M 26.603125 224.64 \nL 402.443125 224.64 \nL 402.443125 7.2 \nL 26.603125 7.2 \nz\n\" style=\"fill:#f0f0f0;\"/>\n   </g>\n   <g id=\"matplotlib.axis_1\">\n    <g id=\"xtick_1\">\n     <g id=\"line2d_1\">\n      <path clip-path=\"url(#p179ec7dd07)\" d=\"M 43.686761 224.64 \nL 43.686761 7.2 \n\" style=\"fill:none;stroke:#cbcbcb;\"/>\n     </g>\n     <g id=\"line2d_2\"/>\n     <g id=\"text_1\">\n      <!-- 1 -->\n      <defs>\n       <path d=\"M 12.40625 8.296875 \nL 28.515625 8.296875 \nL 28.515625 63.921875 \nL 10.984375 60.40625 \nL 10.984375 69.390625 \nL 28.421875 72.90625 \nL 38.28125 72.90625 \nL 38.28125 8.296875 \nL 54.390625 8.296875 \nL 54.390625 0 \nL 12.40625 0 \nz\n\" id=\"DejaVuSans-49\"/>\n      </defs>\n      <g transform=\"translate(40.505511 235.738437)scale(0.1 -0.1)\">\n       <use xlink:href=\"#DejaVuSans-49\"/>\n      </g>\n     </g>\n    </g>\n    <g id=\"xtick_2\">\n     <g id=\"line2d_3\">\n      <path clip-path=\"url(#p179ec7dd07)\" d=\"M 100.632216 224.64 \nL 100.632216 7.2 \n\" style=\"fill:none;stroke:#cbcbcb;\"/>\n     </g>\n     <g id=\"line2d_4\"/>\n     <g id=\"text_2\">\n      <!-- 2 -->\n      <defs>\n       <path d=\"M 19.1875 8.296875 \nL 53.609375 8.296875 \nL 53.609375 0 \nL 7.328125 0 \nL 7.328125 8.296875 \nQ 12.9375 14.109375 22.625 23.890625 \nQ 32.328125 33.6875 34.8125 36.53125 \nQ 39.546875 41.84375 41.421875 45.53125 \nQ 43.3125 49.21875 43.3125 52.78125 \nQ 43.3125 58.59375 39.234375 62.25 \nQ 35.15625 65.921875 28.609375 65.921875 \nQ 23.96875 65.921875 18.8125 64.3125 \nQ 13.671875 62.703125 7.8125 59.421875 \nL 7.8125 69.390625 \nQ 13.765625 71.78125 18.9375 73 \nQ 24.125 74.21875 28.421875 74.21875 \nQ 39.75 74.21875 46.484375 68.546875 \nQ 53.21875 62.890625 53.21875 53.421875 \nQ 53.21875 48.921875 51.53125 44.890625 \nQ 49.859375 40.875 45.40625 35.40625 \nQ 44.1875 33.984375 37.640625 27.21875 \nQ 31.109375 20.453125 19.1875 8.296875 \nz\n\" id=\"DejaVuSans-50\"/>\n      </defs>\n      <g transform=\"translate(97.450966 235.738437)scale(0.1 -0.1)\">\n       <use xlink:href=\"#DejaVuSans-50\"/>\n      </g>\n     </g>\n    </g>\n    <g id=\"xtick_3\">\n     <g id=\"line2d_5\">\n      <path clip-path=\"url(#p179ec7dd07)\" d=\"M 157.57767 224.64 \nL 157.57767 7.2 \n\" style=\"fill:none;stroke:#cbcbcb;\"/>\n     </g>\n     <g id=\"line2d_6\"/>\n     <g id=\"text_3\">\n      <!-- 3 -->\n      <defs>\n       <path d=\"M 40.578125 39.3125 \nQ 47.65625 37.796875 51.625 33 \nQ 55.609375 28.21875 55.609375 21.1875 \nQ 55.609375 10.40625 48.1875 4.484375 \nQ 40.765625 -1.421875 27.09375 -1.421875 \nQ 22.515625 -1.421875 17.65625 -0.515625 \nQ 12.796875 0.390625 7.625 2.203125 \nL 7.625 11.71875 \nQ 11.71875 9.328125 16.59375 8.109375 \nQ 21.484375 6.890625 26.8125 6.890625 \nQ 36.078125 6.890625 40.9375 10.546875 \nQ 45.796875 14.203125 45.796875 21.1875 \nQ 45.796875 27.640625 41.28125 31.265625 \nQ 36.765625 34.90625 28.71875 34.90625 \nL 20.21875 34.90625 \nL 20.21875 43.015625 \nL 29.109375 43.015625 \nQ 36.375 43.015625 40.234375 45.921875 \nQ 44.09375 48.828125 44.09375 54.296875 \nQ 44.09375 59.90625 40.109375 62.90625 \nQ 36.140625 65.921875 28.71875 65.921875 \nQ 24.65625 65.921875 20.015625 65.03125 \nQ 15.375 64.15625 9.8125 62.3125 \nL 9.8125 71.09375 \nQ 15.4375 72.65625 20.34375 73.4375 \nQ 25.25 74.21875 29.59375 74.21875 \nQ 40.828125 74.21875 47.359375 69.109375 \nQ 53.90625 64.015625 53.90625 55.328125 \nQ 53.90625 49.265625 50.4375 45.09375 \nQ 46.96875 40.921875 40.578125 39.3125 \nz\n\" id=\"DejaVuSans-51\"/>\n      </defs>\n      <g transform=\"translate(154.39642 235.738437)scale(0.1 -0.1)\">\n       <use xlink:href=\"#DejaVuSans-51\"/>\n      </g>\n     </g>\n    </g>\n    <g id=\"xtick_4\">\n     <g id=\"line2d_7\">\n      <path clip-path=\"url(#p179ec7dd07)\" d=\"M 214.523125 224.64 \nL 214.523125 7.2 \n\" style=\"fill:none;stroke:#cbcbcb;\"/>\n     </g>\n     <g id=\"line2d_8\"/>\n     <g id=\"text_4\">\n      <!-- 4 -->\n      <defs>\n       <path d=\"M 37.796875 64.3125 \nL 12.890625 25.390625 \nL 37.796875 25.390625 \nz\nM 35.203125 72.90625 \nL 47.609375 72.90625 \nL 47.609375 25.390625 \nL 58.015625 25.390625 \nL 58.015625 17.1875 \nL 47.609375 17.1875 \nL 47.609375 0 \nL 37.796875 0 \nL 37.796875 17.1875 \nL 4.890625 17.1875 \nL 4.890625 26.703125 \nz\n\" id=\"DejaVuSans-52\"/>\n      </defs>\n      <g transform=\"translate(211.341875 235.738437)scale(0.1 -0.1)\">\n       <use xlink:href=\"#DejaVuSans-52\"/>\n      </g>\n     </g>\n    </g>\n    <g id=\"xtick_5\">\n     <g id=\"line2d_9\">\n      <path clip-path=\"url(#p179ec7dd07)\" d=\"M 271.46858 224.64 \nL 271.46858 7.2 \n\" style=\"fill:none;stroke:#cbcbcb;\"/>\n     </g>\n     <g id=\"line2d_10\"/>\n     <g id=\"text_5\">\n      <!-- 5 -->\n      <defs>\n       <path d=\"M 10.796875 72.90625 \nL 49.515625 72.90625 \nL 49.515625 64.59375 \nL 19.828125 64.59375 \nL 19.828125 46.734375 \nQ 21.96875 47.46875 24.109375 47.828125 \nQ 26.265625 48.1875 28.421875 48.1875 \nQ 40.625 48.1875 47.75 41.5 \nQ 54.890625 34.8125 54.890625 23.390625 \nQ 54.890625 11.625 47.5625 5.09375 \nQ 40.234375 -1.421875 26.90625 -1.421875 \nQ 22.3125 -1.421875 17.546875 -0.640625 \nQ 12.796875 0.140625 7.71875 1.703125 \nL 7.71875 11.625 \nQ 12.109375 9.234375 16.796875 8.0625 \nQ 21.484375 6.890625 26.703125 6.890625 \nQ 35.15625 6.890625 40.078125 11.328125 \nQ 45.015625 15.765625 45.015625 23.390625 \nQ 45.015625 31 40.078125 35.4375 \nQ 35.15625 39.890625 26.703125 39.890625 \nQ 22.75 39.890625 18.8125 39.015625 \nQ 14.890625 38.140625 10.796875 36.28125 \nz\n\" id=\"DejaVuSans-53\"/>\n      </defs>\n      <g transform=\"translate(268.28733 235.738437)scale(0.1 -0.1)\">\n       <use xlink:href=\"#DejaVuSans-53\"/>\n      </g>\n     </g>\n    </g>\n    <g id=\"xtick_6\">\n     <g id=\"line2d_11\">\n      <path clip-path=\"url(#p179ec7dd07)\" d=\"M 328.414034 224.64 \nL 328.414034 7.2 \n\" style=\"fill:none;stroke:#cbcbcb;\"/>\n     </g>\n     <g id=\"line2d_12\"/>\n     <g id=\"text_6\">\n      <!-- 6 -->\n      <defs>\n       <path d=\"M 33.015625 40.375 \nQ 26.375 40.375 22.484375 35.828125 \nQ 18.609375 31.296875 18.609375 23.390625 \nQ 18.609375 15.53125 22.484375 10.953125 \nQ 26.375 6.390625 33.015625 6.390625 \nQ 39.65625 6.390625 43.53125 10.953125 \nQ 47.40625 15.53125 47.40625 23.390625 \nQ 47.40625 31.296875 43.53125 35.828125 \nQ 39.65625 40.375 33.015625 40.375 \nz\nM 52.59375 71.296875 \nL 52.59375 62.3125 \nQ 48.875 64.0625 45.09375 64.984375 \nQ 41.3125 65.921875 37.59375 65.921875 \nQ 27.828125 65.921875 22.671875 59.328125 \nQ 17.53125 52.734375 16.796875 39.40625 \nQ 19.671875 43.65625 24.015625 45.921875 \nQ 28.375 48.1875 33.59375 48.1875 \nQ 44.578125 48.1875 50.953125 41.515625 \nQ 57.328125 34.859375 57.328125 23.390625 \nQ 57.328125 12.15625 50.6875 5.359375 \nQ 44.046875 -1.421875 33.015625 -1.421875 \nQ 20.359375 -1.421875 13.671875 8.265625 \nQ 6.984375 17.96875 6.984375 36.375 \nQ 6.984375 53.65625 15.1875 63.9375 \nQ 23.390625 74.21875 37.203125 74.21875 \nQ 40.921875 74.21875 44.703125 73.484375 \nQ 48.484375 72.75 52.59375 71.296875 \nz\n\" id=\"DejaVuSans-54\"/>\n      </defs>\n      <g transform=\"translate(325.232784 235.738437)scale(0.1 -0.1)\">\n       <use xlink:href=\"#DejaVuSans-54\"/>\n      </g>\n     </g>\n    </g>\n    <g id=\"xtick_7\">\n     <g id=\"line2d_13\">\n      <path clip-path=\"url(#p179ec7dd07)\" d=\"M 385.359489 224.64 \nL 385.359489 7.2 \n\" style=\"fill:none;stroke:#cbcbcb;\"/>\n     </g>\n     <g id=\"line2d_14\"/>\n     <g id=\"text_7\">\n      <!-- 7 -->\n      <defs>\n       <path d=\"M 8.203125 72.90625 \nL 55.078125 72.90625 \nL 55.078125 68.703125 \nL 28.609375 0 \nL 18.3125 0 \nL 43.21875 64.59375 \nL 8.203125 64.59375 \nz\n\" id=\"DejaVuSans-55\"/>\n      </defs>\n      <g transform=\"translate(382.178239 235.738437)scale(0.1 -0.1)\">\n       <use xlink:href=\"#DejaVuSans-55\"/>\n      </g>\n     </g>\n    </g>\n   </g>\n   <g id=\"matplotlib.axis_2\">\n    <g id=\"ytick_1\">\n     <g id=\"line2d_15\">\n      <path clip-path=\"url(#p179ec7dd07)\" d=\"M 26.603125 214.756364 \nL 402.443125 214.756364 \n\" style=\"fill:none;stroke:#cbcbcb;\"/>\n     </g>\n     <g id=\"line2d_16\"/>\n     <g id=\"text_8\">\n      <!-- 3.5 -->\n      <defs>\n       <path d=\"M 10.6875 12.40625 \nL 21 12.40625 \nL 21 0 \nL 10.6875 0 \nz\n\" id=\"DejaVuSans-46\"/>\n      </defs>\n      <g transform=\"translate(7.2 218.555582)scale(0.1 -0.1)\">\n       <use xlink:href=\"#DejaVuSans-51\"/>\n       <use x=\"63.623047\" xlink:href=\"#DejaVuSans-46\"/>\n       <use x=\"95.410156\" xlink:href=\"#DejaVuSans-53\"/>\n      </g>\n     </g>\n    </g>\n    <g id=\"ytick_2\">\n     <g id=\"line2d_17\">\n      <path clip-path=\"url(#p179ec7dd07)\" d=\"M 26.603125 186.517403 \nL 402.443125 186.517403 \n\" style=\"fill:none;stroke:#cbcbcb;\"/>\n     </g>\n     <g id=\"line2d_18\"/>\n     <g id=\"text_9\">\n      <!-- 4.0 -->\n      <defs>\n       <path d=\"M 31.78125 66.40625 \nQ 24.171875 66.40625 20.328125 58.90625 \nQ 16.5 51.421875 16.5 36.375 \nQ 16.5 21.390625 20.328125 13.890625 \nQ 24.171875 6.390625 31.78125 6.390625 \nQ 39.453125 6.390625 43.28125 13.890625 \nQ 47.125 21.390625 47.125 36.375 \nQ 47.125 51.421875 43.28125 58.90625 \nQ 39.453125 66.40625 31.78125 66.40625 \nz\nM 31.78125 74.21875 \nQ 44.046875 74.21875 50.515625 64.515625 \nQ 56.984375 54.828125 56.984375 36.375 \nQ 56.984375 17.96875 50.515625 8.265625 \nQ 44.046875 -1.421875 31.78125 -1.421875 \nQ 19.53125 -1.421875 13.0625 8.265625 \nQ 6.59375 17.96875 6.59375 36.375 \nQ 6.59375 54.828125 13.0625 64.515625 \nQ 19.53125 74.21875 31.78125 74.21875 \nz\n\" id=\"DejaVuSans-48\"/>\n      </defs>\n      <g transform=\"translate(7.2 190.316621)scale(0.1 -0.1)\">\n       <use xlink:href=\"#DejaVuSans-52\"/>\n       <use x=\"63.623047\" xlink:href=\"#DejaVuSans-46\"/>\n       <use x=\"95.410156\" xlink:href=\"#DejaVuSans-48\"/>\n      </g>\n     </g>\n    </g>\n    <g id=\"ytick_3\">\n     <g id=\"line2d_19\">\n      <path clip-path=\"url(#p179ec7dd07)\" d=\"M 26.603125 158.278442 \nL 402.443125 158.278442 \n\" style=\"fill:none;stroke:#cbcbcb;\"/>\n     </g>\n     <g id=\"line2d_20\"/>\n     <g id=\"text_10\">\n      <!-- 4.5 -->\n      <g transform=\"translate(7.2 162.07766)scale(0.1 -0.1)\">\n       <use xlink:href=\"#DejaVuSans-52\"/>\n       <use x=\"63.623047\" xlink:href=\"#DejaVuSans-46\"/>\n       <use x=\"95.410156\" xlink:href=\"#DejaVuSans-53\"/>\n      </g>\n     </g>\n    </g>\n    <g id=\"ytick_4\">\n     <g id=\"line2d_21\">\n      <path clip-path=\"url(#p179ec7dd07)\" d=\"M 26.603125 130.039481 \nL 402.443125 130.039481 \n\" style=\"fill:none;stroke:#cbcbcb;\"/>\n     </g>\n     <g id=\"line2d_22\"/>\n     <g id=\"text_11\">\n      <!-- 5.0 -->\n      <g transform=\"translate(7.2 133.838699)scale(0.1 -0.1)\">\n       <use xlink:href=\"#DejaVuSans-53\"/>\n       <use x=\"63.623047\" xlink:href=\"#DejaVuSans-46\"/>\n       <use x=\"95.410156\" xlink:href=\"#DejaVuSans-48\"/>\n      </g>\n     </g>\n    </g>\n    <g id=\"ytick_5\">\n     <g id=\"line2d_23\">\n      <path clip-path=\"url(#p179ec7dd07)\" d=\"M 26.603125 101.800519 \nL 402.443125 101.800519 \n\" style=\"fill:none;stroke:#cbcbcb;\"/>\n     </g>\n     <g id=\"line2d_24\"/>\n     <g id=\"text_12\">\n      <!-- 5.5 -->\n      <g transform=\"translate(7.2 105.599738)scale(0.1 -0.1)\">\n       <use xlink:href=\"#DejaVuSans-53\"/>\n       <use x=\"63.623047\" xlink:href=\"#DejaVuSans-46\"/>\n       <use x=\"95.410156\" xlink:href=\"#DejaVuSans-53\"/>\n      </g>\n     </g>\n    </g>\n    <g id=\"ytick_6\">\n     <g id=\"line2d_25\">\n      <path clip-path=\"url(#p179ec7dd07)\" d=\"M 26.603125 73.561558 \nL 402.443125 73.561558 \n\" style=\"fill:none;stroke:#cbcbcb;\"/>\n     </g>\n     <g id=\"line2d_26\"/>\n     <g id=\"text_13\">\n      <!-- 6.0 -->\n      <g transform=\"translate(7.2 77.360777)scale(0.1 -0.1)\">\n       <use xlink:href=\"#DejaVuSans-54\"/>\n       <use x=\"63.623047\" xlink:href=\"#DejaVuSans-46\"/>\n       <use x=\"95.410156\" xlink:href=\"#DejaVuSans-48\"/>\n      </g>\n     </g>\n    </g>\n    <g id=\"ytick_7\">\n     <g id=\"line2d_27\">\n      <path clip-path=\"url(#p179ec7dd07)\" d=\"M 26.603125 45.322597 \nL 402.443125 45.322597 \n\" style=\"fill:none;stroke:#cbcbcb;\"/>\n     </g>\n     <g id=\"line2d_28\"/>\n     <g id=\"text_14\">\n      <!-- 6.5 -->\n      <g transform=\"translate(7.2 49.121816)scale(0.1 -0.1)\">\n       <use xlink:href=\"#DejaVuSans-54\"/>\n       <use x=\"63.623047\" xlink:href=\"#DejaVuSans-46\"/>\n       <use x=\"95.410156\" xlink:href=\"#DejaVuSans-53\"/>\n      </g>\n     </g>\n    </g>\n    <g id=\"ytick_8\">\n     <g id=\"line2d_29\">\n      <path clip-path=\"url(#p179ec7dd07)\" d=\"M 26.603125 17.083636 \nL 402.443125 17.083636 \n\" style=\"fill:none;stroke:#cbcbcb;\"/>\n     </g>\n     <g id=\"line2d_30\"/>\n     <g id=\"text_15\">\n      <!-- 7.0 -->\n      <g transform=\"translate(7.2 20.882855)scale(0.1 -0.1)\">\n       <use xlink:href=\"#DejaVuSans-55\"/>\n       <use x=\"63.623047\" xlink:href=\"#DejaVuSans-46\"/>\n       <use x=\"95.410156\" xlink:href=\"#DejaVuSans-48\"/>\n      </g>\n     </g>\n    </g>\n   </g>\n   <g id=\"line2d_31\">\n    <path clip-path=\"url(#p179ec7dd07)\" d=\"M 43.686761 214.756364 \nL 100.632216 197.812987 \nL 157.57767 175.221818 \nL 214.523125 158.278442 \nL 271.46858 130.039481 \nL 328.414034 101.800519 \nL 385.359489 17.083636 \n\" style=\"fill:none;stroke:#008fd5;stroke-width:4;\"/>\n   </g>\n   <g id=\"patch_3\">\n    <path d=\"M 26.603125 224.64 \nL 26.603125 7.2 \n\" style=\"fill:none;stroke:#f0f0f0;stroke-linecap:square;stroke-linejoin:miter;stroke-width:3;\"/>\n   </g>\n   <g id=\"patch_4\">\n    <path d=\"M 402.443125 224.64 \nL 402.443125 7.2 \n\" style=\"fill:none;stroke:#f0f0f0;stroke-linecap:square;stroke-linejoin:miter;stroke-width:3;\"/>\n   </g>\n   <g id=\"patch_5\">\n    <path d=\"M 26.603125 224.64 \nL 402.443125 224.64 \n\" style=\"fill:none;stroke:#f0f0f0;stroke-linecap:square;stroke-linejoin:miter;stroke-width:3;\"/>\n   </g>\n   <g id=\"patch_6\">\n    <path d=\"M 26.603125 7.2 \nL 402.443125 7.2 \n\" style=\"fill:none;stroke:#f0f0f0;stroke-linecap:square;stroke-linejoin:miter;stroke-width:3;\"/>\n   </g>\n  </g>\n </g>\n <defs>\n  <clipPath id=\"p179ec7dd07\">\n   <rect height=\"217.44\" width=\"375.84\" x=\"26.603125\" y=\"7.2\"/>\n  </clipPath>\n </defs>\n</svg>\n"
          },
          "metadata": {
            "tags": [],
            "needs_background": "light"
          }
        }
      ]
    },
    {
      "cell_type": "code",
      "metadata": {
        "id": "O8N0axKh6sb-",
        "outputId": "b1a26adb-975a-4f33-af51-807287dd8a1c",
        "colab": {
          "base_uri": "https://localhost:8080/",
          "height": 348
        }
      },
      "source": [
        "plt.scatter(x, y)\n",
        "plt.show()"
      ],
      "execution_count": 61,
      "outputs": [
        {
          "output_type": "display_data",
          "data": {
            "text/plain": [
              "<Figure size 432x288 with 1 Axes>"
            ],
            "image/svg+xml": "<?xml version=\"1.0\" encoding=\"utf-8\" standalone=\"no\"?>\n<!DOCTYPE svg PUBLIC \"-//W3C//DTD SVG 1.1//EN\"\n  \"http://www.w3.org/Graphics/SVG/1.1/DTD/svg11.dtd\">\n<!-- Created with matplotlib (https://matplotlib.org/) -->\n<svg height=\"245.018125pt\" version=\"1.1\" viewBox=\"0 0 409.643125 245.018125\" width=\"409.643125pt\" xmlns=\"http://www.w3.org/2000/svg\" xmlns:xlink=\"http://www.w3.org/1999/xlink\">\n <defs>\n  <style type=\"text/css\">\n*{stroke-linecap:butt;stroke-linejoin:round;}\n  </style>\n </defs>\n <g id=\"figure_1\">\n  <g id=\"patch_1\">\n   <path d=\"M -0 245.018125 \nL 409.643125 245.018125 \nL 409.643125 0 \nL -0 0 \nz\n\" style=\"fill:none;\"/>\n  </g>\n  <g id=\"axes_1\">\n   <g id=\"patch_2\">\n    <path d=\"M 26.603125 224.64 \nL 402.443125 224.64 \nL 402.443125 7.2 \nL 26.603125 7.2 \nz\n\" style=\"fill:#f0f0f0;\"/>\n   </g>\n   <g id=\"matplotlib.axis_1\">\n    <g id=\"xtick_1\">\n     <g id=\"line2d_1\">\n      <path clip-path=\"url(#pf88a3fd469)\" d=\"M 43.686761 224.64 \nL 43.686761 7.2 \n\" style=\"fill:none;stroke:#cbcbcb;\"/>\n     </g>\n     <g id=\"line2d_2\"/>\n     <g id=\"text_1\">\n      <!-- 1 -->\n      <defs>\n       <path d=\"M 12.40625 8.296875 \nL 28.515625 8.296875 \nL 28.515625 63.921875 \nL 10.984375 60.40625 \nL 10.984375 69.390625 \nL 28.421875 72.90625 \nL 38.28125 72.90625 \nL 38.28125 8.296875 \nL 54.390625 8.296875 \nL 54.390625 0 \nL 12.40625 0 \nz\n\" id=\"DejaVuSans-49\"/>\n      </defs>\n      <g transform=\"translate(40.505511 235.738437)scale(0.1 -0.1)\">\n       <use xlink:href=\"#DejaVuSans-49\"/>\n      </g>\n     </g>\n    </g>\n    <g id=\"xtick_2\">\n     <g id=\"line2d_3\">\n      <path clip-path=\"url(#pf88a3fd469)\" d=\"M 100.632216 224.64 \nL 100.632216 7.2 \n\" style=\"fill:none;stroke:#cbcbcb;\"/>\n     </g>\n     <g id=\"line2d_4\"/>\n     <g id=\"text_2\">\n      <!-- 2 -->\n      <defs>\n       <path d=\"M 19.1875 8.296875 \nL 53.609375 8.296875 \nL 53.609375 0 \nL 7.328125 0 \nL 7.328125 8.296875 \nQ 12.9375 14.109375 22.625 23.890625 \nQ 32.328125 33.6875 34.8125 36.53125 \nQ 39.546875 41.84375 41.421875 45.53125 \nQ 43.3125 49.21875 43.3125 52.78125 \nQ 43.3125 58.59375 39.234375 62.25 \nQ 35.15625 65.921875 28.609375 65.921875 \nQ 23.96875 65.921875 18.8125 64.3125 \nQ 13.671875 62.703125 7.8125 59.421875 \nL 7.8125 69.390625 \nQ 13.765625 71.78125 18.9375 73 \nQ 24.125 74.21875 28.421875 74.21875 \nQ 39.75 74.21875 46.484375 68.546875 \nQ 53.21875 62.890625 53.21875 53.421875 \nQ 53.21875 48.921875 51.53125 44.890625 \nQ 49.859375 40.875 45.40625 35.40625 \nQ 44.1875 33.984375 37.640625 27.21875 \nQ 31.109375 20.453125 19.1875 8.296875 \nz\n\" id=\"DejaVuSans-50\"/>\n      </defs>\n      <g transform=\"translate(97.450966 235.738437)scale(0.1 -0.1)\">\n       <use xlink:href=\"#DejaVuSans-50\"/>\n      </g>\n     </g>\n    </g>\n    <g id=\"xtick_3\">\n     <g id=\"line2d_5\">\n      <path clip-path=\"url(#pf88a3fd469)\" d=\"M 157.57767 224.64 \nL 157.57767 7.2 \n\" style=\"fill:none;stroke:#cbcbcb;\"/>\n     </g>\n     <g id=\"line2d_6\"/>\n     <g id=\"text_3\">\n      <!-- 3 -->\n      <defs>\n       <path d=\"M 40.578125 39.3125 \nQ 47.65625 37.796875 51.625 33 \nQ 55.609375 28.21875 55.609375 21.1875 \nQ 55.609375 10.40625 48.1875 4.484375 \nQ 40.765625 -1.421875 27.09375 -1.421875 \nQ 22.515625 -1.421875 17.65625 -0.515625 \nQ 12.796875 0.390625 7.625 2.203125 \nL 7.625 11.71875 \nQ 11.71875 9.328125 16.59375 8.109375 \nQ 21.484375 6.890625 26.8125 6.890625 \nQ 36.078125 6.890625 40.9375 10.546875 \nQ 45.796875 14.203125 45.796875 21.1875 \nQ 45.796875 27.640625 41.28125 31.265625 \nQ 36.765625 34.90625 28.71875 34.90625 \nL 20.21875 34.90625 \nL 20.21875 43.015625 \nL 29.109375 43.015625 \nQ 36.375 43.015625 40.234375 45.921875 \nQ 44.09375 48.828125 44.09375 54.296875 \nQ 44.09375 59.90625 40.109375 62.90625 \nQ 36.140625 65.921875 28.71875 65.921875 \nQ 24.65625 65.921875 20.015625 65.03125 \nQ 15.375 64.15625 9.8125 62.3125 \nL 9.8125 71.09375 \nQ 15.4375 72.65625 20.34375 73.4375 \nQ 25.25 74.21875 29.59375 74.21875 \nQ 40.828125 74.21875 47.359375 69.109375 \nQ 53.90625 64.015625 53.90625 55.328125 \nQ 53.90625 49.265625 50.4375 45.09375 \nQ 46.96875 40.921875 40.578125 39.3125 \nz\n\" id=\"DejaVuSans-51\"/>\n      </defs>\n      <g transform=\"translate(154.39642 235.738437)scale(0.1 -0.1)\">\n       <use xlink:href=\"#DejaVuSans-51\"/>\n      </g>\n     </g>\n    </g>\n    <g id=\"xtick_4\">\n     <g id=\"line2d_7\">\n      <path clip-path=\"url(#pf88a3fd469)\" d=\"M 214.523125 224.64 \nL 214.523125 7.2 \n\" style=\"fill:none;stroke:#cbcbcb;\"/>\n     </g>\n     <g id=\"line2d_8\"/>\n     <g id=\"text_4\">\n      <!-- 4 -->\n      <defs>\n       <path d=\"M 37.796875 64.3125 \nL 12.890625 25.390625 \nL 37.796875 25.390625 \nz\nM 35.203125 72.90625 \nL 47.609375 72.90625 \nL 47.609375 25.390625 \nL 58.015625 25.390625 \nL 58.015625 17.1875 \nL 47.609375 17.1875 \nL 47.609375 0 \nL 37.796875 0 \nL 37.796875 17.1875 \nL 4.890625 17.1875 \nL 4.890625 26.703125 \nz\n\" id=\"DejaVuSans-52\"/>\n      </defs>\n      <g transform=\"translate(211.341875 235.738437)scale(0.1 -0.1)\">\n       <use xlink:href=\"#DejaVuSans-52\"/>\n      </g>\n     </g>\n    </g>\n    <g id=\"xtick_5\">\n     <g id=\"line2d_9\">\n      <path clip-path=\"url(#pf88a3fd469)\" d=\"M 271.46858 224.64 \nL 271.46858 7.2 \n\" style=\"fill:none;stroke:#cbcbcb;\"/>\n     </g>\n     <g id=\"line2d_10\"/>\n     <g id=\"text_5\">\n      <!-- 5 -->\n      <defs>\n       <path d=\"M 10.796875 72.90625 \nL 49.515625 72.90625 \nL 49.515625 64.59375 \nL 19.828125 64.59375 \nL 19.828125 46.734375 \nQ 21.96875 47.46875 24.109375 47.828125 \nQ 26.265625 48.1875 28.421875 48.1875 \nQ 40.625 48.1875 47.75 41.5 \nQ 54.890625 34.8125 54.890625 23.390625 \nQ 54.890625 11.625 47.5625 5.09375 \nQ 40.234375 -1.421875 26.90625 -1.421875 \nQ 22.3125 -1.421875 17.546875 -0.640625 \nQ 12.796875 0.140625 7.71875 1.703125 \nL 7.71875 11.625 \nQ 12.109375 9.234375 16.796875 8.0625 \nQ 21.484375 6.890625 26.703125 6.890625 \nQ 35.15625 6.890625 40.078125 11.328125 \nQ 45.015625 15.765625 45.015625 23.390625 \nQ 45.015625 31 40.078125 35.4375 \nQ 35.15625 39.890625 26.703125 39.890625 \nQ 22.75 39.890625 18.8125 39.015625 \nQ 14.890625 38.140625 10.796875 36.28125 \nz\n\" id=\"DejaVuSans-53\"/>\n      </defs>\n      <g transform=\"translate(268.28733 235.738437)scale(0.1 -0.1)\">\n       <use xlink:href=\"#DejaVuSans-53\"/>\n      </g>\n     </g>\n    </g>\n    <g id=\"xtick_6\">\n     <g id=\"line2d_11\">\n      <path clip-path=\"url(#pf88a3fd469)\" d=\"M 328.414034 224.64 \nL 328.414034 7.2 \n\" style=\"fill:none;stroke:#cbcbcb;\"/>\n     </g>\n     <g id=\"line2d_12\"/>\n     <g id=\"text_6\">\n      <!-- 6 -->\n      <defs>\n       <path d=\"M 33.015625 40.375 \nQ 26.375 40.375 22.484375 35.828125 \nQ 18.609375 31.296875 18.609375 23.390625 \nQ 18.609375 15.53125 22.484375 10.953125 \nQ 26.375 6.390625 33.015625 6.390625 \nQ 39.65625 6.390625 43.53125 10.953125 \nQ 47.40625 15.53125 47.40625 23.390625 \nQ 47.40625 31.296875 43.53125 35.828125 \nQ 39.65625 40.375 33.015625 40.375 \nz\nM 52.59375 71.296875 \nL 52.59375 62.3125 \nQ 48.875 64.0625 45.09375 64.984375 \nQ 41.3125 65.921875 37.59375 65.921875 \nQ 27.828125 65.921875 22.671875 59.328125 \nQ 17.53125 52.734375 16.796875 39.40625 \nQ 19.671875 43.65625 24.015625 45.921875 \nQ 28.375 48.1875 33.59375 48.1875 \nQ 44.578125 48.1875 50.953125 41.515625 \nQ 57.328125 34.859375 57.328125 23.390625 \nQ 57.328125 12.15625 50.6875 5.359375 \nQ 44.046875 -1.421875 33.015625 -1.421875 \nQ 20.359375 -1.421875 13.671875 8.265625 \nQ 6.984375 17.96875 6.984375 36.375 \nQ 6.984375 53.65625 15.1875 63.9375 \nQ 23.390625 74.21875 37.203125 74.21875 \nQ 40.921875 74.21875 44.703125 73.484375 \nQ 48.484375 72.75 52.59375 71.296875 \nz\n\" id=\"DejaVuSans-54\"/>\n      </defs>\n      <g transform=\"translate(325.232784 235.738437)scale(0.1 -0.1)\">\n       <use xlink:href=\"#DejaVuSans-54\"/>\n      </g>\n     </g>\n    </g>\n    <g id=\"xtick_7\">\n     <g id=\"line2d_13\">\n      <path clip-path=\"url(#pf88a3fd469)\" d=\"M 385.359489 224.64 \nL 385.359489 7.2 \n\" style=\"fill:none;stroke:#cbcbcb;\"/>\n     </g>\n     <g id=\"line2d_14\"/>\n     <g id=\"text_7\">\n      <!-- 7 -->\n      <defs>\n       <path d=\"M 8.203125 72.90625 \nL 55.078125 72.90625 \nL 55.078125 68.703125 \nL 28.609375 0 \nL 18.3125 0 \nL 43.21875 64.59375 \nL 8.203125 64.59375 \nz\n\" id=\"DejaVuSans-55\"/>\n      </defs>\n      <g transform=\"translate(382.178239 235.738437)scale(0.1 -0.1)\">\n       <use xlink:href=\"#DejaVuSans-55\"/>\n      </g>\n     </g>\n    </g>\n   </g>\n   <g id=\"matplotlib.axis_2\">\n    <g id=\"ytick_1\">\n     <g id=\"line2d_15\">\n      <path clip-path=\"url(#pf88a3fd469)\" d=\"M 26.603125 214.756364 \nL 402.443125 214.756364 \n\" style=\"fill:none;stroke:#cbcbcb;\"/>\n     </g>\n     <g id=\"line2d_16\"/>\n     <g id=\"text_8\">\n      <!-- 3.5 -->\n      <defs>\n       <path d=\"M 10.6875 12.40625 \nL 21 12.40625 \nL 21 0 \nL 10.6875 0 \nz\n\" id=\"DejaVuSans-46\"/>\n      </defs>\n      <g transform=\"translate(7.2 218.555582)scale(0.1 -0.1)\">\n       <use xlink:href=\"#DejaVuSans-51\"/>\n       <use x=\"63.623047\" xlink:href=\"#DejaVuSans-46\"/>\n       <use x=\"95.410156\" xlink:href=\"#DejaVuSans-53\"/>\n      </g>\n     </g>\n    </g>\n    <g id=\"ytick_2\">\n     <g id=\"line2d_17\">\n      <path clip-path=\"url(#pf88a3fd469)\" d=\"M 26.603125 186.517403 \nL 402.443125 186.517403 \n\" style=\"fill:none;stroke:#cbcbcb;\"/>\n     </g>\n     <g id=\"line2d_18\"/>\n     <g id=\"text_9\">\n      <!-- 4.0 -->\n      <defs>\n       <path d=\"M 31.78125 66.40625 \nQ 24.171875 66.40625 20.328125 58.90625 \nQ 16.5 51.421875 16.5 36.375 \nQ 16.5 21.390625 20.328125 13.890625 \nQ 24.171875 6.390625 31.78125 6.390625 \nQ 39.453125 6.390625 43.28125 13.890625 \nQ 47.125 21.390625 47.125 36.375 \nQ 47.125 51.421875 43.28125 58.90625 \nQ 39.453125 66.40625 31.78125 66.40625 \nz\nM 31.78125 74.21875 \nQ 44.046875 74.21875 50.515625 64.515625 \nQ 56.984375 54.828125 56.984375 36.375 \nQ 56.984375 17.96875 50.515625 8.265625 \nQ 44.046875 -1.421875 31.78125 -1.421875 \nQ 19.53125 -1.421875 13.0625 8.265625 \nQ 6.59375 17.96875 6.59375 36.375 \nQ 6.59375 54.828125 13.0625 64.515625 \nQ 19.53125 74.21875 31.78125 74.21875 \nz\n\" id=\"DejaVuSans-48\"/>\n      </defs>\n      <g transform=\"translate(7.2 190.316621)scale(0.1 -0.1)\">\n       <use xlink:href=\"#DejaVuSans-52\"/>\n       <use x=\"63.623047\" xlink:href=\"#DejaVuSans-46\"/>\n       <use x=\"95.410156\" xlink:href=\"#DejaVuSans-48\"/>\n      </g>\n     </g>\n    </g>\n    <g id=\"ytick_3\">\n     <g id=\"line2d_19\">\n      <path clip-path=\"url(#pf88a3fd469)\" d=\"M 26.603125 158.278442 \nL 402.443125 158.278442 \n\" style=\"fill:none;stroke:#cbcbcb;\"/>\n     </g>\n     <g id=\"line2d_20\"/>\n     <g id=\"text_10\">\n      <!-- 4.5 -->\n      <g transform=\"translate(7.2 162.07766)scale(0.1 -0.1)\">\n       <use xlink:href=\"#DejaVuSans-52\"/>\n       <use x=\"63.623047\" xlink:href=\"#DejaVuSans-46\"/>\n       <use x=\"95.410156\" xlink:href=\"#DejaVuSans-53\"/>\n      </g>\n     </g>\n    </g>\n    <g id=\"ytick_4\">\n     <g id=\"line2d_21\">\n      <path clip-path=\"url(#pf88a3fd469)\" d=\"M 26.603125 130.039481 \nL 402.443125 130.039481 \n\" style=\"fill:none;stroke:#cbcbcb;\"/>\n     </g>\n     <g id=\"line2d_22\"/>\n     <g id=\"text_11\">\n      <!-- 5.0 -->\n      <g transform=\"translate(7.2 133.838699)scale(0.1 -0.1)\">\n       <use xlink:href=\"#DejaVuSans-53\"/>\n       <use x=\"63.623047\" xlink:href=\"#DejaVuSans-46\"/>\n       <use x=\"95.410156\" xlink:href=\"#DejaVuSans-48\"/>\n      </g>\n     </g>\n    </g>\n    <g id=\"ytick_5\">\n     <g id=\"line2d_23\">\n      <path clip-path=\"url(#pf88a3fd469)\" d=\"M 26.603125 101.800519 \nL 402.443125 101.800519 \n\" style=\"fill:none;stroke:#cbcbcb;\"/>\n     </g>\n     <g id=\"line2d_24\"/>\n     <g id=\"text_12\">\n      <!-- 5.5 -->\n      <g transform=\"translate(7.2 105.599738)scale(0.1 -0.1)\">\n       <use xlink:href=\"#DejaVuSans-53\"/>\n       <use x=\"63.623047\" xlink:href=\"#DejaVuSans-46\"/>\n       <use x=\"95.410156\" xlink:href=\"#DejaVuSans-53\"/>\n      </g>\n     </g>\n    </g>\n    <g id=\"ytick_6\">\n     <g id=\"line2d_25\">\n      <path clip-path=\"url(#pf88a3fd469)\" d=\"M 26.603125 73.561558 \nL 402.443125 73.561558 \n\" style=\"fill:none;stroke:#cbcbcb;\"/>\n     </g>\n     <g id=\"line2d_26\"/>\n     <g id=\"text_13\">\n      <!-- 6.0 -->\n      <g transform=\"translate(7.2 77.360777)scale(0.1 -0.1)\">\n       <use xlink:href=\"#DejaVuSans-54\"/>\n       <use x=\"63.623047\" xlink:href=\"#DejaVuSans-46\"/>\n       <use x=\"95.410156\" xlink:href=\"#DejaVuSans-48\"/>\n      </g>\n     </g>\n    </g>\n    <g id=\"ytick_7\">\n     <g id=\"line2d_27\">\n      <path clip-path=\"url(#pf88a3fd469)\" d=\"M 26.603125 45.322597 \nL 402.443125 45.322597 \n\" style=\"fill:none;stroke:#cbcbcb;\"/>\n     </g>\n     <g id=\"line2d_28\"/>\n     <g id=\"text_14\">\n      <!-- 6.5 -->\n      <g transform=\"translate(7.2 49.121816)scale(0.1 -0.1)\">\n       <use xlink:href=\"#DejaVuSans-54\"/>\n       <use x=\"63.623047\" xlink:href=\"#DejaVuSans-46\"/>\n       <use x=\"95.410156\" xlink:href=\"#DejaVuSans-53\"/>\n      </g>\n     </g>\n    </g>\n    <g id=\"ytick_8\">\n     <g id=\"line2d_29\">\n      <path clip-path=\"url(#pf88a3fd469)\" d=\"M 26.603125 17.083636 \nL 402.443125 17.083636 \n\" style=\"fill:none;stroke:#cbcbcb;\"/>\n     </g>\n     <g id=\"line2d_30\"/>\n     <g id=\"text_15\">\n      <!-- 7.0 -->\n      <g transform=\"translate(7.2 20.882855)scale(0.1 -0.1)\">\n       <use xlink:href=\"#DejaVuSans-55\"/>\n       <use x=\"63.623047\" xlink:href=\"#DejaVuSans-46\"/>\n       <use x=\"95.410156\" xlink:href=\"#DejaVuSans-48\"/>\n      </g>\n     </g>\n    </g>\n   </g>\n   <g id=\"PathCollection_1\">\n    <defs>\n     <path d=\"M 0 3 \nC 0.795609 3 1.55874 2.683901 2.12132 2.12132 \nC 2.683901 1.55874 3 0.795609 3 0 \nC 3 -0.795609 2.683901 -1.55874 2.12132 -2.12132 \nC 1.55874 -2.683901 0.795609 -3 0 -3 \nC -0.795609 -3 -1.55874 -2.683901 -2.12132 -2.12132 \nC -2.683901 -1.55874 -3 -0.795609 -3 0 \nC -3 0.795609 -2.683901 1.55874 -2.12132 2.12132 \nC -1.55874 2.683901 -0.795609 3 0 3 \nz\n\" id=\"md26fc1b1ac\" style=\"stroke:#008fd5;stroke-width:0.5;\"/>\n    </defs>\n    <g clip-path=\"url(#pf88a3fd469)\">\n     <use style=\"fill:#008fd5;stroke:#008fd5;stroke-width:0.5;\" x=\"43.686761\" xlink:href=\"#md26fc1b1ac\" y=\"214.756364\"/>\n     <use style=\"fill:#008fd5;stroke:#008fd5;stroke-width:0.5;\" x=\"100.632216\" xlink:href=\"#md26fc1b1ac\" y=\"197.812987\"/>\n     <use style=\"fill:#008fd5;stroke:#008fd5;stroke-width:0.5;\" x=\"157.57767\" xlink:href=\"#md26fc1b1ac\" y=\"175.221818\"/>\n     <use style=\"fill:#008fd5;stroke:#008fd5;stroke-width:0.5;\" x=\"214.523125\" xlink:href=\"#md26fc1b1ac\" y=\"158.278442\"/>\n     <use style=\"fill:#008fd5;stroke:#008fd5;stroke-width:0.5;\" x=\"271.46858\" xlink:href=\"#md26fc1b1ac\" y=\"130.039481\"/>\n     <use style=\"fill:#008fd5;stroke:#008fd5;stroke-width:0.5;\" x=\"328.414034\" xlink:href=\"#md26fc1b1ac\" y=\"101.800519\"/>\n     <use style=\"fill:#008fd5;stroke:#008fd5;stroke-width:0.5;\" x=\"385.359489\" xlink:href=\"#md26fc1b1ac\" y=\"17.083636\"/>\n    </g>\n   </g>\n   <g id=\"patch_3\">\n    <path d=\"M 26.603125 224.64 \nL 26.603125 7.2 \n\" style=\"fill:none;stroke:#f0f0f0;stroke-linecap:square;stroke-linejoin:miter;stroke-width:3;\"/>\n   </g>\n   <g id=\"patch_4\">\n    <path d=\"M 402.443125 224.64 \nL 402.443125 7.2 \n\" style=\"fill:none;stroke:#f0f0f0;stroke-linecap:square;stroke-linejoin:miter;stroke-width:3;\"/>\n   </g>\n   <g id=\"patch_5\">\n    <path d=\"M 26.603125 224.64 \nL 402.443125 224.64 \n\" style=\"fill:none;stroke:#f0f0f0;stroke-linecap:square;stroke-linejoin:miter;stroke-width:3;\"/>\n   </g>\n   <g id=\"patch_6\">\n    <path d=\"M 26.603125 7.2 \nL 402.443125 7.2 \n\" style=\"fill:none;stroke:#f0f0f0;stroke-linecap:square;stroke-linejoin:miter;stroke-width:3;\"/>\n   </g>\n  </g>\n </g>\n <defs>\n  <clipPath id=\"pf88a3fd469\">\n   <rect height=\"217.44\" width=\"375.84\" x=\"26.603125\" y=\"7.2\"/>\n  </clipPath>\n </defs>\n</svg>\n"
          },
          "metadata": {
            "tags": [],
            "needs_background": "light"
          }
        }
      ]
    },
    {
      "cell_type": "markdown",
      "metadata": {
        "id": "UiGeKDJ3tv89"
      },
      "source": [
        "**Задание 2.**\n",
        "\n",
        "С помощью функции linspace из библиотеки Numpy создайте массив t из 51 числа от 0 до 10 включительно.\n",
        "Создайте массив Numpy под названием f, содержащий косинусы элементов массива t.\n",
        "Постройте линейную диаграмму, используя массив t для координат по горизонтали,а массив f - для координат по вертикали. Линия графика должна быть зеленого цвета.\n",
        "Выведите название диаграммы - 'График f(t)'. Также добавьте названия для горизонтальной оси - 'Значения t' и для вертикальной - 'Значения f'.\n",
        "Ограничьте график по оси x значениями 0.5 и 9.5, а по оси y - значениями -2.5 и 2.5."
      ]
    },
    {
      "cell_type": "code",
      "metadata": {
        "id": "5cM4cWbEt6zK"
      },
      "source": [
        "t = np.linspace(0, 10, 51)\n",
        "f = np.cos(t)"
      ],
      "execution_count": 62,
      "outputs": []
    },
    {
      "cell_type": "code",
      "metadata": {
        "id": "yDSrDPXH6scJ",
        "outputId": "2f763627-eb86-45de-aa33-6e30d717a404",
        "colab": {
          "base_uri": "https://localhost:8080/",
          "height": 391
        }
      },
      "source": [
        "plt.plot(t, f, c='g')\n",
        "plt.title('График f(t)')\n",
        "plt.xlabel('Значения t')\n",
        "plt.ylabel('Значения f')\n",
        "plt.axis([0.5, 9.5, -2.5, 2.5])\n",
        "None"
      ],
      "execution_count": 63,
      "outputs": [
        {
          "output_type": "display_data",
          "data": {
            "text/plain": [
              "<Figure size 432x288 with 1 Axes>"
            ],
            "image/svg+xml": "<?xml version=\"1.0\" encoding=\"utf-8\" standalone=\"no\"?>\n<!DOCTYPE svg PUBLIC \"-//W3C//DTD SVG 1.1//EN\"\n  \"http://www.w3.org/Graphics/SVG/1.1/DTD/svg11.dtd\">\n<!-- Created with matplotlib (https://matplotlib.org/) -->\n<svg height=\"277.573625pt\" version=\"1.1\" viewBox=\"0 0 424.095937 277.573625\" width=\"424.095937pt\" xmlns=\"http://www.w3.org/2000/svg\" xmlns:xlink=\"http://www.w3.org/1999/xlink\">\n <defs>\n  <style type=\"text/css\">\n*{stroke-linecap:butt;stroke-linejoin:round;}\n  </style>\n </defs>\n <g id=\"figure_1\">\n  <g id=\"patch_1\">\n   <path d=\"M 0 277.573625 \nL 424.095937 277.573625 \nL 424.095937 0 \nL 0 0 \nz\n\" style=\"fill:none;\"/>\n  </g>\n  <g id=\"axes_1\">\n   <g id=\"patch_2\">\n    <path d=\"M 41.055937 241.58175 \nL 416.895938 241.58175 \nL 416.895938 24.14175 \nL 41.055937 24.14175 \nz\n\" style=\"fill:#f0f0f0;\"/>\n   </g>\n   <g id=\"matplotlib.axis_1\">\n    <g id=\"xtick_1\">\n     <g id=\"line2d_1\">\n      <path clip-path=\"url(#pe2689dc435)\" d=\"M 61.935937 241.58175 \nL 61.935937 24.14175 \n\" style=\"fill:none;stroke:#cbcbcb;\"/>\n     </g>\n     <g id=\"line2d_2\"/>\n     <g id=\"text_1\">\n      <!-- 1 -->\n      <defs>\n       <path d=\"M 12.40625 8.296875 \nL 28.515625 8.296875 \nL 28.515625 63.921875 \nL 10.984375 60.40625 \nL 10.984375 69.390625 \nL 28.421875 72.90625 \nL 38.28125 72.90625 \nL 38.28125 8.296875 \nL 54.390625 8.296875 \nL 54.390625 0 \nL 12.40625 0 \nz\n\" id=\"DejaVuSans-49\"/>\n      </defs>\n      <g transform=\"translate(58.754687 252.680187)scale(0.1 -0.1)\">\n       <use xlink:href=\"#DejaVuSans-49\"/>\n      </g>\n     </g>\n    </g>\n    <g id=\"xtick_2\">\n     <g id=\"line2d_3\">\n      <path clip-path=\"url(#pe2689dc435)\" d=\"M 103.695937 241.58175 \nL 103.695937 24.14175 \n\" style=\"fill:none;stroke:#cbcbcb;\"/>\n     </g>\n     <g id=\"line2d_4\"/>\n     <g id=\"text_2\">\n      <!-- 2 -->\n      <defs>\n       <path d=\"M 19.1875 8.296875 \nL 53.609375 8.296875 \nL 53.609375 0 \nL 7.328125 0 \nL 7.328125 8.296875 \nQ 12.9375 14.109375 22.625 23.890625 \nQ 32.328125 33.6875 34.8125 36.53125 \nQ 39.546875 41.84375 41.421875 45.53125 \nQ 43.3125 49.21875 43.3125 52.78125 \nQ 43.3125 58.59375 39.234375 62.25 \nQ 35.15625 65.921875 28.609375 65.921875 \nQ 23.96875 65.921875 18.8125 64.3125 \nQ 13.671875 62.703125 7.8125 59.421875 \nL 7.8125 69.390625 \nQ 13.765625 71.78125 18.9375 73 \nQ 24.125 74.21875 28.421875 74.21875 \nQ 39.75 74.21875 46.484375 68.546875 \nQ 53.21875 62.890625 53.21875 53.421875 \nQ 53.21875 48.921875 51.53125 44.890625 \nQ 49.859375 40.875 45.40625 35.40625 \nQ 44.1875 33.984375 37.640625 27.21875 \nQ 31.109375 20.453125 19.1875 8.296875 \nz\n\" id=\"DejaVuSans-50\"/>\n      </defs>\n      <g transform=\"translate(100.514687 252.680187)scale(0.1 -0.1)\">\n       <use xlink:href=\"#DejaVuSans-50\"/>\n      </g>\n     </g>\n    </g>\n    <g id=\"xtick_3\">\n     <g id=\"line2d_5\">\n      <path clip-path=\"url(#pe2689dc435)\" d=\"M 145.455938 241.58175 \nL 145.455938 24.14175 \n\" style=\"fill:none;stroke:#cbcbcb;\"/>\n     </g>\n     <g id=\"line2d_6\"/>\n     <g id=\"text_3\">\n      <!-- 3 -->\n      <defs>\n       <path d=\"M 40.578125 39.3125 \nQ 47.65625 37.796875 51.625 33 \nQ 55.609375 28.21875 55.609375 21.1875 \nQ 55.609375 10.40625 48.1875 4.484375 \nQ 40.765625 -1.421875 27.09375 -1.421875 \nQ 22.515625 -1.421875 17.65625 -0.515625 \nQ 12.796875 0.390625 7.625 2.203125 \nL 7.625 11.71875 \nQ 11.71875 9.328125 16.59375 8.109375 \nQ 21.484375 6.890625 26.8125 6.890625 \nQ 36.078125 6.890625 40.9375 10.546875 \nQ 45.796875 14.203125 45.796875 21.1875 \nQ 45.796875 27.640625 41.28125 31.265625 \nQ 36.765625 34.90625 28.71875 34.90625 \nL 20.21875 34.90625 \nL 20.21875 43.015625 \nL 29.109375 43.015625 \nQ 36.375 43.015625 40.234375 45.921875 \nQ 44.09375 48.828125 44.09375 54.296875 \nQ 44.09375 59.90625 40.109375 62.90625 \nQ 36.140625 65.921875 28.71875 65.921875 \nQ 24.65625 65.921875 20.015625 65.03125 \nQ 15.375 64.15625 9.8125 62.3125 \nL 9.8125 71.09375 \nQ 15.4375 72.65625 20.34375 73.4375 \nQ 25.25 74.21875 29.59375 74.21875 \nQ 40.828125 74.21875 47.359375 69.109375 \nQ 53.90625 64.015625 53.90625 55.328125 \nQ 53.90625 49.265625 50.4375 45.09375 \nQ 46.96875 40.921875 40.578125 39.3125 \nz\n\" id=\"DejaVuSans-51\"/>\n      </defs>\n      <g transform=\"translate(142.274687 252.680187)scale(0.1 -0.1)\">\n       <use xlink:href=\"#DejaVuSans-51\"/>\n      </g>\n     </g>\n    </g>\n    <g id=\"xtick_4\">\n     <g id=\"line2d_7\">\n      <path clip-path=\"url(#pe2689dc435)\" d=\"M 187.215937 241.58175 \nL 187.215937 24.14175 \n\" style=\"fill:none;stroke:#cbcbcb;\"/>\n     </g>\n     <g id=\"line2d_8\"/>\n     <g id=\"text_4\">\n      <!-- 4 -->\n      <defs>\n       <path d=\"M 37.796875 64.3125 \nL 12.890625 25.390625 \nL 37.796875 25.390625 \nz\nM 35.203125 72.90625 \nL 47.609375 72.90625 \nL 47.609375 25.390625 \nL 58.015625 25.390625 \nL 58.015625 17.1875 \nL 47.609375 17.1875 \nL 47.609375 0 \nL 37.796875 0 \nL 37.796875 17.1875 \nL 4.890625 17.1875 \nL 4.890625 26.703125 \nz\n\" id=\"DejaVuSans-52\"/>\n      </defs>\n      <g transform=\"translate(184.034687 252.680187)scale(0.1 -0.1)\">\n       <use xlink:href=\"#DejaVuSans-52\"/>\n      </g>\n     </g>\n    </g>\n    <g id=\"xtick_5\">\n     <g id=\"line2d_9\">\n      <path clip-path=\"url(#pe2689dc435)\" d=\"M 228.975937 241.58175 \nL 228.975937 24.14175 \n\" style=\"fill:none;stroke:#cbcbcb;\"/>\n     </g>\n     <g id=\"line2d_10\"/>\n     <g id=\"text_5\">\n      <!-- 5 -->\n      <defs>\n       <path d=\"M 10.796875 72.90625 \nL 49.515625 72.90625 \nL 49.515625 64.59375 \nL 19.828125 64.59375 \nL 19.828125 46.734375 \nQ 21.96875 47.46875 24.109375 47.828125 \nQ 26.265625 48.1875 28.421875 48.1875 \nQ 40.625 48.1875 47.75 41.5 \nQ 54.890625 34.8125 54.890625 23.390625 \nQ 54.890625 11.625 47.5625 5.09375 \nQ 40.234375 -1.421875 26.90625 -1.421875 \nQ 22.3125 -1.421875 17.546875 -0.640625 \nQ 12.796875 0.140625 7.71875 1.703125 \nL 7.71875 11.625 \nQ 12.109375 9.234375 16.796875 8.0625 \nQ 21.484375 6.890625 26.703125 6.890625 \nQ 35.15625 6.890625 40.078125 11.328125 \nQ 45.015625 15.765625 45.015625 23.390625 \nQ 45.015625 31 40.078125 35.4375 \nQ 35.15625 39.890625 26.703125 39.890625 \nQ 22.75 39.890625 18.8125 39.015625 \nQ 14.890625 38.140625 10.796875 36.28125 \nz\n\" id=\"DejaVuSans-53\"/>\n      </defs>\n      <g transform=\"translate(225.794687 252.680187)scale(0.1 -0.1)\">\n       <use xlink:href=\"#DejaVuSans-53\"/>\n      </g>\n     </g>\n    </g>\n    <g id=\"xtick_6\">\n     <g id=\"line2d_11\">\n      <path clip-path=\"url(#pe2689dc435)\" d=\"M 270.735937 241.58175 \nL 270.735937 24.14175 \n\" style=\"fill:none;stroke:#cbcbcb;\"/>\n     </g>\n     <g id=\"line2d_12\"/>\n     <g id=\"text_6\">\n      <!-- 6 -->\n      <defs>\n       <path d=\"M 33.015625 40.375 \nQ 26.375 40.375 22.484375 35.828125 \nQ 18.609375 31.296875 18.609375 23.390625 \nQ 18.609375 15.53125 22.484375 10.953125 \nQ 26.375 6.390625 33.015625 6.390625 \nQ 39.65625 6.390625 43.53125 10.953125 \nQ 47.40625 15.53125 47.40625 23.390625 \nQ 47.40625 31.296875 43.53125 35.828125 \nQ 39.65625 40.375 33.015625 40.375 \nz\nM 52.59375 71.296875 \nL 52.59375 62.3125 \nQ 48.875 64.0625 45.09375 64.984375 \nQ 41.3125 65.921875 37.59375 65.921875 \nQ 27.828125 65.921875 22.671875 59.328125 \nQ 17.53125 52.734375 16.796875 39.40625 \nQ 19.671875 43.65625 24.015625 45.921875 \nQ 28.375 48.1875 33.59375 48.1875 \nQ 44.578125 48.1875 50.953125 41.515625 \nQ 57.328125 34.859375 57.328125 23.390625 \nQ 57.328125 12.15625 50.6875 5.359375 \nQ 44.046875 -1.421875 33.015625 -1.421875 \nQ 20.359375 -1.421875 13.671875 8.265625 \nQ 6.984375 17.96875 6.984375 36.375 \nQ 6.984375 53.65625 15.1875 63.9375 \nQ 23.390625 74.21875 37.203125 74.21875 \nQ 40.921875 74.21875 44.703125 73.484375 \nQ 48.484375 72.75 52.59375 71.296875 \nz\n\" id=\"DejaVuSans-54\"/>\n      </defs>\n      <g transform=\"translate(267.554688 252.680187)scale(0.1 -0.1)\">\n       <use xlink:href=\"#DejaVuSans-54\"/>\n      </g>\n     </g>\n    </g>\n    <g id=\"xtick_7\">\n     <g id=\"line2d_13\">\n      <path clip-path=\"url(#pe2689dc435)\" d=\"M 312.495937 241.58175 \nL 312.495937 24.14175 \n\" style=\"fill:none;stroke:#cbcbcb;\"/>\n     </g>\n     <g id=\"line2d_14\"/>\n     <g id=\"text_7\">\n      <!-- 7 -->\n      <defs>\n       <path d=\"M 8.203125 72.90625 \nL 55.078125 72.90625 \nL 55.078125 68.703125 \nL 28.609375 0 \nL 18.3125 0 \nL 43.21875 64.59375 \nL 8.203125 64.59375 \nz\n\" id=\"DejaVuSans-55\"/>\n      </defs>\n      <g transform=\"translate(309.314687 252.680187)scale(0.1 -0.1)\">\n       <use xlink:href=\"#DejaVuSans-55\"/>\n      </g>\n     </g>\n    </g>\n    <g id=\"xtick_8\">\n     <g id=\"line2d_15\">\n      <path clip-path=\"url(#pe2689dc435)\" d=\"M 354.255937 241.58175 \nL 354.255937 24.14175 \n\" style=\"fill:none;stroke:#cbcbcb;\"/>\n     </g>\n     <g id=\"line2d_16\"/>\n     <g id=\"text_8\">\n      <!-- 8 -->\n      <defs>\n       <path d=\"M 31.78125 34.625 \nQ 24.75 34.625 20.71875 30.859375 \nQ 16.703125 27.09375 16.703125 20.515625 \nQ 16.703125 13.921875 20.71875 10.15625 \nQ 24.75 6.390625 31.78125 6.390625 \nQ 38.8125 6.390625 42.859375 10.171875 \nQ 46.921875 13.96875 46.921875 20.515625 \nQ 46.921875 27.09375 42.890625 30.859375 \nQ 38.875 34.625 31.78125 34.625 \nz\nM 21.921875 38.8125 \nQ 15.578125 40.375 12.03125 44.71875 \nQ 8.5 49.078125 8.5 55.328125 \nQ 8.5 64.0625 14.71875 69.140625 \nQ 20.953125 74.21875 31.78125 74.21875 \nQ 42.671875 74.21875 48.875 69.140625 \nQ 55.078125 64.0625 55.078125 55.328125 \nQ 55.078125 49.078125 51.53125 44.71875 \nQ 48 40.375 41.703125 38.8125 \nQ 48.828125 37.15625 52.796875 32.3125 \nQ 56.78125 27.484375 56.78125 20.515625 \nQ 56.78125 9.90625 50.3125 4.234375 \nQ 43.84375 -1.421875 31.78125 -1.421875 \nQ 19.734375 -1.421875 13.25 4.234375 \nQ 6.78125 9.90625 6.78125 20.515625 \nQ 6.78125 27.484375 10.78125 32.3125 \nQ 14.796875 37.15625 21.921875 38.8125 \nz\nM 18.3125 54.390625 \nQ 18.3125 48.734375 21.84375 45.5625 \nQ 25.390625 42.390625 31.78125 42.390625 \nQ 38.140625 42.390625 41.71875 45.5625 \nQ 45.3125 48.734375 45.3125 54.390625 \nQ 45.3125 60.0625 41.71875 63.234375 \nQ 38.140625 66.40625 31.78125 66.40625 \nQ 25.390625 66.40625 21.84375 63.234375 \nQ 18.3125 60.0625 18.3125 54.390625 \nz\n\" id=\"DejaVuSans-56\"/>\n      </defs>\n      <g transform=\"translate(351.074687 252.680187)scale(0.1 -0.1)\">\n       <use xlink:href=\"#DejaVuSans-56\"/>\n      </g>\n     </g>\n    </g>\n    <g id=\"xtick_9\">\n     <g id=\"line2d_17\">\n      <path clip-path=\"url(#pe2689dc435)\" d=\"M 396.015937 241.58175 \nL 396.015937 24.14175 \n\" style=\"fill:none;stroke:#cbcbcb;\"/>\n     </g>\n     <g id=\"line2d_18\"/>\n     <g id=\"text_9\">\n      <!-- 9 -->\n      <defs>\n       <path d=\"M 10.984375 1.515625 \nL 10.984375 10.5 \nQ 14.703125 8.734375 18.5 7.8125 \nQ 22.3125 6.890625 25.984375 6.890625 \nQ 35.75 6.890625 40.890625 13.453125 \nQ 46.046875 20.015625 46.78125 33.40625 \nQ 43.953125 29.203125 39.59375 26.953125 \nQ 35.25 24.703125 29.984375 24.703125 \nQ 19.046875 24.703125 12.671875 31.3125 \nQ 6.296875 37.9375 6.296875 49.421875 \nQ 6.296875 60.640625 12.9375 67.421875 \nQ 19.578125 74.21875 30.609375 74.21875 \nQ 43.265625 74.21875 49.921875 64.515625 \nQ 56.59375 54.828125 56.59375 36.375 \nQ 56.59375 19.140625 48.40625 8.859375 \nQ 40.234375 -1.421875 26.421875 -1.421875 \nQ 22.703125 -1.421875 18.890625 -0.6875 \nQ 15.09375 0.046875 10.984375 1.515625 \nz\nM 30.609375 32.421875 \nQ 37.25 32.421875 41.125 36.953125 \nQ 45.015625 41.5 45.015625 49.421875 \nQ 45.015625 57.28125 41.125 61.84375 \nQ 37.25 66.40625 30.609375 66.40625 \nQ 23.96875 66.40625 20.09375 61.84375 \nQ 16.21875 57.28125 16.21875 49.421875 \nQ 16.21875 41.5 20.09375 36.953125 \nQ 23.96875 32.421875 30.609375 32.421875 \nz\n\" id=\"DejaVuSans-57\"/>\n      </defs>\n      <g transform=\"translate(392.834687 252.680187)scale(0.1 -0.1)\">\n       <use xlink:href=\"#DejaVuSans-57\"/>\n      </g>\n     </g>\n    </g>\n    <g id=\"text_10\">\n     <!-- Значения t -->\n     <defs>\n      <path d=\"M 28.5625 74.21875 \nQ 40.578125 74.21875 48.1875 69.109375 \nQ 55.8125 64.015625 55.8125 55.328125 \nQ 55.8125 49.265625 52.34375 45.09375 \nQ 48.875 40.921875 42.484375 39.3125 \nQ 49.5625 37.796875 53.53125 33 \nQ 57.515625 28.21875 57.515625 21.1875 \nQ 57.515625 9.96875 48.84375 4.265625 \nQ 40.1875 -1.421875 28.5625 -1.421875 \nQ 22.609375 -1.421875 15.671875 0.1875 \nQ 8.734375 1.8125 6.59375 3.171875 \nL 6.59375 13.328125 \nQ 14.0625 8.984375 18.1875 7.9375 \nQ 22.3125 6.890625 28.375 6.890625 \nQ 37.546875 6.890625 42.625 10.40625 \nQ 47.703125 13.921875 47.703125 21.1875 \nQ 47.703125 27.640625 43.1875 31.265625 \nQ 38.671875 34.90625 29.15625 34.90625 \nL 19.1875 34.90625 \nL 19.1875 43.015625 \nL 29.546875 43.015625 \nQ 38.28125 43.015625 42.140625 45.921875 \nQ 46 48.828125 46 54.296875 \nQ 46 59.90625 42.015625 62.90625 \nQ 38.03125 65.921875 28.375 65.921875 \nQ 21.828125 65.921875 19.578125 65.328125 \nQ 17.328125 64.75 7.328125 60.984375 \nL 7.328125 70.609375 \nQ 12.84375 72.5625 18.59375 73.390625 \nQ 24.359375 74.21875 28.5625 74.21875 \nz\n\" id=\"DejaVuSans-1047\"/>\n      <path d=\"M 9.078125 54.6875 \nL 18.109375 54.6875 \nL 18.109375 32.375 \nL 47.265625 32.375 \nL 47.265625 54.6875 \nL 56.296875 54.6875 \nL 56.296875 0 \nL 47.265625 0 \nL 47.265625 25.203125 \nL 18.109375 25.203125 \nL 18.109375 0 \nL 9.078125 0 \nz\n\" id=\"DejaVuSans-1085\"/>\n      <path d=\"M 34.28125 27.484375 \nQ 23.390625 27.484375 19.1875 25 \nQ 14.984375 22.515625 14.984375 16.5 \nQ 14.984375 11.71875 18.140625 8.90625 \nQ 21.296875 6.109375 26.703125 6.109375 \nQ 34.1875 6.109375 38.703125 11.40625 \nQ 43.21875 16.703125 43.21875 25.484375 \nL 43.21875 27.484375 \nz\nM 52.203125 31.203125 \nL 52.203125 0 \nL 43.21875 0 \nL 43.21875 8.296875 \nQ 40.140625 3.328125 35.546875 0.953125 \nQ 30.953125 -1.421875 24.3125 -1.421875 \nQ 15.921875 -1.421875 10.953125 3.296875 \nQ 6 8.015625 6 15.921875 \nQ 6 25.140625 12.171875 29.828125 \nQ 18.359375 34.515625 30.609375 34.515625 \nL 43.21875 34.515625 \nL 43.21875 35.40625 \nQ 43.21875 41.609375 39.140625 45 \nQ 35.0625 48.390625 27.6875 48.390625 \nQ 23 48.390625 18.546875 47.265625 \nQ 14.109375 46.140625 10.015625 43.890625 \nL 10.015625 52.203125 \nQ 14.9375 54.109375 19.578125 55.046875 \nQ 24.21875 56 28.609375 56 \nQ 40.484375 56 46.34375 49.84375 \nQ 52.203125 43.703125 52.203125 31.203125 \nz\n\" id=\"DejaVuSans-1072\"/>\n      <path d=\"M 41.015625 0 \nL 41.015625 23 \nL 24.265625 23 \nQ 16.796875 23 11.8125 27.640625 \nQ 7.328125 31.84375 7.328125 40.828125 \nL 7.328125 54.6875 \nL 16.3125 54.6875 \nL 16.3125 41.65625 \nQ 16.3125 35.9375 18.84375 33.0625 \nQ 21.4375 30.171875 26.515625 30.171875 \nL 41.015625 30.171875 \nL 41.015625 54.6875 \nL 50 54.6875 \nL 50 0 \nz\n\" id=\"DejaVuSans-1095\"/>\n      <path d=\"M 56.203125 29.59375 \nL 56.203125 25.203125 \nL 14.890625 25.203125 \nQ 15.484375 15.921875 20.484375 11.0625 \nQ 25.484375 6.203125 34.421875 6.203125 \nQ 39.59375 6.203125 44.453125 7.46875 \nQ 49.3125 8.734375 54.109375 11.28125 \nL 54.109375 2.78125 \nQ 49.265625 0.734375 44.1875 -0.34375 \nQ 39.109375 -1.421875 33.890625 -1.421875 \nQ 20.796875 -1.421875 13.15625 6.1875 \nQ 5.515625 13.8125 5.515625 26.8125 \nQ 5.515625 40.234375 12.765625 48.109375 \nQ 20.015625 56 32.328125 56 \nQ 43.359375 56 49.78125 48.890625 \nQ 56.203125 41.796875 56.203125 29.59375 \nz\nM 47.21875 32.234375 \nQ 47.125 39.59375 43.09375 43.984375 \nQ 39.0625 48.390625 32.421875 48.390625 \nQ 24.90625 48.390625 20.390625 44.140625 \nQ 15.875 39.890625 15.1875 32.171875 \nz\n\" id=\"DejaVuSans-1077\"/>\n      <path d=\"M 55.90625 54.6875 \nL 55.90625 0 \nL 46.96875 0 \nL 46.96875 43.890625 \nL 20.609375 0 \nL 9.078125 0 \nL 9.078125 54.6875 \nL 18.015625 54.6875 \nL 18.015625 10.890625 \nL 44.34375 54.6875 \nz\n\" id=\"DejaVuSans-1080\"/>\n      <path d=\"M 18.453125 38.921875 \nQ 18.453125 34.859375 21.578125 32.5625 \nQ 24.703125 30.28125 30.515625 30.28125 \nL 42.625 30.28125 \nL 42.625 47.515625 \nL 30.515625 47.515625 \nQ 24.703125 47.515625 21.578125 45.265625 \nQ 18.453125 43.015625 18.453125 38.921875 \nz\nM 5.671875 0 \nL 22.359375 23.96875 \nQ 16.703125 25.25 12.9375 28.59375 \nQ 9.1875 31.9375 9.1875 38.921875 \nQ 9.1875 46.828125 14.421875 50.75 \nQ 19.671875 54.6875 30.28125 54.6875 \nL 51.65625 54.6875 \nL 51.65625 0 \nL 42.625 0 \nL 42.625 23.09375 \nL 31.453125 23.09375 \nL 15.328125 0 \nz\n\" id=\"DejaVuSans-1103\"/>\n      <path id=\"DejaVuSans-32\"/>\n      <path d=\"M 18.3125 70.21875 \nL 18.3125 54.6875 \nL 36.8125 54.6875 \nL 36.8125 47.703125 \nL 18.3125 47.703125 \nL 18.3125 18.015625 \nQ 18.3125 11.328125 20.140625 9.421875 \nQ 21.96875 7.515625 27.59375 7.515625 \nL 36.8125 7.515625 \nL 36.8125 0 \nL 27.59375 0 \nQ 17.1875 0 13.234375 3.875 \nQ 9.28125 7.765625 9.28125 18.015625 \nL 9.28125 47.703125 \nL 2.6875 47.703125 \nL 2.6875 54.6875 \nL 9.28125 54.6875 \nL 9.28125 70.21875 \nz\n\" id=\"DejaVuSans-116\"/>\n     </defs>\n     <g transform=\"translate(194.603438 267.878)scale(0.12 -0.12)\">\n      <use xlink:href=\"#DejaVuSans-1047\"/>\n      <use x=\"64.111328\" xlink:href=\"#DejaVuSans-1085\"/>\n      <use x=\"129.492188\" xlink:href=\"#DejaVuSans-1072\"/>\n      <use x=\"190.771484\" xlink:href=\"#DejaVuSans-1095\"/>\n      <use x=\"249.853516\" xlink:href=\"#DejaVuSans-1077\"/>\n      <use x=\"311.376953\" xlink:href=\"#DejaVuSans-1085\"/>\n      <use x=\"376.757812\" xlink:href=\"#DejaVuSans-1080\"/>\n      <use x=\"441.748047\" xlink:href=\"#DejaVuSans-1103\"/>\n      <use x=\"501.904297\" xlink:href=\"#DejaVuSans-32\"/>\n      <use x=\"533.691406\" xlink:href=\"#DejaVuSans-116\"/>\n     </g>\n    </g>\n   </g>\n   <g id=\"matplotlib.axis_2\">\n    <g id=\"ytick_1\">\n     <g id=\"line2d_19\">\n      <path clip-path=\"url(#pe2689dc435)\" d=\"M 41.055937 219.83775 \nL 416.895938 219.83775 \n\" style=\"fill:none;stroke:#cbcbcb;\"/>\n     </g>\n     <g id=\"line2d_20\"/>\n     <g id=\"text_11\">\n      <!-- −2 -->\n      <defs>\n       <path d=\"M 10.59375 35.5 \nL 73.1875 35.5 \nL 73.1875 27.203125 \nL 10.59375 27.203125 \nz\n\" id=\"DejaVuSans-8722\"/>\n      </defs>\n      <g transform=\"translate(22.81375 223.636969)scale(0.1 -0.1)\">\n       <use xlink:href=\"#DejaVuSans-8722\"/>\n       <use x=\"83.789062\" xlink:href=\"#DejaVuSans-50\"/>\n      </g>\n     </g>\n    </g>\n    <g id=\"ytick_2\">\n     <g id=\"line2d_21\">\n      <path clip-path=\"url(#pe2689dc435)\" d=\"M 41.055937 176.34975 \nL 416.895938 176.34975 \n\" style=\"fill:none;stroke:#cbcbcb;\"/>\n     </g>\n     <g id=\"line2d_22\"/>\n     <g id=\"text_12\">\n      <!-- −1 -->\n      <g transform=\"translate(22.81375 180.148969)scale(0.1 -0.1)\">\n       <use xlink:href=\"#DejaVuSans-8722\"/>\n       <use x=\"83.789062\" xlink:href=\"#DejaVuSans-49\"/>\n      </g>\n     </g>\n    </g>\n    <g id=\"ytick_3\">\n     <g id=\"line2d_23\">\n      <path clip-path=\"url(#pe2689dc435)\" d=\"M 41.055937 132.86175 \nL 416.895938 132.86175 \n\" style=\"fill:none;stroke:#cbcbcb;\"/>\n     </g>\n     <g id=\"line2d_24\"/>\n     <g id=\"text_13\">\n      <!-- 0 -->\n      <defs>\n       <path d=\"M 31.78125 66.40625 \nQ 24.171875 66.40625 20.328125 58.90625 \nQ 16.5 51.421875 16.5 36.375 \nQ 16.5 21.390625 20.328125 13.890625 \nQ 24.171875 6.390625 31.78125 6.390625 \nQ 39.453125 6.390625 43.28125 13.890625 \nQ 47.125 21.390625 47.125 36.375 \nQ 47.125 51.421875 43.28125 58.90625 \nQ 39.453125 66.40625 31.78125 66.40625 \nz\nM 31.78125 74.21875 \nQ 44.046875 74.21875 50.515625 64.515625 \nQ 56.984375 54.828125 56.984375 36.375 \nQ 56.984375 17.96875 50.515625 8.265625 \nQ 44.046875 -1.421875 31.78125 -1.421875 \nQ 19.53125 -1.421875 13.0625 8.265625 \nQ 6.59375 17.96875 6.59375 36.375 \nQ 6.59375 54.828125 13.0625 64.515625 \nQ 19.53125 74.21875 31.78125 74.21875 \nz\n\" id=\"DejaVuSans-48\"/>\n      </defs>\n      <g transform=\"translate(31.193437 136.660969)scale(0.1 -0.1)\">\n       <use xlink:href=\"#DejaVuSans-48\"/>\n      </g>\n     </g>\n    </g>\n    <g id=\"ytick_4\">\n     <g id=\"line2d_25\">\n      <path clip-path=\"url(#pe2689dc435)\" d=\"M 41.055937 89.37375 \nL 416.895938 89.37375 \n\" style=\"fill:none;stroke:#cbcbcb;\"/>\n     </g>\n     <g id=\"line2d_26\"/>\n     <g id=\"text_14\">\n      <!-- 1 -->\n      <g transform=\"translate(31.193437 93.172969)scale(0.1 -0.1)\">\n       <use xlink:href=\"#DejaVuSans-49\"/>\n      </g>\n     </g>\n    </g>\n    <g id=\"ytick_5\">\n     <g id=\"line2d_27\">\n      <path clip-path=\"url(#pe2689dc435)\" d=\"M 41.055937 45.88575 \nL 416.895938 45.88575 \n\" style=\"fill:none;stroke:#cbcbcb;\"/>\n     </g>\n     <g id=\"line2d_28\"/>\n     <g id=\"text_15\">\n      <!-- 2 -->\n      <g transform=\"translate(31.193437 49.684969)scale(0.1 -0.1)\">\n       <use xlink:href=\"#DejaVuSans-50\"/>\n      </g>\n     </g>\n    </g>\n    <g id=\"text_16\">\n     <!-- Значения f -->\n     <defs>\n      <path d=\"M 37.109375 75.984375 \nL 37.109375 68.5 \nL 28.515625 68.5 \nQ 23.6875 68.5 21.796875 66.546875 \nQ 19.921875 64.59375 19.921875 59.515625 \nL 19.921875 54.6875 \nL 34.71875 54.6875 \nL 34.71875 47.703125 \nL 19.921875 47.703125 \nL 19.921875 0 \nL 10.890625 0 \nL 10.890625 47.703125 \nL 2.296875 47.703125 \nL 2.296875 54.6875 \nL 10.890625 54.6875 \nL 10.890625 58.5 \nQ 10.890625 67.625 15.140625 71.796875 \nQ 19.390625 75.984375 28.609375 75.984375 \nz\n\" id=\"DejaVuSans-102\"/>\n     </defs>\n     <g transform=\"translate(16.318125 166.99425)rotate(-90)scale(0.12 -0.12)\">\n      <use xlink:href=\"#DejaVuSans-1047\"/>\n      <use x=\"64.111328\" xlink:href=\"#DejaVuSans-1085\"/>\n      <use x=\"129.492188\" xlink:href=\"#DejaVuSans-1072\"/>\n      <use x=\"190.771484\" xlink:href=\"#DejaVuSans-1095\"/>\n      <use x=\"249.853516\" xlink:href=\"#DejaVuSans-1077\"/>\n      <use x=\"311.376953\" xlink:href=\"#DejaVuSans-1085\"/>\n      <use x=\"376.757812\" xlink:href=\"#DejaVuSans-1080\"/>\n      <use x=\"441.748047\" xlink:href=\"#DejaVuSans-1103\"/>\n      <use x=\"501.904297\" xlink:href=\"#DejaVuSans-32\"/>\n      <use x=\"533.691406\" xlink:href=\"#DejaVuSans-102\"/>\n     </g>\n    </g>\n   </g>\n   <g id=\"line2d_29\">\n    <path clip-path=\"url(#pe2689dc435)\" d=\"M 20.175937 89.37375 \nL 28.527938 90.240615 \nL 36.879937 92.806649 \nL 45.231938 96.969555 \nL 53.583938 102.563369 \nL 61.935937 109.365083 \nL 70.287937 117.103536 \nL 78.639938 125.470219 \nL 86.991938 134.131579 \nL 95.343937 142.742315 \nL 103.695937 150.959144 \nL 112.047938 158.454487 \nL 120.399938 164.929528 \nL 128.751937 170.126128 \nL 137.103938 173.837115 \nL 145.455938 175.914544 \nL 153.807938 176.275593 \nL 162.159938 174.90587 \nL 170.511937 171.85998 \nL 178.863938 167.259354 \nL 187.215937 161.287404 \nL 195.567937 154.182213 \nL 203.919938 146.227042 \nL 212.271938 137.739039 \nL 220.623938 129.056594 \nL 228.975937 120.525849 \nL 237.327937 112.486897 \nL 245.679937 105.260226 \nL 254.031938 99.133941 \nL 262.383938 94.352277 \nL 270.735937 91.105865 \nL 279.087937 89.524127 \nL 287.439937 89.670124 \nL 295.791937 91.538035 \nL 304.143937 95.053392 \nL 312.495937 100.076049 \nL 320.847937 106.405768 \nL 329.199937 113.790204 \nL 337.551938 121.934962 \nL 345.903937 130.515337 \nL 354.255937 139.189255 \nL 362.607937 147.610917 \nL 370.959937 155.444575 \nL 379.311937 162.377927 \nL 387.663937 168.134563 \nL 396.015937 172.484983 \nL 404.367937 175.255749 \nL 412.719937 176.336401 \nL 421.071937 175.683855 \nL 425.095937 174.546937 \n\" style=\"fill:none;stroke:#008000;stroke-width:4;\"/>\n   </g>\n   <g id=\"patch_3\">\n    <path d=\"M 41.055937 241.58175 \nL 41.055937 24.14175 \n\" style=\"fill:none;stroke:#f0f0f0;stroke-linecap:square;stroke-linejoin:miter;stroke-width:3;\"/>\n   </g>\n   <g id=\"patch_4\">\n    <path d=\"M 416.895938 241.58175 \nL 416.895938 24.14175 \n\" style=\"fill:none;stroke:#f0f0f0;stroke-linecap:square;stroke-linejoin:miter;stroke-width:3;\"/>\n   </g>\n   <g id=\"patch_5\">\n    <path d=\"M 41.055937 241.58175 \nL 416.895937 241.58175 \n\" style=\"fill:none;stroke:#f0f0f0;stroke-linecap:square;stroke-linejoin:miter;stroke-width:3;\"/>\n   </g>\n   <g id=\"patch_6\">\n    <path d=\"M 41.055937 24.14175 \nL 416.895937 24.14175 \n\" style=\"fill:none;stroke:#f0f0f0;stroke-linecap:square;stroke-linejoin:miter;stroke-width:3;\"/>\n   </g>\n   <g id=\"text_17\">\n    <!-- График f(t) -->\n    <defs>\n     <path d=\"M 9.8125 0 \nL 9.8125 72.90625 \nL 55.171875 72.90625 \nL 55.171875 64.59375 \nL 19.671875 64.59375 \nL 19.671875 0 \nz\n\" id=\"DejaVuSans-1043\"/>\n     <path d=\"M 18.109375 8.203125 \nL 18.109375 -20.796875 \nL 9.078125 -20.796875 \nL 9.078125 54.6875 \nL 18.109375 54.6875 \nL 18.109375 46.390625 \nQ 20.953125 51.265625 25.265625 53.625 \nQ 29.59375 56 35.59375 56 \nQ 45.5625 56 51.78125 48.09375 \nQ 58.015625 40.1875 58.015625 27.296875 \nQ 58.015625 14.40625 51.78125 6.484375 \nQ 45.5625 -1.421875 35.59375 -1.421875 \nQ 29.59375 -1.421875 25.265625 0.953125 \nQ 20.953125 3.328125 18.109375 8.203125 \nz\nM 48.6875 27.296875 \nQ 48.6875 37.203125 44.609375 42.84375 \nQ 40.53125 48.484375 33.40625 48.484375 \nQ 26.265625 48.484375 22.1875 42.84375 \nQ 18.109375 37.203125 18.109375 27.296875 \nQ 18.109375 17.390625 22.1875 11.75 \nQ 26.265625 6.109375 33.40625 6.109375 \nQ 40.53125 6.109375 44.609375 11.75 \nQ 48.6875 17.390625 48.6875 27.296875 \nz\n\" id=\"DejaVuSans-1088\"/>\n     <path d=\"M 14.796875 27.296875 \nQ 14.796875 15.828125 18.328125 10.96875 \nQ 21.875 6.109375 27.875 6.109375 \nQ 32.671875 6.109375 38.234375 14.3125 \nL 38.234375 40.28125 \nQ 32.671875 48.484375 27.875 48.484375 \nQ 21.875 48.484375 18.328125 43.625 \nQ 14.796875 38.765625 14.796875 27.296875 \nz\nM 38.234375 -20.796875 \nL 38.234375 6.984375 \nQ 35.453125 2.390625 32.25 0.484375 \nQ 29.046875 -1.421875 25 -1.421875 \nQ 16.84375 -1.421875 11.15625 6.125 \nQ 5.46875 13.671875 5.46875 27.09375 \nQ 5.46875 40.53125 11.15625 48.265625 \nQ 16.84375 56 25 56 \nQ 29.046875 56 32.25 54.140625 \nQ 35.453125 52.296875 38.234375 47.703125 \nL 38.234375 72.90625 \nL 47.265625 72.90625 \nL 47.265625 47.703125 \nQ 50.046875 52.296875 53.25 54.140625 \nQ 56.453125 56 60.5 56 \nQ 68.65625 56 74.34375 48.265625 \nQ 80.03125 40.53125 80.03125 27.09375 \nQ 80.03125 13.671875 74.34375 6.125 \nQ 68.65625 -1.421875 60.5 -1.421875 \nQ 56.453125 -1.421875 53.25 0.484375 \nQ 50.046875 2.390625 47.265625 6.984375 \nL 47.265625 -20.796875 \nz\nM 70.703125 27.296875 \nQ 70.703125 38.765625 67.15625 43.625 \nQ 63.625 48.484375 57.625 48.484375 \nQ 52.828125 48.484375 47.265625 40.28125 \nL 47.265625 14.3125 \nQ 52.828125 6.109375 57.625 6.109375 \nQ 63.625 6.109375 67.15625 10.96875 \nQ 70.703125 15.828125 70.703125 27.296875 \nz\n\" id=\"DejaVuSans-1092\"/>\n     <path d=\"M 9.078125 54.6875 \nL 18.015625 54.6875 \nL 18.015625 29 \nL 43.359375 54.6875 \nL 54.390625 54.6875 \nL 33.5 33.546875 \nL 57.078125 0 \nL 47.015625 0 \nL 27.640625 27.59375 \nL 18.015625 17.828125 \nL 18.015625 0 \nL 9.078125 0 \nz\n\" id=\"DejaVuSans-1082\"/>\n     <path d=\"M 31 75.875 \nQ 24.46875 64.65625 21.28125 53.65625 \nQ 18.109375 42.671875 18.109375 31.390625 \nQ 18.109375 20.125 21.3125 9.0625 \nQ 24.515625 -2 31 -13.1875 \nL 23.1875 -13.1875 \nQ 15.875 -1.703125 12.234375 9.375 \nQ 8.59375 20.453125 8.59375 31.390625 \nQ 8.59375 42.28125 12.203125 53.3125 \nQ 15.828125 64.359375 23.1875 75.875 \nz\n\" id=\"DejaVuSans-40\"/>\n     <path d=\"M 8.015625 75.875 \nL 15.828125 75.875 \nQ 23.140625 64.359375 26.78125 53.3125 \nQ 30.421875 42.28125 30.421875 31.390625 \nQ 30.421875 20.453125 26.78125 9.375 \nQ 23.140625 -1.703125 15.828125 -13.1875 \nL 8.015625 -13.1875 \nQ 14.5 -2 17.703125 9.0625 \nQ 20.90625 20.125 20.90625 31.390625 \nQ 20.90625 42.671875 17.703125 53.65625 \nQ 14.5 64.65625 8.015625 75.875 \nz\n\" id=\"DejaVuSans-41\"/>\n    </defs>\n    <g transform=\"translate(187.154063 18.14175)scale(0.144 -0.144)\">\n     <use xlink:href=\"#DejaVuSans-1043\"/>\n     <use x=\"60.986328\" xlink:href=\"#DejaVuSans-1088\"/>\n     <use x=\"124.462891\" xlink:href=\"#DejaVuSans-1072\"/>\n     <use x=\"185.742188\" xlink:href=\"#DejaVuSans-1092\"/>\n     <use x=\"271.240234\" xlink:href=\"#DejaVuSans-1080\"/>\n     <use x=\"336.230469\" xlink:href=\"#DejaVuSans-1082\"/>\n     <use x=\"396.630859\" xlink:href=\"#DejaVuSans-32\"/>\n     <use x=\"428.417969\" xlink:href=\"#DejaVuSans-102\"/>\n     <use x=\"463.623047\" xlink:href=\"#DejaVuSans-40\"/>\n     <use x=\"502.636719\" xlink:href=\"#DejaVuSans-116\"/>\n     <use x=\"541.845703\" xlink:href=\"#DejaVuSans-41\"/>\n    </g>\n   </g>\n  </g>\n </g>\n <defs>\n  <clipPath id=\"pe2689dc435\">\n   <rect height=\"217.44\" width=\"375.84\" x=\"41.055937\" y=\"24.14175\"/>\n  </clipPath>\n </defs>\n</svg>\n"
          },
          "metadata": {
            "tags": [],
            "needs_background": "light"
          }
        }
      ]
    },
    {
      "cell_type": "markdown",
      "metadata": {
        "id": "E9x-NKdGukHc"
      },
      "source": [
        "**Задание 3.**\n",
        "\n",
        "С помощью функции linspace библиотеки Numpy создайте массив x из 51 числа от -3 до 3 включительно.\n",
        "Создайте массивы y1, y2, y3, y4 по следующим формулам:\n",
        "y1 = x ** 2\n",
        "y2 = 2 * x + 0.5\n",
        "y3 = -3 * x - 1.5\n",
        "y4 = sin(x)\n",
        "Используя функцию subplots модуля matplotlib.pyplot, создайте объект matplotlib.figure.Figure с названием fig и массив объектов Axes под названием ax,причем так, чтобы у вас было 4 отдельных графика в сетке, состоящей из двух строк и двух столбцов. В каждом графике массив x используется для координат по горизонтали.В левом верхнем графике для координат по вертикали используйте y1,в правом верхнем - y2, в левом нижнем - y3, в правом нижнем - y4.Дайте название графикам: 'График y1', 'График y2' и т.д.\n",
        "Для графика в левом верхнем углу установите границы по оси x от -5 до 5.\n",
        "Установите размеры фигуры 8 дюймов по горизонтали и 6 дюймов по вертикали.\n",
        "Вертикальные и горизонтальные зазоры между графиками должны составлять 0.3."
      ]
    },
    {
      "cell_type": "code",
      "metadata": {
        "id": "r38MYfLf6scP",
        "outputId": "7282fba6-6a51-4e86-ea74-882000cf4197",
        "colab": {
          "base_uri": "https://localhost:8080/",
          "height": 544
        }
      },
      "source": [
        "x = np.linspace(-3, 3, 51)\n",
        "y1 = x**2\n",
        "y2 = 2 * x + 0.5\n",
        "y3 = -3 * x - 1.5\n",
        "y4 = np.sin(x)\n",
        "y1, y2, y3, y4"
      ],
      "execution_count": 64,
      "outputs": [
        {
          "output_type": "execute_result",
          "data": {
            "text/plain": [
              "(array([9.    , 8.2944, 7.6176, 6.9696, 6.3504, 5.76  , 5.1984, 4.6656,\n",
              "        4.1616, 3.6864, 3.24  , 2.8224, 2.4336, 2.0736, 1.7424, 1.44  ,\n",
              "        1.1664, 0.9216, 0.7056, 0.5184, 0.36  , 0.2304, 0.1296, 0.0576,\n",
              "        0.0144, 0.    , 0.0144, 0.0576, 0.1296, 0.2304, 0.36  , 0.5184,\n",
              "        0.7056, 0.9216, 1.1664, 1.44  , 1.7424, 2.0736, 2.4336, 2.8224,\n",
              "        3.24  , 3.6864, 4.1616, 4.6656, 5.1984, 5.76  , 6.3504, 6.9696,\n",
              "        7.6176, 8.2944, 9.    ]),\n",
              " array([-5.5 , -5.26, -5.02, -4.78, -4.54, -4.3 , -4.06, -3.82, -3.58,\n",
              "        -3.34, -3.1 , -2.86, -2.62, -2.38, -2.14, -1.9 , -1.66, -1.42,\n",
              "        -1.18, -0.94, -0.7 , -0.46, -0.22,  0.02,  0.26,  0.5 ,  0.74,\n",
              "         0.98,  1.22,  1.46,  1.7 ,  1.94,  2.18,  2.42,  2.66,  2.9 ,\n",
              "         3.14,  3.38,  3.62,  3.86,  4.1 ,  4.34,  4.58,  4.82,  5.06,\n",
              "         5.3 ,  5.54,  5.78,  6.02,  6.26,  6.5 ]),\n",
              " array([  7.5 ,   7.14,   6.78,   6.42,   6.06,   5.7 ,   5.34,   4.98,\n",
              "          4.62,   4.26,   3.9 ,   3.54,   3.18,   2.82,   2.46,   2.1 ,\n",
              "          1.74,   1.38,   1.02,   0.66,   0.3 ,  -0.06,  -0.42,  -0.78,\n",
              "         -1.14,  -1.5 ,  -1.86,  -2.22,  -2.58,  -2.94,  -3.3 ,  -3.66,\n",
              "         -4.02,  -4.38,  -4.74,  -5.1 ,  -5.46,  -5.82,  -6.18,  -6.54,\n",
              "         -6.9 ,  -7.26,  -7.62,  -7.98,  -8.34,  -8.7 ,  -9.06,  -9.42,\n",
              "         -9.78, -10.14, -10.5 ]),\n",
              " array([-0.14112001, -0.25861935, -0.37239904, -0.48082261, -0.58233065,\n",
              "        -0.67546318, -0.75888071, -0.83138346, -0.89192865, -0.93964547,\n",
              "        -0.97384763, -0.9940432 , -0.99994172, -0.99145835, -0.9687151 ,\n",
              "        -0.93203909, -0.88195781, -0.81919157, -0.74464312, -0.65938467,\n",
              "        -0.56464247, -0.46177918, -0.35227423, -0.23770263, -0.11971221,\n",
              "         0.        ,  0.11971221,  0.23770263,  0.35227423,  0.46177918,\n",
              "         0.56464247,  0.65938467,  0.74464312,  0.81919157,  0.88195781,\n",
              "         0.93203909,  0.9687151 ,  0.99145835,  0.99994172,  0.9940432 ,\n",
              "         0.97384763,  0.93964547,  0.89192865,  0.83138346,  0.75888071,\n",
              "         0.67546318,  0.58233065,  0.48082261,  0.37239904,  0.25861935,\n",
              "         0.14112001]))"
            ]
          },
          "metadata": {
            "tags": []
          },
          "execution_count": 64
        }
      ]
    },
    {
      "cell_type": "code",
      "metadata": {
        "id": "GDXCU_PhuqDg",
        "outputId": "6e500483-547e-4301-ee43-f2bce9279f3a",
        "colab": {
          "base_uri": "https://localhost:8080/",
          "height": 515
        }
      },
      "source": [
        "fig, ax = plt.subplots(nrows=2, ncols=2)\n",
        "fig.set_size_inches(8, 6)\n",
        "plt.subplots_adjust(wspace=0.3, hspace=0.3)\n",
        "ax1, ax2, ax3, ax4 = ax.flatten()\n",
        "ax1.plot(y1)\n",
        "ax1.set_xlim([-5, 5])\n",
        "ax1.set_title('График y1')\n",
        "ax2.plot(y2)\n",
        "ax2.set_title('График y2')\n",
        "ax3.plot(y3)\n",
        "ax3.set_title('График y3')\n",
        "ax4.plot(y4)\n",
        "ax4.set_title('График y4')\n",
        "plt.show()\n",
        "None"
      ],
      "execution_count": 65,
      "outputs": [
        {
          "output_type": "display_data",
          "data": {
            "text/plain": [
              "<Figure size 576x432 with 4 Axes>"
            ],
            "image/svg+xml": "<?xml version=\"1.0\" encoding=\"utf-8\" standalone=\"no\"?>\n<!DOCTYPE svg PUBLIC \"-//W3C//DTD SVG 1.1//EN\"\n  \"http://www.w3.org/Graphics/SVG/1.1/DTD/svg11.dtd\">\n<!-- Created with matplotlib (https://matplotlib.org/) -->\n<svg height=\"370.679875pt\" version=\"1.1\" viewBox=\"0 0 540.124688 370.679875\" width=\"540.124688pt\" xmlns=\"http://www.w3.org/2000/svg\" xmlns:xlink=\"http://www.w3.org/1999/xlink\">\n <defs>\n  <style type=\"text/css\">\n*{stroke-linecap:butt;stroke-linejoin:round;}\n  </style>\n </defs>\n <g id=\"figure_1\">\n  <g id=\"patch_1\">\n   <path d=\"M 0 370.679875 \nL 540.124688 370.679875 \nL 540.124688 0 \nL 0 0 \nz\n\" style=\"fill:none;\"/>\n  </g>\n  <g id=\"axes_1\">\n   <g id=\"patch_2\">\n    <path d=\"M 31.804688 165.950446 \nL 249.682948 165.950446 \nL 249.682948 24.14175 \nL 31.804688 24.14175 \nz\n\" style=\"fill:#f0f0f0;\"/>\n   </g>\n   <g id=\"matplotlib.axis_1\">\n    <g id=\"xtick_1\">\n     <g id=\"line2d_1\">\n      <path clip-path=\"url(#pb619176bc6)\" d=\"M 53.592514 165.950446 \nL 53.592514 24.14175 \n\" style=\"fill:none;stroke:#cbcbcb;\"/>\n     </g>\n     <g id=\"line2d_2\"/>\n     <g id=\"text_1\">\n      <!-- −4 -->\n      <defs>\n       <path d=\"M 10.59375 35.5 \nL 73.1875 35.5 \nL 73.1875 27.203125 \nL 10.59375 27.203125 \nz\n\" id=\"DejaVuSans-8722\"/>\n       <path d=\"M 37.796875 64.3125 \nL 12.890625 25.390625 \nL 37.796875 25.390625 \nz\nM 35.203125 72.90625 \nL 47.609375 72.90625 \nL 47.609375 25.390625 \nL 58.015625 25.390625 \nL 58.015625 17.1875 \nL 47.609375 17.1875 \nL 47.609375 0 \nL 37.796875 0 \nL 37.796875 17.1875 \nL 4.890625 17.1875 \nL 4.890625 26.703125 \nz\n\" id=\"DejaVuSans-52\"/>\n      </defs>\n      <g transform=\"translate(46.22142 177.048883)scale(0.1 -0.1)\">\n       <use xlink:href=\"#DejaVuSans-8722\"/>\n       <use x=\"83.789062\" xlink:href=\"#DejaVuSans-52\"/>\n      </g>\n     </g>\n    </g>\n    <g id=\"xtick_2\">\n     <g id=\"line2d_3\">\n      <path clip-path=\"url(#pb619176bc6)\" d=\"M 97.168166 165.950446 \nL 97.168166 24.14175 \n\" style=\"fill:none;stroke:#cbcbcb;\"/>\n     </g>\n     <g id=\"line2d_4\"/>\n     <g id=\"text_2\">\n      <!-- −2 -->\n      <defs>\n       <path d=\"M 19.1875 8.296875 \nL 53.609375 8.296875 \nL 53.609375 0 \nL 7.328125 0 \nL 7.328125 8.296875 \nQ 12.9375 14.109375 22.625 23.890625 \nQ 32.328125 33.6875 34.8125 36.53125 \nQ 39.546875 41.84375 41.421875 45.53125 \nQ 43.3125 49.21875 43.3125 52.78125 \nQ 43.3125 58.59375 39.234375 62.25 \nQ 35.15625 65.921875 28.609375 65.921875 \nQ 23.96875 65.921875 18.8125 64.3125 \nQ 13.671875 62.703125 7.8125 59.421875 \nL 7.8125 69.390625 \nQ 13.765625 71.78125 18.9375 73 \nQ 24.125 74.21875 28.421875 74.21875 \nQ 39.75 74.21875 46.484375 68.546875 \nQ 53.21875 62.890625 53.21875 53.421875 \nQ 53.21875 48.921875 51.53125 44.890625 \nQ 49.859375 40.875 45.40625 35.40625 \nQ 44.1875 33.984375 37.640625 27.21875 \nQ 31.109375 20.453125 19.1875 8.296875 \nz\n\" id=\"DejaVuSans-50\"/>\n      </defs>\n      <g transform=\"translate(89.797072 177.048883)scale(0.1 -0.1)\">\n       <use xlink:href=\"#DejaVuSans-8722\"/>\n       <use x=\"83.789062\" xlink:href=\"#DejaVuSans-50\"/>\n      </g>\n     </g>\n    </g>\n    <g id=\"xtick_3\">\n     <g id=\"line2d_5\">\n      <path clip-path=\"url(#pb619176bc6)\" d=\"M 140.743818 165.950446 \nL 140.743818 24.14175 \n\" style=\"fill:none;stroke:#cbcbcb;\"/>\n     </g>\n     <g id=\"line2d_6\"/>\n     <g id=\"text_3\">\n      <!-- 0 -->\n      <defs>\n       <path d=\"M 31.78125 66.40625 \nQ 24.171875 66.40625 20.328125 58.90625 \nQ 16.5 51.421875 16.5 36.375 \nQ 16.5 21.390625 20.328125 13.890625 \nQ 24.171875 6.390625 31.78125 6.390625 \nQ 39.453125 6.390625 43.28125 13.890625 \nQ 47.125 21.390625 47.125 36.375 \nQ 47.125 51.421875 43.28125 58.90625 \nQ 39.453125 66.40625 31.78125 66.40625 \nz\nM 31.78125 74.21875 \nQ 44.046875 74.21875 50.515625 64.515625 \nQ 56.984375 54.828125 56.984375 36.375 \nQ 56.984375 17.96875 50.515625 8.265625 \nQ 44.046875 -1.421875 31.78125 -1.421875 \nQ 19.53125 -1.421875 13.0625 8.265625 \nQ 6.59375 17.96875 6.59375 36.375 \nQ 6.59375 54.828125 13.0625 64.515625 \nQ 19.53125 74.21875 31.78125 74.21875 \nz\n\" id=\"DejaVuSans-48\"/>\n      </defs>\n      <g transform=\"translate(137.562568 177.048883)scale(0.1 -0.1)\">\n       <use xlink:href=\"#DejaVuSans-48\"/>\n      </g>\n     </g>\n    </g>\n    <g id=\"xtick_4\">\n     <g id=\"line2d_7\">\n      <path clip-path=\"url(#pb619176bc6)\" d=\"M 184.31947 165.950446 \nL 184.31947 24.14175 \n\" style=\"fill:none;stroke:#cbcbcb;\"/>\n     </g>\n     <g id=\"line2d_8\"/>\n     <g id=\"text_4\">\n      <!-- 2 -->\n      <g transform=\"translate(181.13822 177.048883)scale(0.1 -0.1)\">\n       <use xlink:href=\"#DejaVuSans-50\"/>\n      </g>\n     </g>\n    </g>\n    <g id=\"xtick_5\">\n     <g id=\"line2d_9\">\n      <path clip-path=\"url(#pb619176bc6)\" d=\"M 227.895122 165.950446 \nL 227.895122 24.14175 \n\" style=\"fill:none;stroke:#cbcbcb;\"/>\n     </g>\n     <g id=\"line2d_10\"/>\n     <g id=\"text_5\">\n      <!-- 4 -->\n      <g transform=\"translate(224.713872 177.048883)scale(0.1 -0.1)\">\n       <use xlink:href=\"#DejaVuSans-52\"/>\n      </g>\n     </g>\n    </g>\n   </g>\n   <g id=\"matplotlib.axis_2\">\n    <g id=\"ytick_1\">\n     <g id=\"line2d_11\">\n      <path clip-path=\"url(#pb619176bc6)\" d=\"M 31.804688 159.504596 \nL 249.682948 159.504596 \n\" style=\"fill:none;stroke:#cbcbcb;\"/>\n     </g>\n     <g id=\"line2d_12\"/>\n     <g id=\"text_6\">\n      <!-- 0 -->\n      <g transform=\"translate(21.942187 163.303815)scale(0.1 -0.1)\">\n       <use xlink:href=\"#DejaVuSans-48\"/>\n      </g>\n     </g>\n    </g>\n    <g id=\"ytick_2\">\n     <g id=\"line2d_13\">\n      <path clip-path=\"url(#pb619176bc6)\" d=\"M 31.804688 130.856375 \nL 249.682948 130.856375 \n\" style=\"fill:none;stroke:#cbcbcb;\"/>\n     </g>\n     <g id=\"line2d_14\"/>\n     <g id=\"text_7\">\n      <!-- 2 -->\n      <g transform=\"translate(21.942187 134.655593)scale(0.1 -0.1)\">\n       <use xlink:href=\"#DejaVuSans-50\"/>\n      </g>\n     </g>\n    </g>\n    <g id=\"ytick_3\">\n     <g id=\"line2d_15\">\n      <path clip-path=\"url(#pb619176bc6)\" d=\"M 31.804688 102.208153 \nL 249.682948 102.208153 \n\" style=\"fill:none;stroke:#cbcbcb;\"/>\n     </g>\n     <g id=\"line2d_16\"/>\n     <g id=\"text_8\">\n      <!-- 4 -->\n      <g transform=\"translate(21.942187 106.007372)scale(0.1 -0.1)\">\n       <use xlink:href=\"#DejaVuSans-52\"/>\n      </g>\n     </g>\n    </g>\n    <g id=\"ytick_4\">\n     <g id=\"line2d_17\">\n      <path clip-path=\"url(#pb619176bc6)\" d=\"M 31.804688 73.559932 \nL 249.682948 73.559932 \n\" style=\"fill:none;stroke:#cbcbcb;\"/>\n     </g>\n     <g id=\"line2d_18\"/>\n     <g id=\"text_9\">\n      <!-- 6 -->\n      <defs>\n       <path d=\"M 33.015625 40.375 \nQ 26.375 40.375 22.484375 35.828125 \nQ 18.609375 31.296875 18.609375 23.390625 \nQ 18.609375 15.53125 22.484375 10.953125 \nQ 26.375 6.390625 33.015625 6.390625 \nQ 39.65625 6.390625 43.53125 10.953125 \nQ 47.40625 15.53125 47.40625 23.390625 \nQ 47.40625 31.296875 43.53125 35.828125 \nQ 39.65625 40.375 33.015625 40.375 \nz\nM 52.59375 71.296875 \nL 52.59375 62.3125 \nQ 48.875 64.0625 45.09375 64.984375 \nQ 41.3125 65.921875 37.59375 65.921875 \nQ 27.828125 65.921875 22.671875 59.328125 \nQ 17.53125 52.734375 16.796875 39.40625 \nQ 19.671875 43.65625 24.015625 45.921875 \nQ 28.375 48.1875 33.59375 48.1875 \nQ 44.578125 48.1875 50.953125 41.515625 \nQ 57.328125 34.859375 57.328125 23.390625 \nQ 57.328125 12.15625 50.6875 5.359375 \nQ 44.046875 -1.421875 33.015625 -1.421875 \nQ 20.359375 -1.421875 13.671875 8.265625 \nQ 6.984375 17.96875 6.984375 36.375 \nQ 6.984375 53.65625 15.1875 63.9375 \nQ 23.390625 74.21875 37.203125 74.21875 \nQ 40.921875 74.21875 44.703125 73.484375 \nQ 48.484375 72.75 52.59375 71.296875 \nz\n\" id=\"DejaVuSans-54\"/>\n      </defs>\n      <g transform=\"translate(21.942187 77.359151)scale(0.1 -0.1)\">\n       <use xlink:href=\"#DejaVuSans-54\"/>\n      </g>\n     </g>\n    </g>\n    <g id=\"ytick_5\">\n     <g id=\"line2d_19\">\n      <path clip-path=\"url(#pb619176bc6)\" d=\"M 31.804688 44.91171 \nL 249.682948 44.91171 \n\" style=\"fill:none;stroke:#cbcbcb;\"/>\n     </g>\n     <g id=\"line2d_20\"/>\n     <g id=\"text_10\">\n      <!-- 8 -->\n      <defs>\n       <path d=\"M 31.78125 34.625 \nQ 24.75 34.625 20.71875 30.859375 \nQ 16.703125 27.09375 16.703125 20.515625 \nQ 16.703125 13.921875 20.71875 10.15625 \nQ 24.75 6.390625 31.78125 6.390625 \nQ 38.8125 6.390625 42.859375 10.171875 \nQ 46.921875 13.96875 46.921875 20.515625 \nQ 46.921875 27.09375 42.890625 30.859375 \nQ 38.875 34.625 31.78125 34.625 \nz\nM 21.921875 38.8125 \nQ 15.578125 40.375 12.03125 44.71875 \nQ 8.5 49.078125 8.5 55.328125 \nQ 8.5 64.0625 14.71875 69.140625 \nQ 20.953125 74.21875 31.78125 74.21875 \nQ 42.671875 74.21875 48.875 69.140625 \nQ 55.078125 64.0625 55.078125 55.328125 \nQ 55.078125 49.078125 51.53125 44.71875 \nQ 48 40.375 41.703125 38.8125 \nQ 48.828125 37.15625 52.796875 32.3125 \nQ 56.78125 27.484375 56.78125 20.515625 \nQ 56.78125 9.90625 50.3125 4.234375 \nQ 43.84375 -1.421875 31.78125 -1.421875 \nQ 19.734375 -1.421875 13.25 4.234375 \nQ 6.78125 9.90625 6.78125 20.515625 \nQ 6.78125 27.484375 10.78125 32.3125 \nQ 14.796875 37.15625 21.921875 38.8125 \nz\nM 18.3125 54.390625 \nQ 18.3125 48.734375 21.84375 45.5625 \nQ 25.390625 42.390625 31.78125 42.390625 \nQ 38.140625 42.390625 41.71875 45.5625 \nQ 45.3125 48.734375 45.3125 54.390625 \nQ 45.3125 60.0625 41.71875 63.234375 \nQ 38.140625 66.40625 31.78125 66.40625 \nQ 25.390625 66.40625 21.84375 63.234375 \nQ 18.3125 60.0625 18.3125 54.390625 \nz\n\" id=\"DejaVuSans-56\"/>\n      </defs>\n      <g transform=\"translate(21.942187 48.710929)scale(0.1 -0.1)\">\n       <use xlink:href=\"#DejaVuSans-56\"/>\n      </g>\n     </g>\n    </g>\n   </g>\n   <g id=\"line2d_21\">\n    <path clip-path=\"url(#pb619176bc6)\" d=\"M 140.743818 30.5876 \nL 162.531644 40.694692 \nL 184.31947 50.38925 \nL 206.107296 59.671274 \nL 227.895122 68.540763 \nL 249.682948 76.997718 \nL 271.470774 85.042139 \nL 293.258601 92.674025 \nL 315.046427 99.893377 \nL 336.834253 106.700194 \nL 358.622079 113.094477 \nL 380.409905 119.076226 \nL 402.197731 124.64544 \nL 423.985557 129.80212 \nL 445.773383 134.546265 \nL 467.561209 138.877876 \nL 489.349035 142.796953 \nL 511.136861 146.303495 \nL 532.924688 149.397503 \nL 541.124688 150.406695 \n\" style=\"fill:none;stroke:#008fd5;stroke-width:4;\"/>\n   </g>\n   <g id=\"patch_3\">\n    <path d=\"M 31.804688 165.950446 \nL 31.804688 24.14175 \n\" style=\"fill:none;stroke:#f0f0f0;stroke-linecap:square;stroke-linejoin:miter;stroke-width:3;\"/>\n   </g>\n   <g id=\"patch_4\">\n    <path d=\"M 249.682948 165.950446 \nL 249.682948 24.14175 \n\" style=\"fill:none;stroke:#f0f0f0;stroke-linecap:square;stroke-linejoin:miter;stroke-width:3;\"/>\n   </g>\n   <g id=\"patch_5\">\n    <path d=\"M 31.804688 165.950446 \nL 249.682948 165.950446 \n\" style=\"fill:none;stroke:#f0f0f0;stroke-linecap:square;stroke-linejoin:miter;stroke-width:3;\"/>\n   </g>\n   <g id=\"patch_6\">\n    <path d=\"M 31.804688 24.14175 \nL 249.682948 24.14175 \n\" style=\"fill:none;stroke:#f0f0f0;stroke-linecap:square;stroke-linejoin:miter;stroke-width:3;\"/>\n   </g>\n   <g id=\"text_11\">\n    <!-- График y1 -->\n    <defs>\n     <path d=\"M 9.8125 0 \nL 9.8125 72.90625 \nL 55.171875 72.90625 \nL 55.171875 64.59375 \nL 19.671875 64.59375 \nL 19.671875 0 \nz\n\" id=\"DejaVuSans-1043\"/>\n     <path d=\"M 18.109375 8.203125 \nL 18.109375 -20.796875 \nL 9.078125 -20.796875 \nL 9.078125 54.6875 \nL 18.109375 54.6875 \nL 18.109375 46.390625 \nQ 20.953125 51.265625 25.265625 53.625 \nQ 29.59375 56 35.59375 56 \nQ 45.5625 56 51.78125 48.09375 \nQ 58.015625 40.1875 58.015625 27.296875 \nQ 58.015625 14.40625 51.78125 6.484375 \nQ 45.5625 -1.421875 35.59375 -1.421875 \nQ 29.59375 -1.421875 25.265625 0.953125 \nQ 20.953125 3.328125 18.109375 8.203125 \nz\nM 48.6875 27.296875 \nQ 48.6875 37.203125 44.609375 42.84375 \nQ 40.53125 48.484375 33.40625 48.484375 \nQ 26.265625 48.484375 22.1875 42.84375 \nQ 18.109375 37.203125 18.109375 27.296875 \nQ 18.109375 17.390625 22.1875 11.75 \nQ 26.265625 6.109375 33.40625 6.109375 \nQ 40.53125 6.109375 44.609375 11.75 \nQ 48.6875 17.390625 48.6875 27.296875 \nz\n\" id=\"DejaVuSans-1088\"/>\n     <path d=\"M 34.28125 27.484375 \nQ 23.390625 27.484375 19.1875 25 \nQ 14.984375 22.515625 14.984375 16.5 \nQ 14.984375 11.71875 18.140625 8.90625 \nQ 21.296875 6.109375 26.703125 6.109375 \nQ 34.1875 6.109375 38.703125 11.40625 \nQ 43.21875 16.703125 43.21875 25.484375 \nL 43.21875 27.484375 \nz\nM 52.203125 31.203125 \nL 52.203125 0 \nL 43.21875 0 \nL 43.21875 8.296875 \nQ 40.140625 3.328125 35.546875 0.953125 \nQ 30.953125 -1.421875 24.3125 -1.421875 \nQ 15.921875 -1.421875 10.953125 3.296875 \nQ 6 8.015625 6 15.921875 \nQ 6 25.140625 12.171875 29.828125 \nQ 18.359375 34.515625 30.609375 34.515625 \nL 43.21875 34.515625 \nL 43.21875 35.40625 \nQ 43.21875 41.609375 39.140625 45 \nQ 35.0625 48.390625 27.6875 48.390625 \nQ 23 48.390625 18.546875 47.265625 \nQ 14.109375 46.140625 10.015625 43.890625 \nL 10.015625 52.203125 \nQ 14.9375 54.109375 19.578125 55.046875 \nQ 24.21875 56 28.609375 56 \nQ 40.484375 56 46.34375 49.84375 \nQ 52.203125 43.703125 52.203125 31.203125 \nz\n\" id=\"DejaVuSans-1072\"/>\n     <path d=\"M 14.796875 27.296875 \nQ 14.796875 15.828125 18.328125 10.96875 \nQ 21.875 6.109375 27.875 6.109375 \nQ 32.671875 6.109375 38.234375 14.3125 \nL 38.234375 40.28125 \nQ 32.671875 48.484375 27.875 48.484375 \nQ 21.875 48.484375 18.328125 43.625 \nQ 14.796875 38.765625 14.796875 27.296875 \nz\nM 38.234375 -20.796875 \nL 38.234375 6.984375 \nQ 35.453125 2.390625 32.25 0.484375 \nQ 29.046875 -1.421875 25 -1.421875 \nQ 16.84375 -1.421875 11.15625 6.125 \nQ 5.46875 13.671875 5.46875 27.09375 \nQ 5.46875 40.53125 11.15625 48.265625 \nQ 16.84375 56 25 56 \nQ 29.046875 56 32.25 54.140625 \nQ 35.453125 52.296875 38.234375 47.703125 \nL 38.234375 72.90625 \nL 47.265625 72.90625 \nL 47.265625 47.703125 \nQ 50.046875 52.296875 53.25 54.140625 \nQ 56.453125 56 60.5 56 \nQ 68.65625 56 74.34375 48.265625 \nQ 80.03125 40.53125 80.03125 27.09375 \nQ 80.03125 13.671875 74.34375 6.125 \nQ 68.65625 -1.421875 60.5 -1.421875 \nQ 56.453125 -1.421875 53.25 0.484375 \nQ 50.046875 2.390625 47.265625 6.984375 \nL 47.265625 -20.796875 \nz\nM 70.703125 27.296875 \nQ 70.703125 38.765625 67.15625 43.625 \nQ 63.625 48.484375 57.625 48.484375 \nQ 52.828125 48.484375 47.265625 40.28125 \nL 47.265625 14.3125 \nQ 52.828125 6.109375 57.625 6.109375 \nQ 63.625 6.109375 67.15625 10.96875 \nQ 70.703125 15.828125 70.703125 27.296875 \nz\n\" id=\"DejaVuSans-1092\"/>\n     <path d=\"M 55.90625 54.6875 \nL 55.90625 0 \nL 46.96875 0 \nL 46.96875 43.890625 \nL 20.609375 0 \nL 9.078125 0 \nL 9.078125 54.6875 \nL 18.015625 54.6875 \nL 18.015625 10.890625 \nL 44.34375 54.6875 \nz\n\" id=\"DejaVuSans-1080\"/>\n     <path d=\"M 9.078125 54.6875 \nL 18.015625 54.6875 \nL 18.015625 29 \nL 43.359375 54.6875 \nL 54.390625 54.6875 \nL 33.5 33.546875 \nL 57.078125 0 \nL 47.015625 0 \nL 27.640625 27.59375 \nL 18.015625 17.828125 \nL 18.015625 0 \nL 9.078125 0 \nz\n\" id=\"DejaVuSans-1082\"/>\n     <path id=\"DejaVuSans-32\"/>\n     <path d=\"M 32.171875 -5.078125 \nQ 28.375 -14.84375 24.75 -17.8125 \nQ 21.140625 -20.796875 15.09375 -20.796875 \nL 7.90625 -20.796875 \nL 7.90625 -13.28125 \nL 13.1875 -13.28125 \nQ 16.890625 -13.28125 18.9375 -11.515625 \nQ 21 -9.765625 23.484375 -3.21875 \nL 25.09375 0.875 \nL 2.984375 54.6875 \nL 12.5 54.6875 \nL 29.59375 11.921875 \nL 46.6875 54.6875 \nL 56.203125 54.6875 \nz\n\" id=\"DejaVuSans-121\"/>\n     <path d=\"M 12.40625 8.296875 \nL 28.515625 8.296875 \nL 28.515625 63.921875 \nL 10.984375 60.40625 \nL 10.984375 69.390625 \nL 28.421875 72.90625 \nL 38.28125 72.90625 \nL 38.28125 8.296875 \nL 54.390625 8.296875 \nL 54.390625 0 \nL 12.40625 0 \nz\n\" id=\"DejaVuSans-49\"/>\n    </defs>\n    <g transform=\"translate(101.054943 18.14175)scale(0.144 -0.144)\">\n     <use xlink:href=\"#DejaVuSans-1043\"/>\n     <use x=\"60.986328\" xlink:href=\"#DejaVuSans-1088\"/>\n     <use x=\"124.462891\" xlink:href=\"#DejaVuSans-1072\"/>\n     <use x=\"185.742188\" xlink:href=\"#DejaVuSans-1092\"/>\n     <use x=\"271.240234\" xlink:href=\"#DejaVuSans-1080\"/>\n     <use x=\"336.230469\" xlink:href=\"#DejaVuSans-1082\"/>\n     <use x=\"396.630859\" xlink:href=\"#DejaVuSans-32\"/>\n     <use x=\"428.417969\" xlink:href=\"#DejaVuSans-121\"/>\n     <use x=\"487.597656\" xlink:href=\"#DejaVuSans-49\"/>\n    </g>\n   </g>\n  </g>\n  <g id=\"axes_2\">\n   <g id=\"patch_7\">\n    <path d=\"M 315.046427 165.950446 \nL 532.924688 165.950446 \nL 532.924688 24.14175 \nL 315.046427 24.14175 \nz\n\" style=\"fill:#f0f0f0;\"/>\n   </g>\n   <g id=\"matplotlib.axis_3\">\n    <g id=\"xtick_6\">\n     <g id=\"line2d_22\">\n      <path clip-path=\"url(#pdae4e14a18)\" d=\"M 324.949984 165.950446 \nL 324.949984 24.14175 \n\" style=\"fill:none;stroke:#cbcbcb;\"/>\n     </g>\n     <g id=\"line2d_23\"/>\n     <g id=\"text_12\">\n      <!-- 0 -->\n      <g transform=\"translate(321.768734 177.048883)scale(0.1 -0.1)\">\n       <use xlink:href=\"#DejaVuSans-48\"/>\n      </g>\n     </g>\n    </g>\n    <g id=\"xtick_7\">\n     <g id=\"line2d_24\">\n      <path clip-path=\"url(#pdae4e14a18)\" d=\"M 364.564213 165.950446 \nL 364.564213 24.14175 \n\" style=\"fill:none;stroke:#cbcbcb;\"/>\n     </g>\n     <g id=\"line2d_25\"/>\n     <g id=\"text_13\">\n      <!-- 10 -->\n      <g transform=\"translate(358.201713 177.048883)scale(0.1 -0.1)\">\n       <use xlink:href=\"#DejaVuSans-49\"/>\n       <use x=\"63.623047\" xlink:href=\"#DejaVuSans-48\"/>\n      </g>\n     </g>\n    </g>\n    <g id=\"xtick_8\">\n     <g id=\"line2d_26\">\n      <path clip-path=\"url(#pdae4e14a18)\" d=\"M 404.178442 165.950446 \nL 404.178442 24.14175 \n\" style=\"fill:none;stroke:#cbcbcb;\"/>\n     </g>\n     <g id=\"line2d_27\"/>\n     <g id=\"text_14\">\n      <!-- 20 -->\n      <g transform=\"translate(397.815942 177.048883)scale(0.1 -0.1)\">\n       <use xlink:href=\"#DejaVuSans-50\"/>\n       <use x=\"63.623047\" xlink:href=\"#DejaVuSans-48\"/>\n      </g>\n     </g>\n    </g>\n    <g id=\"xtick_9\">\n     <g id=\"line2d_28\">\n      <path clip-path=\"url(#pdae4e14a18)\" d=\"M 443.792672 165.950446 \nL 443.792672 24.14175 \n\" style=\"fill:none;stroke:#cbcbcb;\"/>\n     </g>\n     <g id=\"line2d_29\"/>\n     <g id=\"text_15\">\n      <!-- 30 -->\n      <defs>\n       <path d=\"M 40.578125 39.3125 \nQ 47.65625 37.796875 51.625 33 \nQ 55.609375 28.21875 55.609375 21.1875 \nQ 55.609375 10.40625 48.1875 4.484375 \nQ 40.765625 -1.421875 27.09375 -1.421875 \nQ 22.515625 -1.421875 17.65625 -0.515625 \nQ 12.796875 0.390625 7.625 2.203125 \nL 7.625 11.71875 \nQ 11.71875 9.328125 16.59375 8.109375 \nQ 21.484375 6.890625 26.8125 6.890625 \nQ 36.078125 6.890625 40.9375 10.546875 \nQ 45.796875 14.203125 45.796875 21.1875 \nQ 45.796875 27.640625 41.28125 31.265625 \nQ 36.765625 34.90625 28.71875 34.90625 \nL 20.21875 34.90625 \nL 20.21875 43.015625 \nL 29.109375 43.015625 \nQ 36.375 43.015625 40.234375 45.921875 \nQ 44.09375 48.828125 44.09375 54.296875 \nQ 44.09375 59.90625 40.109375 62.90625 \nQ 36.140625 65.921875 28.71875 65.921875 \nQ 24.65625 65.921875 20.015625 65.03125 \nQ 15.375 64.15625 9.8125 62.3125 \nL 9.8125 71.09375 \nQ 15.4375 72.65625 20.34375 73.4375 \nQ 25.25 74.21875 29.59375 74.21875 \nQ 40.828125 74.21875 47.359375 69.109375 \nQ 53.90625 64.015625 53.90625 55.328125 \nQ 53.90625 49.265625 50.4375 45.09375 \nQ 46.96875 40.921875 40.578125 39.3125 \nz\n\" id=\"DejaVuSans-51\"/>\n      </defs>\n      <g transform=\"translate(437.430172 177.048883)scale(0.1 -0.1)\">\n       <use xlink:href=\"#DejaVuSans-51\"/>\n       <use x=\"63.623047\" xlink:href=\"#DejaVuSans-48\"/>\n      </g>\n     </g>\n    </g>\n    <g id=\"xtick_10\">\n     <g id=\"line2d_30\">\n      <path clip-path=\"url(#pdae4e14a18)\" d=\"M 483.406901 165.950446 \nL 483.406901 24.14175 \n\" style=\"fill:none;stroke:#cbcbcb;\"/>\n     </g>\n     <g id=\"line2d_31\"/>\n     <g id=\"text_16\">\n      <!-- 40 -->\n      <g transform=\"translate(477.044401 177.048883)scale(0.1 -0.1)\">\n       <use xlink:href=\"#DejaVuSans-52\"/>\n       <use x=\"63.623047\" xlink:href=\"#DejaVuSans-48\"/>\n      </g>\n     </g>\n    </g>\n    <g id=\"xtick_11\">\n     <g id=\"line2d_32\">\n      <path clip-path=\"url(#pdae4e14a18)\" d=\"M 523.02113 165.950446 \nL 523.02113 24.14175 \n\" style=\"fill:none;stroke:#cbcbcb;\"/>\n     </g>\n     <g id=\"line2d_33\"/>\n     <g id=\"text_17\">\n      <!-- 50 -->\n      <defs>\n       <path d=\"M 10.796875 72.90625 \nL 49.515625 72.90625 \nL 49.515625 64.59375 \nL 19.828125 64.59375 \nL 19.828125 46.734375 \nQ 21.96875 47.46875 24.109375 47.828125 \nQ 26.265625 48.1875 28.421875 48.1875 \nQ 40.625 48.1875 47.75 41.5 \nQ 54.890625 34.8125 54.890625 23.390625 \nQ 54.890625 11.625 47.5625 5.09375 \nQ 40.234375 -1.421875 26.90625 -1.421875 \nQ 22.3125 -1.421875 17.546875 -0.640625 \nQ 12.796875 0.140625 7.71875 1.703125 \nL 7.71875 11.625 \nQ 12.109375 9.234375 16.796875 8.0625 \nQ 21.484375 6.890625 26.703125 6.890625 \nQ 35.15625 6.890625 40.078125 11.328125 \nQ 45.015625 15.765625 45.015625 23.390625 \nQ 45.015625 31 40.078125 35.4375 \nQ 35.15625 39.890625 26.703125 39.890625 \nQ 22.75 39.890625 18.8125 39.015625 \nQ 14.890625 38.140625 10.796875 36.28125 \nz\n\" id=\"DejaVuSans-53\"/>\n      </defs>\n      <g transform=\"translate(516.65863 177.048883)scale(0.1 -0.1)\">\n       <use xlink:href=\"#DejaVuSans-53\"/>\n       <use x=\"63.623047\" xlink:href=\"#DejaVuSans-48\"/>\n      </g>\n     </g>\n    </g>\n   </g>\n   <g id=\"matplotlib.axis_4\">\n    <g id=\"ytick_6\">\n     <g id=\"line2d_34\">\n      <path clip-path=\"url(#pdae4e14a18)\" d=\"M 315.046427 164.876137 \nL 532.924688 164.876137 \n\" style=\"fill:none;stroke:#cbcbcb;\"/>\n     </g>\n     <g id=\"line2d_35\"/>\n     <g id=\"text_18\">\n      <!-- −6 -->\n      <g transform=\"translate(296.804239 168.675356)scale(0.1 -0.1)\">\n       <use xlink:href=\"#DejaVuSans-8722\"/>\n       <use x=\"83.789062\" xlink:href=\"#DejaVuSans-54\"/>\n      </g>\n     </g>\n    </g>\n    <g id=\"ytick_7\">\n     <g id=\"line2d_36\">\n      <path clip-path=\"url(#pdae4e14a18)\" d=\"M 315.046427 143.389971 \nL 532.924688 143.389971 \n\" style=\"fill:none;stroke:#cbcbcb;\"/>\n     </g>\n     <g id=\"line2d_37\"/>\n     <g id=\"text_19\">\n      <!-- −4 -->\n      <g transform=\"translate(296.804239 147.18919)scale(0.1 -0.1)\">\n       <use xlink:href=\"#DejaVuSans-8722\"/>\n       <use x=\"83.789062\" xlink:href=\"#DejaVuSans-52\"/>\n      </g>\n     </g>\n    </g>\n    <g id=\"ytick_8\">\n     <g id=\"line2d_38\">\n      <path clip-path=\"url(#pdae4e14a18)\" d=\"M 315.046427 121.903805 \nL 532.924688 121.903805 \n\" style=\"fill:none;stroke:#cbcbcb;\"/>\n     </g>\n     <g id=\"line2d_39\"/>\n     <g id=\"text_20\">\n      <!-- −2 -->\n      <g transform=\"translate(296.804239 125.703024)scale(0.1 -0.1)\">\n       <use xlink:href=\"#DejaVuSans-8722\"/>\n       <use x=\"83.789062\" xlink:href=\"#DejaVuSans-50\"/>\n      </g>\n     </g>\n    </g>\n    <g id=\"ytick_9\">\n     <g id=\"line2d_40\">\n      <path clip-path=\"url(#pdae4e14a18)\" d=\"M 315.046427 100.417639 \nL 532.924688 100.417639 \n\" style=\"fill:none;stroke:#cbcbcb;\"/>\n     </g>\n     <g id=\"line2d_41\"/>\n     <g id=\"text_21\">\n      <!-- 0 -->\n      <g transform=\"translate(305.183927 104.216858)scale(0.1 -0.1)\">\n       <use xlink:href=\"#DejaVuSans-48\"/>\n      </g>\n     </g>\n    </g>\n    <g id=\"ytick_10\">\n     <g id=\"line2d_42\">\n      <path clip-path=\"url(#pdae4e14a18)\" d=\"M 315.046427 78.931473 \nL 532.924688 78.931473 \n\" style=\"fill:none;stroke:#cbcbcb;\"/>\n     </g>\n     <g id=\"line2d_43\"/>\n     <g id=\"text_22\">\n      <!-- 2 -->\n      <g transform=\"translate(305.183927 82.730692)scale(0.1 -0.1)\">\n       <use xlink:href=\"#DejaVuSans-50\"/>\n      </g>\n     </g>\n    </g>\n    <g id=\"ytick_11\">\n     <g id=\"line2d_44\">\n      <path clip-path=\"url(#pdae4e14a18)\" d=\"M 315.046427 57.445307 \nL 532.924688 57.445307 \n\" style=\"fill:none;stroke:#cbcbcb;\"/>\n     </g>\n     <g id=\"line2d_45\"/>\n     <g id=\"text_23\">\n      <!-- 4 -->\n      <g transform=\"translate(305.183927 61.244526)scale(0.1 -0.1)\">\n       <use xlink:href=\"#DejaVuSans-52\"/>\n      </g>\n     </g>\n    </g>\n    <g id=\"ytick_12\">\n     <g id=\"line2d_46\">\n      <path clip-path=\"url(#pdae4e14a18)\" d=\"M 315.046427 35.959141 \nL 532.924688 35.959141 \n\" style=\"fill:none;stroke:#cbcbcb;\"/>\n     </g>\n     <g id=\"line2d_47\"/>\n     <g id=\"text_24\">\n      <!-- 6 -->\n      <g transform=\"translate(305.183927 39.75836)scale(0.1 -0.1)\">\n       <use xlink:href=\"#DejaVuSans-54\"/>\n      </g>\n     </g>\n    </g>\n   </g>\n   <g id=\"line2d_48\">\n    <path clip-path=\"url(#pdae4e14a18)\" d=\"M 324.949984 159.504596 \nL 328.911407 156.926256 \nL 332.87283 154.347916 \nL 336.834253 151.769576 \nL 340.795676 149.191236 \nL 344.757099 146.612896 \nL 348.718521 144.034556 \nL 352.679944 141.456216 \nL 356.641367 138.877876 \nL 360.60279 136.299537 \nL 364.564213 133.721197 \nL 368.525636 131.142857 \nL 372.487059 128.564517 \nL 376.448482 125.986177 \nL 380.409905 123.407837 \nL 384.371328 120.829497 \nL 388.332751 118.251157 \nL 392.294174 115.672817 \nL 396.255597 113.094477 \nL 400.21702 110.516137 \nL 404.178442 107.937797 \nL 408.139865 105.359458 \nL 412.101288 102.781118 \nL 416.062711 100.202778 \nL 420.024134 97.624438 \nL 423.985557 95.046098 \nL 427.94698 92.467758 \nL 431.908403 89.889418 \nL 435.869826 87.311078 \nL 439.831249 84.732738 \nL 443.792672 82.154398 \nL 447.754095 79.576058 \nL 451.715518 76.997718 \nL 455.67694 74.419378 \nL 459.638363 71.841039 \nL 463.599786 69.262699 \nL 467.561209 66.684359 \nL 471.522632 64.106019 \nL 475.484055 61.527679 \nL 479.445478 58.949339 \nL 483.406901 56.370999 \nL 487.368324 53.792659 \nL 491.329747 51.214319 \nL 495.29117 48.635979 \nL 499.252593 46.057639 \nL 503.214016 43.479299 \nL 507.175438 40.900959 \nL 511.136861 38.32262 \nL 515.098284 35.74428 \nL 519.059707 33.16594 \nL 523.02113 30.5876 \n\" style=\"fill:none;stroke:#008fd5;stroke-width:4;\"/>\n   </g>\n   <g id=\"patch_8\">\n    <path d=\"M 315.046427 165.950446 \nL 315.046427 24.14175 \n\" style=\"fill:none;stroke:#f0f0f0;stroke-linecap:square;stroke-linejoin:miter;stroke-width:3;\"/>\n   </g>\n   <g id=\"patch_9\">\n    <path d=\"M 532.924688 165.950446 \nL 532.924688 24.14175 \n\" style=\"fill:none;stroke:#f0f0f0;stroke-linecap:square;stroke-linejoin:miter;stroke-width:3;\"/>\n   </g>\n   <g id=\"patch_10\">\n    <path d=\"M 315.046427 165.950446 \nL 532.924688 165.950446 \n\" style=\"fill:none;stroke:#f0f0f0;stroke-linecap:square;stroke-linejoin:miter;stroke-width:3;\"/>\n   </g>\n   <g id=\"patch_11\">\n    <path d=\"M 315.046427 24.14175 \nL 532.924688 24.14175 \n\" style=\"fill:none;stroke:#f0f0f0;stroke-linecap:square;stroke-linejoin:miter;stroke-width:3;\"/>\n   </g>\n   <g id=\"text_25\">\n    <!-- График y2 -->\n    <g transform=\"translate(384.296682 18.14175)scale(0.144 -0.144)\">\n     <use xlink:href=\"#DejaVuSans-1043\"/>\n     <use x=\"60.986328\" xlink:href=\"#DejaVuSans-1088\"/>\n     <use x=\"124.462891\" xlink:href=\"#DejaVuSans-1072\"/>\n     <use x=\"185.742188\" xlink:href=\"#DejaVuSans-1092\"/>\n     <use x=\"271.240234\" xlink:href=\"#DejaVuSans-1080\"/>\n     <use x=\"336.230469\" xlink:href=\"#DejaVuSans-1082\"/>\n     <use x=\"396.630859\" xlink:href=\"#DejaVuSans-32\"/>\n     <use x=\"428.417969\" xlink:href=\"#DejaVuSans-121\"/>\n     <use x=\"487.597656\" xlink:href=\"#DejaVuSans-50\"/>\n    </g>\n   </g>\n  </g>\n  <g id=\"axes_3\">\n   <g id=\"patch_12\">\n    <path d=\"M 31.804688 350.30175 \nL 249.682948 350.30175 \nL 249.682948 208.493054 \nL 31.804688 208.493054 \nz\n\" style=\"fill:#f0f0f0;\"/>\n   </g>\n   <g id=\"matplotlib.axis_5\">\n    <g id=\"xtick_12\">\n     <g id=\"line2d_49\">\n      <path clip-path=\"url(#p64e6940685)\" d=\"M 41.708245 350.30175 \nL 41.708245 208.493054 \n\" style=\"fill:none;stroke:#cbcbcb;\"/>\n     </g>\n     <g id=\"line2d_50\"/>\n     <g id=\"text_26\">\n      <!-- 0 -->\n      <g transform=\"translate(38.526995 361.400188)scale(0.1 -0.1)\">\n       <use xlink:href=\"#DejaVuSans-48\"/>\n      </g>\n     </g>\n    </g>\n    <g id=\"xtick_13\">\n     <g id=\"line2d_51\">\n      <path clip-path=\"url(#p64e6940685)\" d=\"M 81.322474 350.30175 \nL 81.322474 208.493054 \n\" style=\"fill:none;stroke:#cbcbcb;\"/>\n     </g>\n     <g id=\"line2d_52\"/>\n     <g id=\"text_27\">\n      <!-- 10 -->\n      <g transform=\"translate(74.959974 361.400188)scale(0.1 -0.1)\">\n       <use xlink:href=\"#DejaVuSans-49\"/>\n       <use x=\"63.623047\" xlink:href=\"#DejaVuSans-48\"/>\n      </g>\n     </g>\n    </g>\n    <g id=\"xtick_14\">\n     <g id=\"line2d_53\">\n      <path clip-path=\"url(#p64e6940685)\" d=\"M 120.936703 350.30175 \nL 120.936703 208.493054 \n\" style=\"fill:none;stroke:#cbcbcb;\"/>\n     </g>\n     <g id=\"line2d_54\"/>\n     <g id=\"text_28\">\n      <!-- 20 -->\n      <g transform=\"translate(114.574203 361.400188)scale(0.1 -0.1)\">\n       <use xlink:href=\"#DejaVuSans-50\"/>\n       <use x=\"63.623047\" xlink:href=\"#DejaVuSans-48\"/>\n      </g>\n     </g>\n    </g>\n    <g id=\"xtick_15\">\n     <g id=\"line2d_55\">\n      <path clip-path=\"url(#p64e6940685)\" d=\"M 160.550933 350.30175 \nL 160.550933 208.493054 \n\" style=\"fill:none;stroke:#cbcbcb;\"/>\n     </g>\n     <g id=\"line2d_56\"/>\n     <g id=\"text_29\">\n      <!-- 30 -->\n      <g transform=\"translate(154.188433 361.400188)scale(0.1 -0.1)\">\n       <use xlink:href=\"#DejaVuSans-51\"/>\n       <use x=\"63.623047\" xlink:href=\"#DejaVuSans-48\"/>\n      </g>\n     </g>\n    </g>\n    <g id=\"xtick_16\">\n     <g id=\"line2d_57\">\n      <path clip-path=\"url(#p64e6940685)\" d=\"M 200.165162 350.30175 \nL 200.165162 208.493054 \n\" style=\"fill:none;stroke:#cbcbcb;\"/>\n     </g>\n     <g id=\"line2d_58\"/>\n     <g id=\"text_30\">\n      <!-- 40 -->\n      <g transform=\"translate(193.802662 361.400188)scale(0.1 -0.1)\">\n       <use xlink:href=\"#DejaVuSans-52\"/>\n       <use x=\"63.623047\" xlink:href=\"#DejaVuSans-48\"/>\n      </g>\n     </g>\n    </g>\n    <g id=\"xtick_17\">\n     <g id=\"line2d_59\">\n      <path clip-path=\"url(#p64e6940685)\" d=\"M 239.779391 350.30175 \nL 239.779391 208.493054 \n\" style=\"fill:none;stroke:#cbcbcb;\"/>\n     </g>\n     <g id=\"line2d_60\"/>\n     <g id=\"text_31\">\n      <!-- 50 -->\n      <g transform=\"translate(233.416891 361.400188)scale(0.1 -0.1)\">\n       <use xlink:href=\"#DejaVuSans-53\"/>\n       <use x=\"63.623047\" xlink:href=\"#DejaVuSans-48\"/>\n      </g>\n     </g>\n    </g>\n   </g>\n   <g id=\"matplotlib.axis_6\">\n    <g id=\"ytick_13\">\n     <g id=\"line2d_61\">\n      <path clip-path=\"url(#p64e6940685)\" d=\"M 31.804688 340.274873 \nL 249.682948 340.274873 \n\" style=\"fill:none;stroke:#cbcbcb;\"/>\n     </g>\n     <g id=\"line2d_62\"/>\n     <g id=\"text_32\">\n      <!-- −10 -->\n      <g transform=\"translate(7.2 344.074091)scale(0.1 -0.1)\">\n       <use xlink:href=\"#DejaVuSans-8722\"/>\n       <use x=\"83.789062\" xlink:href=\"#DejaVuSans-49\"/>\n       <use x=\"147.412109\" xlink:href=\"#DejaVuSans-48\"/>\n      </g>\n     </g>\n    </g>\n    <g id=\"ytick_14\">\n     <g id=\"line2d_63\">\n      <path clip-path=\"url(#p64e6940685)\" d=\"M 31.804688 304.464596 \nL 249.682948 304.464596 \n\" style=\"fill:none;stroke:#cbcbcb;\"/>\n     </g>\n     <g id=\"line2d_64\"/>\n     <g id=\"text_33\">\n      <!-- −5 -->\n      <g transform=\"translate(13.5625 308.263815)scale(0.1 -0.1)\">\n       <use xlink:href=\"#DejaVuSans-8722\"/>\n       <use x=\"83.789062\" xlink:href=\"#DejaVuSans-53\"/>\n      </g>\n     </g>\n    </g>\n    <g id=\"ytick_15\">\n     <g id=\"line2d_65\">\n      <path clip-path=\"url(#p64e6940685)\" d=\"M 31.804688 268.654319 \nL 249.682948 268.654319 \n\" style=\"fill:none;stroke:#cbcbcb;\"/>\n     </g>\n     <g id=\"line2d_66\"/>\n     <g id=\"text_34\">\n      <!-- 0 -->\n      <g transform=\"translate(21.942187 272.453538)scale(0.1 -0.1)\">\n       <use xlink:href=\"#DejaVuSans-48\"/>\n      </g>\n     </g>\n    </g>\n    <g id=\"ytick_16\">\n     <g id=\"line2d_67\">\n      <path clip-path=\"url(#p64e6940685)\" d=\"M 31.804688 232.844042 \nL 249.682948 232.844042 \n\" style=\"fill:none;stroke:#cbcbcb;\"/>\n     </g>\n     <g id=\"line2d_68\"/>\n     <g id=\"text_35\">\n      <!-- 5 -->\n      <g transform=\"translate(21.942187 236.643261)scale(0.1 -0.1)\">\n       <use xlink:href=\"#DejaVuSans-53\"/>\n      </g>\n     </g>\n    </g>\n   </g>\n   <g id=\"line2d_69\">\n    <path clip-path=\"url(#p64e6940685)\" d=\"M 41.708245 214.938904 \nL 45.669668 217.517244 \nL 49.631091 220.095584 \nL 53.592514 222.673924 \nL 57.553937 225.252264 \nL 61.515359 227.830604 \nL 65.476782 230.408944 \nL 69.438205 232.987284 \nL 73.399628 235.565624 \nL 77.361051 238.143963 \nL 81.322474 240.722303 \nL 85.283897 243.300643 \nL 89.24532 245.878983 \nL 93.206743 248.457323 \nL 97.168166 251.035663 \nL 101.129589 253.614003 \nL 105.091012 256.192343 \nL 109.052435 258.770683 \nL 113.013857 261.349023 \nL 116.97528 263.927363 \nL 120.936703 266.505703 \nL 124.898126 269.084042 \nL 128.859549 271.662382 \nL 132.820972 274.240722 \nL 136.782395 276.819062 \nL 140.743818 279.397402 \nL 144.705241 281.975742 \nL 148.666664 284.554082 \nL 152.628087 287.132422 \nL 156.58951 289.710762 \nL 160.550933 292.289102 \nL 164.512355 294.867442 \nL 168.473778 297.445782 \nL 172.435201 300.024122 \nL 176.396624 302.602461 \nL 180.358047 305.180801 \nL 184.31947 307.759141 \nL 188.280893 310.337481 \nL 192.242316 312.915821 \nL 196.203739 315.494161 \nL 200.165162 318.072501 \nL 204.126585 320.650841 \nL 208.088008 323.229181 \nL 212.049431 325.807521 \nL 216.010854 328.385861 \nL 219.972276 330.964201 \nL 223.933699 333.542541 \nL 227.895122 336.12088 \nL 231.856545 338.69922 \nL 235.817968 341.27756 \nL 239.779391 343.8559 \n\" style=\"fill:none;stroke:#008fd5;stroke-width:4;\"/>\n   </g>\n   <g id=\"patch_13\">\n    <path d=\"M 31.804688 350.30175 \nL 31.804688 208.493054 \n\" style=\"fill:none;stroke:#f0f0f0;stroke-linecap:square;stroke-linejoin:miter;stroke-width:3;\"/>\n   </g>\n   <g id=\"patch_14\">\n    <path d=\"M 249.682948 350.30175 \nL 249.682948 208.493054 \n\" style=\"fill:none;stroke:#f0f0f0;stroke-linecap:square;stroke-linejoin:miter;stroke-width:3;\"/>\n   </g>\n   <g id=\"patch_15\">\n    <path d=\"M 31.804688 350.30175 \nL 249.682948 350.30175 \n\" style=\"fill:none;stroke:#f0f0f0;stroke-linecap:square;stroke-linejoin:miter;stroke-width:3;\"/>\n   </g>\n   <g id=\"patch_16\">\n    <path d=\"M 31.804688 208.493054 \nL 249.682948 208.493054 \n\" style=\"fill:none;stroke:#f0f0f0;stroke-linecap:square;stroke-linejoin:miter;stroke-width:3;\"/>\n   </g>\n   <g id=\"text_36\">\n    <!-- График y3 -->\n    <g transform=\"translate(101.054943 202.493054)scale(0.144 -0.144)\">\n     <use xlink:href=\"#DejaVuSans-1043\"/>\n     <use x=\"60.986328\" xlink:href=\"#DejaVuSans-1088\"/>\n     <use x=\"124.462891\" xlink:href=\"#DejaVuSans-1072\"/>\n     <use x=\"185.742188\" xlink:href=\"#DejaVuSans-1092\"/>\n     <use x=\"271.240234\" xlink:href=\"#DejaVuSans-1080\"/>\n     <use x=\"336.230469\" xlink:href=\"#DejaVuSans-1082\"/>\n     <use x=\"396.630859\" xlink:href=\"#DejaVuSans-32\"/>\n     <use x=\"428.417969\" xlink:href=\"#DejaVuSans-121\"/>\n     <use x=\"487.597656\" xlink:href=\"#DejaVuSans-51\"/>\n    </g>\n   </g>\n  </g>\n  <g id=\"axes_4\">\n   <g id=\"patch_17\">\n    <path d=\"M 315.046427 350.30175 \nL 532.924688 350.30175 \nL 532.924688 208.493054 \nL 315.046427 208.493054 \nz\n\" style=\"fill:#f0f0f0;\"/>\n   </g>\n   <g id=\"matplotlib.axis_7\">\n    <g id=\"xtick_18\">\n     <g id=\"line2d_70\">\n      <path clip-path=\"url(#pb29f567441)\" d=\"M 324.949984 350.30175 \nL 324.949984 208.493054 \n\" style=\"fill:none;stroke:#cbcbcb;\"/>\n     </g>\n     <g id=\"line2d_71\"/>\n     <g id=\"text_37\">\n      <!-- 0 -->\n      <g transform=\"translate(321.768734 361.400188)scale(0.1 -0.1)\">\n       <use xlink:href=\"#DejaVuSans-48\"/>\n      </g>\n     </g>\n    </g>\n    <g id=\"xtick_19\">\n     <g id=\"line2d_72\">\n      <path clip-path=\"url(#pb29f567441)\" d=\"M 364.564213 350.30175 \nL 364.564213 208.493054 \n\" style=\"fill:none;stroke:#cbcbcb;\"/>\n     </g>\n     <g id=\"line2d_73\"/>\n     <g id=\"text_38\">\n      <!-- 10 -->\n      <g transform=\"translate(358.201713 361.400188)scale(0.1 -0.1)\">\n       <use xlink:href=\"#DejaVuSans-49\"/>\n       <use x=\"63.623047\" xlink:href=\"#DejaVuSans-48\"/>\n      </g>\n     </g>\n    </g>\n    <g id=\"xtick_20\">\n     <g id=\"line2d_74\">\n      <path clip-path=\"url(#pb29f567441)\" d=\"M 404.178442 350.30175 \nL 404.178442 208.493054 \n\" style=\"fill:none;stroke:#cbcbcb;\"/>\n     </g>\n     <g id=\"line2d_75\"/>\n     <g id=\"text_39\">\n      <!-- 20 -->\n      <g transform=\"translate(397.815942 361.400188)scale(0.1 -0.1)\">\n       <use xlink:href=\"#DejaVuSans-50\"/>\n       <use x=\"63.623047\" xlink:href=\"#DejaVuSans-48\"/>\n      </g>\n     </g>\n    </g>\n    <g id=\"xtick_21\">\n     <g id=\"line2d_76\">\n      <path clip-path=\"url(#pb29f567441)\" d=\"M 443.792672 350.30175 \nL 443.792672 208.493054 \n\" style=\"fill:none;stroke:#cbcbcb;\"/>\n     </g>\n     <g id=\"line2d_77\"/>\n     <g id=\"text_40\">\n      <!-- 30 -->\n      <g transform=\"translate(437.430172 361.400188)scale(0.1 -0.1)\">\n       <use xlink:href=\"#DejaVuSans-51\"/>\n       <use x=\"63.623047\" xlink:href=\"#DejaVuSans-48\"/>\n      </g>\n     </g>\n    </g>\n    <g id=\"xtick_22\">\n     <g id=\"line2d_78\">\n      <path clip-path=\"url(#pb29f567441)\" d=\"M 483.406901 350.30175 \nL 483.406901 208.493054 \n\" style=\"fill:none;stroke:#cbcbcb;\"/>\n     </g>\n     <g id=\"line2d_79\"/>\n     <g id=\"text_41\">\n      <!-- 40 -->\n      <g transform=\"translate(477.044401 361.400188)scale(0.1 -0.1)\">\n       <use xlink:href=\"#DejaVuSans-52\"/>\n       <use x=\"63.623047\" xlink:href=\"#DejaVuSans-48\"/>\n      </g>\n     </g>\n    </g>\n    <g id=\"xtick_23\">\n     <g id=\"line2d_80\">\n      <path clip-path=\"url(#pb29f567441)\" d=\"M 523.02113 350.30175 \nL 523.02113 208.493054 \n\" style=\"fill:none;stroke:#cbcbcb;\"/>\n     </g>\n     <g id=\"line2d_81\"/>\n     <g id=\"text_42\">\n      <!-- 50 -->\n      <g transform=\"translate(516.65863 361.400188)scale(0.1 -0.1)\">\n       <use xlink:href=\"#DejaVuSans-53\"/>\n       <use x=\"63.623047\" xlink:href=\"#DejaVuSans-48\"/>\n      </g>\n     </g>\n    </g>\n   </g>\n   <g id=\"matplotlib.axis_8\">\n    <g id=\"ytick_17\">\n     <g id=\"line2d_82\">\n      <path clip-path=\"url(#pb29f567441)\" d=\"M 315.046427 343.859657 \nL 532.924688 343.859657 \n\" style=\"fill:none;stroke:#cbcbcb;\"/>\n     </g>\n     <g id=\"line2d_83\"/>\n     <g id=\"text_43\">\n      <!-- −1.0 -->\n      <defs>\n       <path d=\"M 10.6875 12.40625 \nL 21 12.40625 \nL 21 0 \nL 10.6875 0 \nz\n\" id=\"DejaVuSans-46\"/>\n      </defs>\n      <g transform=\"translate(287.263614 347.658876)scale(0.1 -0.1)\">\n       <use xlink:href=\"#DejaVuSans-8722\"/>\n       <use x=\"83.789062\" xlink:href=\"#DejaVuSans-49\"/>\n       <use x=\"147.412109\" xlink:href=\"#DejaVuSans-46\"/>\n       <use x=\"179.199219\" xlink:href=\"#DejaVuSans-48\"/>\n      </g>\n     </g>\n    </g>\n    <g id=\"ytick_18\">\n     <g id=\"line2d_84\">\n      <path clip-path=\"url(#pb29f567441)\" d=\"M 315.046427 311.62853 \nL 532.924688 311.62853 \n\" style=\"fill:none;stroke:#cbcbcb;\"/>\n     </g>\n     <g id=\"line2d_85\"/>\n     <g id=\"text_44\">\n      <!-- −0.5 -->\n      <g transform=\"translate(287.263614 315.427748)scale(0.1 -0.1)\">\n       <use xlink:href=\"#DejaVuSans-8722\"/>\n       <use x=\"83.789062\" xlink:href=\"#DejaVuSans-48\"/>\n       <use x=\"147.412109\" xlink:href=\"#DejaVuSans-46\"/>\n       <use x=\"179.199219\" xlink:href=\"#DejaVuSans-53\"/>\n      </g>\n     </g>\n    </g>\n    <g id=\"ytick_19\">\n     <g id=\"line2d_86\">\n      <path clip-path=\"url(#pb29f567441)\" d=\"M 315.046427 279.397402 \nL 532.924688 279.397402 \n\" style=\"fill:none;stroke:#cbcbcb;\"/>\n     </g>\n     <g id=\"line2d_87\"/>\n     <g id=\"text_45\">\n      <!-- 0.0 -->\n      <g transform=\"translate(295.643302 283.196621)scale(0.1 -0.1)\">\n       <use xlink:href=\"#DejaVuSans-48\"/>\n       <use x=\"63.623047\" xlink:href=\"#DejaVuSans-46\"/>\n       <use x=\"95.410156\" xlink:href=\"#DejaVuSans-48\"/>\n      </g>\n     </g>\n    </g>\n    <g id=\"ytick_20\">\n     <g id=\"line2d_88\">\n      <path clip-path=\"url(#pb29f567441)\" d=\"M 315.046427 247.166275 \nL 532.924688 247.166275 \n\" style=\"fill:none;stroke:#cbcbcb;\"/>\n     </g>\n     <g id=\"line2d_89\"/>\n     <g id=\"text_46\">\n      <!-- 0.5 -->\n      <g transform=\"translate(295.643302 250.965493)scale(0.1 -0.1)\">\n       <use xlink:href=\"#DejaVuSans-48\"/>\n       <use x=\"63.623047\" xlink:href=\"#DejaVuSans-46\"/>\n       <use x=\"95.410156\" xlink:href=\"#DejaVuSans-53\"/>\n      </g>\n     </g>\n    </g>\n    <g id=\"ytick_21\">\n     <g id=\"line2d_90\">\n      <path clip-path=\"url(#pb29f567441)\" d=\"M 315.046427 214.935147 \nL 532.924688 214.935147 \n\" style=\"fill:none;stroke:#cbcbcb;\"/>\n     </g>\n     <g id=\"line2d_91\"/>\n     <g id=\"text_47\">\n      <!-- 1.0 -->\n      <g transform=\"translate(295.643302 218.734366)scale(0.1 -0.1)\">\n       <use xlink:href=\"#DejaVuSans-49\"/>\n       <use x=\"63.623047\" xlink:href=\"#DejaVuSans-46\"/>\n       <use x=\"95.410156\" xlink:href=\"#DejaVuSans-48\"/>\n      </g>\n     </g>\n    </g>\n   </g>\n   <g id=\"line2d_92\">\n    <path clip-path=\"url(#pb29f567441)\" d=\"M 324.949984 288.494316 \nL 328.911407 296.068589 \nL 332.87283 303.403084 \nL 336.834253 310.392312 \nL 340.795676 316.935749 \nL 344.757099 322.939282 \nL 348.718521 328.316564 \nL 352.679944 332.990255 \nL 356.641367 336.893134 \nL 360.60279 339.969068 \nL 364.564213 342.173816 \nL 368.525636 343.475668 \nL 372.487059 343.8559 \nL 376.448482 343.309043 \nL 380.409905 341.842962 \nL 384.371328 339.478743 \nL 388.332751 336.250391 \nL 392.294174 332.204338 \nL 396.255597 327.398777 \nL 400.21702 321.902825 \nL 404.178442 315.795529 \nL 408.139865 309.164729 \nL 412.101288 302.105794 \nL 416.062711 294.720249 \nL 420.024134 287.114321 \nL 423.985557 279.397402 \nL 427.94698 271.680483 \nL 431.908403 264.074555 \nL 435.869826 256.689011 \nL 439.831249 249.630075 \nL 443.792672 242.999275 \nL 447.754095 236.891979 \nL 451.715518 231.396028 \nL 455.67694 226.590467 \nL 459.638363 222.544413 \nL 463.599786 219.316061 \nL 467.561209 216.951842 \nL 471.522632 215.485761 \nL 475.484055 214.938904 \nL 479.445478 215.319136 \nL 483.406901 216.620988 \nL 487.368324 218.825736 \nL 491.329747 221.90167 \nL 495.29117 225.80455 \nL 499.252593 230.478241 \nL 503.214016 235.855522 \nL 507.175438 241.859055 \nL 511.136861 248.402492 \nL 515.098284 255.39172 \nL 519.059707 262.726216 \nL 523.02113 270.300488 \n\" style=\"fill:none;stroke:#008fd5;stroke-width:4;\"/>\n   </g>\n   <g id=\"patch_18\">\n    <path d=\"M 315.046427 350.30175 \nL 315.046427 208.493054 \n\" style=\"fill:none;stroke:#f0f0f0;stroke-linecap:square;stroke-linejoin:miter;stroke-width:3;\"/>\n   </g>\n   <g id=\"patch_19\">\n    <path d=\"M 532.924688 350.30175 \nL 532.924688 208.493054 \n\" style=\"fill:none;stroke:#f0f0f0;stroke-linecap:square;stroke-linejoin:miter;stroke-width:3;\"/>\n   </g>\n   <g id=\"patch_20\">\n    <path d=\"M 315.046427 350.30175 \nL 532.924688 350.30175 \n\" style=\"fill:none;stroke:#f0f0f0;stroke-linecap:square;stroke-linejoin:miter;stroke-width:3;\"/>\n   </g>\n   <g id=\"patch_21\">\n    <path d=\"M 315.046427 208.493054 \nL 532.924688 208.493054 \n\" style=\"fill:none;stroke:#f0f0f0;stroke-linecap:square;stroke-linejoin:miter;stroke-width:3;\"/>\n   </g>\n   <g id=\"text_48\">\n    <!-- График y4 -->\n    <g transform=\"translate(384.296682 202.493054)scale(0.144 -0.144)\">\n     <use xlink:href=\"#DejaVuSans-1043\"/>\n     <use x=\"60.986328\" xlink:href=\"#DejaVuSans-1088\"/>\n     <use x=\"124.462891\" xlink:href=\"#DejaVuSans-1072\"/>\n     <use x=\"185.742188\" xlink:href=\"#DejaVuSans-1092\"/>\n     <use x=\"271.240234\" xlink:href=\"#DejaVuSans-1080\"/>\n     <use x=\"336.230469\" xlink:href=\"#DejaVuSans-1082\"/>\n     <use x=\"396.630859\" xlink:href=\"#DejaVuSans-32\"/>\n     <use x=\"428.417969\" xlink:href=\"#DejaVuSans-121\"/>\n     <use x=\"487.597656\" xlink:href=\"#DejaVuSans-52\"/>\n    </g>\n   </g>\n  </g>\n </g>\n <defs>\n  <clipPath id=\"pb619176bc6\">\n   <rect height=\"141.808696\" width=\"217.878261\" x=\"31.804688\" y=\"24.14175\"/>\n  </clipPath>\n  <clipPath id=\"pdae4e14a18\">\n   <rect height=\"141.808696\" width=\"217.878261\" x=\"315.046427\" y=\"24.14175\"/>\n  </clipPath>\n  <clipPath id=\"p64e6940685\">\n   <rect height=\"141.808696\" width=\"217.878261\" x=\"31.804688\" y=\"208.493054\"/>\n  </clipPath>\n  <clipPath id=\"pb29f567441\">\n   <rect height=\"141.808696\" width=\"217.878261\" x=\"315.046427\" y=\"208.493054\"/>\n  </clipPath>\n </defs>\n</svg>\n"
          },
          "metadata": {
            "tags": [],
            "needs_background": "light"
          }
        }
      ]
    },
    {
      "cell_type": "markdown",
      "metadata": {
        "id": "oGnrlhVUrNUP"
      },
      "source": [
        "**Задание 4.**\n",
        "\n",
        "В этом задании мы будем работать с датасетом, в котором приведены данные по мошенничеству с кредитными данными: Credit Card Fraud Detection (информация об авторах: Andrea Dal Pozzolo, Olivier Caelen, Reid A. Johnson and Gianluca Bontempi. Calibrating Probability with Undersampling for Unbalanced Classification. In Symposium on Computational Intelligence and Data Mining (CIDM), IEEE, 2015).\n",
        "Ознакомьтесь с описанием и скачайте датасет creditcard.csv с сайта Kaggle.com по ссылке:\n",
        "https://www.kaggle.com/mlg-ulb/creditcardfraud\n",
        "Данный датасет является примером несбалансированных данных, так как мошеннические операции с картами встречаются реже обычных.\n",
        "Импортруйте библиотеку Pandas, а также используйте для графиков стиль “fivethirtyeight”.\n",
        "Посчитайте с помощью метода value_counts количество наблюдений для каждого значения целевой переменной Class и примените к полученным данным метод plot, чтобы построить столбчатую диаграмму. Затем постройте такую же диаграмму, используя логарифмический масштаб.\n",
        "На следующем графике постройте две гистограммы по значениям признака V1 - одну для мошеннических транзакций (Class равен 1) и другую - для обычных (Class равен 0). Подберите значение аргумента density так, чтобы по вертикали графика было расположено не число наблюдений, а плотность распределения. Число бинов должно равняться 20 для обеих гистограмм, а коэффициент alpha сделайте равным 0.5, чтобы гистограммы были полупрозрачными и не загораживали друг друга. Создайте легенду с двумя значениями: “Class 0” и “Class 1”. Гистограмма обычных транзакций должна быть серого цвета, а мошеннических - красного. Горизонтальной оси дайте название “Class”."
      ]
    },
    {
      "cell_type": "code",
      "metadata": {
        "id": "fef0bLm3sIqT",
        "outputId": "a6ae3343-822e-42c5-8d35-2747e7142e9c",
        "colab": {
          "base_uri": "https://localhost:8080/",
          "height": 224
        }
      },
      "source": [
        "df = pd.read_csv('creditcard.csv')\n",
        "df.head()"
      ],
      "execution_count": 66,
      "outputs": [
        {
          "output_type": "execute_result",
          "data": {
            "text/html": [
              "<div>\n",
              "<style scoped>\n",
              "    .dataframe tbody tr th:only-of-type {\n",
              "        vertical-align: middle;\n",
              "    }\n",
              "\n",
              "    .dataframe tbody tr th {\n",
              "        vertical-align: top;\n",
              "    }\n",
              "\n",
              "    .dataframe thead th {\n",
              "        text-align: right;\n",
              "    }\n",
              "</style>\n",
              "<table border=\"1\" class=\"dataframe\">\n",
              "  <thead>\n",
              "    <tr style=\"text-align: right;\">\n",
              "      <th></th>\n",
              "      <th>Time</th>\n",
              "      <th>V1</th>\n",
              "      <th>V2</th>\n",
              "      <th>V3</th>\n",
              "      <th>V4</th>\n",
              "      <th>V5</th>\n",
              "      <th>V6</th>\n",
              "      <th>V7</th>\n",
              "      <th>V8</th>\n",
              "      <th>V9</th>\n",
              "      <th>V10</th>\n",
              "      <th>V11</th>\n",
              "      <th>V12</th>\n",
              "      <th>V13</th>\n",
              "      <th>V14</th>\n",
              "      <th>V15</th>\n",
              "      <th>V16</th>\n",
              "      <th>V17</th>\n",
              "      <th>V18</th>\n",
              "      <th>V19</th>\n",
              "      <th>V20</th>\n",
              "      <th>V21</th>\n",
              "      <th>V22</th>\n",
              "      <th>V23</th>\n",
              "      <th>V24</th>\n",
              "      <th>V25</th>\n",
              "      <th>V26</th>\n",
              "      <th>V27</th>\n",
              "      <th>V28</th>\n",
              "      <th>Amount</th>\n",
              "      <th>Class</th>\n",
              "    </tr>\n",
              "  </thead>\n",
              "  <tbody>\n",
              "    <tr>\n",
              "      <th>0</th>\n",
              "      <td>0.0</td>\n",
              "      <td>-1.359807</td>\n",
              "      <td>-0.072781</td>\n",
              "      <td>2.536347</td>\n",
              "      <td>1.378155</td>\n",
              "      <td>-0.338321</td>\n",
              "      <td>0.462388</td>\n",
              "      <td>0.239599</td>\n",
              "      <td>0.098698</td>\n",
              "      <td>0.363787</td>\n",
              "      <td>0.090794</td>\n",
              "      <td>-0.551600</td>\n",
              "      <td>-0.617801</td>\n",
              "      <td>-0.991390</td>\n",
              "      <td>-0.311169</td>\n",
              "      <td>1.468177</td>\n",
              "      <td>-0.470401</td>\n",
              "      <td>0.207971</td>\n",
              "      <td>0.025791</td>\n",
              "      <td>0.403993</td>\n",
              "      <td>0.251412</td>\n",
              "      <td>-0.018307</td>\n",
              "      <td>0.277838</td>\n",
              "      <td>-0.110474</td>\n",
              "      <td>0.066928</td>\n",
              "      <td>0.128539</td>\n",
              "      <td>-0.189115</td>\n",
              "      <td>0.133558</td>\n",
              "      <td>-0.021053</td>\n",
              "      <td>149.62</td>\n",
              "      <td>0</td>\n",
              "    </tr>\n",
              "    <tr>\n",
              "      <th>1</th>\n",
              "      <td>0.0</td>\n",
              "      <td>1.191857</td>\n",
              "      <td>0.266151</td>\n",
              "      <td>0.166480</td>\n",
              "      <td>0.448154</td>\n",
              "      <td>0.060018</td>\n",
              "      <td>-0.082361</td>\n",
              "      <td>-0.078803</td>\n",
              "      <td>0.085102</td>\n",
              "      <td>-0.255425</td>\n",
              "      <td>-0.166974</td>\n",
              "      <td>1.612727</td>\n",
              "      <td>1.065235</td>\n",
              "      <td>0.489095</td>\n",
              "      <td>-0.143772</td>\n",
              "      <td>0.635558</td>\n",
              "      <td>0.463917</td>\n",
              "      <td>-0.114805</td>\n",
              "      <td>-0.183361</td>\n",
              "      <td>-0.145783</td>\n",
              "      <td>-0.069083</td>\n",
              "      <td>-0.225775</td>\n",
              "      <td>-0.638672</td>\n",
              "      <td>0.101288</td>\n",
              "      <td>-0.339846</td>\n",
              "      <td>0.167170</td>\n",
              "      <td>0.125895</td>\n",
              "      <td>-0.008983</td>\n",
              "      <td>0.014724</td>\n",
              "      <td>2.69</td>\n",
              "      <td>0</td>\n",
              "    </tr>\n",
              "    <tr>\n",
              "      <th>2</th>\n",
              "      <td>1.0</td>\n",
              "      <td>-1.358354</td>\n",
              "      <td>-1.340163</td>\n",
              "      <td>1.773209</td>\n",
              "      <td>0.379780</td>\n",
              "      <td>-0.503198</td>\n",
              "      <td>1.800499</td>\n",
              "      <td>0.791461</td>\n",
              "      <td>0.247676</td>\n",
              "      <td>-1.514654</td>\n",
              "      <td>0.207643</td>\n",
              "      <td>0.624501</td>\n",
              "      <td>0.066084</td>\n",
              "      <td>0.717293</td>\n",
              "      <td>-0.165946</td>\n",
              "      <td>2.345865</td>\n",
              "      <td>-2.890083</td>\n",
              "      <td>1.109969</td>\n",
              "      <td>-0.121359</td>\n",
              "      <td>-2.261857</td>\n",
              "      <td>0.524980</td>\n",
              "      <td>0.247998</td>\n",
              "      <td>0.771679</td>\n",
              "      <td>0.909412</td>\n",
              "      <td>-0.689281</td>\n",
              "      <td>-0.327642</td>\n",
              "      <td>-0.139097</td>\n",
              "      <td>-0.055353</td>\n",
              "      <td>-0.059752</td>\n",
              "      <td>378.66</td>\n",
              "      <td>0</td>\n",
              "    </tr>\n",
              "    <tr>\n",
              "      <th>3</th>\n",
              "      <td>1.0</td>\n",
              "      <td>-0.966272</td>\n",
              "      <td>-0.185226</td>\n",
              "      <td>1.792993</td>\n",
              "      <td>-0.863291</td>\n",
              "      <td>-0.010309</td>\n",
              "      <td>1.247203</td>\n",
              "      <td>0.237609</td>\n",
              "      <td>0.377436</td>\n",
              "      <td>-1.387024</td>\n",
              "      <td>-0.054952</td>\n",
              "      <td>-0.226487</td>\n",
              "      <td>0.178228</td>\n",
              "      <td>0.507757</td>\n",
              "      <td>-0.287924</td>\n",
              "      <td>-0.631418</td>\n",
              "      <td>-1.059647</td>\n",
              "      <td>-0.684093</td>\n",
              "      <td>1.965775</td>\n",
              "      <td>-1.232622</td>\n",
              "      <td>-0.208038</td>\n",
              "      <td>-0.108300</td>\n",
              "      <td>0.005274</td>\n",
              "      <td>-0.190321</td>\n",
              "      <td>-1.175575</td>\n",
              "      <td>0.647376</td>\n",
              "      <td>-0.221929</td>\n",
              "      <td>0.062723</td>\n",
              "      <td>0.061458</td>\n",
              "      <td>123.50</td>\n",
              "      <td>0</td>\n",
              "    </tr>\n",
              "    <tr>\n",
              "      <th>4</th>\n",
              "      <td>2.0</td>\n",
              "      <td>-1.158233</td>\n",
              "      <td>0.877737</td>\n",
              "      <td>1.548718</td>\n",
              "      <td>0.403034</td>\n",
              "      <td>-0.407193</td>\n",
              "      <td>0.095921</td>\n",
              "      <td>0.592941</td>\n",
              "      <td>-0.270533</td>\n",
              "      <td>0.817739</td>\n",
              "      <td>0.753074</td>\n",
              "      <td>-0.822843</td>\n",
              "      <td>0.538196</td>\n",
              "      <td>1.345852</td>\n",
              "      <td>-1.119670</td>\n",
              "      <td>0.175121</td>\n",
              "      <td>-0.451449</td>\n",
              "      <td>-0.237033</td>\n",
              "      <td>-0.038195</td>\n",
              "      <td>0.803487</td>\n",
              "      <td>0.408542</td>\n",
              "      <td>-0.009431</td>\n",
              "      <td>0.798278</td>\n",
              "      <td>-0.137458</td>\n",
              "      <td>0.141267</td>\n",
              "      <td>-0.206010</td>\n",
              "      <td>0.502292</td>\n",
              "      <td>0.219422</td>\n",
              "      <td>0.215153</td>\n",
              "      <td>69.99</td>\n",
              "      <td>0</td>\n",
              "    </tr>\n",
              "  </tbody>\n",
              "</table>\n",
              "</div>"
            ],
            "text/plain": [
              "   Time        V1        V2        V3  ...       V27       V28  Amount  Class\n",
              "0   0.0 -1.359807 -0.072781  2.536347  ...  0.133558 -0.021053  149.62      0\n",
              "1   0.0  1.191857  0.266151  0.166480  ... -0.008983  0.014724    2.69      0\n",
              "2   1.0 -1.358354 -1.340163  1.773209  ... -0.055353 -0.059752  378.66      0\n",
              "3   1.0 -0.966272 -0.185226  1.792993  ...  0.062723  0.061458  123.50      0\n",
              "4   2.0 -1.158233  0.877737  1.548718  ...  0.219422  0.215153   69.99      0\n",
              "\n",
              "[5 rows x 31 columns]"
            ]
          },
          "metadata": {
            "tags": []
          },
          "execution_count": 66
        }
      ]
    },
    {
      "cell_type": "code",
      "metadata": {
        "id": "vci6Qze66scg",
        "outputId": "0de7b31b-463f-424b-ea5a-d9f4093e94f3",
        "colab": {
          "base_uri": "https://localhost:8080/",
          "height": 68
        }
      },
      "source": [
        "df['Class'].value_counts()"
      ],
      "execution_count": 67,
      "outputs": [
        {
          "output_type": "execute_result",
          "data": {
            "text/plain": [
              "0    284315\n",
              "1       492\n",
              "Name: Class, dtype: int64"
            ]
          },
          "metadata": {
            "tags": []
          },
          "execution_count": 67
        }
      ]
    },
    {
      "cell_type": "code",
      "metadata": {
        "id": "eNiqfSxp6sck"
      },
      "source": [
        "plt.style.use('fivethirtyeight')"
      ],
      "execution_count": 68,
      "outputs": []
    },
    {
      "cell_type": "code",
      "metadata": {
        "id": "IyXb1z2M6sco",
        "outputId": "8cbd278f-6833-47c9-f7e0-891174f5098a",
        "colab": {
          "base_uri": "https://localhost:8080/",
          "height": 368
        }
      },
      "source": [
        "df['Class'].value_counts().plot(kind='bar')\n",
        "plt.show()\n",
        "None"
      ],
      "execution_count": 69,
      "outputs": [
        {
          "output_type": "display_data",
          "data": {
            "text/plain": [
              "<Figure size 432x288 with 1 Axes>"
            ],
            "image/svg+xml": "<?xml version=\"1.0\" encoding=\"utf-8\" standalone=\"no\"?>\n<!DOCTYPE svg PUBLIC \"-//W3C//DTD SVG 1.1//EN\"\n  \"http://www.w3.org/Graphics/SVG/1.1/DTD/svg11.dtd\">\n<!-- Created with matplotlib (https://matplotlib.org/) -->\n<svg height=\"260.0875pt\" version=\"1.1\" viewBox=\"0 0 447.185 260.0875\" width=\"447.185pt\" xmlns=\"http://www.w3.org/2000/svg\" xmlns:xlink=\"http://www.w3.org/1999/xlink\">\n <defs>\n  <style type=\"text/css\">\n*{stroke-linecap:butt;stroke-linejoin:round;}\n  </style>\n </defs>\n <g id=\"figure_1\">\n  <g id=\"patch_1\">\n   <path d=\"M 0 260.0875 \nL 447.185 260.0875 \nL 447.185 0 \nL 0 0 \nz\n\" style=\"fill:#f0f0f0;\"/>\n  </g>\n  <g id=\"axes_1\">\n   <g id=\"patch_2\">\n    <path d=\"M 64.145 240.48 \nL 439.985 240.48 \nL 439.985 7.2 \nL 64.145 7.2 \nz\n\" style=\"fill:#f0f0f0;\"/>\n   </g>\n   <g id=\"matplotlib.axis_1\">\n    <g id=\"xtick_1\">\n     <g id=\"line2d_1\">\n      <path clip-path=\"url(#p823fc2fd53)\" d=\"M 158.105 240.48 \nL 158.105 7.2 \n\" style=\"fill:none;stroke:#cbcbcb;\"/>\n     </g>\n     <g id=\"line2d_2\"/>\n     <g id=\"text_1\">\n      <!-- 0 -->\n      <defs>\n       <path d=\"M 31.78125 66.40625 \nQ 24.171875 66.40625 20.328125 58.90625 \nQ 16.5 51.421875 16.5 36.375 \nQ 16.5 21.390625 20.328125 13.890625 \nQ 24.171875 6.390625 31.78125 6.390625 \nQ 39.453125 6.390625 43.28125 13.890625 \nQ 47.125 21.390625 47.125 36.375 \nQ 47.125 51.421875 43.28125 58.90625 \nQ 39.453125 66.40625 31.78125 66.40625 \nz\nM 31.78125 74.21875 \nQ 44.046875 74.21875 50.515625 64.515625 \nQ 56.984375 54.828125 56.984375 36.375 \nQ 56.984375 17.96875 50.515625 8.265625 \nQ 44.046875 -1.421875 31.78125 -1.421875 \nQ 19.53125 -1.421875 13.0625 8.265625 \nQ 6.59375 17.96875 6.59375 36.375 \nQ 6.59375 54.828125 13.0625 64.515625 \nQ 19.53125 74.21875 31.78125 74.21875 \nz\n\" id=\"DejaVuSans-48\"/>\n      </defs>\n      <g transform=\"translate(161.968125 252.8875)rotate(-90)scale(0.14 -0.14)\">\n       <use xlink:href=\"#DejaVuSans-48\"/>\n      </g>\n     </g>\n    </g>\n    <g id=\"xtick_2\">\n     <g id=\"line2d_3\">\n      <path clip-path=\"url(#p823fc2fd53)\" d=\"M 346.025 240.48 \nL 346.025 7.2 \n\" style=\"fill:none;stroke:#cbcbcb;\"/>\n     </g>\n     <g id=\"line2d_4\"/>\n     <g id=\"text_2\">\n      <!-- 1 -->\n      <defs>\n       <path d=\"M 12.40625 8.296875 \nL 28.515625 8.296875 \nL 28.515625 63.921875 \nL 10.984375 60.40625 \nL 10.984375 69.390625 \nL 28.421875 72.90625 \nL 38.28125 72.90625 \nL 38.28125 8.296875 \nL 54.390625 8.296875 \nL 54.390625 0 \nL 12.40625 0 \nz\n\" id=\"DejaVuSans-49\"/>\n      </defs>\n      <g transform=\"translate(349.888125 252.8875)rotate(-90)scale(0.14 -0.14)\">\n       <use xlink:href=\"#DejaVuSans-49\"/>\n      </g>\n     </g>\n    </g>\n   </g>\n   <g id=\"matplotlib.axis_2\">\n    <g id=\"ytick_1\">\n     <g id=\"line2d_5\">\n      <path clip-path=\"url(#p823fc2fd53)\" d=\"M 64.145 240.48 \nL 439.985 240.48 \n\" style=\"fill:none;stroke:#cbcbcb;\"/>\n     </g>\n     <g id=\"line2d_6\"/>\n     <g id=\"text_3\">\n      <!-- 0 -->\n      <g transform=\"translate(51.7375 245.798906)scale(0.14 -0.14)\">\n       <use xlink:href=\"#DejaVuSans-48\"/>\n      </g>\n     </g>\n    </g>\n    <g id=\"ytick_2\">\n     <g id=\"line2d_7\">\n      <path clip-path=\"url(#p823fc2fd53)\" d=\"M 64.145 201.408648 \nL 439.985 201.408648 \n\" style=\"fill:none;stroke:#cbcbcb;\"/>\n     </g>\n     <g id=\"line2d_8\"/>\n     <g id=\"text_4\">\n      <!-- 50000 -->\n      <defs>\n       <path d=\"M 10.796875 72.90625 \nL 49.515625 72.90625 \nL 49.515625 64.59375 \nL 19.828125 64.59375 \nL 19.828125 46.734375 \nQ 21.96875 47.46875 24.109375 47.828125 \nQ 26.265625 48.1875 28.421875 48.1875 \nQ 40.625 48.1875 47.75 41.5 \nQ 54.890625 34.8125 54.890625 23.390625 \nQ 54.890625 11.625 47.5625 5.09375 \nQ 40.234375 -1.421875 26.90625 -1.421875 \nQ 22.3125 -1.421875 17.546875 -0.640625 \nQ 12.796875 0.140625 7.71875 1.703125 \nL 7.71875 11.625 \nQ 12.109375 9.234375 16.796875 8.0625 \nQ 21.484375 6.890625 26.703125 6.890625 \nQ 35.15625 6.890625 40.078125 11.328125 \nQ 45.015625 15.765625 45.015625 23.390625 \nQ 45.015625 31 40.078125 35.4375 \nQ 35.15625 39.890625 26.703125 39.890625 \nQ 22.75 39.890625 18.8125 39.015625 \nQ 14.890625 38.140625 10.796875 36.28125 \nz\n\" id=\"DejaVuSans-53\"/>\n      </defs>\n      <g transform=\"translate(16.1075 206.727554)scale(0.14 -0.14)\">\n       <use xlink:href=\"#DejaVuSans-53\"/>\n       <use x=\"63.623047\" xlink:href=\"#DejaVuSans-48\"/>\n       <use x=\"127.246094\" xlink:href=\"#DejaVuSans-48\"/>\n       <use x=\"190.869141\" xlink:href=\"#DejaVuSans-48\"/>\n       <use x=\"254.492188\" xlink:href=\"#DejaVuSans-48\"/>\n      </g>\n     </g>\n    </g>\n    <g id=\"ytick_3\">\n     <g id=\"line2d_9\">\n      <path clip-path=\"url(#p823fc2fd53)\" d=\"M 64.145 162.337296 \nL 439.985 162.337296 \n\" style=\"fill:none;stroke:#cbcbcb;\"/>\n     </g>\n     <g id=\"line2d_10\"/>\n     <g id=\"text_5\">\n      <!-- 100000 -->\n      <g transform=\"translate(7.2 167.656202)scale(0.14 -0.14)\">\n       <use xlink:href=\"#DejaVuSans-49\"/>\n       <use x=\"63.623047\" xlink:href=\"#DejaVuSans-48\"/>\n       <use x=\"127.246094\" xlink:href=\"#DejaVuSans-48\"/>\n       <use x=\"190.869141\" xlink:href=\"#DejaVuSans-48\"/>\n       <use x=\"254.492188\" xlink:href=\"#DejaVuSans-48\"/>\n       <use x=\"318.115234\" xlink:href=\"#DejaVuSans-48\"/>\n      </g>\n     </g>\n    </g>\n    <g id=\"ytick_4\">\n     <g id=\"line2d_11\">\n      <path clip-path=\"url(#p823fc2fd53)\" d=\"M 64.145 123.265944 \nL 439.985 123.265944 \n\" style=\"fill:none;stroke:#cbcbcb;\"/>\n     </g>\n     <g id=\"line2d_12\"/>\n     <g id=\"text_6\">\n      <!-- 150000 -->\n      <g transform=\"translate(7.2 128.58485)scale(0.14 -0.14)\">\n       <use xlink:href=\"#DejaVuSans-49\"/>\n       <use x=\"63.623047\" xlink:href=\"#DejaVuSans-53\"/>\n       <use x=\"127.246094\" xlink:href=\"#DejaVuSans-48\"/>\n       <use x=\"190.869141\" xlink:href=\"#DejaVuSans-48\"/>\n       <use x=\"254.492188\" xlink:href=\"#DejaVuSans-48\"/>\n       <use x=\"318.115234\" xlink:href=\"#DejaVuSans-48\"/>\n      </g>\n     </g>\n    </g>\n    <g id=\"ytick_5\">\n     <g id=\"line2d_13\">\n      <path clip-path=\"url(#p823fc2fd53)\" d=\"M 64.145 84.194592 \nL 439.985 84.194592 \n\" style=\"fill:none;stroke:#cbcbcb;\"/>\n     </g>\n     <g id=\"line2d_14\"/>\n     <g id=\"text_7\">\n      <!-- 200000 -->\n      <defs>\n       <path d=\"M 19.1875 8.296875 \nL 53.609375 8.296875 \nL 53.609375 0 \nL 7.328125 0 \nL 7.328125 8.296875 \nQ 12.9375 14.109375 22.625 23.890625 \nQ 32.328125 33.6875 34.8125 36.53125 \nQ 39.546875 41.84375 41.421875 45.53125 \nQ 43.3125 49.21875 43.3125 52.78125 \nQ 43.3125 58.59375 39.234375 62.25 \nQ 35.15625 65.921875 28.609375 65.921875 \nQ 23.96875 65.921875 18.8125 64.3125 \nQ 13.671875 62.703125 7.8125 59.421875 \nL 7.8125 69.390625 \nQ 13.765625 71.78125 18.9375 73 \nQ 24.125 74.21875 28.421875 74.21875 \nQ 39.75 74.21875 46.484375 68.546875 \nQ 53.21875 62.890625 53.21875 53.421875 \nQ 53.21875 48.921875 51.53125 44.890625 \nQ 49.859375 40.875 45.40625 35.40625 \nQ 44.1875 33.984375 37.640625 27.21875 \nQ 31.109375 20.453125 19.1875 8.296875 \nz\n\" id=\"DejaVuSans-50\"/>\n      </defs>\n      <g transform=\"translate(7.2 89.513498)scale(0.14 -0.14)\">\n       <use xlink:href=\"#DejaVuSans-50\"/>\n       <use x=\"63.623047\" xlink:href=\"#DejaVuSans-48\"/>\n       <use x=\"127.246094\" xlink:href=\"#DejaVuSans-48\"/>\n       <use x=\"190.869141\" xlink:href=\"#DejaVuSans-48\"/>\n       <use x=\"254.492188\" xlink:href=\"#DejaVuSans-48\"/>\n       <use x=\"318.115234\" xlink:href=\"#DejaVuSans-48\"/>\n      </g>\n     </g>\n    </g>\n    <g id=\"ytick_6\">\n     <g id=\"line2d_15\">\n      <path clip-path=\"url(#p823fc2fd53)\" d=\"M 64.145 45.12324 \nL 439.985 45.12324 \n\" style=\"fill:none;stroke:#cbcbcb;\"/>\n     </g>\n     <g id=\"line2d_16\"/>\n     <g id=\"text_8\">\n      <!-- 250000 -->\n      <g transform=\"translate(7.2 50.442147)scale(0.14 -0.14)\">\n       <use xlink:href=\"#DejaVuSans-50\"/>\n       <use x=\"63.623047\" xlink:href=\"#DejaVuSans-53\"/>\n       <use x=\"127.246094\" xlink:href=\"#DejaVuSans-48\"/>\n       <use x=\"190.869141\" xlink:href=\"#DejaVuSans-48\"/>\n       <use x=\"254.492188\" xlink:href=\"#DejaVuSans-48\"/>\n       <use x=\"318.115234\" xlink:href=\"#DejaVuSans-48\"/>\n      </g>\n     </g>\n    </g>\n   </g>\n   <g id=\"patch_3\">\n    <path clip-path=\"url(#p823fc2fd53)\" d=\"M 111.125 240.48 \nL 205.085 240.48 \nL 205.085 18.308571 \nL 111.125 18.308571 \nz\n\" style=\"fill:#008fd5;\"/>\n   </g>\n   <g id=\"patch_4\">\n    <path clip-path=\"url(#p823fc2fd53)\" d=\"M 299.045 240.48 \nL 393.005 240.48 \nL 393.005 240.095538 \nL 299.045 240.095538 \nz\n\" style=\"fill:#008fd5;\"/>\n   </g>\n   <g id=\"patch_5\">\n    <path d=\"M 64.145 240.48 \nL 64.145 7.2 \n\" style=\"fill:none;stroke:#f0f0f0;stroke-linecap:square;stroke-linejoin:miter;stroke-width:3;\"/>\n   </g>\n   <g id=\"patch_6\">\n    <path d=\"M 439.985 240.48 \nL 439.985 7.2 \n\" style=\"fill:none;stroke:#f0f0f0;stroke-linecap:square;stroke-linejoin:miter;stroke-width:3;\"/>\n   </g>\n   <g id=\"patch_7\">\n    <path d=\"M 64.145 240.48 \nL 439.985 240.48 \n\" style=\"fill:none;stroke:#f0f0f0;stroke-linecap:square;stroke-linejoin:miter;stroke-width:3;\"/>\n   </g>\n   <g id=\"patch_8\">\n    <path d=\"M 64.145 7.2 \nL 439.985 7.2 \n\" style=\"fill:none;stroke:#f0f0f0;stroke-linecap:square;stroke-linejoin:miter;stroke-width:3;\"/>\n   </g>\n  </g>\n </g>\n <defs>\n  <clipPath id=\"p823fc2fd53\">\n   <rect height=\"233.28\" width=\"375.84\" x=\"64.145\" y=\"7.2\"/>\n  </clipPath>\n </defs>\n</svg>\n"
          },
          "metadata": {
            "tags": []
          }
        }
      ]
    },
    {
      "cell_type": "code",
      "metadata": {
        "id": "KKJ67kUq6sct",
        "outputId": "3b2773e2-f546-4acb-e43f-47cec96bb7df",
        "colab": {
          "base_uri": "https://localhost:8080/",
          "height": 368
        }
      },
      "source": [
        "df['Class'].value_counts().plot(kind='bar', logy=True)\n",
        "plt.show()\n",
        "None"
      ],
      "execution_count": 70,
      "outputs": [
        {
          "output_type": "display_data",
          "data": {
            "text/plain": [
              "<Figure size 432x288 with 1 Axes>"
            ],
            "image/svg+xml": "<?xml version=\"1.0\" encoding=\"utf-8\" standalone=\"no\"?>\n<!DOCTYPE svg PUBLIC \"-//W3C//DTD SVG 1.1//EN\"\n  \"http://www.w3.org/Graphics/SVG/1.1/DTD/svg11.dtd\">\n<!-- Created with matplotlib (https://matplotlib.org/) -->\n<svg height=\"260.0875pt\" version=\"1.1\" viewBox=\"0 0 418.38 260.0875\" width=\"418.38pt\" xmlns=\"http://www.w3.org/2000/svg\" xmlns:xlink=\"http://www.w3.org/1999/xlink\">\n <defs>\n  <style type=\"text/css\">\n*{stroke-linecap:butt;stroke-linejoin:round;}\n  </style>\n </defs>\n <g id=\"figure_1\">\n  <g id=\"patch_1\">\n   <path d=\"M 0 260.0875 \nL 418.38 260.0875 \nL 418.38 0 \nL 0 0 \nz\n\" style=\"fill:#f0f0f0;\"/>\n  </g>\n  <g id=\"axes_1\">\n   <g id=\"patch_2\">\n    <path d=\"M 35.34 240.48 \nL 411.18 240.48 \nL 411.18 7.2 \nL 35.34 7.2 \nz\n\" style=\"fill:#f0f0f0;\"/>\n   </g>\n   <g id=\"matplotlib.axis_1\">\n    <g id=\"xtick_1\">\n     <g id=\"line2d_1\">\n      <path clip-path=\"url(#p16b9954888)\" d=\"M 129.3 240.48 \nL 129.3 7.2 \n\" style=\"fill:none;stroke:#cbcbcb;\"/>\n     </g>\n     <g id=\"line2d_2\"/>\n     <g id=\"text_1\">\n      <!-- 0 -->\n      <defs>\n       <path d=\"M 31.78125 66.40625 \nQ 24.171875 66.40625 20.328125 58.90625 \nQ 16.5 51.421875 16.5 36.375 \nQ 16.5 21.390625 20.328125 13.890625 \nQ 24.171875 6.390625 31.78125 6.390625 \nQ 39.453125 6.390625 43.28125 13.890625 \nQ 47.125 21.390625 47.125 36.375 \nQ 47.125 51.421875 43.28125 58.90625 \nQ 39.453125 66.40625 31.78125 66.40625 \nz\nM 31.78125 74.21875 \nQ 44.046875 74.21875 50.515625 64.515625 \nQ 56.984375 54.828125 56.984375 36.375 \nQ 56.984375 17.96875 50.515625 8.265625 \nQ 44.046875 -1.421875 31.78125 -1.421875 \nQ 19.53125 -1.421875 13.0625 8.265625 \nQ 6.59375 17.96875 6.59375 36.375 \nQ 6.59375 54.828125 13.0625 64.515625 \nQ 19.53125 74.21875 31.78125 74.21875 \nz\n\" id=\"DejaVuSans-48\"/>\n      </defs>\n      <g transform=\"translate(133.163125 252.8875)rotate(-90)scale(0.14 -0.14)\">\n       <use xlink:href=\"#DejaVuSans-48\"/>\n      </g>\n     </g>\n    </g>\n    <g id=\"xtick_2\">\n     <g id=\"line2d_3\">\n      <path clip-path=\"url(#p16b9954888)\" d=\"M 317.22 240.48 \nL 317.22 7.2 \n\" style=\"fill:none;stroke:#cbcbcb;\"/>\n     </g>\n     <g id=\"line2d_4\"/>\n     <g id=\"text_2\">\n      <!-- 1 -->\n      <defs>\n       <path d=\"M 12.40625 8.296875 \nL 28.515625 8.296875 \nL 28.515625 63.921875 \nL 10.984375 60.40625 \nL 10.984375 69.390625 \nL 28.421875 72.90625 \nL 38.28125 72.90625 \nL 38.28125 8.296875 \nL 54.390625 8.296875 \nL 54.390625 0 \nL 12.40625 0 \nz\n\" id=\"DejaVuSans-49\"/>\n      </defs>\n      <g transform=\"translate(321.083125 252.8875)rotate(-90)scale(0.14 -0.14)\">\n       <use xlink:href=\"#DejaVuSans-49\"/>\n      </g>\n     </g>\n    </g>\n   </g>\n   <g id=\"matplotlib.axis_2\">\n    <g id=\"ytick_1\">\n     <g id=\"line2d_5\">\n      <path clip-path=\"url(#p16b9954888)\" d=\"M 35.34 206.223318 \nL 411.18 206.223318 \n\" style=\"fill:none;stroke:#cbcbcb;\"/>\n     </g>\n     <g id=\"line2d_6\"/>\n     <g id=\"text_3\">\n      <!-- $\\mathdefault{10^{3}}$ -->\n      <defs>\n       <path d=\"M 40.578125 39.3125 \nQ 47.65625 37.796875 51.625 33 \nQ 55.609375 28.21875 55.609375 21.1875 \nQ 55.609375 10.40625 48.1875 4.484375 \nQ 40.765625 -1.421875 27.09375 -1.421875 \nQ 22.515625 -1.421875 17.65625 -0.515625 \nQ 12.796875 0.390625 7.625 2.203125 \nL 7.625 11.71875 \nQ 11.71875 9.328125 16.59375 8.109375 \nQ 21.484375 6.890625 26.8125 6.890625 \nQ 36.078125 6.890625 40.9375 10.546875 \nQ 45.796875 14.203125 45.796875 21.1875 \nQ 45.796875 27.640625 41.28125 31.265625 \nQ 36.765625 34.90625 28.71875 34.90625 \nL 20.21875 34.90625 \nL 20.21875 43.015625 \nL 29.109375 43.015625 \nQ 36.375 43.015625 40.234375 45.921875 \nQ 44.09375 48.828125 44.09375 54.296875 \nQ 44.09375 59.90625 40.109375 62.90625 \nQ 36.140625 65.921875 28.71875 65.921875 \nQ 24.65625 65.921875 20.015625 65.03125 \nQ 15.375 64.15625 9.8125 62.3125 \nL 9.8125 71.09375 \nQ 15.4375 72.65625 20.34375 73.4375 \nQ 25.25 74.21875 29.59375 74.21875 \nQ 40.828125 74.21875 47.359375 69.109375 \nQ 53.90625 64.015625 53.90625 55.328125 \nQ 53.90625 49.265625 50.4375 45.09375 \nQ 46.96875 40.921875 40.578125 39.3125 \nz\n\" id=\"DejaVuSans-51\"/>\n      </defs>\n      <g transform=\"translate(7.2 211.542225)scale(0.14 -0.14)\">\n       <use transform=\"translate(0 0.765625)\" xlink:href=\"#DejaVuSans-49\"/>\n       <use transform=\"translate(63.623047 0.765625)\" xlink:href=\"#DejaVuSans-48\"/>\n       <use transform=\"translate(128.203125 39.046875)scale(0.7)\" xlink:href=\"#DejaVuSans-51\"/>\n      </g>\n     </g>\n    </g>\n    <g id=\"ytick_2\">\n     <g id=\"line2d_7\">\n      <path clip-path=\"url(#p16b9954888)\" d=\"M 35.34 129.436417 \nL 411.18 129.436417 \n\" style=\"fill:none;stroke:#cbcbcb;\"/>\n     </g>\n     <g id=\"line2d_8\"/>\n     <g id=\"text_4\">\n      <!-- $\\mathdefault{10^{4}}$ -->\n      <defs>\n       <path d=\"M 37.796875 64.3125 \nL 12.890625 25.390625 \nL 37.796875 25.390625 \nz\nM 35.203125 72.90625 \nL 47.609375 72.90625 \nL 47.609375 25.390625 \nL 58.015625 25.390625 \nL 58.015625 17.1875 \nL 47.609375 17.1875 \nL 47.609375 0 \nL 37.796875 0 \nL 37.796875 17.1875 \nL 4.890625 17.1875 \nL 4.890625 26.703125 \nz\n\" id=\"DejaVuSans-52\"/>\n      </defs>\n      <g transform=\"translate(7.2 134.755323)scale(0.14 -0.14)\">\n       <use transform=\"translate(0 0.684375)\" xlink:href=\"#DejaVuSans-49\"/>\n       <use transform=\"translate(63.623047 0.684375)\" xlink:href=\"#DejaVuSans-48\"/>\n       <use transform=\"translate(128.203125 38.965625)scale(0.7)\" xlink:href=\"#DejaVuSans-52\"/>\n      </g>\n     </g>\n    </g>\n    <g id=\"ytick_3\">\n     <g id=\"line2d_9\">\n      <path clip-path=\"url(#p16b9954888)\" d=\"M 35.34 52.649515 \nL 411.18 52.649515 \n\" style=\"fill:none;stroke:#cbcbcb;\"/>\n     </g>\n     <g id=\"line2d_10\"/>\n     <g id=\"text_5\">\n      <!-- $\\mathdefault{10^{5}}$ -->\n      <defs>\n       <path d=\"M 10.796875 72.90625 \nL 49.515625 72.90625 \nL 49.515625 64.59375 \nL 19.828125 64.59375 \nL 19.828125 46.734375 \nQ 21.96875 47.46875 24.109375 47.828125 \nQ 26.265625 48.1875 28.421875 48.1875 \nQ 40.625 48.1875 47.75 41.5 \nQ 54.890625 34.8125 54.890625 23.390625 \nQ 54.890625 11.625 47.5625 5.09375 \nQ 40.234375 -1.421875 26.90625 -1.421875 \nQ 22.3125 -1.421875 17.546875 -0.640625 \nQ 12.796875 0.140625 7.71875 1.703125 \nL 7.71875 11.625 \nQ 12.109375 9.234375 16.796875 8.0625 \nQ 21.484375 6.890625 26.703125 6.890625 \nQ 35.15625 6.890625 40.078125 11.328125 \nQ 45.015625 15.765625 45.015625 23.390625 \nQ 45.015625 31 40.078125 35.4375 \nQ 35.15625 39.890625 26.703125 39.890625 \nQ 22.75 39.890625 18.8125 39.015625 \nQ 14.890625 38.140625 10.796875 36.28125 \nz\n\" id=\"DejaVuSans-53\"/>\n      </defs>\n      <g transform=\"translate(7.2 57.968421)scale(0.14 -0.14)\">\n       <use transform=\"translate(0 0.684375)\" xlink:href=\"#DejaVuSans-49\"/>\n       <use transform=\"translate(63.623047 0.684375)\" xlink:href=\"#DejaVuSans-48\"/>\n       <use transform=\"translate(128.203125 38.965625)scale(0.7)\" xlink:href=\"#DejaVuSans-53\"/>\n      </g>\n     </g>\n    </g>\n    <g id=\"ytick_4\">\n     <g id=\"line2d_11\"/>\n    </g>\n    <g id=\"ytick_5\">\n     <g id=\"line2d_12\"/>\n    </g>\n    <g id=\"ytick_6\">\n     <g id=\"line2d_13\"/>\n    </g>\n    <g id=\"ytick_7\">\n     <g id=\"line2d_14\"/>\n    </g>\n    <g id=\"ytick_8\">\n     <g id=\"line2d_15\"/>\n    </g>\n    <g id=\"ytick_9\">\n     <g id=\"line2d_16\"/>\n    </g>\n    <g id=\"ytick_10\">\n     <g id=\"line2d_17\"/>\n    </g>\n    <g id=\"ytick_11\">\n     <g id=\"line2d_18\"/>\n    </g>\n    <g id=\"ytick_12\">\n     <g id=\"line2d_19\"/>\n    </g>\n    <g id=\"ytick_13\">\n     <g id=\"line2d_20\"/>\n    </g>\n    <g id=\"ytick_14\">\n     <g id=\"line2d_21\"/>\n    </g>\n    <g id=\"ytick_15\">\n     <g id=\"line2d_22\"/>\n    </g>\n    <g id=\"ytick_16\">\n     <g id=\"line2d_23\"/>\n    </g>\n    <g id=\"ytick_17\">\n     <g id=\"line2d_24\"/>\n    </g>\n    <g id=\"ytick_18\">\n     <g id=\"line2d_25\"/>\n    </g>\n    <g id=\"ytick_19\">\n     <g id=\"line2d_26\"/>\n    </g>\n    <g id=\"ytick_20\">\n     <g id=\"line2d_27\"/>\n    </g>\n    <g id=\"ytick_21\">\n     <g id=\"line2d_28\"/>\n    </g>\n    <g id=\"ytick_22\">\n     <g id=\"line2d_29\"/>\n    </g>\n    <g id=\"ytick_23\">\n     <g id=\"line2d_30\"/>\n    </g>\n    <g id=\"ytick_24\">\n     <g id=\"line2d_31\"/>\n    </g>\n    <g id=\"ytick_25\">\n     <g id=\"line2d_32\"/>\n    </g>\n    <g id=\"ytick_26\">\n     <g id=\"line2d_33\"/>\n    </g>\n    <g id=\"ytick_27\">\n     <g id=\"line2d_34\"/>\n    </g>\n   </g>\n   <g id=\"patch_3\">\n    <path clip-path=\"url(#p16b9954888)\" d=\"M 82.32 77223.485702 \nL 176.28 77223.485702 \nL 176.28 17.803636 \nL 82.32 17.803636 \nz\n\" style=\"fill:#008fd5;\"/>\n   </g>\n   <g id=\"patch_4\">\n    <path clip-path=\"url(#p16b9954888)\" d=\"M 270.24 77223.485702 \nL 364.2 77223.485702 \nL 364.2 229.876364 \nL 270.24 229.876364 \nz\n\" style=\"fill:#008fd5;\"/>\n   </g>\n   <g id=\"patch_5\">\n    <path d=\"M 35.34 240.48 \nL 35.34 7.2 \n\" style=\"fill:none;stroke:#f0f0f0;stroke-linecap:square;stroke-linejoin:miter;stroke-width:3;\"/>\n   </g>\n   <g id=\"patch_6\">\n    <path d=\"M 411.18 240.48 \nL 411.18 7.2 \n\" style=\"fill:none;stroke:#f0f0f0;stroke-linecap:square;stroke-linejoin:miter;stroke-width:3;\"/>\n   </g>\n   <g id=\"patch_7\">\n    <path d=\"M 35.34 240.48 \nL 411.18 240.48 \n\" style=\"fill:none;stroke:#f0f0f0;stroke-linecap:square;stroke-linejoin:miter;stroke-width:3;\"/>\n   </g>\n   <g id=\"patch_8\">\n    <path d=\"M 35.34 7.2 \nL 411.18 7.2 \n\" style=\"fill:none;stroke:#f0f0f0;stroke-linecap:square;stroke-linejoin:miter;stroke-width:3;\"/>\n   </g>\n  </g>\n </g>\n <defs>\n  <clipPath id=\"p16b9954888\">\n   <rect height=\"233.28\" width=\"375.84\" x=\"35.34\" y=\"7.2\"/>\n  </clipPath>\n </defs>\n</svg>\n"
          },
          "metadata": {
            "tags": []
          }
        }
      ]
    },
    {
      "cell_type": "code",
      "metadata": {
        "id": "HJDr3vov6scx",
        "outputId": "e88c4dd9-59fc-4d2a-8ef0-374536f4c2ce",
        "colab": {
          "base_uri": "https://localhost:8080/",
          "height": 221
        }
      },
      "source": [
        "df.loc[(df['Class']==0),'V1']"
      ],
      "execution_count": 71,
      "outputs": [
        {
          "output_type": "execute_result",
          "data": {
            "text/plain": [
              "0         -1.359807\n",
              "1          1.191857\n",
              "2         -1.358354\n",
              "3         -0.966272\n",
              "4         -1.158233\n",
              "            ...    \n",
              "284802   -11.881118\n",
              "284803    -0.732789\n",
              "284804     1.919565\n",
              "284805    -0.240440\n",
              "284806    -0.533413\n",
              "Name: V1, Length: 284315, dtype: float64"
            ]
          },
          "metadata": {
            "tags": []
          },
          "execution_count": 71
        }
      ]
    },
    {
      "cell_type": "code",
      "metadata": {
        "id": "pZ3QDzPY6sc1",
        "outputId": "6c202f3e-2b30-4f31-f5b2-20b0dde3e875",
        "colab": {
          "base_uri": "https://localhost:8080/",
          "height": 429
        }
      },
      "source": [
        "plt.hist(df.loc[(df['Class']==0),'V1'], bins=20, density=True, alpha=0.5, color='grey', label='Class 0')\n",
        "plt.hist(df.loc[(df['Class']==1),'V1'], bins=20, density=True, alpha=0.5, color='red', label='Class 1')\n",
        "plt.title('Распределение плотности признака V1')\n",
        "plt.xlabel('Class')\n",
        "plt.legend(loc='best')\n",
        "plt.show()\n",
        "None"
      ],
      "execution_count": 72,
      "outputs": [
        {
          "output_type": "display_data",
          "data": {
            "text/plain": [
              "<Figure size 432x288 with 1 Axes>"
            ],
            "image/svg+xml": "<?xml version=\"1.0\" encoding=\"utf-8\" standalone=\"no\"?>\n<!DOCTYPE svg PUBLIC \"-//W3C//DTD SVG 1.1//EN\"\n  \"http://www.w3.org/Graphics/SVG/1.1/DTD/svg11.dtd\">\n<!-- Created with matplotlib (https://matplotlib.org/) -->\n<svg height=\"306.307075pt\" version=\"1.1\" viewBox=\"0 0 447.786725 306.307075\" width=\"447.786725pt\" xmlns=\"http://www.w3.org/2000/svg\" xmlns:xlink=\"http://www.w3.org/1999/xlink\">\n <defs>\n  <style type=\"text/css\">\n*{stroke-linecap:butt;stroke-linejoin:round;}\n  </style>\n </defs>\n <g id=\"figure_1\">\n  <g id=\"patch_1\">\n   <path d=\"M -0 306.307075 \nL 447.786725 306.307075 \nL 447.786725 0 \nL -0 0 \nz\n\" style=\"fill:#f0f0f0;\"/>\n  </g>\n  <g id=\"axes_1\">\n   <g id=\"patch_2\">\n    <path d=\"M 41.871875 261.79845 \nL 417.711875 261.79845 \nL 417.711875 28.51845 \nL 41.871875 28.51845 \nz\n\" style=\"fill:#f0f0f0;\"/>\n   </g>\n   <g id=\"matplotlib.axis_1\">\n    <g id=\"xtick_1\">\n     <g id=\"line2d_1\">\n      <path clip-path=\"url(#p724e213768)\" d=\"M 96.148521 261.79845 \nL 96.148521 28.51845 \n\" style=\"fill:none;stroke:#cbcbcb;\"/>\n     </g>\n     <g id=\"line2d_2\"/>\n     <g id=\"text_1\">\n      <!-- −50 -->\n      <defs>\n       <path d=\"M 10.59375 35.5 \nL 73.1875 35.5 \nL 73.1875 27.203125 \nL 10.59375 27.203125 \nz\n\" id=\"DejaVuSans-8722\"/>\n       <path d=\"M 10.796875 72.90625 \nL 49.515625 72.90625 \nL 49.515625 64.59375 \nL 19.828125 64.59375 \nL 19.828125 46.734375 \nQ 21.96875 47.46875 24.109375 47.828125 \nQ 26.265625 48.1875 28.421875 48.1875 \nQ 40.625 48.1875 47.75 41.5 \nQ 54.890625 34.8125 54.890625 23.390625 \nQ 54.890625 11.625 47.5625 5.09375 \nQ 40.234375 -1.421875 26.90625 -1.421875 \nQ 22.3125 -1.421875 17.546875 -0.640625 \nQ 12.796875 0.140625 7.71875 1.703125 \nL 7.71875 11.625 \nQ 12.109375 9.234375 16.796875 8.0625 \nQ 21.484375 6.890625 26.703125 6.890625 \nQ 35.15625 6.890625 40.078125 11.328125 \nQ 45.015625 15.765625 45.015625 23.390625 \nQ 45.015625 31 40.078125 35.4375 \nQ 35.15625 39.890625 26.703125 39.890625 \nQ 22.75 39.890625 18.8125 39.015625 \nQ 14.890625 38.140625 10.796875 36.28125 \nz\n\" id=\"DejaVuSans-53\"/>\n       <path d=\"M 31.78125 66.40625 \nQ 24.171875 66.40625 20.328125 58.90625 \nQ 16.5 51.421875 16.5 36.375 \nQ 16.5 21.390625 20.328125 13.890625 \nQ 24.171875 6.390625 31.78125 6.390625 \nQ 39.453125 6.390625 43.28125 13.890625 \nQ 47.125 21.390625 47.125 36.375 \nQ 47.125 51.421875 43.28125 58.90625 \nQ 39.453125 66.40625 31.78125 66.40625 \nz\nM 31.78125 74.21875 \nQ 44.046875 74.21875 50.515625 64.515625 \nQ 56.984375 54.828125 56.984375 36.375 \nQ 56.984375 17.96875 50.515625 8.265625 \nQ 44.046875 -1.421875 31.78125 -1.421875 \nQ 19.53125 -1.421875 13.0625 8.265625 \nQ 6.59375 17.96875 6.59375 36.375 \nQ 6.59375 54.828125 13.0625 64.515625 \nQ 19.53125 74.21875 31.78125 74.21875 \nz\n\" id=\"DejaVuSans-48\"/>\n      </defs>\n      <g transform=\"translate(81.37524 275.936262)scale(0.14 -0.14)\">\n       <use xlink:href=\"#DejaVuSans-8722\"/>\n       <use x=\"83.789062\" xlink:href=\"#DejaVuSans-53\"/>\n       <use x=\"147.412109\" xlink:href=\"#DejaVuSans-48\"/>\n      </g>\n     </g>\n    </g>\n    <g id=\"xtick_2\">\n     <g id=\"line2d_3\">\n      <path clip-path=\"url(#p724e213768)\" d=\"M 154.194489 261.79845 \nL 154.194489 28.51845 \n\" style=\"fill:none;stroke:#cbcbcb;\"/>\n     </g>\n     <g id=\"line2d_4\"/>\n     <g id=\"text_2\">\n      <!-- −40 -->\n      <defs>\n       <path d=\"M 37.796875 64.3125 \nL 12.890625 25.390625 \nL 37.796875 25.390625 \nz\nM 35.203125 72.90625 \nL 47.609375 72.90625 \nL 47.609375 25.390625 \nL 58.015625 25.390625 \nL 58.015625 17.1875 \nL 47.609375 17.1875 \nL 47.609375 0 \nL 37.796875 0 \nL 37.796875 17.1875 \nL 4.890625 17.1875 \nL 4.890625 26.703125 \nz\n\" id=\"DejaVuSans-52\"/>\n      </defs>\n      <g transform=\"translate(139.421208 275.936262)scale(0.14 -0.14)\">\n       <use xlink:href=\"#DejaVuSans-8722\"/>\n       <use x=\"83.789062\" xlink:href=\"#DejaVuSans-52\"/>\n       <use x=\"147.412109\" xlink:href=\"#DejaVuSans-48\"/>\n      </g>\n     </g>\n    </g>\n    <g id=\"xtick_3\">\n     <g id=\"line2d_5\">\n      <path clip-path=\"url(#p724e213768)\" d=\"M 212.240457 261.79845 \nL 212.240457 28.51845 \n\" style=\"fill:none;stroke:#cbcbcb;\"/>\n     </g>\n     <g id=\"line2d_6\"/>\n     <g id=\"text_3\">\n      <!-- −30 -->\n      <defs>\n       <path d=\"M 40.578125 39.3125 \nQ 47.65625 37.796875 51.625 33 \nQ 55.609375 28.21875 55.609375 21.1875 \nQ 55.609375 10.40625 48.1875 4.484375 \nQ 40.765625 -1.421875 27.09375 -1.421875 \nQ 22.515625 -1.421875 17.65625 -0.515625 \nQ 12.796875 0.390625 7.625 2.203125 \nL 7.625 11.71875 \nQ 11.71875 9.328125 16.59375 8.109375 \nQ 21.484375 6.890625 26.8125 6.890625 \nQ 36.078125 6.890625 40.9375 10.546875 \nQ 45.796875 14.203125 45.796875 21.1875 \nQ 45.796875 27.640625 41.28125 31.265625 \nQ 36.765625 34.90625 28.71875 34.90625 \nL 20.21875 34.90625 \nL 20.21875 43.015625 \nL 29.109375 43.015625 \nQ 36.375 43.015625 40.234375 45.921875 \nQ 44.09375 48.828125 44.09375 54.296875 \nQ 44.09375 59.90625 40.109375 62.90625 \nQ 36.140625 65.921875 28.71875 65.921875 \nQ 24.65625 65.921875 20.015625 65.03125 \nQ 15.375 64.15625 9.8125 62.3125 \nL 9.8125 71.09375 \nQ 15.4375 72.65625 20.34375 73.4375 \nQ 25.25 74.21875 29.59375 74.21875 \nQ 40.828125 74.21875 47.359375 69.109375 \nQ 53.90625 64.015625 53.90625 55.328125 \nQ 53.90625 49.265625 50.4375 45.09375 \nQ 46.96875 40.921875 40.578125 39.3125 \nz\n\" id=\"DejaVuSans-51\"/>\n      </defs>\n      <g transform=\"translate(197.467175 275.936262)scale(0.14 -0.14)\">\n       <use xlink:href=\"#DejaVuSans-8722\"/>\n       <use x=\"83.789062\" xlink:href=\"#DejaVuSans-51\"/>\n       <use x=\"147.412109\" xlink:href=\"#DejaVuSans-48\"/>\n      </g>\n     </g>\n    </g>\n    <g id=\"xtick_4\">\n     <g id=\"line2d_7\">\n      <path clip-path=\"url(#p724e213768)\" d=\"M 270.286424 261.79845 \nL 270.286424 28.51845 \n\" style=\"fill:none;stroke:#cbcbcb;\"/>\n     </g>\n     <g id=\"line2d_8\"/>\n     <g id=\"text_4\">\n      <!-- −20 -->\n      <defs>\n       <path d=\"M 19.1875 8.296875 \nL 53.609375 8.296875 \nL 53.609375 0 \nL 7.328125 0 \nL 7.328125 8.296875 \nQ 12.9375 14.109375 22.625 23.890625 \nQ 32.328125 33.6875 34.8125 36.53125 \nQ 39.546875 41.84375 41.421875 45.53125 \nQ 43.3125 49.21875 43.3125 52.78125 \nQ 43.3125 58.59375 39.234375 62.25 \nQ 35.15625 65.921875 28.609375 65.921875 \nQ 23.96875 65.921875 18.8125 64.3125 \nQ 13.671875 62.703125 7.8125 59.421875 \nL 7.8125 69.390625 \nQ 13.765625 71.78125 18.9375 73 \nQ 24.125 74.21875 28.421875 74.21875 \nQ 39.75 74.21875 46.484375 68.546875 \nQ 53.21875 62.890625 53.21875 53.421875 \nQ 53.21875 48.921875 51.53125 44.890625 \nQ 49.859375 40.875 45.40625 35.40625 \nQ 44.1875 33.984375 37.640625 27.21875 \nQ 31.109375 20.453125 19.1875 8.296875 \nz\n\" id=\"DejaVuSans-50\"/>\n      </defs>\n      <g transform=\"translate(255.513143 275.936262)scale(0.14 -0.14)\">\n       <use xlink:href=\"#DejaVuSans-8722\"/>\n       <use x=\"83.789062\" xlink:href=\"#DejaVuSans-50\"/>\n       <use x=\"147.412109\" xlink:href=\"#DejaVuSans-48\"/>\n      </g>\n     </g>\n    </g>\n    <g id=\"xtick_5\">\n     <g id=\"line2d_9\">\n      <path clip-path=\"url(#p724e213768)\" d=\"M 328.332392 261.79845 \nL 328.332392 28.51845 \n\" style=\"fill:none;stroke:#cbcbcb;\"/>\n     </g>\n     <g id=\"line2d_10\"/>\n     <g id=\"text_5\">\n      <!-- −10 -->\n      <defs>\n       <path d=\"M 12.40625 8.296875 \nL 28.515625 8.296875 \nL 28.515625 63.921875 \nL 10.984375 60.40625 \nL 10.984375 69.390625 \nL 28.421875 72.90625 \nL 38.28125 72.90625 \nL 38.28125 8.296875 \nL 54.390625 8.296875 \nL 54.390625 0 \nL 12.40625 0 \nz\n\" id=\"DejaVuSans-49\"/>\n      </defs>\n      <g transform=\"translate(313.559111 275.936262)scale(0.14 -0.14)\">\n       <use xlink:href=\"#DejaVuSans-8722\"/>\n       <use x=\"83.789062\" xlink:href=\"#DejaVuSans-49\"/>\n       <use x=\"147.412109\" xlink:href=\"#DejaVuSans-48\"/>\n      </g>\n     </g>\n    </g>\n    <g id=\"xtick_6\">\n     <g id=\"line2d_11\">\n      <path clip-path=\"url(#p724e213768)\" d=\"M 386.37836 261.79845 \nL 386.37836 28.51845 \n\" style=\"fill:none;stroke:#cbcbcb;\"/>\n     </g>\n     <g id=\"line2d_12\"/>\n     <g id=\"text_6\">\n      <!-- 0 -->\n      <g transform=\"translate(381.92461 275.936262)scale(0.14 -0.14)\">\n       <use xlink:href=\"#DejaVuSans-48\"/>\n      </g>\n     </g>\n    </g>\n    <g id=\"text_7\">\n     <!-- Class -->\n     <defs>\n      <path d=\"M 64.40625 67.28125 \nL 64.40625 56.890625 \nQ 59.421875 61.53125 53.78125 63.8125 \nQ 48.140625 66.109375 41.796875 66.109375 \nQ 29.296875 66.109375 22.65625 58.46875 \nQ 16.015625 50.828125 16.015625 36.375 \nQ 16.015625 21.96875 22.65625 14.328125 \nQ 29.296875 6.6875 41.796875 6.6875 \nQ 48.140625 6.6875 53.78125 8.984375 \nQ 59.421875 11.28125 64.40625 15.921875 \nL 64.40625 5.609375 \nQ 59.234375 2.09375 53.4375 0.328125 \nQ 47.65625 -1.421875 41.21875 -1.421875 \nQ 24.65625 -1.421875 15.125 8.703125 \nQ 5.609375 18.84375 5.609375 36.375 \nQ 5.609375 53.953125 15.125 64.078125 \nQ 24.65625 74.21875 41.21875 74.21875 \nQ 47.75 74.21875 53.53125 72.484375 \nQ 59.328125 70.75 64.40625 67.28125 \nz\n\" id=\"DejaVuSans-67\"/>\n      <path d=\"M 9.421875 75.984375 \nL 18.40625 75.984375 \nL 18.40625 0 \nL 9.421875 0 \nz\n\" id=\"DejaVuSans-108\"/>\n      <path d=\"M 34.28125 27.484375 \nQ 23.390625 27.484375 19.1875 25 \nQ 14.984375 22.515625 14.984375 16.5 \nQ 14.984375 11.71875 18.140625 8.90625 \nQ 21.296875 6.109375 26.703125 6.109375 \nQ 34.1875 6.109375 38.703125 11.40625 \nQ 43.21875 16.703125 43.21875 25.484375 \nL 43.21875 27.484375 \nz\nM 52.203125 31.203125 \nL 52.203125 0 \nL 43.21875 0 \nL 43.21875 8.296875 \nQ 40.140625 3.328125 35.546875 0.953125 \nQ 30.953125 -1.421875 24.3125 -1.421875 \nQ 15.921875 -1.421875 10.953125 3.296875 \nQ 6 8.015625 6 15.921875 \nQ 6 25.140625 12.171875 29.828125 \nQ 18.359375 34.515625 30.609375 34.515625 \nL 43.21875 34.515625 \nL 43.21875 35.40625 \nQ 43.21875 41.609375 39.140625 45 \nQ 35.0625 48.390625 27.6875 48.390625 \nQ 23 48.390625 18.546875 47.265625 \nQ 14.109375 46.140625 10.015625 43.890625 \nL 10.015625 52.203125 \nQ 14.9375 54.109375 19.578125 55.046875 \nQ 24.21875 56 28.609375 56 \nQ 40.484375 56 46.34375 49.84375 \nQ 52.203125 43.703125 52.203125 31.203125 \nz\n\" id=\"DejaVuSans-97\"/>\n      <path d=\"M 44.28125 53.078125 \nL 44.28125 44.578125 \nQ 40.484375 46.53125 36.375 47.5 \nQ 32.28125 48.484375 27.875 48.484375 \nQ 21.1875 48.484375 17.84375 46.4375 \nQ 14.5 44.390625 14.5 40.28125 \nQ 14.5 37.15625 16.890625 35.375 \nQ 19.28125 33.59375 26.515625 31.984375 \nL 29.59375 31.296875 \nQ 39.15625 29.25 43.1875 25.515625 \nQ 47.21875 21.78125 47.21875 15.09375 \nQ 47.21875 7.46875 41.1875 3.015625 \nQ 35.15625 -1.421875 24.609375 -1.421875 \nQ 20.21875 -1.421875 15.453125 -0.5625 \nQ 10.6875 0.296875 5.421875 2 \nL 5.421875 11.28125 \nQ 10.40625 8.6875 15.234375 7.390625 \nQ 20.0625 6.109375 24.8125 6.109375 \nQ 31.15625 6.109375 34.5625 8.28125 \nQ 37.984375 10.453125 37.984375 14.40625 \nQ 37.984375 18.0625 35.515625 20.015625 \nQ 33.0625 21.96875 24.703125 23.78125 \nL 21.578125 24.515625 \nQ 13.234375 26.265625 9.515625 29.90625 \nQ 5.8125 33.546875 5.8125 39.890625 \nQ 5.8125 47.609375 11.28125 51.796875 \nQ 16.75 56 26.8125 56 \nQ 31.78125 56 36.171875 55.265625 \nQ 40.578125 54.546875 44.28125 53.078125 \nz\n\" id=\"DejaVuSans-115\"/>\n     </defs>\n     <g transform=\"translate(207.693312 295.6132)scale(0.168 -0.168)\">\n      <use xlink:href=\"#DejaVuSans-67\"/>\n      <use x=\"69.824219\" xlink:href=\"#DejaVuSans-108\"/>\n      <use x=\"97.607422\" xlink:href=\"#DejaVuSans-97\"/>\n      <use x=\"158.886719\" xlink:href=\"#DejaVuSans-115\"/>\n      <use x=\"210.986328\" xlink:href=\"#DejaVuSans-115\"/>\n     </g>\n    </g>\n   </g>\n   <g id=\"matplotlib.axis_2\">\n    <g id=\"ytick_1\">\n     <g id=\"line2d_13\">\n      <path clip-path=\"url(#p724e213768)\" d=\"M 41.871875 261.79845 \nL 417.711875 261.79845 \n\" style=\"fill:none;stroke:#cbcbcb;\"/>\n     </g>\n     <g id=\"line2d_14\"/>\n     <g id=\"text_8\">\n      <!-- 0.00 -->\n      <defs>\n       <path d=\"M 10.6875 12.40625 \nL 21 12.40625 \nL 21 0 \nL 10.6875 0 \nz\n\" id=\"DejaVuSans-46\"/>\n      </defs>\n      <g transform=\"translate(7.2 267.117356)scale(0.14 -0.14)\">\n       <use xlink:href=\"#DejaVuSans-48\"/>\n       <use x=\"63.623047\" xlink:href=\"#DejaVuSans-46\"/>\n       <use x=\"95.410156\" xlink:href=\"#DejaVuSans-48\"/>\n       <use x=\"159.033203\" xlink:href=\"#DejaVuSans-48\"/>\n      </g>\n     </g>\n    </g>\n    <g id=\"ytick_2\">\n     <g id=\"line2d_15\">\n      <path clip-path=\"url(#p724e213768)\" d=\"M 41.871875 209.098881 \nL 417.711875 209.098881 \n\" style=\"fill:none;stroke:#cbcbcb;\"/>\n     </g>\n     <g id=\"line2d_16\"/>\n     <g id=\"text_9\">\n      <!-- 0.05 -->\n      <g transform=\"translate(7.2 214.417788)scale(0.14 -0.14)\">\n       <use xlink:href=\"#DejaVuSans-48\"/>\n       <use x=\"63.623047\" xlink:href=\"#DejaVuSans-46\"/>\n       <use x=\"95.410156\" xlink:href=\"#DejaVuSans-48\"/>\n       <use x=\"159.033203\" xlink:href=\"#DejaVuSans-53\"/>\n      </g>\n     </g>\n    </g>\n    <g id=\"ytick_3\">\n     <g id=\"line2d_17\">\n      <path clip-path=\"url(#p724e213768)\" d=\"M 41.871875 156.399313 \nL 417.711875 156.399313 \n\" style=\"fill:none;stroke:#cbcbcb;\"/>\n     </g>\n     <g id=\"line2d_18\"/>\n     <g id=\"text_10\">\n      <!-- 0.10 -->\n      <g transform=\"translate(7.2 161.718219)scale(0.14 -0.14)\">\n       <use xlink:href=\"#DejaVuSans-48\"/>\n       <use x=\"63.623047\" xlink:href=\"#DejaVuSans-46\"/>\n       <use x=\"95.410156\" xlink:href=\"#DejaVuSans-49\"/>\n       <use x=\"159.033203\" xlink:href=\"#DejaVuSans-48\"/>\n      </g>\n     </g>\n    </g>\n    <g id=\"ytick_4\">\n     <g id=\"line2d_19\">\n      <path clip-path=\"url(#p724e213768)\" d=\"M 41.871875 103.699744 \nL 417.711875 103.699744 \n\" style=\"fill:none;stroke:#cbcbcb;\"/>\n     </g>\n     <g id=\"line2d_20\"/>\n     <g id=\"text_11\">\n      <!-- 0.15 -->\n      <g transform=\"translate(7.2 109.01865)scale(0.14 -0.14)\">\n       <use xlink:href=\"#DejaVuSans-48\"/>\n       <use x=\"63.623047\" xlink:href=\"#DejaVuSans-46\"/>\n       <use x=\"95.410156\" xlink:href=\"#DejaVuSans-49\"/>\n       <use x=\"159.033203\" xlink:href=\"#DejaVuSans-53\"/>\n      </g>\n     </g>\n    </g>\n    <g id=\"ytick_5\">\n     <g id=\"line2d_21\">\n      <path clip-path=\"url(#p724e213768)\" d=\"M 41.871875 51.000176 \nL 417.711875 51.000176 \n\" style=\"fill:none;stroke:#cbcbcb;\"/>\n     </g>\n     <g id=\"line2d_22\"/>\n     <g id=\"text_12\">\n      <!-- 0.20 -->\n      <g transform=\"translate(7.2 56.319082)scale(0.14 -0.14)\">\n       <use xlink:href=\"#DejaVuSans-48\"/>\n       <use x=\"63.623047\" xlink:href=\"#DejaVuSans-46\"/>\n       <use x=\"95.410156\" xlink:href=\"#DejaVuSans-50\"/>\n       <use x=\"159.033203\" xlink:href=\"#DejaVuSans-48\"/>\n      </g>\n     </g>\n    </g>\n   </g>\n   <g id=\"patch_3\">\n    <path clip-path=\"url(#p724e213768)\" d=\"M 58.955511 261.79845 \nL 76.039148 261.79845 \nL 76.039148 261.79719 \nL 58.955511 261.79719 \nz\n\" style=\"fill:#808080;opacity:0.5;\"/>\n   </g>\n   <g id=\"patch_4\">\n    <path clip-path=\"url(#p724e213768)\" d=\"M 76.039148 261.79845 \nL 93.122784 261.79845 \nL 93.122784 261.79845 \nL 76.039148 261.79845 \nz\n\" style=\"fill:#808080;opacity:0.5;\"/>\n   </g>\n   <g id=\"patch_5\">\n    <path clip-path=\"url(#p724e213768)\" d=\"M 93.122784 261.79845 \nL 110.20642 261.79845 \nL 110.20642 261.79845 \nL 93.122784 261.79845 \nz\n\" style=\"fill:#808080;opacity:0.5;\"/>\n   </g>\n   <g id=\"patch_6\">\n    <path clip-path=\"url(#p724e213768)\" d=\"M 110.20642 261.79845 \nL 127.290057 261.79845 \nL 127.290057 261.79719 \nL 110.20642 261.79719 \nz\n\" style=\"fill:#808080;opacity:0.5;\"/>\n   </g>\n   <g id=\"patch_7\">\n    <path clip-path=\"url(#p724e213768)\" d=\"M 127.290057 261.79845 \nL 144.373693 261.79845 \nL 144.373693 261.79719 \nL 127.290057 261.79719 \nz\n\" style=\"fill:#808080;opacity:0.5;\"/>\n   </g>\n   <g id=\"patch_8\">\n    <path clip-path=\"url(#p724e213768)\" d=\"M 144.373693 261.79845 \nL 161.45733 261.79845 \nL 161.45733 261.795931 \nL 144.373693 261.795931 \nz\n\" style=\"fill:#808080;opacity:0.5;\"/>\n   </g>\n   <g id=\"patch_9\">\n    <path clip-path=\"url(#p724e213768)\" d=\"M 161.45733 261.79845 \nL 178.540966 261.79845 \nL 178.540966 261.792152 \nL 161.45733 261.792152 \nz\n\" style=\"fill:#808080;opacity:0.5;\"/>\n   </g>\n   <g id=\"patch_10\">\n    <path clip-path=\"url(#p724e213768)\" d=\"M 178.540966 261.79845 \nL 195.624602 261.79845 \nL 195.624602 261.782075 \nL 178.540966 261.782075 \nz\n\" style=\"fill:#808080;opacity:0.5;\"/>\n   </g>\n   <g id=\"patch_11\">\n    <path clip-path=\"url(#p724e213768)\" d=\"M 195.624602 261.79845 \nL 212.708239 261.79845 \nL 212.708239 261.784595 \nL 195.624602 261.784595 \nz\n\" style=\"fill:#808080;opacity:0.5;\"/>\n   </g>\n   <g id=\"patch_12\">\n    <path clip-path=\"url(#p724e213768)\" d=\"M 212.708239 261.79845 \nL 229.791875 261.79845 \nL 229.791875 261.784595 \nL 212.708239 261.784595 \nz\n\" style=\"fill:#808080;opacity:0.5;\"/>\n   </g>\n   <g id=\"patch_13\">\n    <path clip-path=\"url(#p724e213768)\" d=\"M 229.791875 261.79845 \nL 246.875511 261.79845 \nL 246.875511 261.771999 \nL 229.791875 261.771999 \nz\n\" style=\"fill:#808080;opacity:0.5;\"/>\n   </g>\n   <g id=\"patch_14\">\n    <path clip-path=\"url(#p724e213768)\" d=\"M 246.875511 261.79845 \nL 263.959148 261.79845 \nL 263.959148 261.741768 \nL 246.875511 261.741768 \nz\n\" style=\"fill:#808080;opacity:0.5;\"/>\n   </g>\n   <g id=\"patch_15\">\n    <path clip-path=\"url(#p724e213768)\" d=\"M 263.959148 261.79845 \nL 281.042784 261.79845 \nL 281.042784 261.719096 \nL 263.959148 261.719096 \nz\n\" style=\"fill:#808080;opacity:0.5;\"/>\n   </g>\n   <g id=\"patch_16\">\n    <path clip-path=\"url(#p724e213768)\" d=\"M 281.042784 261.79845 \nL 298.12642 261.79845 \nL 298.12642 261.67501 \nL 281.042784 261.67501 \nz\n\" style=\"fill:#808080;opacity:0.5;\"/>\n   </g>\n   <g id=\"patch_17\">\n    <path clip-path=\"url(#p724e213768)\" d=\"M 298.12642 261.79845 \nL 315.210057 261.79845 \nL 315.210057 261.518821 \nL 298.12642 261.518821 \nz\n\" style=\"fill:#808080;opacity:0.5;\"/>\n   </g>\n   <g id=\"patch_18\">\n    <path clip-path=\"url(#p724e213768)\" d=\"M 315.210057 261.79845 \nL 332.293693 261.79845 \nL 332.293693 261.009947 \nL 315.210057 261.009947 \nz\n\" style=\"fill:#808080;opacity:0.5;\"/>\n   </g>\n   <g id=\"patch_19\">\n    <path clip-path=\"url(#p724e213768)\" d=\"M 332.293693 261.79845 \nL 349.37733 261.79845 \nL 349.37733 259.502218 \nL 332.293693 259.502218 \nz\n\" style=\"fill:#808080;opacity:0.5;\"/>\n   </g>\n   <g id=\"patch_20\">\n    <path clip-path=\"url(#p724e213768)\" d=\"M 349.37733 261.79845 \nL 366.460966 261.79845 \nL 366.460966 252.320039 \nL 349.37733 252.320039 \nz\n\" style=\"fill:#808080;opacity:0.5;\"/>\n   </g>\n   <g id=\"patch_21\">\n    <path clip-path=\"url(#p724e213768)\" d=\"M 366.460966 261.79845 \nL 383.544602 261.79845 \nL 383.544602 139.035082 \nL 366.460966 139.035082 \nz\n\" style=\"fill:#808080;opacity:0.5;\"/>\n   </g>\n   <g id=\"patch_22\">\n    <path clip-path=\"url(#p724e213768)\" d=\"M 383.544602 261.79845 \nL 400.628239 261.79845 \nL 400.628239 39.627021 \nL 383.544602 39.627021 \nz\n\" style=\"fill:#808080;opacity:0.5;\"/>\n   </g>\n   <g id=\"patch_23\">\n    <path clip-path=\"url(#p724e213768)\" d=\"M 209.034113 261.79845 \nL 218.520208 261.79845 \nL 218.520208 257.865868 \nL 209.034113 257.865868 \nz\n\" style=\"fill:#ff0000;opacity:0.5;\"/>\n   </g>\n   <g id=\"patch_24\">\n    <path clip-path=\"url(#p724e213768)\" d=\"M 218.520208 261.79845 \nL 228.006302 261.79845 \nL 228.006302 256.555007 \nL 218.520208 256.555007 \nz\n\" style=\"fill:#ff0000;opacity:0.5;\"/>\n   </g>\n   <g id=\"patch_25\">\n    <path clip-path=\"url(#p724e213768)\" d=\"M 228.006302 261.79845 \nL 237.492396 261.79845 \nL 237.492396 252.622425 \nL 228.006302 252.622425 \nz\n\" style=\"fill:#ff0000;opacity:0.5;\"/>\n   </g>\n   <g id=\"patch_26\">\n    <path clip-path=\"url(#p724e213768)\" d=\"M 237.492396 261.79845 \nL 246.978491 261.79845 \nL 246.978491 259.176728 \nL 237.492396 259.176728 \nz\n\" style=\"fill:#ff0000;opacity:0.5;\"/>\n   </g>\n   <g id=\"patch_27\">\n    <path clip-path=\"url(#p724e213768)\" d=\"M 246.978491 261.79845 \nL 256.464585 261.79845 \nL 256.464585 256.555007 \nL 246.978491 256.555007 \nz\n\" style=\"fill:#ff0000;opacity:0.5;\"/>\n   </g>\n   <g id=\"patch_28\">\n    <path clip-path=\"url(#p724e213768)\" d=\"M 256.464585 261.79845 \nL 265.95068 261.79845 \nL 265.95068 256.555007 \nL 256.464585 256.555007 \nz\n\" style=\"fill:#ff0000;opacity:0.5;\"/>\n   </g>\n   <g id=\"patch_29\">\n    <path clip-path=\"url(#p724e213768)\" d=\"M 265.95068 261.79845 \nL 275.436774 261.79845 \nL 275.436774 255.244146 \nL 265.95068 255.244146 \nz\n\" style=\"fill:#ff0000;opacity:0.5;\"/>\n   </g>\n   <g id=\"patch_30\">\n    <path clip-path=\"url(#p724e213768)\" d=\"M 275.436774 261.79845 \nL 284.922868 261.79845 \nL 284.922868 253.933285 \nL 275.436774 253.933285 \nz\n\" style=\"fill:#ff0000;opacity:0.5;\"/>\n   </g>\n   <g id=\"patch_31\">\n    <path clip-path=\"url(#p724e213768)\" d=\"M 284.922868 261.79845 \nL 294.408963 261.79845 \nL 294.408963 251.311564 \nL 284.922868 251.311564 \nz\n\" style=\"fill:#ff0000;opacity:0.5;\"/>\n   </g>\n   <g id=\"patch_32\">\n    <path clip-path=\"url(#p724e213768)\" d=\"M 294.408963 261.79845 \nL 303.895057 261.79845 \nL 303.895057 250.000703 \nL 294.408963 250.000703 \nz\n\" style=\"fill:#ff0000;opacity:0.5;\"/>\n   </g>\n   <g id=\"patch_33\">\n    <path clip-path=\"url(#p724e213768)\" d=\"M 303.895057 261.79845 \nL 313.381151 261.79845 \nL 313.381151 240.824678 \nL 303.895057 240.824678 \nz\n\" style=\"fill:#ff0000;opacity:0.5;\"/>\n   </g>\n   <g id=\"patch_34\">\n    <path clip-path=\"url(#p724e213768)\" d=\"M 313.381151 261.79845 \nL 322.867246 261.79845 \nL 322.867246 252.622425 \nL 313.381151 252.622425 \nz\n\" style=\"fill:#ff0000;opacity:0.5;\"/>\n   </g>\n   <g id=\"patch_35\">\n    <path clip-path=\"url(#p724e213768)\" d=\"M 322.867246 261.79845 \nL 332.35334 261.79845 \nL 332.35334 246.068121 \nL 322.867246 246.068121 \nz\n\" style=\"fill:#ff0000;opacity:0.5;\"/>\n   </g>\n   <g id=\"patch_36\">\n    <path clip-path=\"url(#p724e213768)\" d=\"M 332.35334 261.79845 \nL 341.839435 261.79845 \nL 341.839435 247.378981 \nL 332.35334 247.378981 \nz\n\" style=\"fill:#ff0000;opacity:0.5;\"/>\n   </g>\n   <g id=\"patch_37\">\n    <path clip-path=\"url(#p724e213768)\" d=\"M 341.839435 261.79845 \nL 351.325529 261.79845 \nL 351.325529 229.026931 \nL 341.839435 229.026931 \nz\n\" style=\"fill:#ff0000;opacity:0.5;\"/>\n   </g>\n   <g id=\"patch_38\">\n    <path clip-path=\"url(#p724e213768)\" d=\"M 351.325529 261.79845 \nL 360.811623 261.79845 \nL 360.811623 201.498854 \nL 351.325529 201.498854 \nz\n\" style=\"fill:#ff0000;opacity:0.5;\"/>\n   </g>\n   <g id=\"patch_39\">\n    <path clip-path=\"url(#p724e213768)\" d=\"M 360.811623 261.79845 \nL 370.297718 261.79845 \nL 370.297718 185.768525 \nL 360.811623 185.768525 \nz\n\" style=\"fill:#ff0000;opacity:0.5;\"/>\n   </g>\n   <g id=\"patch_40\">\n    <path clip-path=\"url(#p724e213768)\" d=\"M 370.297718 261.79845 \nL 379.783812 261.79845 \nL 379.783812 132.023233 \nL 370.297718 132.023233 \nz\n\" style=\"fill:#ff0000;opacity:0.5;\"/>\n   </g>\n   <g id=\"patch_41\">\n    <path clip-path=\"url(#p724e213768)\" d=\"M 379.783812 261.79845 \nL 389.269907 261.79845 \nL 389.269907 139.888398 \nL 379.783812 139.888398 \nz\n\" style=\"fill:#ff0000;opacity:0.5;\"/>\n   </g>\n   <g id=\"patch_42\">\n    <path clip-path=\"url(#p724e213768)\" d=\"M 389.269907 261.79845 \nL 398.756001 261.79845 \nL 398.756001 166.105614 \nL 389.269907 166.105614 \nz\n\" style=\"fill:#ff0000;opacity:0.5;\"/>\n   </g>\n   <g id=\"patch_43\">\n    <path d=\"M 41.871875 261.79845 \nL 41.871875 28.51845 \n\" style=\"fill:none;stroke:#f0f0f0;stroke-linecap:square;stroke-linejoin:miter;stroke-width:3;\"/>\n   </g>\n   <g id=\"patch_44\">\n    <path d=\"M 417.711875 261.79845 \nL 417.711875 28.51845 \n\" style=\"fill:none;stroke:#f0f0f0;stroke-linecap:square;stroke-linejoin:miter;stroke-width:3;\"/>\n   </g>\n   <g id=\"patch_45\">\n    <path d=\"M 41.871875 261.79845 \nL 417.711875 261.79845 \n\" style=\"fill:none;stroke:#f0f0f0;stroke-linecap:square;stroke-linejoin:miter;stroke-width:3;\"/>\n   </g>\n   <g id=\"patch_46\">\n    <path d=\"M 41.871875 28.51845 \nL 417.711875 28.51845 \n\" style=\"fill:none;stroke:#f0f0f0;stroke-linecap:square;stroke-linejoin:miter;stroke-width:3;\"/>\n   </g>\n   <g id=\"text_13\">\n    <!-- Распределение плотности признака V1 -->\n    <defs>\n     <path d=\"M 19.671875 64.796875 \nL 19.671875 37.40625 \nL 32.078125 37.40625 \nQ 38.96875 37.40625 42.71875 40.96875 \nQ 46.484375 44.53125 46.484375 51.125 \nQ 46.484375 57.671875 42.71875 61.234375 \nQ 38.96875 64.796875 32.078125 64.796875 \nz\nM 9.8125 72.90625 \nL 32.078125 72.90625 \nQ 44.34375 72.90625 50.609375 67.359375 \nQ 56.890625 61.8125 56.890625 51.125 \nQ 56.890625 40.328125 50.609375 34.8125 \nQ 44.34375 29.296875 32.078125 29.296875 \nL 19.671875 29.296875 \nL 19.671875 0 \nL 9.8125 0 \nz\n\" id=\"DejaVuSans-1056\"/>\n     <path d=\"M 34.28125 27.484375 \nQ 23.390625 27.484375 19.1875 25 \nQ 14.984375 22.515625 14.984375 16.5 \nQ 14.984375 11.71875 18.140625 8.90625 \nQ 21.296875 6.109375 26.703125 6.109375 \nQ 34.1875 6.109375 38.703125 11.40625 \nQ 43.21875 16.703125 43.21875 25.484375 \nL 43.21875 27.484375 \nz\nM 52.203125 31.203125 \nL 52.203125 0 \nL 43.21875 0 \nL 43.21875 8.296875 \nQ 40.140625 3.328125 35.546875 0.953125 \nQ 30.953125 -1.421875 24.3125 -1.421875 \nQ 15.921875 -1.421875 10.953125 3.296875 \nQ 6 8.015625 6 15.921875 \nQ 6 25.140625 12.171875 29.828125 \nQ 18.359375 34.515625 30.609375 34.515625 \nL 43.21875 34.515625 \nL 43.21875 35.40625 \nQ 43.21875 41.609375 39.140625 45 \nQ 35.0625 48.390625 27.6875 48.390625 \nQ 23 48.390625 18.546875 47.265625 \nQ 14.109375 46.140625 10.015625 43.890625 \nL 10.015625 52.203125 \nQ 14.9375 54.109375 19.578125 55.046875 \nQ 24.21875 56 28.609375 56 \nQ 40.484375 56 46.34375 49.84375 \nQ 52.203125 43.703125 52.203125 31.203125 \nz\n\" id=\"DejaVuSans-1072\"/>\n     <path d=\"M 48.78125 52.59375 \nL 48.78125 44.1875 \nQ 44.96875 46.296875 41.140625 47.34375 \nQ 37.3125 48.390625 33.40625 48.390625 \nQ 24.65625 48.390625 19.8125 42.84375 \nQ 14.984375 37.3125 14.984375 27.296875 \nQ 14.984375 17.28125 19.8125 11.734375 \nQ 24.65625 6.203125 33.40625 6.203125 \nQ 37.3125 6.203125 41.140625 7.25 \nQ 44.96875 8.296875 48.78125 10.40625 \nL 48.78125 2.09375 \nQ 45.015625 0.34375 40.984375 -0.53125 \nQ 36.96875 -1.421875 32.421875 -1.421875 \nQ 20.0625 -1.421875 12.78125 6.34375 \nQ 5.515625 14.109375 5.515625 27.296875 \nQ 5.515625 40.671875 12.859375 48.328125 \nQ 20.21875 56 33.015625 56 \nQ 37.15625 56 41.109375 55.140625 \nQ 45.0625 54.296875 48.78125 52.59375 \nz\n\" id=\"DejaVuSans-1089\"/>\n     <path d=\"M 56.296875 54.6875 \nL 56.296875 0 \nL 47.265625 0 \nL 47.265625 47.515625 \nL 18.109375 47.515625 \nL 18.109375 0 \nL 9.078125 0 \nL 9.078125 54.6875 \nz\n\" id=\"DejaVuSans-1087\"/>\n     <path d=\"M 18.109375 8.203125 \nL 18.109375 -20.796875 \nL 9.078125 -20.796875 \nL 9.078125 54.6875 \nL 18.109375 54.6875 \nL 18.109375 46.390625 \nQ 20.953125 51.265625 25.265625 53.625 \nQ 29.59375 56 35.59375 56 \nQ 45.5625 56 51.78125 48.09375 \nQ 58.015625 40.1875 58.015625 27.296875 \nQ 58.015625 14.40625 51.78125 6.484375 \nQ 45.5625 -1.421875 35.59375 -1.421875 \nQ 29.59375 -1.421875 25.265625 0.953125 \nQ 20.953125 3.328125 18.109375 8.203125 \nz\nM 48.6875 27.296875 \nQ 48.6875 37.203125 44.609375 42.84375 \nQ 40.53125 48.484375 33.40625 48.484375 \nQ 26.265625 48.484375 22.1875 42.84375 \nQ 18.109375 37.203125 18.109375 27.296875 \nQ 18.109375 17.390625 22.1875 11.75 \nQ 26.265625 6.109375 33.40625 6.109375 \nQ 40.53125 6.109375 44.609375 11.75 \nQ 48.6875 17.390625 48.6875 27.296875 \nz\n\" id=\"DejaVuSans-1088\"/>\n     <path d=\"M 56.203125 29.59375 \nL 56.203125 25.203125 \nL 14.890625 25.203125 \nQ 15.484375 15.921875 20.484375 11.0625 \nQ 25.484375 6.203125 34.421875 6.203125 \nQ 39.59375 6.203125 44.453125 7.46875 \nQ 49.3125 8.734375 54.109375 11.28125 \nL 54.109375 2.78125 \nQ 49.265625 0.734375 44.1875 -0.34375 \nQ 39.109375 -1.421875 33.890625 -1.421875 \nQ 20.796875 -1.421875 13.15625 6.1875 \nQ 5.515625 13.8125 5.515625 26.8125 \nQ 5.515625 40.234375 12.765625 48.109375 \nQ 20.015625 56 32.328125 56 \nQ 43.359375 56 49.78125 48.890625 \nQ 56.203125 41.796875 56.203125 29.59375 \nz\nM 47.21875 32.234375 \nQ 47.125 39.59375 43.09375 43.984375 \nQ 39.0625 48.390625 32.421875 48.390625 \nQ 24.90625 48.390625 20.390625 44.140625 \nQ 15.875 39.890625 15.1875 32.171875 \nz\n\" id=\"DejaVuSans-1077\"/>\n     <path d=\"M 21.625 7.171875 \nL 47.703125 7.171875 \nL 47.703125 47.515625 \nL 28.8125 47.515625 \nL 28.8125 40.671875 \nQ 28.8125 20.5625 23.046875 9.8125 \nz\nM 8.59375 7.171875 \nQ 13.03125 9.125 14.984375 13.28125 \nQ 19.78125 23.578125 19.78125 44.34375 \nL 19.78125 54.6875 \nL 56.734375 54.6875 \nL 56.734375 7.171875 \nL 63.921875 7.171875 \nL 63.921875 -13.8125 \nL 56.734375 -13.8125 \nL 56.734375 0 \nL 12.40625 0 \nL 12.40625 -13.8125 \nL 5.21875 -13.8125 \nL 5.21875 7.171875 \nz\n\" id=\"DejaVuSans-1076\"/>\n     <path d=\"M 3.71875 0 \nL 3.71875 7.46875 \nQ 12.59375 8.84375 15.328125 14.984375 \nQ 18.65625 23.640625 18.65625 45.75 \nL 18.65625 54.6875 \nL 55.609375 54.6875 \nL 55.609375 0 \nL 46.625 0 \nL 46.625 47.515625 \nL 27.640625 47.515625 \nL 27.640625 42.09375 \nQ 27.640625 21 23.34375 11.53125 \nQ 18.75 1.421875 3.71875 0 \nz\n\" id=\"DejaVuSans-1083\"/>\n     <path d=\"M 9.078125 54.6875 \nL 18.109375 54.6875 \nL 18.109375 32.375 \nL 47.265625 32.375 \nL 47.265625 54.6875 \nL 56.296875 54.6875 \nL 56.296875 0 \nL 47.265625 0 \nL 47.265625 25.203125 \nL 18.109375 25.203125 \nL 18.109375 0 \nL 9.078125 0 \nz\n\" id=\"DejaVuSans-1085\"/>\n     <path d=\"M 55.90625 54.6875 \nL 55.90625 0 \nL 46.96875 0 \nL 46.96875 43.890625 \nL 20.609375 0 \nL 9.078125 0 \nL 9.078125 54.6875 \nL 18.015625 54.6875 \nL 18.015625 10.890625 \nL 44.34375 54.6875 \nz\n\" id=\"DejaVuSans-1080\"/>\n     <path id=\"DejaVuSans-32\"/>\n     <path d=\"M 30.609375 48.390625 \nQ 23.390625 48.390625 19.1875 42.75 \nQ 14.984375 37.109375 14.984375 27.296875 \nQ 14.984375 17.484375 19.15625 11.84375 \nQ 23.34375 6.203125 30.609375 6.203125 \nQ 37.796875 6.203125 41.984375 11.859375 \nQ 46.1875 17.53125 46.1875 27.296875 \nQ 46.1875 37.015625 41.984375 42.703125 \nQ 37.796875 48.390625 30.609375 48.390625 \nz\nM 30.609375 56 \nQ 42.328125 56 49.015625 48.375 \nQ 55.71875 40.765625 55.71875 27.296875 \nQ 55.71875 13.875 49.015625 6.21875 \nQ 42.328125 -1.421875 30.609375 -1.421875 \nQ 18.84375 -1.421875 12.171875 6.21875 \nQ 5.515625 13.875 5.515625 27.296875 \nQ 5.515625 40.765625 12.171875 48.375 \nQ 18.84375 56 30.609375 56 \nz\n\" id=\"DejaVuSans-1086\"/>\n     <path d=\"M 2.9375 54.6875 \nL 55.328125 54.6875 \nL 55.328125 47.515625 \nL 33.546875 47.515625 \nL 33.546875 0 \nL 24.703125 0 \nL 24.703125 47.515625 \nL 2.9375 47.515625 \nz\n\" id=\"DejaVuSans-1090\"/>\n     <path d=\"M 34.46875 29.5 \nQ 40.53125 28.328125 43.890625 24.75 \nQ 47.265625 21.1875 47.265625 15.921875 \nQ 47.265625 7.46875 40.96875 3.015625 \nQ 34.671875 -1.421875 23.046875 -1.421875 \nQ 19.140625 -1.421875 15.015625 -0.734375 \nQ 10.890625 -0.046875 6.5 1.3125 \nL 6.5 9.671875 \nQ 9.96875 7.859375 14.109375 6.953125 \nQ 18.265625 6.0625 22.796875 6.0625 \nQ 30.171875 6.0625 34.296875 8.796875 \nQ 38.421875 11.53125 38.421875 15.921875 \nQ 38.421875 20.21875 34.765625 22.828125 \nQ 31.109375 25.4375 24.421875 25.4375 \nL 17.1875 25.4375 \nL 17.1875 32.859375 \nL 24.75 32.859375 \nQ 30.421875 32.859375 33.71875 35.03125 \nQ 37.015625 37.203125 37.015625 40.625 \nQ 37.015625 43.75 33.609375 46 \nQ 30.21875 48.25 24.421875 48.25 \nQ 20.953125 48.25 17.015625 47.609375 \nQ 13.09375 46.96875 8.34375 45.5625 \nL 8.34375 53.71875 \nQ 13.140625 54.890625 17.28125 55.46875 \nQ 21.4375 56.0625 25.140625 56.0625 \nQ 34.71875 56.0625 40.25 52.21875 \nQ 45.796875 48.390625 45.796875 41.5 \nQ 45.796875 36.96875 42.859375 33.8125 \nQ 39.9375 30.671875 34.46875 29.5 \nz\n\" id=\"DejaVuSans-1079\"/>\n     <path d=\"M 9.078125 54.6875 \nL 18.015625 54.6875 \nL 18.015625 29 \nL 43.359375 54.6875 \nL 54.390625 54.6875 \nL 33.5 33.546875 \nL 57.078125 0 \nL 47.015625 0 \nL 27.640625 27.59375 \nL 18.015625 17.828125 \nL 18.015625 0 \nL 9.078125 0 \nz\n\" id=\"DejaVuSans-1082\"/>\n     <path d=\"M 28.609375 0 \nL 0.78125 72.90625 \nL 11.078125 72.90625 \nL 34.1875 11.53125 \nL 57.328125 72.90625 \nL 67.578125 72.90625 \nL 39.796875 0 \nz\n\" id=\"DejaVuSans-86\"/>\n    </defs>\n    <g transform=\"translate(18.997025 22.51845)scale(0.2016 -0.2016)\">\n     <use xlink:href=\"#DejaVuSans-1056\"/>\n     <use x=\"60.302734\" xlink:href=\"#DejaVuSans-1072\"/>\n     <use x=\"121.582031\" xlink:href=\"#DejaVuSans-1089\"/>\n     <use x=\"176.5625\" xlink:href=\"#DejaVuSans-1087\"/>\n     <use x=\"241.943359\" xlink:href=\"#DejaVuSans-1088\"/>\n     <use x=\"305.419922\" xlink:href=\"#DejaVuSans-1077\"/>\n     <use x=\"366.943359\" xlink:href=\"#DejaVuSans-1076\"/>\n     <use x=\"436.083984\" xlink:href=\"#DejaVuSans-1077\"/>\n     <use x=\"497.607422\" xlink:href=\"#DejaVuSans-1083\"/>\n     <use x=\"561.523438\" xlink:href=\"#DejaVuSans-1077\"/>\n     <use x=\"623.046875\" xlink:href=\"#DejaVuSans-1085\"/>\n     <use x=\"688.427734\" xlink:href=\"#DejaVuSans-1080\"/>\n     <use x=\"753.417969\" xlink:href=\"#DejaVuSans-1077\"/>\n     <use x=\"814.941406\" xlink:href=\"#DejaVuSans-32\"/>\n     <use x=\"846.728516\" xlink:href=\"#DejaVuSans-1087\"/>\n     <use x=\"912.109375\" xlink:href=\"#DejaVuSans-1083\"/>\n     <use x=\"976.025391\" xlink:href=\"#DejaVuSans-1086\"/>\n     <use x=\"1037.207031\" xlink:href=\"#DejaVuSans-1090\"/>\n     <use x=\"1095.458984\" xlink:href=\"#DejaVuSans-1085\"/>\n     <use x=\"1160.839844\" xlink:href=\"#DejaVuSans-1086\"/>\n     <use x=\"1222.021484\" xlink:href=\"#DejaVuSans-1089\"/>\n     <use x=\"1277.001953\" xlink:href=\"#DejaVuSans-1090\"/>\n     <use x=\"1335.253906\" xlink:href=\"#DejaVuSans-1080\"/>\n     <use x=\"1400.244141\" xlink:href=\"#DejaVuSans-32\"/>\n     <use x=\"1432.03125\" xlink:href=\"#DejaVuSans-1087\"/>\n     <use x=\"1497.412109\" xlink:href=\"#DejaVuSans-1088\"/>\n     <use x=\"1560.888672\" xlink:href=\"#DejaVuSans-1080\"/>\n     <use x=\"1625.878906\" xlink:href=\"#DejaVuSans-1079\"/>\n     <use x=\"1679.052734\" xlink:href=\"#DejaVuSans-1085\"/>\n     <use x=\"1744.433594\" xlink:href=\"#DejaVuSans-1072\"/>\n     <use x=\"1805.712891\" xlink:href=\"#DejaVuSans-1082\"/>\n     <use x=\"1866.113281\" xlink:href=\"#DejaVuSans-1072\"/>\n     <use x=\"1927.392578\" xlink:href=\"#DejaVuSans-32\"/>\n     <use x=\"1959.179688\" xlink:href=\"#DejaVuSans-86\"/>\n     <use x=\"2027.587891\" xlink:href=\"#DejaVuSans-49\"/>\n    </g>\n   </g>\n   <g id=\"legend_1\">\n    <g id=\"patch_47\">\n     <path d=\"M 51.671875 80.8172 \nL 146.659688 80.8172 \nQ 149.459688 80.8172 149.459688 78.0172 \nL 149.459688 38.31845 \nQ 149.459688 35.51845 146.659688 35.51845 \nL 51.671875 35.51845 \nQ 48.871875 35.51845 48.871875 38.31845 \nL 48.871875 78.0172 \nQ 48.871875 80.8172 51.671875 80.8172 \nz\n\" style=\"fill:#f0f0f0;opacity:0.8;stroke:#cccccc;stroke-linejoin:miter;stroke-width:0.5;\"/>\n    </g>\n    <g id=\"patch_48\">\n     <path d=\"M 54.471875 51.756262 \nL 82.471875 51.756262 \nL 82.471875 41.956262 \nL 54.471875 41.956262 \nz\n\" style=\"fill:#808080;opacity:0.5;\"/>\n    </g>\n    <g id=\"text_14\">\n     <!-- Class 0 -->\n     <g transform=\"translate(93.671875 51.756262)scale(0.14 -0.14)\">\n      <use xlink:href=\"#DejaVuSans-67\"/>\n      <use x=\"69.824219\" xlink:href=\"#DejaVuSans-108\"/>\n      <use x=\"97.607422\" xlink:href=\"#DejaVuSans-97\"/>\n      <use x=\"158.886719\" xlink:href=\"#DejaVuSans-115\"/>\n      <use x=\"210.986328\" xlink:href=\"#DejaVuSans-115\"/>\n      <use x=\"263.085938\" xlink:href=\"#DejaVuSans-32\"/>\n      <use x=\"294.873047\" xlink:href=\"#DejaVuSans-48\"/>\n     </g>\n    </g>\n    <g id=\"patch_49\">\n     <path d=\"M 54.471875 72.305637 \nL 82.471875 72.305637 \nL 82.471875 62.505637 \nL 54.471875 62.505637 \nz\n\" style=\"fill:#ff0000;opacity:0.5;\"/>\n    </g>\n    <g id=\"text_15\">\n     <!-- Class 1 -->\n     <g transform=\"translate(93.671875 72.305637)scale(0.14 -0.14)\">\n      <use xlink:href=\"#DejaVuSans-67\"/>\n      <use x=\"69.824219\" xlink:href=\"#DejaVuSans-108\"/>\n      <use x=\"97.607422\" xlink:href=\"#DejaVuSans-97\"/>\n      <use x=\"158.886719\" xlink:href=\"#DejaVuSans-115\"/>\n      <use x=\"210.986328\" xlink:href=\"#DejaVuSans-115\"/>\n      <use x=\"263.085938\" xlink:href=\"#DejaVuSans-32\"/>\n      <use x=\"294.873047\" xlink:href=\"#DejaVuSans-49\"/>\n     </g>\n    </g>\n   </g>\n  </g>\n </g>\n <defs>\n  <clipPath id=\"p724e213768\">\n   <rect height=\"233.28\" width=\"375.84\" x=\"41.871875\" y=\"28.51845\"/>\n  </clipPath>\n </defs>\n</svg>\n"
          },
          "metadata": {
            "tags": []
          }
        }
      ]
    },
    {
      "cell_type": "markdown",
      "metadata": {
        "id": "Bx9nRP3x0A5M"
      },
      "source": [
        "**Задание на повторение материала**\n",
        "\n",
        "1. Создать одномерный массив Numpy под названием a из 12 последовательных целых чисел чисел от 12 до 24 невключительно."
      ]
    },
    {
      "cell_type": "code",
      "metadata": {
        "id": "G0aG5tM66sc6",
        "outputId": "8cec5891-69e5-4d8e-fab3-de1cfb98d767",
        "colab": {
          "base_uri": "https://localhost:8080/",
          "height": 34
        }
      },
      "source": [
        "a = np.linspace(12, 24, 12, endpoint=False)\n",
        "a"
      ],
      "execution_count": 73,
      "outputs": [
        {
          "output_type": "execute_result",
          "data": {
            "text/plain": [
              "array([12., 13., 14., 15., 16., 17., 18., 19., 20., 21., 22., 23.])"
            ]
          },
          "metadata": {
            "tags": []
          },
          "execution_count": 73
        }
      ]
    },
    {
      "cell_type": "markdown",
      "metadata": {
        "id": "mXcDu-yz6sc_"
      },
      "source": [
        "2. Создать 5 двумерных массивов разной формы из массива a. Не использовать в аргументах метода reshape число -1."
      ]
    },
    {
      "cell_type": "code",
      "metadata": {
        "id": "iuRGUCeA6sc_",
        "outputId": "8cce258e-b9ce-40ea-b8f9-eab9bec6e4cc",
        "colab": {
          "base_uri": "https://localhost:8080/",
          "height": 238
        }
      },
      "source": [
        "a1 = a.reshape(2, 6)\n",
        "a2 = a.reshape(3, 4)\n",
        "a3 = a.reshape(6, 2)\n",
        "a4 = a.reshape(4, 3)\n",
        "a5 = a.reshape(2, 6, order='F')\n",
        "a1, a2, a3, a4, a5"
      ],
      "execution_count": 74,
      "outputs": [
        {
          "output_type": "execute_result",
          "data": {
            "text/plain": [
              "(array([[12., 13., 14., 15., 16., 17.],\n",
              "        [18., 19., 20., 21., 22., 23.]]), array([[12., 13., 14., 15.],\n",
              "        [16., 17., 18., 19.],\n",
              "        [20., 21., 22., 23.]]), array([[12., 13.],\n",
              "        [14., 15.],\n",
              "        [16., 17.],\n",
              "        [18., 19.],\n",
              "        [20., 21.],\n",
              "        [22., 23.]]), array([[12., 13., 14.],\n",
              "        [15., 16., 17.],\n",
              "        [18., 19., 20.],\n",
              "        [21., 22., 23.]]), array([[12., 14., 16., 18., 20., 22.],\n",
              "        [13., 15., 17., 19., 21., 23.]]))"
            ]
          },
          "metadata": {
            "tags": []
          },
          "execution_count": 74
        }
      ]
    },
    {
      "cell_type": "markdown",
      "metadata": {
        "id": "xPB_owRX6sdE"
      },
      "source": [
        "3. Создать 5 двумерных массивов разной формы из массива a. Использовать в аргументах метода reshape число -1 (в трех примерах - для обозначения числа столбцов, в двух - для строк)."
      ]
    },
    {
      "cell_type": "code",
      "metadata": {
        "id": "HLdOwrRr6sdF",
        "outputId": "f995ada1-20ff-47df-f22f-5774edb74235",
        "colab": {
          "base_uri": "https://localhost:8080/",
          "height": 238
        }
      },
      "source": [
        "a1 = a.reshape(2, -1)\n",
        "a2 = a.reshape(3, -1)\n",
        "a3 = a.reshape(6, -1)\n",
        "a4 = a.reshape(-1, 3)\n",
        "a5 = a.reshape(-1, 6, order='F')\n",
        "a1, a2, a3, a4, a5"
      ],
      "execution_count": 75,
      "outputs": [
        {
          "output_type": "execute_result",
          "data": {
            "text/plain": [
              "(array([[12., 13., 14., 15., 16., 17.],\n",
              "        [18., 19., 20., 21., 22., 23.]]), array([[12., 13., 14., 15.],\n",
              "        [16., 17., 18., 19.],\n",
              "        [20., 21., 22., 23.]]), array([[12., 13.],\n",
              "        [14., 15.],\n",
              "        [16., 17.],\n",
              "        [18., 19.],\n",
              "        [20., 21.],\n",
              "        [22., 23.]]), array([[12., 13., 14.],\n",
              "        [15., 16., 17.],\n",
              "        [18., 19., 20.],\n",
              "        [21., 22., 23.]]), array([[12., 14., 16., 18., 20., 22.],\n",
              "        [13., 15., 17., 19., 21., 23.]]))"
            ]
          },
          "metadata": {
            "tags": []
          },
          "execution_count": 75
        }
      ]
    },
    {
      "cell_type": "markdown",
      "metadata": {
        "id": "ywJMaM7A6sdJ"
      },
      "source": [
        "4. Можно ли массив Numpy, состоящий из одного столбца и 12 строк, назвать одномерным?"
      ]
    },
    {
      "cell_type": "code",
      "metadata": {
        "id": "dS1_GM1B6sdK",
        "outputId": "eaa77421-7ef2-4397-840b-cc02eb613437",
        "colab": {
          "base_uri": "https://localhost:8080/",
          "height": 306
        }
      },
      "source": [
        "# Ответ: НЕТ. Массив с 1-ой размерностью становится с 12-ю столбцами и 1-ой строкой (Массив c).\n",
        "b = np.random.randint(10, 15, size = (12, 1))\n",
        "c = np.random.randint(10, 15, size = (12))\n",
        "print(f'b.ndim={b.ndim}\\nb.shape={b.shape}\\nb={b}')\n",
        "print(f'c.ndim={c.ndim}\\nc.shape={c.shape}\\nc={c}')"
      ],
      "execution_count": 76,
      "outputs": [
        {
          "output_type": "stream",
          "text": [
            "b.ndim=2\n",
            "b.shape=(12, 1)\n",
            "b=[[13]\n",
            " [11]\n",
            " [14]\n",
            " [13]\n",
            " [10]\n",
            " [10]\n",
            " [12]\n",
            " [12]\n",
            " [11]\n",
            " [13]\n",
            " [13]\n",
            " [12]]\n",
            "c.ndim=1\n",
            "c.shape=(12,)\n",
            "c=[13 13 10 12 14 12 14 10 11 13 10 13]\n"
          ],
          "name": "stdout"
        }
      ]
    },
    {
      "cell_type": "markdown",
      "metadata": {
        "id": "XFhPN8Kv6sdO"
      },
      "source": [
        "5. Создать массив из 3 строк и 4 столбцов, состоящий из случайных чисел с плавающей запятой из нормального распределения со средним, равным 0 и среднеквадратичным отклонением, равным 1.0. Получить из этого массива одномерный массив с таким же атрибутом size, как и исходный массив."
      ]
    },
    {
      "cell_type": "code",
      "metadata": {
        "id": "RNOvQ0l66sdO",
        "outputId": "89e94943-1980-47a8-be32-b7ead4e07d7c",
        "colab": {
          "base_uri": "https://localhost:8080/",
          "height": 34
        }
      },
      "source": [
        "d = 1.0 * np.random.randn(3, 4) + 0.0\n",
        "e = d.flatten()\n",
        "d.mean(), d.std(), d.size, d.shape, e.size, e.shape"
      ],
      "execution_count": 77,
      "outputs": [
        {
          "output_type": "execute_result",
          "data": {
            "text/plain": [
              "(-0.26170781577428054, 1.004459103399063, 12, (3, 4), 12, (12,))"
            ]
          },
          "metadata": {
            "tags": []
          },
          "execution_count": 77
        }
      ]
    },
    {
      "cell_type": "markdown",
      "metadata": {
        "id": "Wlsqrivj6sdS"
      },
      "source": [
        "6. Создать массив a, состоящий из целых чисел, убывающих от 20 до 0 невключительно с интервалом 2."
      ]
    },
    {
      "cell_type": "code",
      "metadata": {
        "id": "UHIVav3a6sdT",
        "outputId": "27ec3f5d-b8aa-48cd-c63e-96c722dc51d7",
        "colab": {
          "base_uri": "https://localhost:8080/",
          "height": 34
        }
      },
      "source": [
        "a = np.arange(20, 0, -2)\n",
        "a"
      ],
      "execution_count": 78,
      "outputs": [
        {
          "output_type": "execute_result",
          "data": {
            "text/plain": [
              "array([20, 18, 16, 14, 12, 10,  8,  6,  4,  2])"
            ]
          },
          "metadata": {
            "tags": []
          },
          "execution_count": 78
        }
      ]
    },
    {
      "cell_type": "markdown",
      "metadata": {
        "id": "K1TgJWMR6sdY"
      },
      "source": [
        "7. Создать массив b, состоящий из 1 строки и 10 столбцов: целых чисел, убывающих от 20 до 1 невключительно с интервалом 2. В чем разница между массивами a и b?"
      ]
    },
    {
      "cell_type": "code",
      "metadata": {
        "id": "Ma46P5176sdY",
        "outputId": "003e0a2e-d817-4755-e222-6ad2cd855052",
        "colab": {
          "base_uri": "https://localhost:8080/",
          "height": 34
        }
      },
      "source": [
        "# Разницы между массивами a и b НЕТ.\n",
        "b = np.arange(20, 1, -2)\n",
        "b"
      ],
      "execution_count": 79,
      "outputs": [
        {
          "output_type": "execute_result",
          "data": {
            "text/plain": [
              "array([20, 18, 16, 14, 12, 10,  8,  6,  4,  2])"
            ]
          },
          "metadata": {
            "tags": []
          },
          "execution_count": 79
        }
      ]
    },
    {
      "cell_type": "markdown",
      "metadata": {
        "id": "uep8Pak96sdd"
      },
      "source": [
        "8. Вертикально соединить массивы a и b. a - двумерный массив из нулей, число строк которого больше 1 и на 1 меньше, чем число строк двумерного массива b, состоящего из единиц. Итоговый массив v должен иметь атрибут size, равный 10."
      ]
    },
    {
      "cell_type": "code",
      "metadata": {
        "id": "P4do-C186sde",
        "outputId": "34da3834-1085-49fb-af5b-14102006ca1f",
        "colab": {
          "base_uri": "https://localhost:8080/",
          "height": 153
        }
      },
      "source": [
        "a = np.zeros((2, 2))\n",
        "b = np.ones((3, 2))\n",
        "v = np.vstack((a, b))\n",
        "a, b, v, v.size"
      ],
      "execution_count": 80,
      "outputs": [
        {
          "output_type": "execute_result",
          "data": {
            "text/plain": [
              "(array([[0., 0.],\n",
              "        [0., 0.]]), array([[1., 1.],\n",
              "        [1., 1.],\n",
              "        [1., 1.]]), array([[0., 0.],\n",
              "        [0., 0.],\n",
              "        [1., 1.],\n",
              "        [1., 1.],\n",
              "        [1., 1.]]), 10)"
            ]
          },
          "metadata": {
            "tags": []
          },
          "execution_count": 80
        }
      ]
    },
    {
      "cell_type": "markdown",
      "metadata": {
        "id": "3QvDWyZw6sdi"
      },
      "source": [
        "9. Создать одномерный массив а, состоящий из последовательности целых чисел от 0 до 12. Поменять форму этого массива, чтобы получилась матрица A (двумерный массив Numpy), состоящая из 4 строк и 3 столбцов. Получить матрицу At путем транспонирования матрицы A. Получить матрицу B, умножив матрицу A на матрицу At с помощью матричного умножения. Какой размер имеет матрица B? Получится ли вычислить обратную матрицу для матрицы B и почему?"
      ]
    },
    {
      "cell_type": "code",
      "metadata": {
        "id": "wixkW2336sdm",
        "outputId": "42ffd590-9cac-4650-fd90-d9d659ac4b87",
        "colab": {
          "base_uri": "https://localhost:8080/",
          "height": 170
        }
      },
      "source": [
        "a = np.arange(12)\n",
        "A = a.reshape(4, 3)\n",
        "At = A.T\n",
        "B = A @ At\n",
        "a, A, At, B, B.size, B.shape"
      ],
      "execution_count": 81,
      "outputs": [
        {
          "output_type": "execute_result",
          "data": {
            "text/plain": [
              "(array([ 0,  1,  2,  3,  4,  5,  6,  7,  8,  9, 10, 11]), array([[ 0,  1,  2],\n",
              "        [ 3,  4,  5],\n",
              "        [ 6,  7,  8],\n",
              "        [ 9, 10, 11]]), array([[ 0,  3,  6,  9],\n",
              "        [ 1,  4,  7, 10],\n",
              "        [ 2,  5,  8, 11]]), array([[  5,  14,  23,  32],\n",
              "        [ 14,  50,  86, 122],\n",
              "        [ 23,  86, 149, 212],\n",
              "        [ 32, 122, 212, 302]]), 16, (4, 4))"
            ]
          },
          "metadata": {
            "tags": []
          },
          "execution_count": 81
        }
      ]
    },
    {
      "cell_type": "code",
      "metadata": {
        "id": "Kh4-BpQ2-Iqg",
        "outputId": "c0ae8f95-d0bd-4d56-8c22-57bfb1a3a09d",
        "colab": {
          "base_uri": "https://localhost:8080/",
          "height": 85
        }
      },
      "source": [
        "# Обратная матрица B**-1 матрице B НЕ СУЩЕСТВУЕТ, т.к. хотя она и квадратная, но ее определитель равен 0 (вырожденная/сингулярная).\n",
        "det_B = np.linalg.det(B)\n",
        "# B_inv = np.linalg.inv(B) - ошибка 'Singular matrix'\n",
        "B, det_B"
      ],
      "execution_count": 82,
      "outputs": [
        {
          "output_type": "execute_result",
          "data": {
            "text/plain": [
              "(array([[  5,  14,  23,  32],\n",
              "        [ 14,  50,  86, 122],\n",
              "        [ 23,  86, 149, 212],\n",
              "        [ 32, 122, 212, 302]]), 0.0)"
            ]
          },
          "metadata": {
            "tags": []
          },
          "execution_count": 82
        }
      ]
    },
    {
      "cell_type": "markdown",
      "metadata": {
        "id": "qPl-EChT6sdq"
      },
      "source": [
        "10. Инициализируйте генератор случайных числе с помощью объекта seed, равного 42."
      ]
    },
    {
      "cell_type": "code",
      "metadata": {
        "id": "gZhe4Lkl6sdr"
      },
      "source": [
        "np.random.seed(42)"
      ],
      "execution_count": 83,
      "outputs": []
    },
    {
      "cell_type": "markdown",
      "metadata": {
        "id": "-pNe1alK6sdu"
      },
      "source": [
        "11. Создайте одномерный массив c, составленный из последовательности 16-ти случайных равномерно распределенных целых чисел от 0 до 16 невключительно. "
      ]
    },
    {
      "cell_type": "code",
      "metadata": {
        "id": "V7CmMbjt6sdv",
        "outputId": "b167ec1a-f1d7-4138-f71c-843be49bd6f3",
        "colab": {
          "base_uri": "https://localhost:8080/",
          "height": 85
        }
      },
      "source": [
        "c = np.random.uniform(0, 16, (16))\n",
        "c"
      ],
      "execution_count": 84,
      "outputs": [
        {
          "output_type": "execute_result",
          "data": {
            "text/plain": [
              "array([ 5.9926419 , 15.2114289 , 11.71190307,  9.57853575,  2.49629825,\n",
              "        2.49591233,  0.92933779, 13.85881833,  9.61784019, 11.32916124,\n",
              "        0.32935191, 15.51855763, 13.31908225,  3.39742577,  2.90919948,\n",
              "        2.93447216])"
            ]
          },
          "metadata": {
            "tags": []
          },
          "execution_count": 84
        }
      ]
    },
    {
      "cell_type": "markdown",
      "metadata": {
        "id": "1DC1LpZg6sdz"
      },
      "source": [
        "12. Поменяйте его форму так, чтобы получилась квадратная матрица C. Получите матрицу D, поэлементно прибавив матрицу B из предыдущего вопроса к матрице C, умноженной на 10. Вычислите определитель, ранг и обратную матрицу D_inv для D."
      ]
    },
    {
      "cell_type": "code",
      "metadata": {
        "id": "8sdz_Dwg6sd1",
        "outputId": "b1047873-3212-47d6-9e79-9c6bfdef6b1f",
        "colab": {
          "base_uri": "https://localhost:8080/",
          "height": 255
        }
      },
      "source": [
        "C = c.reshape(4, 4)\n",
        "D = 10 * C + B\n",
        "det_D = np.linalg.det(D)\n",
        "rank_D = np.linalg.matrix_rank(D)\n",
        "D_inv = np.linalg.inv(D)\n",
        "C, D, det_D, rank_D, D_inv"
      ],
      "execution_count": 85,
      "outputs": [
        {
          "output_type": "execute_result",
          "data": {
            "text/plain": [
              "(array([[ 5.9926419 , 15.2114289 , 11.71190307,  9.57853575],\n",
              "        [ 2.49629825,  2.49591233,  0.92933779, 13.85881833],\n",
              "        [ 9.61784019, 11.32916124,  0.32935191, 15.51855763],\n",
              "        [13.31908225,  3.39742577,  2.90919948,  2.93447216]]),\n",
              " array([[ 64.92641902, 166.11428903, 140.11903069, 127.78535747],\n",
              "        [ 38.96298247,  74.95912325,  95.29337795, 260.58818332],\n",
              "        [119.17840188, 199.29161245, 152.29351909, 367.18557635],\n",
              "        [165.19082253, 155.97425771, 241.09199475, 331.34472158]]),\n",
              " -237256363.53160015,\n",
              " 4,\n",
              " array([[-0.01113732, -0.01874086,  0.01081617,  0.00704792],\n",
              "        [ 0.0061776 , -0.00400992,  0.00582719, -0.00568631],\n",
              "        [ 0.0076154 ,  0.00949829, -0.01337814,  0.00441831],\n",
              "        [-0.00289661,  0.00431967,  0.00159876, -0.00103382]]))"
            ]
          },
          "metadata": {
            "tags": []
          },
          "execution_count": 85
        }
      ]
    },
    {
      "cell_type": "markdown",
      "metadata": {
        "id": "jScrCm-Z6sd4"
      },
      "source": [
        "13. Приравняйте к нулю отрицательные числа в матрице D_inv, а положительные - к единице. Убедитесь, что в матрице D_inv остались только нули и единицы. С помощью функции numpy.where, используя матрицу D_inv в качестве маски, а матрицы B и C - в качестве источников данных, получите матрицу E размером 4x4.  Элементы матрицы E, для которых соответствующий элемент матрицы D_inv равен 1, должны быть равны соответствующему элементу матрицы B, а элементы матрицы E, для которых соответствующий элемент матрицы D_inv равен 0, должны быть равны соответствующему элементу матрицы C."
      ]
    },
    {
      "cell_type": "code",
      "metadata": {
        "id": "oDsu7UdK6sd5",
        "outputId": "8c0f9a56-0118-4093-b6ff-4859cd2ddc1d",
        "colab": {
          "base_uri": "https://localhost:8080/",
          "height": 153
        }
      },
      "source": [
        "D_inv[D_inv < 0] = 0\n",
        "D_inv[D_inv > 0] = 1\n",
        "E = np.where(D_inv, B, C)\n",
        "D_inv, E"
      ],
      "execution_count": 86,
      "outputs": [
        {
          "output_type": "execute_result",
          "data": {
            "text/plain": [
              "(array([[0., 0., 1., 1.],\n",
              "        [1., 0., 1., 0.],\n",
              "        [1., 1., 0., 1.],\n",
              "        [0., 1., 1., 0.]]),\n",
              " array([[  5.9926419 ,  15.2114289 ,  23.        ,  32.        ],\n",
              "        [ 14.        ,   2.49591233,  86.        ,  13.85881833],\n",
              "        [ 23.        ,  86.        ,   0.32935191, 212.        ],\n",
              "        [ 13.31908225, 122.        , 212.        ,   2.93447216]]))"
            ]
          },
          "metadata": {
            "tags": []
          },
          "execution_count": 86
        }
      ]
    }
  ]
}