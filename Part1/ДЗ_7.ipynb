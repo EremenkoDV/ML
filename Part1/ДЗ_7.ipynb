{
 "cells": [
  {
   "cell_type": "markdown",
   "metadata": {
    "colab_type": "text",
    "id": "qGUIZbs0P18k"
   },
   "source": [
    "# **ДЗ к уроку 7**"
   ]
  },
  {
   "cell_type": "markdown",
   "metadata": {
    "colab_type": "text",
    "id": "T2xhjjkPP9Xb"
   },
   "source": [
    "**Задание 1.**\n"
   ]
  },
  {
   "cell_type": "markdown",
   "metadata": {
    "colab_type": "text",
    "id": "N-RKk45xQXIz"
   },
   "source": [
    "Даны значения величины заработной платы заемщиков банка (zp) и значения их поведенческого кредитного скоринга (ks): zp = [35, 45, 190, 200, 40, 70, 54, 150, 120, 110], ks = [401, 574, 874, 919, 459, 739, 653, 902, 746, 832]. Используя математические операции, посчитать коэффициенты линейной регрессии, приняв за X заработную плату (то есть, zp - признак), а за y - значения скорингового балла (то есть, ks - целевая переменная). Произвести расчет как с использованием intercept, так и без."
   ]
  },
  {
   "cell_type": "markdown",
   "metadata": {
    "colab_type": "text",
    "id": "8p3ytxUJQa6b"
   },
   "source": [
    "**Решение.**"
   ]
  },
  {
   "cell_type": "markdown",
   "metadata": {
    "colab_type": "text",
    "id": "GlapgldXQx90"
   },
   "source": [
    "**Вариант 1.**\n",
    "Согласно модели линейной регрессии (с интерсептом):\n",
    "$$y = a+b*x$$\n",
    "\n",
    "рассчитаем коэффициенты *b* и *a* по формулам:\n",
    "$$b = (np.mean(X * y) - np.mean(X) * np.mean(y)) / (np.mean(X^2) - np.mean(X)^2) = 2.6205$$\n",
    "$$a = np.mean(y) - b * np.mean(X) = 444.1774$$\n",
    "Получим итоговую модель линейной регрессии:\n",
    "$$\\hat{y} = 444.1774+2.6205*x$$\n"
   ]
  },
  {
   "cell_type": "markdown",
   "metadata": {
    "colab_type": "text",
    "id": "JcnYw2G3fpz-"
   },
   "source": [
    "**Вариант 2. Расчет матричным методом  (с интерсептом)**\n",
    "\n",
    "Расчет произведем по формуле:\n",
    "$$\\hat{B}=(X^T∗X)^{−1}∗X^T∗Y$$\n",
    "\n",
    "и рассчитаем коэффициенты *b* и *a* матрицы B_hat (с интерсептом):\n",
    "\n",
    "array([[444.17735732],[  2.62053888]])"
   ]
  },
  {
   "cell_type": "markdown",
   "metadata": {
    "colab_type": "text",
    "id": "nLGuro84feSI"
   },
   "source": [
    "**Вариант 2. Расчет матричным методом  (без интерсепта)**\n",
    "\n",
    "Расчет произведем по формуле:\n",
    "$$\\hat{B}=(X^T∗X)^{−1}∗X^T∗Y$$\n",
    "\n",
    "и рассчитаем коэффициент *b* матрицы B_hat (без интерсепта):\n",
    "\n",
    "array([[5.88982042]])"
   ]
  },
  {
   "cell_type": "code",
   "execution_count": 9,
   "metadata": {
    "colab": {},
    "colab_type": "code",
    "id": "O04IbTLXKP4v"
   },
   "outputs": [],
   "source": [
    "import numpy as np\n",
    "import pandas as pd"
   ]
  },
  {
   "cell_type": "code",
   "execution_count": 10,
   "metadata": {
    "colab": {
     "base_uri": "https://localhost:8080/",
     "height": 391
    },
    "colab_type": "code",
    "id": "We_FjJh7iPdh",
    "outputId": "43edfe47-893a-4ddb-f575-846bb7afde17"
   },
   "outputs": [
    {
     "name": "stdout",
     "output_type": "stream",
     "text": [
      "10\n",
      "101.4\n",
      "b = 2.620538882402765\n",
      "b1 = 2.6205388824027653\n",
      "a = 444.1773573243596\n",
      "a1 = 444.1773573243596\n",
      "Количество измерений zp:\t\t\t 10\n",
      "Среднее значение zp:\t\t\t\t 101.4\n",
      "Угол наклона (коэффициент b) :\t\t\t 2.620538882402765\n",
      "Интерсепт (коэффициент a) :\t\t\t 444.1773573243596\n",
      "====================================================================\n",
      "Проверка: y = 444.1773573243596 + 2.620538882402765 * x\n",
      "- при X(zp)=35 y(ks)=401 (расчитанное : 535.8962182084564, расхождение : 25.17%)\n",
      "- при X(zp)=45 y(ks)=574 (расчитанное : 562.101607032484, расхождение : -2.12%)\n",
      "- при X(zp)=190 y(ks)=874 (расчитанное : 942.0797449808849, расхождение : 7.23%)\n",
      "- при X(zp)=200 y(ks)=919 (расчитанное : 968.2851338049126, расхождение : 5.09%)\n",
      "- при X(zp)=40 y(ks)=459 (расчитанное : 548.9989126204703, расхождение : 16.39%)\n",
      "- при X(zp)=70 y(ks)=739 (расчитанное : 627.6150790925532, расхождение : -17.75%)\n",
      "- при X(zp)=54 y(ks)=653 (расчитанное : 585.686456974109, расхождение : -11.49%)\n",
      "- при X(zp)=150 y(ks)=902 (расчитанное : 837.2581896847744, расхождение : -7.73%)\n",
      "- при X(zp)=120 y(ks)=746 (расчитанное : 758.6420232126914, расхождение : 1.67%)\n",
      "- при X(zp)=110 y(ks)=832 (расчитанное : 732.4366343886637, расхождение : -13.59%)\n"
     ]
    }
   ],
   "source": [
    "zp = np.array([35, 45, 190, 200, 40, 70, 54, 150, 120, 110])\n",
    "ks = np.array([401, 574, 874, 919, 459, 739, 653, 902, 746, 832])\n",
    "\n",
    "X = np.copy(zp)\n",
    "y = np.copy(ks)\n",
    "\n",
    "# Количество измерений zp\n",
    "n = X.size\n",
    "print(n)\n",
    "\n",
    "# Среднее арифметическое zp\n",
    "X_mean = X.sum() / n\n",
    "print(X_mean)\n",
    "\n",
    "# Расчет коэффициента b\n",
    "b = (np.mean(X * y) - np.mean(X) * np.mean(y)) / (np.mean(X**2) - np.mean(X)**2)\n",
    "print(\"b =\", b)\n",
    "b1 = (n * (np.sum(X * y)) - (np.sum(X) * np.sum(y))) / (n * np.sum(X**2) - np.sum(X)**2)\n",
    "print(\"b1 =\", b1)\n",
    "\n",
    "# Расчет коэффициента a\n",
    "a = np.mean(y) - b * np.mean(X)\n",
    "print(\"a =\", a)\n",
    "a1 = (np.sum(y) - b * np.sum(X)) / n\n",
    "print(\"a1 =\", a1)\n",
    "\n",
    "print('Количество измерений zp:\\t\\t\\t', n)\n",
    "print('Среднее значение zp:\\t\\t\\t\\t', X.mean())\n",
    "print('Угол наклона (коэффициент b) :\\t\\t\\t', b)\n",
    "print('Интерсепт (коэффициент a) :\\t\\t\\t', a)\n",
    "\n",
    "# Проверка\n",
    "print('====================================================================')\n",
    "print('Проверка: y = {0} + {1} * x'.format(a, b))\n",
    "for i in range(0, n):\n",
    "    print('- при X(zp)={0} y(ks)={1} (расчитанное : {2}, расхождение : {3:4.2f}%)'.format(\n",
    "        X[i], y[i], a + b * X[i], (1 - y[i] / (a + b * X[i])) * 100))\n"
   ]
  },
  {
   "cell_type": "code",
   "execution_count": 11,
   "metadata": {
    "colab": {
     "base_uri": "https://localhost:8080/",
     "height": 51
    },
    "colab_type": "code",
    "id": "IeFkiwKhnHoU",
    "outputId": "acbe416e-f649-4268-cd82-b58e6ccbc148"
   },
   "outputs": [
    {
     "data": {
      "text/plain": [
       "array([[444.17735732],\n",
       "       [  2.62053888]])"
      ]
     },
     "execution_count": 11,
     "metadata": {
      "tags": []
     },
     "output_type": "execute_result"
    }
   ],
   "source": [
    "# Расчет матричным методом с интерсептом\n",
    "import seaborn as sns\n",
    "\n",
    "\n",
    "X = np.array([35, 45, 190, 200, 40, 70, 54, 150, 120, 110])\n",
    "y = np.array([401, 574, 874, 919, 459, 739, 653, 902, 746, 832])\n",
    "\n",
    "X = X.reshape((n, 1)) # транспонирование матрицы X\n",
    "y = y.reshape((n, 1)) # транспонирование матрицы y\n",
    "X = np.hstack([np.ones((n, 1)), X]) # добавление столбца единиц в матрицу X\n",
    "B = np.dot(np.linalg.inv(np.dot(X.T, X)), X.T @ y) # формула B\n",
    "B\n"
   ]
  },
  {
   "cell_type": "code",
   "execution_count": 12,
   "metadata": {
    "colab": {
     "base_uri": "https://localhost:8080/",
     "height": 299
    },
    "colab_type": "code",
    "id": "Qoz4FWBse_em",
    "outputId": "951d2f17-98e7-40a3-b55b-d3792ef05190"
   },
   "outputs": [
    {
     "data": {
      "image/png": "[encoded data removed]",
      "text/plain": [
       "<Figure size 432x288 with 1 Axes>"
      ]
     },
     "metadata": {
      "needs_background": "light",
      "tags": []
     },
     "output_type": "display_data"
    },
    {
     "name": "stdout",
     "output_type": "stream",
     "text": [
      "[ 35  45 190 200  40  70  54 150 120 110]\n",
      "[401 574 874 919 459 739 653 902 746 832]\n"
     ]
    }
   ],
   "source": [
    "import matplotlib.pyplot as plt\n",
    "\n",
    "\n",
    "plt.scatter(zp, ks)\n",
    "plt.plot(zp, 444.1774 + 2.6205 * zp)\n",
    "plt.show()\n",
    "print(zp)\n",
    "print(ks)\n"
   ]
  },
  {
   "cell_type": "code",
   "execution_count": 13,
   "metadata": {
    "colab": {
     "base_uri": "https://localhost:8080/",
     "height": 34
    },
    "colab_type": "code",
    "id": "MloWnpOEepQa",
    "outputId": "caa1dee1-38b1-4568-9bd2-020e67b9886f"
   },
   "outputs": [
    {
     "data": {
      "text/plain": [
       "array([[5.88982042]])"
      ]
     },
     "execution_count": 13,
     "metadata": {
      "tags": []
     },
     "output_type": "execute_result"
    }
   ],
   "source": [
    "# Расчет матричным методом без интерсепта\n",
    "import seaborn as sns\n",
    "\n",
    "\n",
    "X = np.array([35, 45, 190, 200, 40, 70, 54, 150, 120, 110])\n",
    "y = np.array([401, 574, 874, 919, 459, 739, 653, 902, 746, 832])\n",
    "\n",
    "X = X.reshape((n, 1)) # транспонирование матрицы X\n",
    "y = y.reshape((n, 1)) # транспонирование матрицы y\n",
    "B = np.dot(np.linalg.inv(np.dot(X.T, X)), X.T @ y) # формула B\n",
    "B\n"
   ]
  },
  {
   "cell_type": "code",
   "execution_count": 15,
   "metadata": {
    "colab": {
     "base_uri": "https://localhost:8080/",
     "height": 299
    },
    "colab_type": "code",
    "id": "-fUBmvbXPfnQ",
    "outputId": "4eda647a-0294-4887-8a34-544c932726f0"
   },
   "outputs": [
    {
     "data": {
      "image/png": "[encoded data removed]",
      "text/plain": [
       "<Figure size 432x288 with 1 Axes>"
      ]
     },
     "metadata": {
      "needs_background": "light",
      "tags": []
     },
     "output_type": "display_data"
    },
    {
     "name": "stdout",
     "output_type": "stream",
     "text": [
      "[ 35  45 190 200  40  70  54 150 120 110]\n",
      "[401 574 874 919 459 739 653 902 746 832]\n"
     ]
    }
   ],
   "source": [
    "import matplotlib.pyplot as plt\n",
    "\n",
    "\n",
    "plt.scatter(zp, ks)\n",
    "plt.plot(zp, 5.8898 * zp)\n",
    "plt.show()\n",
    "print(zp)\n",
    "print(ks)\n"
   ]
  },
  {
   "cell_type": "markdown",
   "metadata": {
    "colab_type": "text",
    "id": "wdlLwaeRayCM"
   },
   "source": [
    "**Задание 2.**\n"
   ]
  },
  {
   "cell_type": "markdown",
   "metadata": {
    "colab_type": "text",
    "id": "X10luBD0ayCP"
   },
   "source": [
    "Посчитать коэффициент линейной регрессии при заработной плате (zp), используя градиентный спуск (без intercept)."
   ]
  },
  {
   "cell_type": "markdown",
   "metadata": {
    "colab_type": "text",
    "id": "GP_bD82eayCR"
   },
   "source": [
    "**Решение.**"
   ]
  },
  {
   "cell_type": "markdown",
   "metadata": {
    "colab_type": "text",
    "id": "xgigB05RayCS"
   },
   "source": [
    "Используем модель  (без intercept): y_hat = B1 * X\n",
    "\n",
    "Используем метод градиентного спуска, считая среднеквадратичной функцию потерь по формуле:\n",
    "\n",
    "mse = ((b * x - y_hat)**2).sum() / n\n",
    "\n",
    "и производную для определения локального минимума (экстремума):\n",
    "\n",
    "mse_ = 2 * ((b * x - y_hat) * x).sum() / n\n",
    "\n",
    "Получим при скорости обучения alfa=1e-6 и начальном значении B1=0.1:\n",
    "\n",
    "$$B1=5.940918$$"
   ]
  },
  {
   "cell_type": "code",
   "execution_count": 5,
   "metadata": {
    "colab": {
     "base_uri": "https://localhost:8080/",
     "height": 204
    },
    "colab_type": "code",
    "id": "5tsg2ZOLdf_1",
    "outputId": "7a2f7b66-0af6-4a8b-d250-51454700a7fd"
   },
   "outputs": [
    {
     "name": "stdout",
     "output_type": "stream",
     "text": [
      "Итерация: 0, B1=0.26094768, mse=1027073.9973981536\n",
      "Итерация: 100, B1=5.593508888000083, mse=584242.9745381855\n",
      "Итерация: 200, B1=5.919669627558069, mse=582586.3285757308\n",
      "Итерация: 300, B1=5.939618920942537, mse=582580.1310066734\n",
      "Итерация: 400, B1=5.940839099395277, mse=582580.107821356\n",
      "Итерация: 500, B1=5.940913730382343, mse=582580.1077346189\n",
      "Итерация: 600, B1=5.9409182951115564, mse=582580.1077342944\n",
      "Итерация: 700, B1=5.940918574308627, mse=582580.1077342933\n",
      "Итерация: 800, B1=5.940918591385435, mse=582580.1077342934\n",
      "Итерация: 900, B1=5.940918592429921, mse=582580.1077342932\n"
     ]
    },
    {
     "data": {
      "text/plain": [
       "582580.1077342934"
      ]
     },
     "execution_count": 5,
     "metadata": {
      "tags": []
     },
     "output_type": "execute_result"
    }
   ],
   "source": [
    "# Метод расчета mean square error (mse)\n",
    "def  mse_(B1,  y = y, X = X, n = 10):\n",
    "    return np.sum((B1 * X - y)**2) / n\n",
    "\t\n",
    "\n",
    "# Скорость обучения alfa\n",
    "alfa = 1e-6\n",
    "\n",
    "# Начальное значение B1\n",
    "B1 = 0.1\n",
    "\n",
    "# Поиск наименьшей mse градиентным методом (методом спуска)\n",
    "for i in range(1000):\n",
    "    B1 -= alfa * (2 / n) * np.sum((B1 * X - y) * X)\n",
    "    if i % 100 == 0:\n",
    "        print('Итерация: {0}, B1={1}, mse={2}'.format(i, B1, mse_(B1)))\n",
    "\n",
    "#  Проверка\n",
    "mse_(5.9409185)"
   ]
  },
  {
   "cell_type": "code",
   "execution_count": 6,
   "metadata": {
    "colab": {
     "base_uri": "https://localhost:8080/",
     "height": 265
    },
    "colab_type": "code",
    "id": "mP9lOM8onT36",
    "outputId": "88878b98-c907-452e-8b31-6103f83a89b7"
   },
   "outputs": [
    {
     "data": {
      "image/png": "[encoded data removed]",
      "text/plain": [
       "<Figure size 432x288 with 1 Axes>"
      ]
     },
     "metadata": {
      "needs_background": "light",
      "tags": []
     },
     "output_type": "display_data"
    }
   ],
   "source": [
    "plt.scatter(zp, ks)\n",
    "plt.plot(zp, 5.940918 * zp)\n",
    "plt.show()"
   ]
  },
  {
   "cell_type": "markdown",
   "metadata": {
    "colab_type": "text",
    "id": "Gkxppilk9R1n"
   },
   "source": [
    "**Задание 3.**"
   ]
  },
  {
   "cell_type": "markdown",
   "metadata": {
    "colab_type": "text",
    "id": "8FXNbbjl9R1o"
   },
   "source": [
    "В каких случаях для вычисления доверительных интервалов и проверки статистических гипотез используется таблица значений функции Лапласа, а в каких - таблица критических точек распределения Стьюдента?\n"
   ]
  },
  {
   "cell_type": "markdown",
   "metadata": {
    "colab_type": "text",
    "id": "-aTspOlL9R1p"
   },
   "source": [
    "**Ответ.**"
   ]
  },
  {
   "cell_type": "markdown",
   "metadata": {
    "colab_type": "text",
    "id": "Vqes8pqLsoqZ"
   },
   "source": [
    "При известной дисперсии генеральной совокупности используется таблица значений функции Лапласа для определения Z-значений (Z-критерия) для подставновки в формулу определения доверительного интервала: $$\\bar{X}\\ \\ \\pm\\ Z_{{\\alpha}/{2}}\\ \\ast\\ {\\sigma}/{\\sqrt n}$$\n",
    "\n",
    "При неизвестной дисперсии генеральной совокупности используется таблица критических точек распределения Стьюдента для определения t-значений (t-критерия) для подставновки в формулу определения доверительного интервала: $$\\bar{X}\\ \\ \\pm\\ t_{{\\alpha}/{2}}\\ \\ast\\ {\\sigma}/{\\sqrt n}$$\n"
   ]
  },
  {
   "cell_type": "markdown",
   "metadata": {
    "colab_type": "text",
    "id": "DgQcRXdB9dvs"
   },
   "source": [
    "**Задание 4.**"
   ]
  },
  {
   "cell_type": "markdown",
   "metadata": {
    "colab_type": "text",
    "id": "JhuDFK5D9dvv"
   },
   "source": [
    "Произвести вычисления как в пункте 2, но с вычислением intercept. Учесть, что изменение коэффициентов должно производиться на каждом шаге одновременно (то есть изменение одного коэффициента не должно влиять на изменение другого во время одной итерации)."
   ]
  },
  {
   "cell_type": "markdown",
   "metadata": {
    "colab_type": "text",
    "id": "Z8ObBe2Z9dvx"
   },
   "source": [
    "**Решение.**"
   ]
  },
  {
   "cell_type": "markdown",
   "metadata": {
    "colab_type": "text",
    "id": "DOjNkYu3cBZ0"
   },
   "source": [
    "Используем модель (с intercept): y_hat = B0 + B1 * X\n",
    "\n",
    "Используем метод градиентного спуска, считая среднеквадратичной функцию потерь по формуле:\n",
    "\n",
    "mse = ((b0 + b1 * x - y_hat)**2).sum() / n\n",
    "\n",
    "и производную для определения локального минимума (экстремума):\n",
    "\n",
    "B0: mse_ = 2 * (b0 + b * x - y_hat).sum() / n\n",
    "\n",
    "B1: mse_ = 2 * ((b0 + b1 * x - y_hat) * x).sum() / n\n",
    "\n",
    "Получим при скорости обучения alfa=1e-6 и начальном значении B1=0.1:\n",
    "\n",
    "$$B0 = ; B1= ;$$"
   ]
  },
  {
   "cell_type": "code",
   "execution_count": null,
   "metadata": {
    "colab": {
     "base_uri": "https://localhost:8080/",
     "height": 119
    },
    "colab_type": "code",
    "id": "ehjtIGQxcBZ3",
    "outputId": "27768529-33c0-4337-8ff2-97d503209833"
   },
   "outputs": [
    {
     "name": "stdout",
     "output_type": "stream",
     "text": [
      "Итерация: 0, B0=400.00121912, B1=0.179027430324224, mse=238812.48072971217\n",
      "Итерация: 100, B0=400.00121912, B1=2.797385205440251, mse=132048.60836335947\n",
      "Итерация: 200, B0=400.00121912, B1=2.9575344236204453, mse=131649.20107488747\n",
      "Итерация: 300, B0=400.00121912, B1=2.9673297893750705, mse=131647.70687859668\n",
      "Итерация: 400, B0=400.00121912, B1=2.9679289130633237, mse=131647.70128875738\n",
      "Итерация: 500, B0=400.00121912, B1=2.9679655578607536, mse=131647.7012678456\n"
     ]
    }
   ],
   "source": [
    "# Метод расчета mean square error (mse)\n",
    "def  mse_(B0, B1,  y = y, X = X, n = 10):\n",
    "    return np.sum((B0 + B1 * X - y)**2) / n\n",
    "\t\n",
    "\n",
    "# Минимальное значение\n",
    "min = 1e6\n",
    "\n",
    "# Скорость обучения alfa\n",
    "alfa = 1e-6\n",
    "\n",
    "# Начальное значение B0\n",
    "B0 = 400.0\n",
    "\n",
    "# Начальное значение B1\n",
    "B1 = 0.1\n",
    "\n",
    "# Поиск наименьшей mse градиентным методом (методом спуска)\n",
    "for i in range(10000):\n",
    "    B0 -= alfa * (2 / n) * np.sum(B0 + B1 * X - y)\n",
    "    for i in range(1000):\n",
    "        B1 -= alfa * (2 / n) * np.sum((B0 + B1 * X - y) * X)\n",
    "        if mse_(B0, B1) > min:\n",
    "            B1 += alfa * (2 / n) * np.sum((B0 + B1 * X - y) * X)\n",
    "            break\n",
    "        elif mse_(B0, B1) < min:\n",
    "            min = mse_(B0, B1)\n",
    "        if i % 100 == 0:\n",
    "            print('Итерация: {0}, B0={1}, B1={2}, mse={3}'.format(i, B0, B1, mse_(B0, B1)))\n",
    "    if mse_(B0, B1) > min:\n",
    "        B0 += alfa * (2 / n) * np.sum(B0 + B1 * X - y)\n",
    "        break\n",
    "    elif mse_(B0, B1) < min:\n",
    "        min = mse_(B0, B1)\n",
    "\n",
    "#  Проверка\n",
    "#mse_(5.9409185)"
   ]
  },
  {
   "cell_type": "code",
   "execution_count": null,
   "metadata": {
    "colab": {
     "base_uri": "https://localhost:8080/",
     "height": 265
    },
    "colab_type": "code",
    "id": "M2qWExnYcBZ_",
    "outputId": "61018e8d-653f-426a-d08a-aec044e32157"
   },
   "outputs": [
    {
     "data": {
      "image/png": "[encoded data removed]",
      "text/plain": [
       "<Figure size 432x288 with 1 Axes>"
      ]
     },
     "metadata": {
      "needs_background": "light",
      "tags": []
     },
     "output_type": "display_data"
    }
   ],
   "source": [
    "plt.scatter(zp, ks)\n",
    "plt.plot(zp, 5.940918 * zp)\n",
    "plt.show()"
   ]
  }
 ],
 "metadata": {
  "colab": {
   "collapsed_sections": [],
   "name": "ДЗ_7.ipynb",
   "provenance": []
  },
  "kernelspec": {
   "display_name": "Python 3",
   "language": "python",
   "name": "python3"
  },
  "language_info": {
   "codemirror_mode": {
    "name": "ipython",
    "version": 3
   },
   "file_extension": ".py",
   "mimetype": "text/x-python",
   "name": "python",
   "nbconvert_exporter": "python",
   "pygments_lexer": "ipython3",
   "version": "3.7.6"
  }
 },
 "nbformat": 4,
 "nbformat_minor": 1
}
