{
  "nbformat": 4,
  "nbformat_minor": 0,
  "metadata": {
    "colab": {
      "name": "ДЗ_4.ipynb",
      "provenance": [],
      "collapsed_sections": []
    },
    "kernelspec": {
      "name": "python3",
      "display_name": "Python 3"
    }
  },
  "cells": [
    {
      "cell_type": "markdown",
      "metadata": {
        "id": "qGUIZbs0P18k",
        "colab_type": "text"
      },
      "source": [
        "# **ДЗ к уроку 4**"
      ]
    },
    {
      "cell_type": "markdown",
      "metadata": {
        "id": "T2xhjjkPP9Xb",
        "colab_type": "text"
      },
      "source": [
        "**Задание 1.**\n"
      ]
    },
    {
      "cell_type": "markdown",
      "metadata": {
        "id": "N-RKk45xQXIz",
        "colab_type": "text"
      },
      "source": [
        "Случайная непрерывная величина A имеет равномерное распределение на промежутке (200, 800].\n",
        "Найдите ее среднее значение и дисперсию."
      ]
    },
    {
      "cell_type": "markdown",
      "metadata": {
        "id": "8p3ytxUJQa6b",
        "colab_type": "text"
      },
      "source": [
        "**Решение.**"
      ]
    },
    {
      "cell_type": "markdown",
      "metadata": {
        "id": "GlapgldXQx90",
        "colab_type": "text"
      },
      "source": [
        "Среднее значение (Математическое ожидание  M(A)):\n",
        "M(A) = (a + b) / 2 = (200 + 800) / 2 = 500\n",
        "\n",
        "Дисперсия:\n",
        "D(A) = σ\\*\\*2 = (b - a)\\*\\*2 / 12 = (800 – 200)\\*\\*2 / 12 = 360000 / 12 = 30000"
      ]
    },
    {
      "cell_type": "code",
      "metadata": {
        "id": "MUz7ORW8Nbrp",
        "colab_type": "code",
        "colab": {
          "base_uri": "https://localhost:8080/",
          "height": 34
        },
        "outputId": "e92ed24c-0df5-4ce6-93aa-4a180f1f8af7"
      },
      "source": [
        "a = 200\n",
        "b = 800\n",
        "\n",
        "# Среднее значение\n",
        "mean = (b + a) / 2\n",
        "mean"
      ],
      "execution_count": 7,
      "outputs": [
        {
          "output_type": "execute_result",
          "data": {
            "text/plain": [
              "500.0"
            ]
          },
          "metadata": {
            "tags": []
          },
          "execution_count": 7
        }
      ]
    },
    {
      "cell_type": "code",
      "metadata": {
        "id": "dj1QO1NJCXNI",
        "colab_type": "code",
        "colab": {
          "base_uri": "https://localhost:8080/",
          "height": 34
        },
        "outputId": "11af6323-129a-4d67-996e-6e8f80763cbf"
      },
      "source": [
        "# Дисперсия\n",
        "var = (b - a)**2 / 12\n",
        "var"
      ],
      "execution_count": 10,
      "outputs": [
        {
          "output_type": "execute_result",
          "data": {
            "text/plain": [
              "30000.0"
            ]
          },
          "metadata": {
            "tags": []
          },
          "execution_count": 10
        }
      ]
    },
    {
      "cell_type": "markdown",
      "metadata": {
        "colab_type": "text",
        "id": "_Woub5CjUl4t"
      },
      "source": [
        "**Задание 2.**\n"
      ]
    },
    {
      "cell_type": "markdown",
      "metadata": {
        "colab_type": "text",
        "id": "YawH7wejUl4v"
      },
      "source": [
        "О случайной непрерывной равномерно распределенной величине B известно, что ее дисперсия равна 0.2.\n",
        "Можно ли найти правую границу величины B и ее среднее значение зная, что левая граница равна 0.5?\n",
        "Если да, найдите ее."
      ]
    },
    {
      "cell_type": "markdown",
      "metadata": {
        "colab_type": "text",
        "id": "17K5JTEdUl4x"
      },
      "source": [
        "**Решение.**"
      ]
    },
    {
      "cell_type": "markdown",
      "metadata": {
        "id": "M0V24VAhqTaa",
        "colab_type": "text"
      },
      "source": [
        "Известно, что D(B) = 0.2 и a_ = 0.5. Найти b_ и M(B).\n",
        "\n",
        "Из формулы дисперсии НРР величины B D(B) = σ\\*\\*2 = (b_ - a_)\\*\\*2 / 12 => 0.2 = (b_ - 0.5)\\*\\*2 / 12 находим b_:\n",
        "\n",
        "b_\\*\\*2 - b_ + 0.25 = 2.4 => b_\\*\\*2 - b_ - 2.15 = 0\n",
        "\n",
        "Коэффициенты квадратного уравнения: a = 1, b = -1, c = -2.15\n",
        "\n",
        "Находим дискриминант кв. уравнения D = b\\*\\*2 - 4 \\* a \\* c = 1 - 4 \\* (-2.15) = 9.6\n",
        "\n",
        "Находим корни кв. уравнения x1,2 = (-b +- D\\*\\*(1/2)) / (2 \\* a) => x1 = 2.049; x2 = -1.049 (не имеет смысла, т.к. должно b_ > a_)\n",
        "\n",
        "Находим M(B) из формулы M(B) = (a_ + b_) / 2 = (0.5 + 2.049) / 2 = 1.2745"
      ]
    },
    {
      "cell_type": "code",
      "metadata": {
        "id": "SgrjUevTsXQB",
        "colab_type": "code",
        "colab": {
          "base_uri": "https://localhost:8080/",
          "height": 68
        },
        "outputId": "eddbf17d-bd63-4ad3-ae9c-9cff63ed5b6f"
      },
      "source": [
        "# Расчет корней кв. уравнения b**2 - b - 2.15 = 0\n",
        "import math\n",
        "\n",
        "a = 1\n",
        "b = -1\n",
        "c = -2.15\n",
        "\n",
        "discr = b ** 2 - 4 * a * c\n",
        "print(\"Дискриминант D = %.4f\" % discr)\n",
        "\n",
        "if discr > 0:\n",
        "    x1 = (-b + math.sqrt(discr)) / (2 * a)\n",
        "    x2 = (-b - math.sqrt(discr)) / (2 * a)\n",
        "    print(\"x1 = %.4f \\nx2 = %.4f\" % (x1, x2))\n",
        "elif discr == 0:\n",
        "    x = -b / (2 * a)\n",
        "    print(\"x = %.4f\" % x)\n",
        "else:\n",
        "    print(\"Корней нет\")"
      ],
      "execution_count": 12,
      "outputs": [
        {
          "output_type": "stream",
          "text": [
            "Дискриминант D = 9.6000\n",
            "x1 = 2.0492 \n",
            "x2 = -1.0492\n"
          ],
          "name": "stdout"
        }
      ]
    },
    {
      "cell_type": "code",
      "metadata": {
        "id": "ix4hACVjQ1mZ",
        "colab_type": "code",
        "colab": {
          "base_uri": "https://localhost:8080/",
          "height": 34
        },
        "outputId": "bf3be08c-3e60-4aa4-dc0a-df2c9a8f83bf"
      },
      "source": [
        "a_ = 0.5\n",
        "b_ = x1\n",
        "mean = (a_ + b_) / 2\n",
        "mean"
      ],
      "execution_count": 15,
      "outputs": [
        {
          "output_type": "execute_result",
          "data": {
            "text/plain": [
              "1.2745966692414834"
            ]
          },
          "metadata": {
            "tags": []
          },
          "execution_count": 15
        }
      ]
    },
    {
      "cell_type": "markdown",
      "metadata": {
        "colab_type": "text",
        "id": "KV5U9nQm8gMm"
      },
      "source": [
        "**Задание 3.**\n"
      ]
    },
    {
      "cell_type": "markdown",
      "metadata": {
        "colab_type": "text",
        "id": "4Zv2ASHg8gMn"
      },
      "source": [
        "Непрерывная случайная величина X распределена нормально и задана плотностью распределения\n",
        "f(x) = (1 / (4 * sqrt(2*pi))) * (exp(-(x+2)**2) / 32).\n",
        "Найдите:\n",
        "а). M(X)\n",
        "б). D(X)\n",
        "в). std(X) (среднее квадратичное отклонение)"
      ]
    },
    {
      "cell_type": "markdown",
      "metadata": {
        "colab_type": "text",
        "id": "Al_WfFIH8gMn"
      },
      "source": [
        "**Решение.**"
      ]
    },
    {
      "cell_type": "markdown",
      "metadata": {
        "colab_type": "text",
        "id": "m6sdHUMh8gMo"
      },
      "source": [
        "Используем формулу распределение плотности вероятности непрерывной случайной величины X:\\\n",
        "f(X) = 1/ (σ \\* sqrt(2 \\* π)) \\* e \\*\\* (x - a)\\*\\*2 / (2 \\* σ)\\*\\*2\n",
        "\n",
        "Откуда получаем:\\\n",
        "std(X) = σ = 4;\\\n",
        "D(X) = σ\\*\\*2 = 16;\\\n",
        "M(X) = -2"
      ]
    },
    {
      "cell_type": "markdown",
      "metadata": {
        "colab_type": "text",
        "id": "4HscbAp5EEnn"
      },
      "source": [
        "**Задание 4.**\n"
      ]
    },
    {
      "cell_type": "markdown",
      "metadata": {
        "colab_type": "text",
        "id": "fAf1wRLtEEnp"
      },
      "source": [
        "Рост взрослого населения города X имеет нормальное распределение.\n",
        "Причем, средний рост равен 174 см, а среднее квадратичное отклонение равно 8 см.\n",
        "Какова вероятность того, что случайным образом выбранный взрослый человек имеет рост:\n",
        "а). больше 182 см\n",
        "б). больше 190 см\n",
        "в). от 166 см до 190 см\n",
        "г). от 166 см до 182 см\n",
        "д). от 158 см до 190 см\n",
        "е). не выше 150 см или не ниже 190 см\n",
        "ё). не выше 150 см или не ниже 198 см\n",
        "ж). ниже 166 см."
      ]
    },
    {
      "cell_type": "markdown",
      "metadata": {
        "colab_type": "text",
        "id": "PVj18dM2EEnp"
      },
      "source": [
        "**Решение.**"
      ]
    },
    {
      "cell_type": "markdown",
      "metadata": {
        "colab_type": "text",
        "id": "ZBJtTM_5EEnq"
      },
      "source": [
        "Известно: D(X) = 174 см, σ = 8 см.\n",
        "\n",
        "Используем формулу приведения к стандартному нормальному распределению Z = (X - M(X)) / σ\n",
        "\n"
      ]
    },
    {
      "cell_type": "code",
      "metadata": {
        "id": "Y6xn3rREjQUL",
        "colab_type": "code",
        "colab": {}
      },
      "source": [
        "mean = 174\n",
        "std = 8"
      ],
      "execution_count": 17,
      "outputs": []
    },
    {
      "cell_type": "markdown",
      "metadata": {
        "id": "cvZOABx_VzDW",
        "colab_type": "text"
      },
      "source": [
        "**а) больше 182 см.**\n",
        "\n",
        "Z = (182 - 174) / 8 = 1.\n",
        "\n",
        "Находим по таблице Z-значений стандартного нормального распределения для значения Z = 1: P = 1 - 0.8413 = 0.1587\n",
        "\n",
        "**Вариант 2.** По правилу 3-х сигм: от -σ до σ P ~ 68% = 0.68, т.е. от 0 до σ ~ 0.34 => P = 1 - (0.5 + 0.34) = 1 - 0.84 = 0.16"
      ]
    },
    {
      "cell_type": "code",
      "metadata": {
        "id": "WDibltkKjOk2",
        "colab_type": "code",
        "colab": {
          "base_uri": "https://localhost:8080/",
          "height": 34
        },
        "outputId": "f6e473f8-1fad-4ab8-b996-0d7d80fc757e"
      },
      "source": [
        "Z1 = (182 - mean) / std\n",
        "Z1"
      ],
      "execution_count": 25,
      "outputs": [
        {
          "output_type": "execute_result",
          "data": {
            "text/plain": [
              "1.0"
            ]
          },
          "metadata": {
            "tags": []
          },
          "execution_count": 25
        }
      ]
    },
    {
      "cell_type": "markdown",
      "metadata": {
        "colab_type": "text",
        "id": "YMLE7cMoXnrU"
      },
      "source": [
        "**б) больше 190 см.**\n",
        "\n",
        "Z = (190 - 174) / 8 = 2.0.\n",
        "\n",
        "Находим по таблице Z-значений стандартного нормального распределения для значения Z = 1.5: P = 1 - 0.9772 = 0.0228\n",
        "\n",
        "**Вариант 2.** По правилу 3-х сигм: от -2σ до 2σ P ~ 95.4% = 0.954, т.е. от 0 до 2σ ~ 0.477 => P = 1 - (0.5 + 0.477) = 1 - 0.977 = 0.023"
      ]
    },
    {
      "cell_type": "code",
      "metadata": {
        "colab_type": "code",
        "id": "vUc9hevUjfmJ",
        "colab": {
          "base_uri": "https://localhost:8080/",
          "height": 34
        },
        "outputId": "c53ad4a8-9c56-4fc5-b3bd-ce95107416a0"
      },
      "source": [
        "Z2 = (190 - mean) / std\n",
        "Z2"
      ],
      "execution_count": 26,
      "outputs": [
        {
          "output_type": "execute_result",
          "data": {
            "text/plain": [
              "2.0"
            ]
          },
          "metadata": {
            "tags": []
          },
          "execution_count": 26
        }
      ]
    },
    {
      "cell_type": "markdown",
      "metadata": {
        "colab_type": "text",
        "id": "wneYYfc4XotV"
      },
      "source": [
        "**в) от 166 см до 190 см.**\n",
        "\n",
        "Z = (166 - 174) / 8 = -1.\n",
        "\n",
        "Находим по таблице Z-значений стандартного нормального распределения для значения Z = -1: P = 1 - 0.1587 = 0.8413\n",
        "\n",
        "Вычтем из полученного значения значение из б): Z = 0.8413 - 0.0228 = 0.8185\n",
        "\n",
        "**Вариант 2.** По правилу 3-х сигм:\n",
        "- от -σ до σ P ~ 68% = 0.68, т.е. от 0 до σ ~ 0.34;\n",
        "- от -2σ до 2σ P ~ 95.4% = 0.954, т.е. от 0 до 2σ ~ 0.477.\n",
        "\n",
        "P = 0.34 + 0.477 = 0.817"
      ]
    },
    {
      "cell_type": "code",
      "metadata": {
        "id": "f66Fro3GlKI9",
        "colab_type": "code",
        "colab": {
          "base_uri": "https://localhost:8080/",
          "height": 34
        },
        "outputId": "e7692f72-7e76-4d67-8b4c-84452d837f43"
      },
      "source": [
        "Z3 = (166 - mean) / std\n",
        "Z3"
      ],
      "execution_count": 27,
      "outputs": [
        {
          "output_type": "execute_result",
          "data": {
            "text/plain": [
              "-1.0"
            ]
          },
          "metadata": {
            "tags": []
          },
          "execution_count": 27
        }
      ]
    },
    {
      "cell_type": "markdown",
      "metadata": {
        "colab_type": "text",
        "id": "DbaeMsfoXiof"
      },
      "source": [
        "**г) от 166 см до 182 см.**\n",
        "\n",
        "Используем значения из пунктов а) и в).\n",
        "Вычтем из значения в) значение из а): Z = 0.8413 - 0.1587 = 0.6826\n",
        "\n",
        "**Вариант 2.** По правилу 3-х сигм: от -σ до σ P ~ 68% = 0.68.\n",
        "P = 0.68"
      ]
    },
    {
      "cell_type": "markdown",
      "metadata": {
        "colab_type": "text",
        "id": "kiVcfdx6X4xG"
      },
      "source": [
        "**д) от 158 см до 190 см.**\n",
        "\n",
        "Z = (158 - 174) / 8 = -2.\n",
        "\n",
        "Находим по таблице Z-значений стандартного нормального распределения для значения Z = -2: P = 1 - 0.0228 = 0.9772\n",
        "\n",
        "Вычтем из полученного значения значение из б): Z = 0.9772 - 0.0228 = 0.9544\n",
        "\n",
        "**Вариант 2.** По правилу 3-х сигм: от -2σ до 2σ P ~ 95.4% = 0.954.\n",
        "P = 0.954"
      ]
    },
    {
      "cell_type": "code",
      "metadata": {
        "colab_type": "code",
        "id": "x4kIdWA1moxN",
        "colab": {
          "base_uri": "https://localhost:8080/",
          "height": 34
        },
        "outputId": "154b2cb3-531a-4da9-fe66-33d725983d05"
      },
      "source": [
        "Z4 = (158 - mean) / std\n",
        "Z4"
      ],
      "execution_count": 29,
      "outputs": [
        {
          "output_type": "execute_result",
          "data": {
            "text/plain": [
              "-2.0"
            ]
          },
          "metadata": {
            "tags": []
          },
          "execution_count": 29
        }
      ]
    },
    {
      "cell_type": "markdown",
      "metadata": {
        "colab_type": "text",
        "id": "wDojZR-2X6M1"
      },
      "source": [
        "**е) не выше 150 см или не ниже 190 см.**\n",
        "\n",
        "Z = (150 - 174) / 8 = -3.\n",
        "\n",
        "Находим по таблице Z-значений стандартного нормального распределения для значения Z = -3: P = 0.0013\n",
        "\n",
        "Прибавим к полученному значению значение из б): Z = 0.0013 + 0.0228 = 0.0241\n",
        "\n",
        "**Вариант 2.** По правилу 3-х сигм:\n",
        "- от -2σ до 2σ P ~ 95.4% = 0.954, т.е. от 0 до 2σ ~ 0.477.\n",
        "- от -3σ до 3σ P ~ 99.72% = 0.9972, т.е. от 0 до σ ~ 0.4986;\n",
        "\n",
        "P = 1 - (0.477 + 0.4986) = 0.0244"
      ]
    },
    {
      "cell_type": "code",
      "metadata": {
        "colab_type": "code",
        "id": "EjfdQFmsn-_8",
        "colab": {
          "base_uri": "https://localhost:8080/",
          "height": 34
        },
        "outputId": "6e825b47-6710-456e-9927-652f25288b0e"
      },
      "source": [
        "Z5 = (150 - mean) / std\n",
        "Z5"
      ],
      "execution_count": 30,
      "outputs": [
        {
          "output_type": "execute_result",
          "data": {
            "text/plain": [
              "-3.0"
            ]
          },
          "metadata": {
            "tags": []
          },
          "execution_count": 30
        }
      ]
    },
    {
      "cell_type": "markdown",
      "metadata": {
        "colab_type": "text",
        "id": "BGstWCYhX7J4"
      },
      "source": [
        "**ё) не выше 150 см или не ниже 198 см.**\n",
        "\n",
        "Z = (198 - 174) / 8 = 3.\n",
        "\n",
        "Находим по таблице Z-значений стандартного нормального распределения для значения Z = 3: P = 1 - 0.9987 = 0.0013\n",
        "\n",
        "Прибавим к полученному значению первую половину значения из е): Z = 0.0013 + 0.0013 = 0.0026\n",
        "\n",
        "**Вариант 2.** По правилу 3-х сигм: от -3σ до 3σ P ~ 99.72% = 0.9972\n",
        "P = 1 - 0.9972 = 0.0028"
      ]
    },
    {
      "cell_type": "code",
      "metadata": {
        "colab_type": "code",
        "id": "j6ng4vXqqPb8",
        "colab": {
          "base_uri": "https://localhost:8080/",
          "height": 34
        },
        "outputId": "c2888a4c-6e6b-4720-bbab-bc38b35dcb2a"
      },
      "source": [
        "Z6 = (198 - mean) / std\n",
        "Z6"
      ],
      "execution_count": 31,
      "outputs": [
        {
          "output_type": "execute_result",
          "data": {
            "text/plain": [
              "3.0"
            ]
          },
          "metadata": {
            "tags": []
          },
          "execution_count": 31
        }
      ]
    },
    {
      "cell_type": "markdown",
      "metadata": {
        "colab_type": "text",
        "id": "GroVgMe0X8E5"
      },
      "source": [
        "**ж) ниже 166 см.**\n",
        "\n",
        "Используем первую половину значения из в) (при Z = -1): P = 0.1587\n",
        "\n",
        "**Вариант 2.** По правилу 3-х сигм: от -σ до σ P ~ 68% = 0.68, т.е. от 0 до σ ~ 0.34 => P = 1 - (0.5 + 0.34) = 1 - 0.84 = 0.16"
      ]
    },
    {
      "cell_type": "code",
      "metadata": {
        "id": "f2ktz_nJV-NT",
        "colab_type": "code",
        "colab": {
          "base_uri": "https://localhost:8080/",
          "height": 34
        },
        "outputId": "a3a7d8f7-f176-46a1-fabd-c04c297a726a"
      },
      "source": [
        "Z7 = (166 - mean) / std\n",
        "Z7"
      ],
      "execution_count": 33,
      "outputs": [
        {
          "output_type": "execute_result",
          "data": {
            "text/plain": [
              "-1.0"
            ]
          },
          "metadata": {
            "tags": []
          },
          "execution_count": 33
        }
      ]
    },
    {
      "cell_type": "markdown",
      "metadata": {
        "colab_type": "text",
        "id": "LFRPE_3VWZ3i"
      },
      "source": [
        "**Задание 5.**\n"
      ]
    },
    {
      "cell_type": "markdown",
      "metadata": {
        "colab_type": "text",
        "id": "5IjMd66yWZ3j"
      },
      "source": [
        "На сколько сигм (средних квадратичных отклонений) отклоняется рост человека, равный 190 см, от\n",
        "математического ожидания роста в популяции, в которой M(X) = 178 см и D(X) = 25 кв.см?"
      ]
    },
    {
      "cell_type": "markdown",
      "metadata": {
        "colab_type": "text",
        "id": "Fucz8g8jWZ3k"
      },
      "source": [
        "**Решение.**"
      ]
    },
    {
      "cell_type": "markdown",
      "metadata": {
        "id": "QeDrY1VVeK30",
        "colab_type": "text"
      },
      "source": [
        "Известно M(X) = 178 см, D(X) = σ\\*\\*2 = 25 кв.см.\\\n",
        "Используем формулу приведения к стандартному нормальному распределению Z = (X - M(X)) / σ\n",
        "\n",
        "σ = D(X)\\*\\*(1/2) = 5 см\n",
        "\n",
        "Z = (190 - 178) / 5 = 2.4\\\n",
        "Ответ: больше 2-х сигм (2.4σ)."
      ]
    },
    {
      "cell_type": "code",
      "metadata": {
        "id": "YLFj8bR3pS-n",
        "colab_type": "code",
        "colab": {
          "base_uri": "https://localhost:8080/",
          "height": 34
        },
        "outputId": "22e0e142-468c-492f-acb4-fd17ed9656fe"
      },
      "source": [
        "# г) выйдут из строя от 1 до 2 деталей:\n",
        "mean = 178\n",
        "var = 25\n",
        "std_count = (190 - mean) / math.sqrt(25)\n",
        "std_count"
      ],
      "execution_count": 16,
      "outputs": [
        {
          "output_type": "execute_result",
          "data": {
            "text/plain": [
              "2.4"
            ]
          },
          "metadata": {
            "tags": []
          },
          "execution_count": 16
        }
      ]
    }
  ]
}