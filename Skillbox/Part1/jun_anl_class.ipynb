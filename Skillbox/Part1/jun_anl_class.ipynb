{
  "nbformat": 4,
  "nbformat_minor": 0,
  "metadata": {
    "colab": {
      "name": "jun_anl_class.ipynb",
      "provenance": [],
      "collapsed_sections": []
    },
    "kernelspec": {
      "display_name": "Python 3",
      "language": "python",
      "name": "python3"
    },
    "language_info": {
      "codemirror_mode": {
        "name": "ipython",
        "version": 3
      },
      "file_extension": ".py",
      "mimetype": "text/x-python",
      "name": "python",
      "nbconvert_exporter": "python",
      "pygments_lexer": "ipython3",
      "version": "3.7.6"
    }
  },
  "cells": [
    {
      "cell_type": "markdown",
      "metadata": {
        "id": "RbR5OTe50Za4"
      },
      "source": [
        "# Классы\n",
        "## Домашнее задание"
      ]
    },
    {
      "cell_type": "markdown",
      "metadata": {
        "id": "Xh_DBCdu0Za5"
      },
      "source": [
        "### Вопросы по лекциям\n",
        "\n",
        "#### 1.\n",
        "\n",
        "Напишите название функции, которая является конструктором класса."
      ]
    },
    {
      "cell_type": "markdown",
      "metadata": {
        "id": "8-Tj4AMg0Za6"
      },
      "source": [
        "**Ответ:**\n",
        "\n",
        "Конструктор некоего класса:\n",
        "\n",
        "**def \\__init__(self):**\n",
        "\n",
        "или при передаче неких параметров:\n",
        "\n",
        "**def \\__init__(self, \\*args, \\*\\*kwargs):**\n"
      ]
    },
    {
      "cell_type": "markdown",
      "metadata": {
        "id": "lf14yx330Za7"
      },
      "source": [
        "#### 2.\n",
        "\n",
        "На что указывает переменная `self`?"
      ]
    },
    {
      "cell_type": "markdown",
      "metadata": {
        "id": "wI-0FWlF0Za8"
      },
      "source": [
        "**Ответ:**\n",
        "\n",
        "Переменная self указывает на сам объект (экземпляр класса)."
      ]
    },
    {
      "cell_type": "code",
      "metadata": {
        "id": "IcRC3NqlW2se",
        "colab": {
          "base_uri": "https://localhost:8080/"
        },
        "outputId": "75f5b4ec-9f35-4a13-99a7-4b1424ec5267"
      },
      "source": [
        "class Class:\n",
        "\n",
        "    def __init__(self):\n",
        "        print(self)\n",
        "\n",
        "cl = Class()"
      ],
      "execution_count": 1,
      "outputs": [
        {
          "output_type": "stream",
          "text": [
            "<__main__.Class object at 0x7fc06d60e438>\n"
          ],
          "name": "stdout"
        }
      ]
    },
    {
      "cell_type": "markdown",
      "metadata": {
        "id": "j_8_O_nl0Za8"
      },
      "source": [
        "#### 3.\n",
        "С помощью какой функции можно проверить, что некая строка является именем одного из атрибутов объекта?"
      ]
    },
    {
      "cell_type": "markdown",
      "metadata": {
        "id": "5h8ASTrV0Za9"
      },
      "source": [
        "**Ответ:**\n",
        "\n",
        "hasattr(obj, attr_name)"
      ]
    },
    {
      "cell_type": "code",
      "metadata": {
        "id": "vUPwUcjvW2sg",
        "colab": {
          "base_uri": "https://localhost:8080/"
        },
        "outputId": "2c7e6597-3f7e-49f1-cad6-dbd3f7b95871"
      },
      "source": [
        "class Class:\n",
        "    variable = 0\n",
        "    \n",
        "    def method(self):\n",
        "        pass\n",
        "\n",
        "cl = Class()\n",
        "print(hasattr(cl, 'variable'), hasattr(cl, 'method'), hasattr(cl, 'variable_1'))"
      ],
      "execution_count": 2,
      "outputs": [
        {
          "output_type": "stream",
          "text": [
            "True True False\n"
          ],
          "name": "stdout"
        }
      ]
    },
    {
      "cell_type": "markdown",
      "metadata": {
        "id": "G104VWgj0Za-"
      },
      "source": [
        "#### 4.\n",
        "Когда вызывается метод `__del__`? (относительно события удаления объекта)"
      ]
    },
    {
      "cell_type": "markdown",
      "metadata": {
        "id": "Ukzoyxkn0Za-"
      },
      "source": [
        "**Ответ:**\n",
        "\n",
        "Метод __del__() вызывается перед уничтожением объекта. Вызов этого метода происходит,\n",
        "только тогда, когда объект нигде больше не используется. В отличие от него\n",
        "инструкция del obj всего лишь уменьшает счетчик ссылок на объект и необязательно вызовет этот метод."
      ]
    },
    {
      "cell_type": "code",
      "metadata": {
        "id": "XLNQRJh6W2sg",
        "colab": {
          "base_uri": "https://localhost:8080/"
        },
        "outputId": "fd444623-190a-423b-9600-15a8db823fb0"
      },
      "source": [
        "class Class:\n",
        "    \n",
        "    def __del__(self):\n",
        "        print('call from __del__')\n",
        "        \n",
        "cl = Class()\n",
        "print(cl)\n",
        "\n",
        "del cl"
      ],
      "execution_count": 3,
      "outputs": [
        {
          "output_type": "stream",
          "text": [
            "<__main__.Class object at 0x7fc06cd9e278>\n",
            "call from __del__\n"
          ],
          "name": "stdout"
        }
      ]
    },
    {
      "cell_type": "markdown",
      "metadata": {
        "id": "MkF-HyBM0ZbA"
      },
      "source": [
        "#### 5.\n",
        "Верно ли, что атрибут класса перекрывает атрибут объекта?"
      ]
    },
    {
      "cell_type": "markdown",
      "metadata": {
        "id": "o7B52kVt0ZbC"
      },
      "source": [
        "**Ответ:**\n",
        "\n",
        "Нет. См. код ниже."
      ]
    },
    {
      "cell_type": "code",
      "metadata": {
        "id": "eDL1U_L9W2sg",
        "colab": {
          "base_uri": "https://localhost:8080/"
        },
        "outputId": "01126106-edae-4675-df09-dfd8cce9c880"
      },
      "source": [
        "class Class:\n",
        "    variable = 5\n",
        "    \n",
        "    def method(self):\n",
        "        self.variable += 10\n",
        "        \n",
        "cl = Class()\n",
        "print(cl.variable)\n",
        "cl.method()\n",
        "print(cl.variable, Class.variable)\n"
      ],
      "execution_count": 4,
      "outputs": [
        {
          "output_type": "stream",
          "text": [
            "5\n",
            "15 5\n"
          ],
          "name": "stdout"
        }
      ]
    },
    {
      "cell_type": "markdown",
      "metadata": {
        "id": "kSwZWV2B0ZbC"
      },
      "source": [
        "#### 6.\n",
        "Можно ли атрибуты базового класса вызывать в дочернем классе? Если да, то напишите, нет ли исклчений?"
      ]
    },
    {
      "cell_type": "markdown",
      "metadata": {
        "id": "6i74Koih0ZbE"
      },
      "source": [
        "**Ответ:**\n",
        "\n",
        "Да. Исключение: для того, чтобы закрыть доступ к переменной класса из дочернего класса, нужно имя переменной начинать с 2-х подчеркиваний. В этом случае интерпретатор Python подставляет в начало имени переменной имя дочернего класса."
      ]
    },
    {
      "cell_type": "code",
      "metadata": {
        "id": "WaJpx2LLW2sg",
        "colab": {
          "base_uri": "https://localhost:8080/",
          "height": 424
        },
        "outputId": "c57356c5-ba51-462d-f049-b4358a9b26fd"
      },
      "source": [
        "class Parent:\n",
        "    variable = 10\n",
        "    _variable = 20\n",
        "    __variable = 30\n",
        "    \n",
        "    def parent_method(self):\n",
        "        print(f'{self.variable}')\n",
        "        print(f'{self._variable}')\n",
        "        print(f'{self.__variable}')\n",
        "    \n",
        "    \n",
        "class Child(Parent):\n",
        "    \n",
        "    def method(self):\n",
        "        print(f'{self.variable}')\n",
        "        print(f'{self._variable}')\n",
        "        print(f'{super().__variable}')\n",
        "        print(f'{Parent.__variable}')\n",
        "        print(f'{self.__variable}')\n",
        "        \n",
        "\n",
        "cl = Child()\n",
        "cl.parent_method()\n",
        "cl.method()\n"
      ],
      "execution_count": 5,
      "outputs": [
        {
          "output_type": "stream",
          "text": [
            "10\n",
            "20\n",
            "30\n",
            "10\n",
            "20\n"
          ],
          "name": "stdout"
        },
        {
          "output_type": "error",
          "ename": "AttributeError",
          "evalue": "ignored",
          "traceback": [
            "\u001b[0;31m---------------------------------------------------------------------------\u001b[0m",
            "\u001b[0;31mAttributeError\u001b[0m                            Traceback (most recent call last)",
            "\u001b[0;32m<ipython-input-5-239a048ae3ff>\u001b[0m in \u001b[0;36m<module>\u001b[0;34m()\u001b[0m\n\u001b[1;32m     22\u001b[0m \u001b[0mcl\u001b[0m \u001b[0;34m=\u001b[0m \u001b[0mChild\u001b[0m\u001b[0;34m(\u001b[0m\u001b[0;34m)\u001b[0m\u001b[0;34m\u001b[0m\u001b[0;34m\u001b[0m\u001b[0m\n\u001b[1;32m     23\u001b[0m \u001b[0mcl\u001b[0m\u001b[0;34m.\u001b[0m\u001b[0mparent_method\u001b[0m\u001b[0;34m(\u001b[0m\u001b[0;34m)\u001b[0m\u001b[0;34m\u001b[0m\u001b[0;34m\u001b[0m\u001b[0m\n\u001b[0;32m---> 24\u001b[0;31m \u001b[0mcl\u001b[0m\u001b[0;34m.\u001b[0m\u001b[0mmethod\u001b[0m\u001b[0;34m(\u001b[0m\u001b[0;34m)\u001b[0m\u001b[0;34m\u001b[0m\u001b[0;34m\u001b[0m\u001b[0m\n\u001b[0m",
            "\u001b[0;32m<ipython-input-5-239a048ae3ff>\u001b[0m in \u001b[0;36mmethod\u001b[0;34m(self)\u001b[0m\n\u001b[1;32m     15\u001b[0m         \u001b[0mprint\u001b[0m\u001b[0;34m(\u001b[0m\u001b[0;34mf'{self.variable}'\u001b[0m\u001b[0;34m)\u001b[0m\u001b[0;34m\u001b[0m\u001b[0;34m\u001b[0m\u001b[0m\n\u001b[1;32m     16\u001b[0m         \u001b[0mprint\u001b[0m\u001b[0;34m(\u001b[0m\u001b[0;34mf'{self._variable}'\u001b[0m\u001b[0;34m)\u001b[0m\u001b[0;34m\u001b[0m\u001b[0;34m\u001b[0m\u001b[0m\n\u001b[0;32m---> 17\u001b[0;31m         \u001b[0mprint\u001b[0m\u001b[0;34m(\u001b[0m\u001b[0;34mf'{super().__variable}'\u001b[0m\u001b[0;34m)\u001b[0m\u001b[0;34m\u001b[0m\u001b[0;34m\u001b[0m\u001b[0m\n\u001b[0m\u001b[1;32m     18\u001b[0m         \u001b[0mprint\u001b[0m\u001b[0;34m(\u001b[0m\u001b[0;34mf'{Parent.__variable}'\u001b[0m\u001b[0;34m)\u001b[0m\u001b[0;34m\u001b[0m\u001b[0;34m\u001b[0m\u001b[0m\n\u001b[1;32m     19\u001b[0m         \u001b[0mprint\u001b[0m\u001b[0;34m(\u001b[0m\u001b[0;34mf'{self.__variable}'\u001b[0m\u001b[0;34m)\u001b[0m\u001b[0;34m\u001b[0m\u001b[0;34m\u001b[0m\u001b[0m\n",
            "\u001b[0;31mAttributeError\u001b[0m: 'super' object has no attribute '_Child__variable'"
          ]
        }
      ]
    },
    {
      "cell_type": "markdown",
      "metadata": {
        "id": "tl1St2O20ZbE"
      },
      "source": [
        "#### 7.\n",
        "Объясните своими словами для чего нужен метод `super`."
      ]
    },
    {
      "cell_type": "markdown",
      "metadata": {
        "id": "rg3u1PoY0ZbF"
      },
      "source": [
        "**Ответ:**\n",
        "\n",
        "Метод super нужен для обращения к атрибутам родительского класса."
      ]
    },
    {
      "cell_type": "code",
      "metadata": {
        "id": "0lVmLd0qW2sg",
        "colab": {
          "base_uri": "https://localhost:8080/"
        },
        "outputId": "cc62b070-fdd2-484d-9611-724feb33ca1d"
      },
      "source": [
        "class Parent:\n",
        "    variable = 10\n",
        "\n",
        "    \n",
        "class Child(Parent):\n",
        "    \n",
        "    def method(self):\n",
        "        print(f'{super().variable}')\n",
        "        \n",
        "\n",
        "cl = Child()\n",
        "cl.method()\n"
      ],
      "execution_count": 1,
      "outputs": [
        {
          "output_type": "stream",
          "text": [
            "10\n"
          ],
          "name": "stdout"
        }
      ]
    },
    {
      "cell_type": "markdown",
      "metadata": {
        "id": "5AiJn8ut0ZbG"
      },
      "source": [
        "### Практика\n",
        "\n",
        "1. Напишите класс `Fraction` для работы с дробями. Пусть дробь в нашем классе предстает в виде `числитель/знаменатель`. Дробное число должно создаваться по запросу `Fraction(a, b)`, где `a` – это числитель, а `b` – знаменатель дроби. \n",
        "2. Добавьте возможность сложения (сложения через оператор сложения) для дроби. Предполагается, что операция сложения может проводиться как только между дробями, так и между дробью и целым числом. Результат операции должен быть представлен в виде дроби.\n",
        "3. Добавьте возможность взятия разности (вычитания через оператор вычитания) для дробей. Предполагается, что операция вычитания может проводиться как только для двух дробей, так и для дроби и целого числа. Результат операции должен быть представлен в виде дроби.\n",
        "4. Добавьте возможность умножения (умножения через оператор умножения) для дробей. Предполагается, что операция умножения может проводиться как только для двух дробей, так и для дроби и целого числа. Результат операции должен быть представлен в виде дроби.\n",
        "5. Добавьте возможность приведения дроби к целому числу через стандартную функцию `int()`.\n",
        "6. Добавьте возможность приведения дроби к числу с плавающей точкой через стандартную функцию `float()`.\n",
        "7. Создайте дочерний класс `OperationsOnFraction` и добавьте туда собственные методы `getint` и `getfloat`, которые будут возвращать целую часть дроби и представление дроби в виде числа с плавающей точкой соответственно. \n",
        " "
      ]
    },
    {
      "cell_type": "code",
      "metadata": {
        "id": "ru3BJ52J0ZbG",
        "colab": {
          "base_uri": "https://localhost:8080/"
        },
        "outputId": "fe1e1de7-0c9b-4328-ab84-600807383701"
      },
      "source": [
        "class Fraction:\n",
        "    numerator = 0\n",
        "    denominator = 1\n",
        "    \n",
        "    def reduction(a: int, b: int):\n",
        "        for i in range(max(a, b), 0, -1):\n",
        "            if a % i == 0 and b % i == 0:\n",
        "                a /= i\n",
        "                b /= i\n",
        "        return int(a), int(b)\n",
        "        \n",
        "    def value(self):\n",
        "        return self.numerator / self.denominator\n",
        "\n",
        "    def __init__(self, a: int, b: int):\n",
        "        self.numerator, self.denominator = Fraction.reduction(a, b)\n",
        "\n",
        "    def __str__(self):\n",
        "        return f'{self.numerator} / {self.denominator}'\n",
        "\n",
        "    def __int__(self):\n",
        "        return int(self.value())\n",
        "\n",
        "    def __float__(self):\n",
        "        return self.value()\n",
        "\n",
        "    def __add__(self, something):\n",
        "        if isinstance(something, int):\n",
        "            numerator = self.numerator + something * self.denominator\n",
        "            denominator = self.denominator\n",
        "        elif isinstance(something, Fraction):\n",
        "            numerator = self.numerator * something.denominator + self.denominator * something.numerator\n",
        "            denominator = self.denominator * something.denominator\n",
        "        else:\n",
        "            print(f\"Class '{self.__class__.__name__}' operate only with int or Fraction types parameter...\")\n",
        "            return\n",
        "        return Fraction(numerator, denominator)\n",
        "\n",
        "    def __radd__(self, something):\n",
        "        return self.__add__(something)\n",
        "    \n",
        "    def __iadd__(self, something):\n",
        "        return self.__add__(something)\n",
        "\n",
        "    def __sub__(self, something):\n",
        "        if isinstance(something, int):\n",
        "            numerator = self.numerator - something * self.denominator\n",
        "            denominator = self.denominator\n",
        "        elif isinstance(something, Fraction):\n",
        "            numerator = self.numerator * something.denominator - self.denominator * something.numerator\n",
        "            denominator = self.denominator * something.denominator\n",
        "        else:\n",
        "            print(f\"Class '{self.__class__.__name__}' operate only with int or Fraction types parameter...\")\n",
        "            return\n",
        "        return Fraction(numerator, denominator)\n",
        "\n",
        "    def __rsub__(self, something):\n",
        "        return self.__sub__(something)\n",
        "    \n",
        "    def __isub__(self, something):\n",
        "        return self.__sub__(something)\n",
        "\n",
        "    def __mul__(self, something):\n",
        "        if isinstance(something, int):\n",
        "            numerator = self.numerator * something\n",
        "            denominator = self.denominator\n",
        "        elif isinstance(something, Fraction):\n",
        "            numerator = self.numerator * something.numerator\n",
        "            denominator = self.denominator * something.denominator\n",
        "        else:\n",
        "            print(f\"Class '{self.__class__.__name__}' operate only with int or Fraction types parameter...\")\n",
        "            return\n",
        "        return Fraction(numerator, denominator)\n",
        "\n",
        "    def __rmul__(self, something):\n",
        "        return self.__mul__(something)\n",
        "    \n",
        "    def __imul__(self, something):\n",
        "        return self.__mul__(something)\n",
        "\n",
        "    \n",
        "class OperationsOnFraction(Fraction):\n",
        "    \n",
        "    def __add__(self, something):\n",
        "        fraction = super().__add__(something)\n",
        "        return OperationsOnFraction(fraction.numerator, fraction.denominator)\n",
        "\n",
        "    def __radd__(self, something):\n",
        "        return self.__add__(something)\n",
        "    \n",
        "    def __iadd__(self, something):\n",
        "        return self.__add__(something)\n",
        "        \n",
        "    def getint(self):\n",
        "        return int(self.value())\n",
        "\n",
        "    def getfloat(self, decimal: int=2):\n",
        "        return float(format(self.value(), f'.{decimal}f'))\n",
        "        \n",
        "        \n",
        "print('--------add----------')\n",
        "\n",
        "    \n",
        "fraction_0 = Fraction(59, 109)\n",
        "print(f'0: {fraction_0} => {fraction_0.value()}')\n",
        "fraction_1 = 3 + fraction_0\n",
        "print(f'0: {fraction_0} => {fraction_0.value()}')\n",
        "print(f'1: 3 + (59/109) => {fraction_1} = {fraction_1.value()}')\n",
        "fraction_2 = fraction_0 + 4.5 # создание ошибки\n",
        "fraction_2 = fraction_0 + Fraction(1, 27)\n",
        "print(f'0: {fraction_0} => {fraction_0.value()}')\n",
        "print(f'2: (59/109) + (1/27) => {fraction_2} = {fraction_2.value()}')\n",
        "fraction_0 += 3\n",
        "print(f'0: (59/109) += 3 => {fraction_0} = {fraction_0.value()}')\n",
        "fraction_0 += Fraction(2, 27)\n",
        "print(f'0: (386/109) += (2/27) => {fraction_0} = {fraction_0.value()}')\n",
        "# --------------------------------------\n",
        "\n",
        "fraction_1 = Fraction(5, 10) + 5\n",
        "fraction_2 = Fraction(2, 3) + Fraction(1, 27)\n",
        "\n",
        "print(f'1: (1/2) + 5 => {fraction_1} = {fraction_1.value()}')\n",
        "print(f'2: (2/3) + (1/27) => {fraction_2} = {fraction_2.value()}')\n",
        "\n",
        "fraction_1 += 3\n",
        "fraction_2 += Fraction(2, 27)\n",
        "\n",
        "print(f'1: (11/2) += 3 => {fraction_1} = {fraction_1.value()}')\n",
        "print(f'2: (100/27) += (2/27) => {fraction_2} = {fraction_2.value()}')\n",
        "\n",
        "print('--------sub----------')\n",
        "\n",
        "fraction_0 = Fraction(5, 10)\n",
        "print(f'0: (1/2) => {fraction_0} = {fraction_0.value()}')\n",
        "fraction_1 = 10 - fraction_0\n",
        "print(f'0: (1/2) => {fraction_0} = {fraction_0.value()}')\n",
        "print(f'1: 10 - (1/2) => {fraction_1} = {fraction_1.value()}')\n",
        "fraction_1 = Fraction(5, 10) - 5\n",
        "fraction_2 = Fraction(2, 3) - Fraction(1, 27)\n",
        "\n",
        "print(f'1: (1/2) - 5 => {fraction_1} = {fraction_1.value()}')\n",
        "print(f'2: (2/3) - (1/27) => {fraction_2} = {fraction_2.value()}')\n",
        "\n",
        "fraction_1 -= 3\n",
        "fraction_2 -= Fraction(2, 27)\n",
        "\n",
        "print(f'1: (-9/2) -= 3 => {fraction_1} = {fraction_1.value()}')\n",
        "print(f'2: (17/27) -= (2/27) => {fraction_2} = {fraction_2.value()}')\n",
        "\n",
        "print('--------mul----------')\n",
        "    \n",
        "fraction_0 = Fraction(7, 16)\n",
        "print(f'0: (7/16) => {fraction_0} = {fraction_0.value()}')\n",
        "fraction_1 = 10 * fraction_0\n",
        "print(f'0: (7/16) => {fraction_0} = {fraction_0.value()}')\n",
        "print(f'1: 10 * (7/16) => {fraction_1} = {fraction_1.value()}')\n",
        "fraction_1 = Fraction(5, 10) * 5\n",
        "fraction_2 = Fraction(2, 3) * Fraction(1, 27)\n",
        "\n",
        "print(f'1: (1/2) * 5 => {fraction_1} = {fraction_1.value()}')\n",
        "print(f'2: (2/3) * (1/27) => {fraction_2} = {fraction_2.value()}')\n",
        "\n",
        "fraction_1 *= 3\n",
        "fraction_2 *= Fraction(2, 27)\n",
        "\n",
        "print(f'1: (5/2) *= 3 => {fraction_1} = {fraction_1.value()}')\n",
        "print(f'2: (2/81) *= (2/27) => {fraction_2} = {fraction_2.value()}')\n",
        "\n",
        "print('--------int----------')\n",
        "    \n",
        "print(f'int({fraction_1}) = {int(fraction_1)}')\n",
        "print(f'int({fraction_2}) = {int(fraction_2)}')\n",
        "\n",
        "print('--------float--------')\n",
        "    \n",
        "print(f'float({fraction_1}) = {float(fraction_1)}')\n",
        "print(f'float({fraction_2}) = {float(fraction_2)}')\n",
        "\n",
        "print('--------OperationsOnFraction-getint---------')\n",
        "\n",
        "subfraction_0 = 1 + OperationsOnFraction(4, 13)\n",
        "subfraction_1 = OperationsOnFraction(4, 8) + 4\n",
        "subfraction_2 = OperationsOnFraction(4, 8) + OperationsOnFraction(5, 12)\n",
        "\n",
        "print(f'type({subfraction_0}) = {type(subfraction_0)}')\n",
        "print(f'type({subfraction_1}) = {type(subfraction_1)}')\n",
        "print(f'type({subfraction_2}) = {type(subfraction_2)}')\n",
        "\n",
        "print(f'{subfraction_0}.getint() = {subfraction_0.getint()}')\n",
        "print(f'{subfraction_1}.getint() = {subfraction_1.getint()}')\n",
        "print(f'{subfraction_2}.getint() = {subfraction_2.getint()}')\n",
        "\n",
        "print('--------OperationsOnFraction-getfloat---------')\n",
        "\n",
        "subfraction_0 += 5\n",
        "subfraction_1 = OperationsOnFraction(4, 8) + 4\n",
        "subfraction_2 = OperationsOnFraction(4, 8) + OperationsOnFraction(5, 12)\n",
        "\n",
        "print(f'{subfraction_0}.getfloat() = {subfraction_0.getfloat(5)}')\n",
        "print(f'{subfraction_1}.getfloat() = {subfraction_1.getfloat(5)}')\n",
        "print(f'{subfraction_2}.getfloat() = {subfraction_2.getfloat(5)}')\n",
        "\n"
      ],
      "execution_count": 13,
      "outputs": [
        {
          "output_type": "stream",
          "text": [
            "--------add----------\n",
            "0: 59 / 109 => 0.5412844036697247\n",
            "0: 59 / 109 => 0.5412844036697247\n",
            "1: 3 + (59/109) => 386 / 109 = 3.541284403669725\n",
            "Class 'Fraction' operate only with int or Fraction types parameter...\n",
            "0: 59 / 109 => 0.5412844036697247\n",
            "2: (59/109) + (1/27) => 1702 / 2943 = 0.5783214407067618\n",
            "0: (59/109) += 3 => 386 / 109 = 3.541284403669725\n",
            "0: (386/109) += (2/27) => 10640 / 2943 = 3.615358477743799\n",
            "1: (1/2) + 5 => 11 / 2 = 5.5\n",
            "2: (2/3) + (1/27) => 19 / 27 = 0.7037037037037037\n",
            "1: (11/2) += 3 => 17 / 2 = 8.5\n",
            "2: (100/27) += (2/27) => 7 / 9 = 0.7777777777777778\n",
            "--------sub----------\n",
            "0: (1/2) => 1 / 2 = 0.5\n",
            "0: (1/2) => 1 / 2 = 0.5\n",
            "1: 10 - (1/2) => -19 / 2 = -9.5\n",
            "1: (1/2) - 5 => -9 / 2 = -4.5\n",
            "2: (2/3) - (1/27) => 17 / 27 = 0.6296296296296297\n",
            "1: (-9/2) -= 3 => -15 / 2 = -7.5\n",
            "2: (17/27) -= (2/27) => 5 / 9 = 0.5555555555555556\n",
            "--------mul----------\n",
            "0: (7/16) => 7 / 16 = 0.4375\n",
            "0: (7/16) => 7 / 16 = 0.4375\n",
            "1: 10 * (7/16) => 35 / 8 = 4.375\n",
            "1: (1/2) * 5 => 5 / 2 = 2.5\n",
            "2: (2/3) * (1/27) => 2 / 81 = 0.024691358024691357\n",
            "1: (5/2) *= 3 => 15 / 2 = 7.5\n",
            "2: (2/81) *= (2/27) => 4 / 2187 = 0.001828989483310471\n",
            "--------int----------\n",
            "int(15 / 2) = 7\n",
            "int(4 / 2187) = 0\n",
            "--------float--------\n",
            "float(15 / 2) = 7.5\n",
            "float(4 / 2187) = 0.001828989483310471\n",
            "--------OperationsOnFraction-getint---------\n",
            "type(17 / 13) = <class '__main__.OperationsOnFraction'>\n",
            "type(9 / 2) = <class '__main__.OperationsOnFraction'>\n",
            "type(11 / 12) = <class '__main__.OperationsOnFraction'>\n",
            "17 / 13.getint() = 1\n",
            "9 / 2.getint() = 4\n",
            "11 / 12.getint() = 0\n",
            "--------OperationsOnFraction-getfloat---------\n",
            "82 / 13.getfloat() = 6.30769\n",
            "9 / 2.getfloat() = 4.5\n",
            "11 / 12.getfloat() = 0.91667\n"
          ],
          "name": "stdout"
        }
      ]
    }
  ]
}