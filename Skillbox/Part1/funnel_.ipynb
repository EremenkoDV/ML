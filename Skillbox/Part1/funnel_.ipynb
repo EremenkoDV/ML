{
  "nbformat": 4,
  "nbformat_minor": 0,
  "metadata": {
    "colab": {
      "name": "funnel_.ipynb",
      "private_outputs": true,
      "provenance": [],
      "collapsed_sections": []
    },
    "kernelspec": {
      "name": "python3",
      "display_name": "Python 3"
    }
  },
  "cells": [
    {
      "cell_type": "code",
      "metadata": {
        "id": "GztId1iKCX_o"
      },
      "source": [
        "import csv\n",
        "\n",
        "file_path = 'click_stream3.csv'\n",
        "with open(file_path, mode='r') as csv_file: # открываем файл\n",
        "    csv_reader = csv.DictReader(csv_file, fieldnames=['ID', 'page', 'date', 'device', 'gender'])\n",
        "    \n",
        "    funnel_stats = dict({})\n",
        "    for row in csv_reader:\n",
        "\n",
        "        Id, page, month, device, gender = tuple(dict(row.items()).values())\n",
        "        month = '-'.join(month.split('-')[:-1])\n",
        "        gender_page_month = ':'.join((gender, page, month))\n",
        "        if gender_page_month in funnel_stats:\n",
        "            funnel_stats[gender_page_month] = funnel_stats[gender_page_month] + 1\n",
        "        else:\n",
        "            funnel_stats[gender_page_month] = 1\n",
        "\n",
        "funnel_stats"
      ],
      "execution_count": null,
      "outputs": []
    },
    {
      "cell_type": "markdown",
      "metadata": {
        "id": "5VRwKk0qEPdG"
      },
      "source": [
        "Согласно сгруппированным данным посещений сайта по столбцам: полу, страницам и месяцам, можно сделать вывод о том, что, как для женщин, так и для мужчин, в период с февраля до марта произошло снижение на странице поиска на ~40%, на странице платежа еще в ~4 раза, на странице подтверждения платежа еще в ~2.5 раза. Можно предположить, что это падение связано с некими изменениями этих страниц в данный период времени. Требуется тщательный анализ этих изменений."
      ]
    }
  ]
}