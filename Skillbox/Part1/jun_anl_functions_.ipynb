{
 "cells": [
  {
   "cell_type": "markdown",
   "metadata": {
    "colab_type": "text",
    "id": "fm2YWUGvts2-"
   },
   "source": [
    "# Функции\n",
    "### Домашнее задание"
   ]
  },
  {
   "cell_type": "markdown",
   "metadata": {
    "colab_type": "text",
    "id": "vtadtcbgts3A"
   },
   "source": [
    "#### 1.\n",
    "Почему возникла ошибка? Объясните и исправьте."
   ]
  },
  {
   "cell_type": "code",
   "execution_count": 1,
   "metadata": {
    "colab": {},
    "colab_type": "code",
    "id": "wYCHLbgJts3C",
    "outputId": "a5d47ca5-71fb-4003-ce4b-101f4c938e38"
   },
   "outputs": [
    {
     "name": "stdout",
     "output_type": "stream",
     "text": [
      "6\n"
     ]
    }
   ],
   "source": [
    "def factorial(n):\n",
    "    f = 1\n",
    "    for i in range(2, n + 1):\n",
    "        f = f * i\n",
    "    return f\n",
    "\n",
    "f = factorial(3)\n",
    "print(f)"
   ]
  },
  {
   "cell_type": "markdown",
   "metadata": {
    "colab_type": "text",
    "id": "4AEgqr_Its3I"
   },
   "source": [
    "**Объяснение:** \n",
    "<br>Переменная f - локальная в функции factorial, не определена как глобальная. Если попытаться обратиться к ней из глобального пространства имен, то возникает ошибка: NameError: name 'f' is not defined<br>"
   ]
  },
  {
   "cell_type": "markdown",
   "metadata": {
    "colab_type": "text",
    "id": "A9jbY_Ixts3K"
   },
   "source": [
    "#### 2.\n",
    "Почему переменная S после запуска функции сохранила значение ноль?"
   ]
  },
  {
   "cell_type": "code",
   "execution_count": 0,
   "metadata": {
    "colab": {},
    "colab_type": "code",
    "id": "A_cfBf0Dts3L",
    "outputId": "6f596828-96d2-45bc-d050-56292af00604"
   },
   "outputs": [
    {
     "name": "stdout",
     "output_type": "stream",
     "text": [
      "7\n",
      "0\n"
     ]
    }
   ],
   "source": [
    "S = 0\n",
    "def sum(n, m):\n",
    "    S = n + m\n",
    "    return S\n",
    "\n",
    "print(sum(3, 4))\n",
    "print(S)"
   ]
  },
  {
   "cell_type": "markdown",
   "metadata": {
    "colab_type": "text",
    "id": "oxwz4yVYts3P"
   },
   "source": [
    "**Объяснение:** \n",
    "<br>В данном случае имеются в глобальном и локальном (в функции sum) пространствах имен две разные переменные с одинаковым именем S. Изменение локальной переменной S не изменит значение глобальной переменной S.<br>"
   ]
  },
  {
   "cell_type": "markdown",
   "metadata": {
    "colab_type": "text",
    "id": "ws1lmJfhts3R"
   },
   "source": [
    "#### 3.\n",
    "Почему возникла ошибка? Объясните и исправьте, чтобы функция могла работать с данными на входе в примере с `res`."
   ]
  },
  {
   "cell_type": "code",
   "execution_count": 7,
   "metadata": {
    "colab": {},
    "colab_type": "code",
    "id": "ad8eYc35ts3S",
    "outputId": "c991c697-d867-4403-f1fd-5851d65b7942"
   },
   "outputs": [],
   "source": [
    "def mult(*, q, w, e, r, t, y):\n",
    "    return q + w + e + r + t + y\n",
    "res = mult(q=1, w=2, e=3, r=4, t=5, y=6)"
   ]
  },
  {
   "cell_type": "markdown",
   "metadata": {
    "colab_type": "text",
    "id": "yVwoWfiWts3Y"
   },
   "source": [
    "**Объяснение:** \n",
    "<br>В принимаемых параметрах функции mult сначала указан знак '\\*', что означает, что после него должны следовать именованные параметры. В данном случае возникает ошибка: TypeError: mult() takes 0 positional arguments but 6 were given<br>"
   ]
  },
  {
   "cell_type": "markdown",
   "metadata": {
    "colab_type": "text",
    "id": "UTT3sbJXts3a"
   },
   "source": [
    "#### 4.\n",
    "Почему возникла ошибка? Объясните и исправьте, чтобы функция могла работать с данными на входе в примере."
   ]
  },
  {
   "cell_type": "code",
   "execution_count": 8,
   "metadata": {
    "colab": {},
    "colab_type": "code",
    "id": "xizQ5rdqts3b",
    "outputId": "a52d4f28-5521-48fe-a968-13b7491cfb65"
   },
   "outputs": [
    {
     "name": "stdout",
     "output_type": "stream",
     "text": [
      "733036532959081958493044038604220573003076872623105825587799726719137081664242889213090239865705342028379233496941111919796792708971905802219444504019006104332493489107721493845412453899793946281899700834091715387952751830219643610349979360602856524762182507733859966860842500858768382394753399581156286449561160783713877222895092808637540218804927005623038569306841733685039433236910980897592858987002063924013988530964522502594931500371157643132061597303111367258489022159044511817010529399435883286083212695075903281596592105429678751689059533454035251548334986509241552406961532864939006610513597608967402985707857424513196823658884413602881077337616965779954194874666031301491450438900838443296921074535307486056701074634195717288344127864971903293281532919139948732795811179970577905638353069459326437465009401802406334569163539571111057039009740125070184999823974525412495495402254164218902587890625\n"
     ]
    }
   ],
   "source": [
    "def power(a, s, *, d):\n",
    "    res = a ** s ** d\n",
    "    print(res)\n",
    "    \n",
    "power(5, 6, d = 4)\n"
   ]
  },
  {
   "cell_type": "markdown",
   "metadata": {},
   "source": [
    "**Объяснение:** \n",
    "<br>В принимаемых параметрах функции power первые 2 - позиционные, 3-й - только именованный. В вызове функции 1-ым - указан именованный, следом - позиционные, что недопустимо. В данном случае возникает ошибка: SyntaxError: positional argument follows keyword argument<br>"
   ]
  },
  {
   "cell_type": "markdown",
   "metadata": {
    "colab_type": "text",
    "id": "GfY6txsXts3f"
   },
   "source": [
    "#### 5.\n",
    "Почему возникла ошибка? Объясните и исправьте, чтобы функция могла работать с данными на входе в примере."
   ]
  },
  {
   "cell_type": "code",
   "execution_count": 24,
   "metadata": {
    "colab": {},
    "colab_type": "code",
    "id": "oYQQA2PBts3g",
    "outputId": "7036c68d-1c7f-4034-f3de-816e075f6059"
   },
   "outputs": [
    {
     "name": "stdout",
     "output_type": "stream",
     "text": [
      "29\n"
     ]
    }
   ],
   "source": [
    "def mult2(*args):\n",
    "    res = 1\n",
    "    for i in args:\n",
    "        res += i\n",
    "    return res\n",
    "\n",
    "List = [1, 2, 3, 4, 5, 6, 7]\n",
    "print(mult2(*List))"
   ]
  },
  {
   "cell_type": "markdown",
   "metadata": {},
   "source": [
    "**Объяснение:** \n",
    "<br>В определениии функции mult2 подразумевается запаковка произвольного количества числовых параметров в tuple args, чтобы их потом просуммировать. При вызове функции задается список, с которым операция суммирования недопустима. Необходима распаковка параметров. В данном случае возникает ошибка: TypeError: unsupported operand type(s) for +=: 'int' and 'list'<br>"
   ]
  },
  {
   "cell_type": "markdown",
   "metadata": {
    "colab_type": "text",
    "id": "QcuTA23Uts3l"
   },
   "source": [
    "#### 6.\n",
    "Почему возникла ошибка? Объясните и исправьте."
   ]
  },
  {
   "cell_type": "code",
   "execution_count": 25,
   "metadata": {
    "colab": {},
    "colab_type": "code",
    "id": "N51MkraMts3n",
    "outputId": "21cd0746-6fa8-45d8-dab1-d050fc5c6034"
   },
   "outputs": [],
   "source": [
    "def some_function(a, b, *args, **kwargs):\n",
    "    pass"
   ]
  },
  {
   "cell_type": "markdown",
   "metadata": {
    "colab_type": "text",
    "id": "Mj0qEUurts36"
   },
   "source": [
    "**Объяснение:** \n",
    "<br>В принимаемых параметрах функции some_function первые 2 - позиционные, 3-й - запаковка произвольного количества именованных параметров в dict kwargs, 4-й - запаковка произвольного количества позиционных параметров в tuple args, что недопустимо. Необходимо поменять местами dict kwargs и tuple args. В данном случае возникает ошибка: SyntaxError: invalid syntax<br>"
   ]
  },
  {
   "cell_type": "markdown",
   "metadata": {
    "colab_type": "text",
    "id": "Me-VY77Bts37"
   },
   "source": [
    "#### 7.\n",
    "Почему не был создан новый список при повторном запуске функции? Объясните и исправьте."
   ]
  },
  {
   "cell_type": "code",
   "execution_count": 27,
   "metadata": {
    "colab": {},
    "colab_type": "code",
    "id": "wXhSLV5xts3-",
    "outputId": "aa4dbf80-bc9a-42c0-c402-e63a1a2c71b1"
   },
   "outputs": [
    {
     "name": "stdout",
     "output_type": "stream",
     "text": [
      "['яблоки', 'молоко', 'хлеб']\n",
      "['груши', 'йогурт', 'мясо']\n"
     ]
    }
   ],
   "source": [
    "def to_buy(*new_items, shopping_list = None):\n",
    "    if shopping_list is None:\n",
    "        shopping_list = []\n",
    "    for i in new_items:\n",
    "        shopping_list.append(i)\n",
    "    return shopping_list\n",
    "\n",
    "monday = to_buy('яблоки', 'молоко', 'хлеб')\n",
    "print(monday)\n",
    "\n",
    "tuesday = to_buy('груши', 'йогурт', 'мясо')\n",
    "print(tuesday)\n"
   ]
  },
  {
   "cell_type": "markdown",
   "metadata": {
    "colab_type": "text",
    "id": "nfb7HR6Lts4I"
   },
   "source": [
    "**Объяснение:** \n",
    "<br>В принимаемых параметрах функции to_buy последний параметр shopping_list по умолчанию задан как пустой список. При первом вызове функции список создается как локальная переменная и хранится в пространстве имен функции. При втором и последующих вызовах функции его значение сохраняется и в него добавляются переданные новые значения. Не рекомендуется в принимаемых параметрах функций в качестве значений по умолчанию задавать изменяемые типы данных, такие как list, dict, set.<br>"
   ]
  },
  {
   "cell_type": "markdown",
   "metadata": {
    "colab_type": "text",
    "id": "nXWDuX9Kts4J"
   },
   "source": [
    "#### 8.\n",
    "Измените данную функцию так, чтобы она распечатывала названия продуктов из словаря в примере.\n"
   ]
  },
  {
   "cell_type": "code",
   "execution_count": 37,
   "metadata": {
    "colab": {},
    "colab_type": "code",
    "id": "SBW9DRlots4L",
    "outputId": "500ecd98-600a-4075-83fa-5c897ef31df8"
   },
   "outputs": [
    {
     "name": "stdout",
     "output_type": "stream",
     "text": [
      "1 яблоки\n",
      "2 молоко\n",
      "3 хлеб\n",
      "4 груши\n",
      "5 йогурт\n",
      "6 мясо\n"
     ]
    }
   ],
   "source": [
    "def print_all(**kwargs):\n",
    "    for keys, i in kwargs.items():\n",
    "        print(keys, i)\n",
    "        \n",
    "print_all(**{'1' : 'яблоки', '2' :'молоко', '3' : 'хлеб', '4' : 'груши', '5' : 'йогурт', '6' : 'мясо'})"
   ]
  },
  {
   "cell_type": "markdown",
   "metadata": {},
   "source": [
    "**Объяснение:** \n",
    "<br>В параметрах в определении функции print_all и ее вызове производится соответственно запаковка и распаковка параметров в тип tuple, хотя вызываемым параметром указан тип dict. Обработка в функции принимаемого параметра выполняется для типа tuple. В данном случае возникает ошибка:  TypeError: 'dict'/'tuple' object is not callable<br>"
   ]
  },
  {
   "cell_type": "markdown",
   "metadata": {
    "colab_type": "text",
    "id": "Qse7He_ets4W"
   },
   "source": [
    "#### 9.\n",
    "Программисты договорились, что переменные такого рода являются.. *(вопрос из лекции)*"
   ]
  },
  {
   "cell_type": "code",
   "execution_count": 0,
   "metadata": {
    "colab": {},
    "colab_type": "code",
    "id": "GZldqNGTts4Y"
   },
   "outputs": [],
   "source": [
    "TOKEN = ..."
   ]
  },
  {
   "cell_type": "markdown",
   "metadata": {
    "colab_type": "text",
    "id": "XwagZX5bts4c"
   },
   "source": [
    "**Ответ:** \n",
    "<br>... глобальными переменными, которые обычно задаются в начале программы, и, изменение которых не рекомендуется в течение всего кода.<br>"
   ]
  },
  {
   "cell_type": "markdown",
   "metadata": {
    "colab_type": "text",
    "id": "GhEM45Mots4d"
   },
   "source": [
    "#### 10.\n",
    "Напишите функцию, которая с помощью рекурсии считает сумму последовательности с шагом m. В качестве аргументов подаются целые положительные числа n (последний элемент последовательности) и m (шаг последовательности). Считается, что все члены последовательности являются целыми положительными числами.\n",
    "\n",
    "Пример:\n",
    "\n",
    "```\n",
    "sum_of_seq(5, 1)\n",
    "15\n",
    " \n",
    "sum_of_seq(5, 9)\n",
    "5\n",
    "\n",
    "sum_of_seq(8, 2)\n",
    "20\n",
    "```\n"
   ]
  },
  {
   "cell_type": "code",
   "execution_count": 40,
   "metadata": {
    "colab": {},
    "colab_type": "code",
    "id": "vPXkJ79ats4e"
   },
   "outputs": [
    {
     "name": "stdout",
     "output_type": "stream",
     "text": [
      "15\n",
      "5\n",
      "20\n"
     ]
    }
   ],
   "source": [
    "def sum_of_seq(n: int, m: int):\n",
    "    if n < 1:\n",
    "        return 0\n",
    "    n_prev = sum_of_seq(n - m, m)\n",
    "    return n_prev + n\n",
    "\n",
    "print(sum_of_seq(5, 1))\n",
    "\n",
    "print(sum_of_seq(5, 9))\n",
    "\n",
    "print(sum_of_seq(8, 2))"
   ]
  },
  {
   "cell_type": "markdown",
   "metadata": {
    "colab_type": "text",
    "id": "_nuDRzdBts4k"
   },
   "source": [
    "#### 11.\n",
    "Напишите функцию, которая возводит число в положительную степень с помощью рекурсии. В качестве аргументов подаются целые положительные числа n (число) и m (степень)."
   ]
  },
  {
   "cell_type": "code",
   "execution_count": 55,
   "metadata": {
    "colab": {},
    "colab_type": "code",
    "id": "_9_BMZCxts4m"
   },
   "outputs": [
    {
     "name": "stdout",
     "output_type": "stream",
     "text": [
      "125\n",
      "81\n",
      "64\n"
     ]
    }
   ],
   "source": [
    "def positive_degree(n: int, m: int):\n",
    "    if m == 1:\n",
    "        return n\n",
    "    n_prev = positive_degree(n, m - 1)\n",
    "    return n_prev * n\n",
    "\n",
    "print(positive_degree(5, 3))\n",
    "\n",
    "print(positive_degree(3, 4))\n",
    "\n",
    "print(positive_degree(8, 2))"
   ]
  },
  {
   "cell_type": "markdown",
   "metadata": {
    "colab_type": "text",
    "id": "1K4dbMwcts4v"
   },
   "source": [
    "#### 12.\n",
    "Напишите функцию, которая возводит число в отрицательную степень число с помощью рекурсии. В качестве аргументов подаются целое положительное число n (число) и целое отрицательное число m (степень)."
   ]
  },
  {
   "cell_type": "code",
   "execution_count": 54,
   "metadata": {
    "colab": {},
    "colab_type": "code",
    "id": "ddZY7Fdxts4x"
   },
   "outputs": [
    {
     "name": "stdout",
     "output_type": "stream",
     "text": [
      "0.008\n",
      "0.012345679012345678\n",
      "0.015625\n"
     ]
    }
   ],
   "source": [
    "def negative_degree(n: int, m: int):\n",
    "    if m == -1:\n",
    "        return 1 / n\n",
    "    n_prev = negative_degree(n, m + 1)\n",
    "    return n_prev / n\n",
    "\n",
    "print(negative_degree(5, -3))\n",
    "\n",
    "print(negative_degree(3, -4))\n",
    "\n",
    "print(negative_degree(8, -2))"
   ]
  },
  {
   "cell_type": "markdown",
   "metadata": {
    "colab_type": "text",
    "id": "IxBt4VyQts41"
   },
   "source": [
    "#### 13.\n",
    "\n",
    "Напишите функцию, которая находит число Фиббоначи по его номеру. В качестве аргумента подается целое положительное число n (число)."
   ]
  },
  {
   "cell_type": "code",
   "execution_count": 57,
   "metadata": {
    "colab": {},
    "colab_type": "code",
    "id": "8DEaBWjkts43"
   },
   "outputs": [
    {
     "name": "stdout",
     "output_type": "stream",
     "text": [
      "15\n",
      "120\n",
      "325\n"
     ]
    }
   ],
   "source": [
    "def fibonacci(n: int):\n",
    "    if n == 0:\n",
    "        return 0\n",
    "    n_prev = fibonacci(n - 1)\n",
    "    return n_prev + n\n",
    "\n",
    "print(fibonacci(5))\n",
    "\n",
    "print(fibonacci(15))\n",
    "\n",
    "print(fibonacci(25))"
   ]
  }
 ],
 "metadata": {
  "colab": {
   "collapsed_sections": [],
   "name": "jun_anl_functions.ipynb",
   "provenance": []
  },
  "kernelspec": {
   "display_name": "Python 3",
   "language": "python",
   "name": "python3"
  },
  "language_info": {
   "codemirror_mode": {
    "name": "ipython",
    "version": 3
   },
   "file_extension": ".py",
   "mimetype": "text/x-python",
   "name": "python",
   "nbconvert_exporter": "python",
   "pygments_lexer": "ipython3",
   "version": "3.7.6"
  }
 },
 "nbformat": 4,
 "nbformat_minor": 1
}
