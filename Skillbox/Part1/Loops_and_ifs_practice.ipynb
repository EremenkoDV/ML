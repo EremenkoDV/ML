{
  "nbformat": 4,
  "nbformat_minor": 0,
  "metadata": {
    "kernelspec": {
      "display_name": "Python 3",
      "language": "python",
      "name": "python3"
    },
    "language_info": {
      "codemirror_mode": {
        "name": "ipython",
        "version": 3
      },
      "file_extension": ".py",
      "mimetype": "text/x-python",
      "name": "python",
      "nbconvert_exporter": "python",
      "pygments_lexer": "ipython3",
      "version": "3.6.5"
    },
    "colab": {
      "name": "Loops_and_ifs_practice.ipynb",
      "provenance": [],
      "collapsed_sections": [
        "obN_5Y7M18r9"
      ]
    }
  },
  "cells": [
    {
      "cell_type": "markdown",
      "metadata": {
        "id": "Tm442wU_4k8F"
      },
      "source": [
        "# Итоги. Практика. #\n",
        "\n",
        "Каких-то дополнений и объяснений в этом дз будет минимум. Предполагается, что синтаксис вы усвоили хорошо. Вместо этого здесь будет много подводящих заданий. Они выстроены так, чтобы решение следующего задания логически продолжало решение предыдущего, и постепенно можно будет перейти от простых вещей к сложным.\n",
        "\n",
        "Важная рекомендация: вы, конечно, можете пропускать задания на свой страх и риск, но я всё же рекомендую выполнить их все, даже если некоторые кажутся очень простыми.\n",
        "\n",
        "Почаще печатайте промежуточные результаты. В задании сказано распечатать только четвёртый элемент списка? Помимо этого лучше печатайте значение элемента на каждой итерации, и когда удостоверитесь, что всё работает правильно, лишнюю печать уберите. Чем больше промежуточных результатов вы будете печатать, тем лучше будете понимать, как и что происходит.\n",
        "\n",
        "В конце файла есть решения к заданиям, но настоятельно рекомендуется сначала попробовать решить задания своими силами."
      ]
    },
    {
      "cell_type": "markdown",
      "metadata": {
        "id": "yEuViGuF4k8H"
      },
      "source": [
        "1. Сначала давайте просто пройдёмся в цикле for по списку. Ниже вам дан список элементов. С помощью конструкции for ... in ... пройдитесь по списку и на каждой итерации с помощью функции print() печатайте текущий элемент"
      ]
    },
    {
      "cell_type": "code",
      "metadata": {
        "id": "1WYZ9pxS4k8I",
        "colab": {
          "base_uri": "https://localhost:8080/"
        },
        "outputId": "d956c855-9f50-4dc8-b51e-e93c1a29492d"
      },
      "source": [
        "my_list = [1, 2, \"три\", (4,), [5], {6: \"шесть\"}]\n",
        "for item in my_list:\n",
        "    print(item)"
      ],
      "execution_count": null,
      "outputs": [
        {
          "output_type": "stream",
          "text": [
            "1\n",
            "2\n",
            "три\n",
            "(4,)\n",
            "[5]\n",
            "{6: 'шесть'}\n"
          ],
          "name": "stdout"
        }
      ]
    },
    {
      "cell_type": "markdown",
      "metadata": {
        "id": "t5AZeeFj4k8O"
      },
      "source": [
        "2. Отлично. Теперь попробуйте сделать то же самое, но с обратной стороны. От последнего элемента к первому. В этом вам может помочь функция reversed(). "
      ]
    },
    {
      "cell_type": "code",
      "metadata": {
        "id": "X0Dtk5Ue4k8P",
        "colab": {
          "base_uri": "https://localhost:8080/"
        },
        "outputId": "1ca045b4-8e41-46f1-c1cb-c7ee14cbdc8d"
      },
      "source": [
        "my_list = [1, 2, \"три\", (4,), [5], {6: \"шесть\"}]\n",
        "for item in my_list[::-1]:\n",
        "    print(item)"
      ],
      "execution_count": null,
      "outputs": [
        {
          "output_type": "stream",
          "text": [
            "{6: 'шесть'}\n",
            "[5]\n",
            "(4,)\n",
            "три\n",
            "2\n",
            "1\n"
          ],
          "name": "stdout"
        }
      ]
    },
    {
      "cell_type": "markdown",
      "metadata": {
        "id": "pON3gTXL4k8T"
      },
      "source": [
        "3. Теперь вам дан новый список. Он состоит только из целых чисел. Попробуйте посчитать их сумму, используя цикл. Для этого заранее, до цикла, заведите переменную, в которой будет аккумулироваться сумма, и на каждой итерации прибавляйте к этой переменной очередной элемент списка"
      ]
    },
    {
      "cell_type": "code",
      "metadata": {
        "id": "lPkrMM9I4k8U",
        "colab": {
          "base_uri": "https://localhost:8080/"
        },
        "outputId": "63b1baaa-ea8a-40ab-9541-80229d19a423"
      },
      "source": [
        "sum = 0\n",
        "my_list = [1, 2, 3, 4, 5, 6, 7, 8, 9, 10]\n",
        "for item in my_list:\n",
        "    sum += item\n",
        "print(sum)"
      ],
      "execution_count": null,
      "outputs": [
        {
          "output_type": "stream",
          "text": [
            "55\n"
          ],
          "name": "stdout"
        }
      ]
    },
    {
      "cell_type": "markdown",
      "metadata": {
        "id": "oJpYrhPt4k8Y"
      },
      "source": [
        "4. Теперь попробуем нечто похожее со строками. В предыдущем модуле вам уже приходилось использовать конкатенацию строк. Заведите переменную под строку до начала цикла, и на каждой итерации складывайте эту переменную с очередным элементом списка"
      ]
    },
    {
      "cell_type": "code",
      "metadata": {
        "id": "5iJ3RSjn4k8Y",
        "colab": {
          "base_uri": "https://localhost:8080/"
        },
        "outputId": "385641d1-3b64-4fb6-d904-e350bd45226e"
      },
      "source": [
        "string = ''\n",
        "my_list = [\"P\", \"y\", \"t\", \"h\", \"o\", \"n\"]\n",
        "for item in my_list:\n",
        "    string += item\n",
        "print(string)"
      ],
      "execution_count": null,
      "outputs": [
        {
          "output_type": "stream",
          "text": [
            "Python\n"
          ],
          "name": "stdout"
        }
      ]
    },
    {
      "cell_type": "markdown",
      "metadata": {
        "id": "jjp2YQgY4k8i"
      },
      "source": [
        "5. Отлично. Добавим условия. Ниже вам снова дан список. Пройдитесь по нему циклом for, но распечатайте только число 5."
      ]
    },
    {
      "cell_type": "code",
      "metadata": {
        "id": "we7pjso34k8k",
        "colab": {
          "base_uri": "https://localhost:8080/"
        },
        "outputId": "e0034a70-c55f-44de-a2de-d4a94cd62610"
      },
      "source": [
        "my_list = [1, 3, 5, 7, 9]\n",
        "for item in my_list:\n",
        "    if item == 5:\n",
        "        print(item)"
      ],
      "execution_count": null,
      "outputs": [
        {
          "output_type": "stream",
          "text": [
            "5\n"
          ],
          "name": "stdout"
        }
      ]
    },
    {
      "cell_type": "markdown",
      "metadata": {
        "id": "ABXjpAw54k8r"
      },
      "source": [
        "6. Добавим функцию range(). Видите ли, не всегда нам хочется проходиться по списку теми способами, которые мы использовали выше. Иногда нам хочется обращаться к каждому элементу списка по индексу. И для этого очень часто используется функция range(). Как вы помните, она создаёт список элементов. Функция range(10) создаст список [0, 1, 2, 3, 4, 5, 6, 7, 8, 9]. А уже используя эти числа, мы можем обращаться к элементам другого списка по индексу. Скажем, нам дан список [1, \"три\", (5,), [7]]. Тогда, создав список элементов [0, 1, 2, 3], мы можем в цикле for пройтись по нему, и вызывать элементы данного нам списка, используя числа из созданного функцией range(). Попробуйте сделать это"
      ]
    },
    {
      "cell_type": "code",
      "metadata": {
        "id": "h4iSnLIz4k8s",
        "colab": {
          "base_uri": "https://localhost:8080/"
        },
        "outputId": "be3b2338-77d0-4cb8-943e-4278020a85b6"
      },
      "source": [
        "my_list = [1, 3, \"пять\", 7, 9, \"11\", 13, 15, \"семнадцать\"]\n",
        "for i in range(9):\n",
        "    print(my_list[i])"
      ],
      "execution_count": null,
      "outputs": [
        {
          "output_type": "stream",
          "text": [
            "1\n",
            "3\n",
            "пять\n",
            "7\n",
            "9\n",
            "11\n",
            "13\n",
            "15\n",
            "семнадцать\n"
          ],
          "name": "stdout"
        }
      ]
    },
    {
      "cell_type": "markdown",
      "metadata": {
        "id": "e_CShOkD4k8z"
      },
      "source": [
        "7. А теперь то же самое, только немного усовершенствуем предыдущий алгоритм. Если мы заранее не знаем, сколько элементов содержит наш список, то каждый раз подсчитывать его длину вручную неудобно. Зато функция len() возвращает длину объекта. Теперь, вместо жёстко заданного значения в range(), вставьте туда длину списка с помощью len()."
      ]
    },
    {
      "cell_type": "code",
      "metadata": {
        "id": "X9mS5nzc4k80",
        "colab": {
          "base_uri": "https://localhost:8080/"
        },
        "outputId": "df7b6820-7458-4dc2-d620-f9c77e09c8e2"
      },
      "source": [
        "my_list = [1, 3, \"пять\", 7, 9, \"11\", 13, 15, \"семнадцать\"]\n",
        "for i in range(len(my_list)):\n",
        "    print(my_list[i])"
      ],
      "execution_count": null,
      "outputs": [
        {
          "output_type": "stream",
          "text": [
            "1\n",
            "3\n",
            "пять\n",
            "7\n",
            "9\n",
            "11\n",
            "13\n",
            "15\n",
            "семнадцать\n"
          ],
          "name": "stdout"
        }
      ]
    },
    {
      "cell_type": "markdown",
      "metadata": {
        "id": "CHT83IeL4k85"
      },
      "source": [
        "8. Пройдитесь в цикле по списку, используя функцию range() и выведите только четвёртый объект на экран."
      ]
    },
    {
      "cell_type": "code",
      "metadata": {
        "id": "NlACZ4U94k86",
        "colab": {
          "base_uri": "https://localhost:8080/"
        },
        "outputId": "b6d96921-db64-4082-d2db-8549550f977f"
      },
      "source": [
        "my_list = [10, 9, 8, 7, 6, 5, 4, 3, 2, 1, 0]\n",
        "for i, item in enumerate(my_list):\n",
        "    if i == 3:\n",
        "        print(item)\n",
        "        break"
      ],
      "execution_count": null,
      "outputs": [
        {
          "output_type": "stream",
          "text": [
            "7\n"
          ],
          "name": "stdout"
        }
      ]
    },
    {
      "cell_type": "markdown",
      "metadata": {
        "id": "YaO6gea_4k8-"
      },
      "source": [
        "9. Выведите на экран все элементы, которые меньше 5."
      ]
    },
    {
      "cell_type": "code",
      "metadata": {
        "id": "jmlCikPs4k8_",
        "colab": {
          "base_uri": "https://localhost:8080/"
        },
        "outputId": "71f69e92-9bbe-4e91-c3f4-0d513c4ce611"
      },
      "source": [
        "my_list = [10, 8, 1, 3, 4, 6, 7, 8, 5, 5, 3, 2, 1, 1, 1, -10, -8, 6, 5, -3, -7, 3, 6]\n",
        "for item in my_list:\n",
        "    if item < 5:\n",
        "        print(item)"
      ],
      "execution_count": null,
      "outputs": [
        {
          "output_type": "stream",
          "text": [
            "1\n",
            "3\n",
            "4\n",
            "3\n",
            "2\n",
            "1\n",
            "1\n",
            "1\n",
            "-10\n",
            "-8\n",
            "-3\n",
            "-7\n",
            "3\n"
          ],
          "name": "stdout"
        }
      ]
    },
    {
      "cell_type": "markdown",
      "metadata": {
        "id": "sKzc94wt4k9D"
      },
      "source": [
        "10. Пройдитесь по списку с помощью функции range() и замените в списке значение шестого элемента на значение 6"
      ]
    },
    {
      "cell_type": "code",
      "metadata": {
        "id": "erjW2omx4k9E",
        "colab": {
          "base_uri": "https://localhost:8080/"
        },
        "outputId": "b955bbcd-9afc-47b6-a9dd-b844b02ab5d6"
      },
      "source": [
        "my_list = [1, 2, 3, 4, 5, 8, 7, 8]\n",
        "for i in range(len(my_list)):\n",
        "    if i == 5:\n",
        "        my_list[5] = 6\n",
        "        break\n",
        "print(my_list)"
      ],
      "execution_count": null,
      "outputs": [
        {
          "output_type": "stream",
          "text": [
            "[1, 2, 3, 4, 5, 6, 7, 8]\n"
          ],
          "name": "stdout"
        }
      ]
    },
    {
      "cell_type": "markdown",
      "metadata": {
        "id": "QHTobVhg6GTW"
      },
      "source": [
        "Обратите внимание: в Python существует функция enumerate(), которая ставит в соответствие каждому элементу индекс. Эту функцию часто целесообразнее использовать, чем range(). Пример:"
      ]
    },
    {
      "cell_type": "code",
      "metadata": {
        "id": "S9TNfyio6qGc",
        "colab": {
          "base_uri": "https://localhost:8080/"
        },
        "outputId": "d7a0dde7-5eb0-4f6e-9bae-b44330c66005"
      },
      "source": [
        "my_list = [\"кошка\", \"собака\", \"гусь\", \"корова\", \"свинья\"]\n",
        "\n",
        "for i, element in enumerate(my_list):\n",
        "  print(i, element)"
      ],
      "execution_count": null,
      "outputs": [
        {
          "output_type": "stream",
          "text": [
            "0 кошка\n",
            "1 собака\n",
            "2 гусь\n",
            "3 корова\n",
            "4 свинья\n"
          ],
          "name": "stdout"
        }
      ]
    },
    {
      "cell_type": "markdown",
      "metadata": {
        "id": "HYi1HFBh4k9J"
      },
      "source": [
        "11. Пройдитесь по списку и замените в нём каждый элемент со значением \"три\" на значение 3."
      ]
    },
    {
      "cell_type": "code",
      "metadata": {
        "id": "6acP9rCT4k9K",
        "colab": {
          "base_uri": "https://localhost:8080/"
        },
        "outputId": "3995c773-9b37-42e4-c479-09bd1269f282"
      },
      "source": [
        "my_list = [1, 2, \"три\", 8, 5, \"три\", 7, 9, \"три\"]\n",
        "for i, item in enumerate(my_list):\n",
        "    if item == \"три\":\n",
        "        my_list[i] = 3\n",
        "my_list"
      ],
      "execution_count": null,
      "outputs": [
        {
          "output_type": "execute_result",
          "data": {
            "text/plain": [
              "[1, 2, 3, 8, 5, 3, 7, 9, 3]"
            ]
          },
          "metadata": {
            "tags": []
          },
          "execution_count": 18
        }
      ]
    },
    {
      "cell_type": "markdown",
      "metadata": {
        "id": "Qr_TlqG64k9S"
      },
      "source": [
        "12. Используя условия, найдите в списке наибольший элемент из тех, которые делятся на 2 без остатка, и замените его на 12."
      ]
    },
    {
      "cell_type": "code",
      "metadata": {
        "id": "x7QGMEda4k9T",
        "colab": {
          "base_uri": "https://localhost:8080/"
        },
        "outputId": "85fdc8df-7bcd-4f4e-8360-46f7fd1c31b6"
      },
      "source": [
        "my_list = [1, 2, 3, 4, 5, 6, 7, 8, 9, 10, 11, 22, 13]\n",
        "max_item = min(my_list)\n",
        "max_idx = 0\n",
        "for i, item in enumerate(my_list):\n",
        "    if item % 2 == 0 and item > max_item:\n",
        "        max_item = item\n",
        "        max_idx = i\n",
        "my_list[max_idx] = 12\n",
        "my_list"
      ],
      "execution_count": null,
      "outputs": [
        {
          "output_type": "execute_result",
          "data": {
            "text/plain": [
              "[1, 2, 3, 4, 5, 6, 7, 8, 9, 10, 11, 12, 13]"
            ]
          },
          "metadata": {
            "tags": []
          },
          "execution_count": 19
        }
      ]
    },
    {
      "cell_type": "markdown",
      "metadata": {
        "id": "kVoOx6-A4k9Z"
      },
      "source": [
        "Стоит дать небольшое пояснение по поводу цикла for. Ранее мы уже меняли элементы списка при проходе в цикле, но не меняли сам список. И заметьте, что делать это крайне нежелательно! В цикле for количество итераций определяется сразу, как только цикл начинается. Если вы удалите элемент из списка при проходе, то длина списка уменьшится, а количество итераций не изменится. В итоге вы можете выйти за границы списка, что вызовет ошибку. Поэтому лучше подобные действия совершать в цикле while. Он не имеет заранее известного количества итераций и работает, пока не выполнится условие.\n",
        "\n",
        "13. С помощью цикла while выведите на экран все элементы списка. Для этого заранее заведите переменную-счётчик и на каждой итерации прибавляйте к ней единицу, а условие будет выглядеть вот так: (while *счётчик* < len(my_list):)"
      ]
    },
    {
      "cell_type": "code",
      "metadata": {
        "id": "YNxuUx8L4k9b",
        "colab": {
          "base_uri": "https://localhost:8080/"
        },
        "outputId": "527b21f8-908b-4733-c6a3-2dfb8e67bddb"
      },
      "source": [
        "my_list = [1, 2, 3, 4, 5]\n",
        "i = 0\n",
        "while i < len(my_list):\n",
        "    print(my_list[i])\n",
        "    i += 1"
      ],
      "execution_count": null,
      "outputs": [
        {
          "output_type": "stream",
          "text": [
            "1\n",
            "2\n",
            "3\n",
            "4\n",
            "5\n"
          ],
          "name": "stdout"
        }
      ]
    },
    {
      "cell_type": "markdown",
      "metadata": {
        "id": "VKbRmaKC4k9h"
      },
      "source": [
        "14. С помощью while выведите все элементы списка с конца и до начала"
      ]
    },
    {
      "cell_type": "code",
      "metadata": {
        "id": "7aYWFBmv4k9i",
        "colab": {
          "base_uri": "https://localhost:8080/"
        },
        "outputId": "8814ee26-4848-4b10-eafb-1ab965d6caaf"
      },
      "source": [
        "my_list = [1, 2, 3, 4, 5]\n",
        "i = len(my_list)\n",
        "while i > 0:\n",
        "    print(my_list[i - 1])\n",
        "    i -= 1"
      ],
      "execution_count": null,
      "outputs": [
        {
          "output_type": "stream",
          "text": [
            "5\n",
            "4\n",
            "3\n",
            "2\n",
            "1\n"
          ],
          "name": "stdout"
        }
      ]
    },
    {
      "cell_type": "markdown",
      "metadata": {
        "id": "0ChR21fp4k9m"
      },
      "source": [
        "15. Теперь с помощью цикла while удалите из списка все элементы, которые равны 5. Затем распечатайте получившийся список.\n",
        "Совет: на каждой итерации на всякий случай печатайте текущее значение проверяемого элемента. Постарайтесь понять, как поменяется индексация элементов в списке, после удаления одного из них"
      ]
    },
    {
      "cell_type": "code",
      "metadata": {
        "id": "0BKJTDXO4k9n",
        "colab": {
          "base_uri": "https://localhost:8080/"
        },
        "outputId": "2a2866fe-a702-4b05-a68e-ffbf96511665"
      },
      "source": [
        "my_list = [1, 3, 5, 1, 6, 5, 5, 9, 8, 5, 6, 5, 7, 5, 5]\n",
        "i = 0\n",
        "while i < len(my_list):\n",
        "    if my_list[i] == 5:\n",
        "        my_list.remove(5)\n",
        "        i -= 1\n",
        "    i += 1\n",
        "print(my_list)"
      ],
      "execution_count": null,
      "outputs": [
        {
          "output_type": "stream",
          "text": [
            "[1, 3, 1, 6, 9, 8, 6, 7]\n"
          ],
          "name": "stdout"
        }
      ]
    },
    {
      "cell_type": "markdown",
      "metadata": {
        "id": "KLLDpC3_4k9s"
      },
      "source": [
        "16. Пройдитесь по списку с помощью цикла while и на каждой итерации сравнивайте текущий элемент со следующим. Если текущий элемент больше следующего, то поменяйте их местами (перезапишите значения, чтобы в следующем элементе оказалось значение текущего, а в текущем значение следующего). Если текущий элемент вы можете получить, обращаясь к нему по индексу i, где i - это счётчик вашего цикла, то к следующему вы можете обратиться, используя индекс i+1. Но будьте осторожны с выходом за границы списка!"
      ]
    },
    {
      "cell_type": "code",
      "metadata": {
        "id": "wDJSDm3N4k9t",
        "colab": {
          "base_uri": "https://localhost:8080/"
        },
        "outputId": "cfa2388c-aba9-4dd8-cc3d-5b3f4b3c4681"
      },
      "source": [
        "my_list = [1, 3, 2, 6, 8, 6, 7, 5, 5, 4, 9, 3]\n",
        "i = 0\n",
        "while i < len(my_list) - 1:\n",
        "    if my_list[i] > my_list[i + 1]:\n",
        "        temp = my_list[i]\n",
        "        my_list[i] = my_list[i + 1]\n",
        "        my_list[i + 1] = temp\n",
        "        i = 0\n",
        "    i += 1\n",
        "print(my_list)"
      ],
      "execution_count": null,
      "outputs": [
        {
          "output_type": "stream",
          "text": [
            "[1, 2, 3, 3, 4, 5, 5, 6, 6, 7, 8, 9]\n"
          ],
          "name": "stdout"
        }
      ]
    },
    {
      "cell_type": "markdown",
      "metadata": {
        "id": "Lc5EAezq4k9x"
      },
      "source": [
        "17. С помощью цикла while пройдитесь по списку и, если текущий элемент равен 2, то вставляйте в список число 1 через два элемента от текущего "
      ]
    },
    {
      "cell_type": "code",
      "metadata": {
        "id": "Wjf_LEVb4k9x",
        "colab": {
          "base_uri": "https://localhost:8080/"
        },
        "outputId": "4e5dd2da-2044-4769-8005-e91d443ed8f8"
      },
      "source": [
        "my_list = [1, 2, 3, 2, 1, 1, 6, 2, 5, 19, 3, 2, 8, 8, 0, 2, 5, 5, 6, 7]\n",
        "i = 0\n",
        "while i < len(my_list) - 2:\n",
        "    if my_list[i] == 2:\n",
        "        my_list.insert(i + 3, 1)\n",
        "    i += 1\n",
        "print(my_list)"
      ],
      "execution_count": null,
      "outputs": [
        {
          "output_type": "stream",
          "text": [
            "[1, 2, 3, 2, 1, 1, 1, 1, 6, 2, 5, 19, 1, 3, 2, 8, 8, 1, 0, 2, 5, 5, 1, 6, 7]\n"
          ],
          "name": "stdout"
        }
      ]
    },
    {
      "cell_type": "markdown",
      "metadata": {
        "id": "F4UxXjFG4k91"
      },
      "source": [
        "18. Пройдитесь в цикле по списку и замените каждый его элемент остатком этого элемента от деления на 2"
      ]
    },
    {
      "cell_type": "code",
      "metadata": {
        "id": "5PHqicZ44k91",
        "colab": {
          "base_uri": "https://localhost:8080/"
        },
        "outputId": "93452231-e1e2-4d4b-9d0b-c8276334cf60"
      },
      "source": [
        "my_list = [1, 2, 3, 4, 5, 6]\n",
        "i = 0\n",
        "while i < len(my_list):\n",
        "    my_list[i] = my_list[i] % 2\n",
        "    i += 1\n",
        "print(my_list)"
      ],
      "execution_count": null,
      "outputs": [
        {
          "output_type": "stream",
          "text": [
            "[1, 0, 1, 0, 1, 0]\n"
          ],
          "name": "stdout"
        }
      ]
    },
    {
      "cell_type": "markdown",
      "metadata": {
        "id": "xfomdP104k95"
      },
      "source": [
        "19. Вам дан список списков. Пройдитесь по нему и распечатайте каждый список, содержащийся внутри списка my_list"
      ]
    },
    {
      "cell_type": "code",
      "metadata": {
        "id": "2SKddKaH4k95",
        "colab": {
          "base_uri": "https://localhost:8080/"
        },
        "outputId": "e3dbdf24-6716-4ed2-8050-c83f2650cb84"
      },
      "source": [
        "my_list = [\n",
        "    [1, 2, 3, 4, 5],\n",
        "    [6, 7, 8, 9, 10],\n",
        "    [11, 12, 13, 14, 15],\n",
        "    [16, 17, 18, 19, 20],\n",
        "    [21, 22, 23, 24, 25]\n",
        "]\n",
        "i = 0\n",
        "while i < len(my_list):\n",
        "    print(my_list[i])\n",
        "    i += 1"
      ],
      "execution_count": null,
      "outputs": [
        {
          "output_type": "stream",
          "text": [
            "[1, 2, 3, 4, 5]\n",
            "[6, 7, 8, 9, 10]\n",
            "[11, 12, 13, 14, 15]\n",
            "[16, 17, 18, 19, 20]\n",
            "[21, 22, 23, 24, 25]\n"
          ],
          "name": "stdout"
        }
      ]
    },
    {
      "cell_type": "markdown",
      "metadata": {
        "id": "Gj2B0ANh4k98"
      },
      "source": [
        "20. Посчитайте сумму первых элементов всех списков"
      ]
    },
    {
      "cell_type": "code",
      "metadata": {
        "id": "vO_iPAv54k99",
        "colab": {
          "base_uri": "https://localhost:8080/"
        },
        "outputId": "d7dc52d2-32d4-48de-de8a-898b6f11e624"
      },
      "source": [
        "my_list = [\n",
        "    [1, 2, 3, 4, 5],\n",
        "    [6, 7, 8, 9, 10],\n",
        "    [11, 12, 13, 14, 15],\n",
        "    [16, 17, 18, 19, 20],\n",
        "    [21, 22, 23, 24, 25]\n",
        "]\n",
        "sum = 0\n",
        "for item in my_list:\n",
        "    sum += item[0]\n",
        "print(sum)"
      ],
      "execution_count": null,
      "outputs": [
        {
          "output_type": "stream",
          "text": [
            "55\n"
          ],
          "name": "stdout"
        }
      ]
    },
    {
      "cell_type": "markdown",
      "metadata": {
        "id": "bZJ2AnVN4k-A"
      },
      "source": [
        "21. Посчитайте сумму всех элементов первого списка."
      ]
    },
    {
      "cell_type": "code",
      "metadata": {
        "id": "WjjqeGBs4k-A",
        "colab": {
          "base_uri": "https://localhost:8080/"
        },
        "outputId": "163ae185-74ad-427f-a268-84c273916499"
      },
      "source": [
        "my_list = [\n",
        "    [1, 2, 3, 4, 5],\n",
        "    [6, 7, 8, 9, 10],\n",
        "    [11, 12, 13, 14, 15],\n",
        "    [16, 17, 18, 19, 20],\n",
        "    [21, 22, 23, 24, 25]\n",
        "]\n",
        "sum = 0\n",
        "for item in my_list[0]:\n",
        "    sum += item\n",
        "print(sum)"
      ],
      "execution_count": null,
      "outputs": [
        {
          "output_type": "stream",
          "text": [
            "15\n"
          ],
          "name": "stdout"
        }
      ]
    },
    {
      "cell_type": "markdown",
      "metadata": {
        "id": "t84f6P0R4k-J"
      },
      "source": [
        "22. Посчитайте сумму всех элементов всех списков."
      ]
    },
    {
      "cell_type": "code",
      "metadata": {
        "id": "cIXVmylQ4k-K",
        "colab": {
          "base_uri": "https://localhost:8080/"
        },
        "outputId": "39ef02ab-d0c6-44dd-dd2f-f3eb652b6749"
      },
      "source": [
        "my_list = [\n",
        "    [1, 2, 3, 4, 5],\n",
        "    [6, 7, 8, 9, 10],\n",
        "    [11, 12, 13, 14, 15],\n",
        "    [16, 17, 18, 19, 20],\n",
        "    [21, 22, 23, 24, 25]\n",
        "]\n",
        "sum = 0\n",
        "for item in my_list:\n",
        "    for subitem in item:\n",
        "        sum += subitem\n",
        "print(sum)"
      ],
      "execution_count": null,
      "outputs": [
        {
          "output_type": "stream",
          "text": [
            "325\n"
          ],
          "name": "stdout"
        }
      ]
    },
    {
      "cell_type": "markdown",
      "metadata": {
        "id": "DQQ0hDEV4k-O"
      },
      "source": [
        "23. И ещё раз, только теперь списки разной длины."
      ]
    },
    {
      "cell_type": "code",
      "metadata": {
        "id": "VOxKLRGx4k-P",
        "colab": {
          "base_uri": "https://localhost:8080/"
        },
        "outputId": "95056569-35ab-4f51-9d4f-e41e0fbf7798"
      },
      "source": [
        "my_list = [\n",
        "    [1, 2, 3, 4, 5],\n",
        "    [6, 7, 8, 9, 10, 26],\n",
        "    [11, 12, 13, 14, 15, 27, 28, 29, 30, 31, 32],\n",
        "    [16, 17, 18, 19, 20, 33, 34],\n",
        "    [21]\n",
        "]\n",
        "sum = 0\n",
        "for item in my_list:\n",
        "    for subitem in item:\n",
        "        sum += subitem\n",
        "print(sum)"
      ],
      "execution_count": null,
      "outputs": [
        {
          "output_type": "stream",
          "text": [
            "501\n"
          ],
          "name": "stdout"
        }
      ]
    },
    {
      "cell_type": "markdown",
      "metadata": {
        "id": "0Q2ZcBs_4k-U"
      },
      "source": [
        "24. Пройдитесь по всем спискам и из каждого удалите цифру 1221."
      ]
    },
    {
      "cell_type": "code",
      "metadata": {
        "id": "P6-JAmmP4k-U",
        "colab": {
          "base_uri": "https://localhost:8080/"
        },
        "outputId": "d7d1e93a-d567-4776-bbe8-1e3e4f7375d1"
      },
      "source": [
        "my_list = [\n",
        "    [1, 2, 3, 4, 5, 6, 7, 8, 1221, 9, 10],\n",
        "    [1221, 7, 8, 1221, 9, 10],\n",
        "    [11, 12, 1221, 14, 15],\n",
        "    [1221],\n",
        "    [1221, 1221, 1221, 22, 1221, 1221, 1221]\n",
        "]\n",
        "for item in my_list:\n",
        "    i = 0\n",
        "    while i < len(item):\n",
        "        if item[i] == 1221:\n",
        "            item.remove(1221)\n",
        "            i -= 1\n",
        "        i += 1\n",
        "print(my_list)"
      ],
      "execution_count": null,
      "outputs": [
        {
          "output_type": "stream",
          "text": [
            "[[1, 2, 3, 4, 5, 6, 7, 8, 9, 10], [7, 8, 9, 10], [11, 12, 14, 15], [], [22]]\n"
          ],
          "name": "stdout"
        }
      ]
    },
    {
      "cell_type": "markdown",
      "metadata": {
        "id": "4rXQQA3h4k-Y"
      },
      "source": [
        "Ну вот и всё. Если вы самостоятельно решили эти задания, то можете перейти к дз пятого модуля и попробовать решить представленные там задачи.\n",
        "\n",
        "Последнее дополнительное задание. Ниже представлен ошибочный код. Прочитайте ошибку, загуглите её. Если не знаете английского языка, закиньте информацию по этой ошибке в переводчик. Важно, чтобы вы поняли, из-за чего возникает данная ошибка, и научились работать с текстом возникающих ошибок. Понимать их. Искать их.\n",
        "\n",
        "Удачи."
      ]
    },
    {
      "cell_type": "code",
      "metadata": {
        "id": "-6KlGb4j4k-Y",
        "outputId": "5804c07a-ce8f-49f4-e153-572a8a09b30a"
      },
      "source": [
        "my_list = [3, 2, 5, 7, 6, 8]\n",
        "for i in range(7):\n",
        "    print(my_list[i])"
      ],
      "execution_count": null,
      "outputs": [
        {
          "output_type": "stream",
          "text": [
            "3\n",
            "2\n",
            "5\n",
            "7\n",
            "6\n",
            "8\n"
          ],
          "name": "stdout"
        },
        {
          "output_type": "error",
          "ename": "IndexError",
          "evalue": "list index out of range",
          "traceback": [
            "\u001b[1;31m---------------------------------------------------------------------------\u001b[0m",
            "\u001b[1;31mIndexError\u001b[0m                                Traceback (most recent call last)",
            "\u001b[1;32m<ipython-input-37-2e58a3e7fd41>\u001b[0m in \u001b[0;36m<module>\u001b[1;34m()\u001b[0m\n\u001b[0;32m      1\u001b[0m \u001b[0mmy_list\u001b[0m \u001b[1;33m=\u001b[0m \u001b[1;33m[\u001b[0m\u001b[1;36m3\u001b[0m\u001b[1;33m,\u001b[0m \u001b[1;36m2\u001b[0m\u001b[1;33m,\u001b[0m \u001b[1;36m5\u001b[0m\u001b[1;33m,\u001b[0m \u001b[1;36m7\u001b[0m\u001b[1;33m,\u001b[0m \u001b[1;36m6\u001b[0m\u001b[1;33m,\u001b[0m \u001b[1;36m8\u001b[0m\u001b[1;33m]\u001b[0m\u001b[1;33m\u001b[0m\u001b[0m\n\u001b[0;32m      2\u001b[0m \u001b[1;32mfor\u001b[0m \u001b[0mi\u001b[0m \u001b[1;32min\u001b[0m \u001b[0mrange\u001b[0m\u001b[1;33m(\u001b[0m\u001b[1;36m7\u001b[0m\u001b[1;33m)\u001b[0m\u001b[1;33m:\u001b[0m\u001b[1;33m\u001b[0m\u001b[0m\n\u001b[1;32m----> 3\u001b[1;33m     \u001b[0mprint\u001b[0m\u001b[1;33m(\u001b[0m\u001b[0mmy_list\u001b[0m\u001b[1;33m[\u001b[0m\u001b[0mi\u001b[0m\u001b[1;33m]\u001b[0m\u001b[1;33m)\u001b[0m\u001b[1;33m\u001b[0m\u001b[0m\n\u001b[0m",
            "\u001b[1;31mIndexError\u001b[0m: list index out of range"
          ]
        }
      ]
    },
    {
      "cell_type": "code",
      "metadata": {
        "id": "UgRL1nox4k-c",
        "outputId": "e521ffda-ed97-4244-c135-125ab2ea3b7f"
      },
      "source": [
        "b = 12\n",
        "c = 34\n",
        "my_list = [a, b, c]\n",
        "a = 14"
      ],
      "execution_count": null,
      "outputs": [
        {
          "output_type": "error",
          "ename": "NameError",
          "evalue": "name 'a' is not defined",
          "traceback": [
            "\u001b[1;31m---------------------------------------------------------------------------\u001b[0m",
            "\u001b[1;31mNameError\u001b[0m                                 Traceback (most recent call last)",
            "\u001b[1;32m<ipython-input-38-94ca70a8d802>\u001b[0m in \u001b[0;36m<module>\u001b[1;34m()\u001b[0m\n\u001b[0;32m      1\u001b[0m \u001b[0mb\u001b[0m \u001b[1;33m=\u001b[0m \u001b[1;36m12\u001b[0m\u001b[1;33m\u001b[0m\u001b[0m\n\u001b[0;32m      2\u001b[0m \u001b[0mc\u001b[0m \u001b[1;33m=\u001b[0m \u001b[1;36m34\u001b[0m\u001b[1;33m\u001b[0m\u001b[0m\n\u001b[1;32m----> 3\u001b[1;33m \u001b[0mmy_list\u001b[0m \u001b[1;33m=\u001b[0m \u001b[1;33m[\u001b[0m\u001b[0ma\u001b[0m\u001b[1;33m,\u001b[0m \u001b[0mb\u001b[0m\u001b[1;33m,\u001b[0m \u001b[0mc\u001b[0m\u001b[1;33m]\u001b[0m\u001b[1;33m\u001b[0m\u001b[0m\n\u001b[0m\u001b[0;32m      4\u001b[0m \u001b[0ma\u001b[0m \u001b[1;33m=\u001b[0m \u001b[1;36m14\u001b[0m\u001b[1;33m\u001b[0m\u001b[0m\n",
            "\u001b[1;31mNameError\u001b[0m: name 'a' is not defined"
          ]
        }
      ]
    },
    {
      "cell_type": "code",
      "metadata": {
        "id": "QI4yO0e34k-h",
        "outputId": "a28846fe-cb3c-493c-b32f-a25bcd0d51d5"
      },
      "source": [
        "a = 13\n",
        "if a > 5:"
      ],
      "execution_count": null,
      "outputs": [
        {
          "output_type": "error",
          "ename": "SyntaxError",
          "evalue": "unexpected EOF while parsing (<ipython-input-39-87f3f7dc64ac>, line 2)",
          "traceback": [
            "\u001b[1;36m  File \u001b[1;32m\"<ipython-input-39-87f3f7dc64ac>\"\u001b[1;36m, line \u001b[1;32m2\u001b[0m\n\u001b[1;33m    if a > 5:\u001b[0m\n\u001b[1;37m             ^\u001b[0m\n\u001b[1;31mSyntaxError\u001b[0m\u001b[1;31m:\u001b[0m unexpected EOF while parsing\n"
          ]
        }
      ]
    },
    {
      "cell_type": "code",
      "metadata": {
        "id": "sCgT-bCL4k-k",
        "outputId": "122d9240-33d0-48c5-debf-87cb2eaa8998"
      },
      "source": [
        "a = 28\n",
        "if a < 6:\n",
        "    pass\n",
        "    else:\n",
        "        print(44)"
      ],
      "execution_count": null,
      "outputs": [
        {
          "output_type": "error",
          "ename": "SyntaxError",
          "evalue": "invalid syntax (<ipython-input-40-0e78f23da1df>, line 4)",
          "traceback": [
            "\u001b[1;36m  File \u001b[1;32m\"<ipython-input-40-0e78f23da1df>\"\u001b[1;36m, line \u001b[1;32m4\u001b[0m\n\u001b[1;33m    else:\u001b[0m\n\u001b[1;37m       ^\u001b[0m\n\u001b[1;31mSyntaxError\u001b[0m\u001b[1;31m:\u001b[0m invalid syntax\n"
          ]
        }
      ]
    },
    {
      "cell_type": "markdown",
      "metadata": {
        "id": "obN_5Y7M18r9"
      },
      "source": [
        "# Решения заданий #"
      ]
    },
    {
      "cell_type": "markdown",
      "metadata": {
        "id": "eUT9ZDby27EQ"
      },
      "source": [
        "1. Сначала давайте просто пройдёмся в цикле for по списку. Ниже вам дан список элементов. С помощью конструкции for ... in ... пройдитесь по списку и на каждой итерации с помощью функции print() печатайте текущий элемент"
      ]
    },
    {
      "cell_type": "code",
      "metadata": {
        "colab": {
          "base_uri": "https://localhost:8080/"
        },
        "id": "Nru22dzP27EQ",
        "outputId": "1f3a882c-4658-4f67-dd2e-d871c6f29f43"
      },
      "source": [
        "my_list = [1, 2, \"три\", (4,), [5], {6: \"шесть\"}]\n",
        "\n",
        "### YOUR CODE HERE ###\n",
        "for element in my_list:\n",
        "  print(element)"
      ],
      "execution_count": null,
      "outputs": [
        {
          "output_type": "stream",
          "text": [
            "1\n",
            "2\n",
            "три\n",
            "(4,)\n",
            "[5]\n",
            "{6: 'шесть'}\n"
          ],
          "name": "stdout"
        }
      ]
    },
    {
      "cell_type": "markdown",
      "metadata": {
        "id": "qbqLEU5n27ER"
      },
      "source": [
        "2. Отлично. Теперь попробуйте сделать то же самое, но с обратной стороны. От последнего элемента к первому. В этом вам может помочь функция reversed(). "
      ]
    },
    {
      "cell_type": "code",
      "metadata": {
        "colab": {
          "base_uri": "https://localhost:8080/"
        },
        "id": "qCBIGEqh27ER",
        "outputId": "279c01c5-345d-4d67-953c-19b0441d631c"
      },
      "source": [
        "my_list = [1, 2, \"три\", (4,), [5], {6: \"шесть\"}]\n",
        "\n",
        "### YOUR CODE HERE ###\n",
        "for element in reversed(my_list):\n",
        "  print(element)"
      ],
      "execution_count": null,
      "outputs": [
        {
          "output_type": "stream",
          "text": [
            "{6: 'шесть'}\n",
            "[5]\n",
            "(4,)\n",
            "три\n",
            "2\n",
            "1\n"
          ],
          "name": "stdout"
        }
      ]
    },
    {
      "cell_type": "markdown",
      "metadata": {
        "id": "xlzfnI1f27ER"
      },
      "source": [
        "3. Теперь вам дан новый список. Он состоит только из целых чисел. Попробуйте посчитать их сумму, используя цикл. Для этого заранее, до цикла, заведите переменную, в которой будет аккумулироваться сумма, и на каждой итерации прибавляйте к этой переменной очередной элемент списка"
      ]
    },
    {
      "cell_type": "code",
      "metadata": {
        "colab": {
          "base_uri": "https://localhost:8080/"
        },
        "id": "X5IZ2sXo27ER",
        "outputId": "96deaf5a-cfa5-48a2-8b6a-a7aa433a5cbe"
      },
      "source": [
        "my_list = [1, 2, 3, 4, 5, 6, 7, 8, 9, 10]\n",
        "\n",
        "### YOUR CODE HERE ###\n",
        "my_sum = 0\n",
        "for element in my_list:\n",
        "  my_sum += element\n",
        "print(my_sum)"
      ],
      "execution_count": null,
      "outputs": [
        {
          "output_type": "stream",
          "text": [
            "55\n"
          ],
          "name": "stdout"
        }
      ]
    },
    {
      "cell_type": "markdown",
      "metadata": {
        "id": "81_b7r8w27ER"
      },
      "source": [
        "4. Теперь попробуем нечто похожее со строками. В предыдущем модуле вам уже приходилось использовать конкатенацию строк. Заведите переменную под строку до начала цикла, и на каждой итерации складывайте эту переменную с очередным элементом списка"
      ]
    },
    {
      "cell_type": "code",
      "metadata": {
        "colab": {
          "base_uri": "https://localhost:8080/"
        },
        "id": "4I52sZ_v27ER",
        "outputId": "9a17bf6d-c724-416f-f931-b15585a5790c"
      },
      "source": [
        "my_list = [\"P\", \"y\", \"t\", \"h\", \"o\", \"n\"]\n",
        "\n",
        "### YOUR CODE HERE ###\n",
        "my_str = \"\"\n",
        "for char in my_list:\n",
        "  my_str += char\n",
        "print(my_str)"
      ],
      "execution_count": null,
      "outputs": [
        {
          "output_type": "stream",
          "text": [
            "Python\n"
          ],
          "name": "stdout"
        }
      ]
    },
    {
      "cell_type": "markdown",
      "metadata": {
        "id": "32_PAyBr27ER"
      },
      "source": [
        "5. Отлично. Добавим условия. Ниже вам снова дан список. Пройдитесь по нему циклом for, но распечатайте только число 5."
      ]
    },
    {
      "cell_type": "code",
      "metadata": {
        "colab": {
          "base_uri": "https://localhost:8080/"
        },
        "id": "o6A54Qb127ER",
        "outputId": "c6ada358-15d8-4ba8-aba5-4b773d03a8fd"
      },
      "source": [
        "my_list = [1, 3, 5, 7, 9]\n",
        "\n",
        "### YOUR CODE HERE ###\n",
        "for element in my_list:\n",
        "  if element == 5:\n",
        "    print(element)"
      ],
      "execution_count": null,
      "outputs": [
        {
          "output_type": "stream",
          "text": [
            "5\n"
          ],
          "name": "stdout"
        }
      ]
    },
    {
      "cell_type": "markdown",
      "metadata": {
        "id": "KavItVn227ER"
      },
      "source": [
        "6. Добавим функцию range(). Видите ли, не всегда нам хочется проходиться по списку теми способами, которые мы использовали выше. Иногда нам хочется обращаться к каждому элементу списка по индексу. И для этого очень часто используется функция range(). Как вы помните, она создаёт список элементов. Функция range(10) создаст список [0, 1, 2, 3, 4, 5, 6, 7, 8, 9]. А уже используя эти числа, мы можем обращаться к элементам другого списка по индексу. Скажем, нам дан список [1, \"три\", (5,), [7]]. Тогда, создав список элементов [0, 1, 2, 3], мы можем в цикле for пройтись по нему, и вызывать элементы данного нам списка, используя числа из созданного функцией range(). Попробуйте сделать это"
      ]
    },
    {
      "cell_type": "code",
      "metadata": {
        "colab": {
          "base_uri": "https://localhost:8080/"
        },
        "id": "Fd0N91aN27ER",
        "outputId": "d83f23f5-f921-4e85-9f87-cfe13466db54"
      },
      "source": [
        "my_list = [1, 3, \"пять\", 7, 9, \"11\", 13, 15, \"семнадцать\"]\n",
        "\n",
        "### YOUR CODE HERE ###\n",
        "for i in range(9):\n",
        "  print(my_list[i])"
      ],
      "execution_count": null,
      "outputs": [
        {
          "output_type": "stream",
          "text": [
            "1\n",
            "3\n",
            "пять\n",
            "7\n",
            "9\n",
            "11\n",
            "13\n",
            "15\n",
            "семнадцать\n"
          ],
          "name": "stdout"
        }
      ]
    },
    {
      "cell_type": "markdown",
      "metadata": {
        "id": "cpr5KeqZ27ER"
      },
      "source": [
        "7. А теперь то же самое, только немного усовершенствуем предыдущий алгоритм. Если мы заранее не знаем, сколько элементов содержит наш список, то каждый раз подсчитывать его длину вручную неудобно. Зато функция len() возвращает длину объекта. Теперь, вместо жёстко заданного значения в range(), вставьте туда длину списка с помощью len()."
      ]
    },
    {
      "cell_type": "code",
      "metadata": {
        "colab": {
          "base_uri": "https://localhost:8080/"
        },
        "id": "XgDEfVIa27ER",
        "outputId": "57e69908-6072-4e8b-96f6-5183c8a6c44c"
      },
      "source": [
        "my_list = [1, 3, \"пять\", 7, 9, \"11\", 13, 15, \"семнадцать\"]\n",
        "\n",
        "### YOUR CODE HERE ###\n",
        "for i in range(len(my_list)):\n",
        "  print(my_list[i])"
      ],
      "execution_count": null,
      "outputs": [
        {
          "output_type": "stream",
          "text": [
            "1\n",
            "3\n",
            "пять\n",
            "7\n",
            "9\n",
            "11\n",
            "13\n",
            "15\n",
            "семнадцать\n"
          ],
          "name": "stdout"
        }
      ]
    },
    {
      "cell_type": "markdown",
      "metadata": {
        "id": "yo-GpoQU27ER"
      },
      "source": [
        "8. Пройдитесь в цикле по списку, используя функцию range() и выведите только четвёртый объект на экран."
      ]
    },
    {
      "cell_type": "code",
      "metadata": {
        "colab": {
          "base_uri": "https://localhost:8080/"
        },
        "id": "3optvdgy27ER",
        "outputId": "e076498d-1ae3-41c0-e037-08f4bb210bf7"
      },
      "source": [
        "my_list = [10, 9, 8, 7, 6, 5, 4, 3, 2, 1, 0]\n",
        "\n",
        "### YOUR CODE HERE ###\n",
        "for i in range(len(my_list)):\n",
        "  if i == 3:\n",
        "    print(my_list[i])"
      ],
      "execution_count": null,
      "outputs": [
        {
          "output_type": "stream",
          "text": [
            "7\n"
          ],
          "name": "stdout"
        }
      ]
    },
    {
      "cell_type": "markdown",
      "metadata": {
        "id": "nO7qJKtQ27ER"
      },
      "source": [
        "9. Выведите на экран все элементы, которые меньше 5."
      ]
    },
    {
      "cell_type": "code",
      "metadata": {
        "colab": {
          "base_uri": "https://localhost:8080/"
        },
        "id": "mFPnjdwB27ER",
        "outputId": "a9ed0f10-c1aa-47c2-a1db-efd96c68c8ad"
      },
      "source": [
        "my_list = [10, 8, 1, 3, 4, 6, 7, 8, 5, 5, 3 ,2 ,1 ,1 ,1 -10, -8, 6, 5, -3, -7, 3, 6]\n",
        "\n",
        "### YOUR CODE HERE ###\n",
        "for element in my_list:\n",
        "  if element < 5:\n",
        "    print(element)"
      ],
      "execution_count": null,
      "outputs": [
        {
          "output_type": "stream",
          "text": [
            "1\n",
            "3\n",
            "4\n",
            "3\n",
            "2\n",
            "1\n",
            "1\n",
            "-9\n",
            "-8\n",
            "-3\n",
            "-7\n",
            "3\n"
          ],
          "name": "stdout"
        }
      ]
    },
    {
      "cell_type": "markdown",
      "metadata": {
        "id": "IgeDtpH827ER"
      },
      "source": [
        "10. Пройдитесь по списку с помощью функции range() и замените в списке значение шестого элемента на значение 6"
      ]
    },
    {
      "cell_type": "code",
      "metadata": {
        "colab": {
          "base_uri": "https://localhost:8080/"
        },
        "id": "20g_9GtN27ER",
        "outputId": "61a01dfa-4eab-49bf-a396-2e60dbf16f1b"
      },
      "source": [
        "my_list = [1, 2, 3, 4, 5, 8, 7, 8]\n",
        "\n",
        "### YOUR CODE HERE ###\n",
        "for i in range(len(my_list)):\n",
        "  if i == 5:\n",
        "    my_list[i] = 6\n",
        "print(my_list)"
      ],
      "execution_count": null,
      "outputs": [
        {
          "output_type": "stream",
          "text": [
            "[1, 2, 3, 4, 5, 6, 7, 8]\n"
          ],
          "name": "stdout"
        }
      ]
    },
    {
      "cell_type": "markdown",
      "metadata": {
        "id": "o772AkVt27ES"
      },
      "source": [
        "Обратите внимание: в Python существует функция enumerate(), которая ставит в соответствие каждому элементу индекс. Эту функцию часто целесообразнее использовать, чем range(). Пример:"
      ]
    },
    {
      "cell_type": "code",
      "metadata": {
        "colab": {
          "base_uri": "https://localhost:8080/",
          "height": 101
        },
        "id": "CBHp4mAP27ES",
        "outputId": "6c397b69-80b7-4e0c-82f4-fd24483b7952"
      },
      "source": [
        "my_list = [\"кошка\", \"собака\", \"гусь\", \"корова\", \"свинья\"]\n",
        "\n",
        "for i, element in enumerate(my_list):\n",
        "  print(i, element)"
      ],
      "execution_count": null,
      "outputs": [
        {
          "output_type": "stream",
          "text": [
            "0 кошка\n",
            "1 собака\n",
            "2 гусь\n",
            "3 корова\n",
            "4 свинья\n"
          ],
          "name": "stdout"
        }
      ]
    },
    {
      "cell_type": "markdown",
      "metadata": {
        "id": "KNRhhBtV27ET"
      },
      "source": [
        "11. Пройдитесь по списку и замените в нём каждый элемент со значением \"три\" на значение 3."
      ]
    },
    {
      "cell_type": "code",
      "metadata": {
        "colab": {
          "base_uri": "https://localhost:8080/"
        },
        "id": "2lCqveYw27ET",
        "outputId": "fa695d0d-8eed-461e-db99-5bc35c357a9d"
      },
      "source": [
        "my_list = [1, 2, \"три\", 8, 5, \"три\", 7, 9, \"три\"]\n",
        "\n",
        "### YOUR CODE HERE ###\n",
        "for i, element in enumerate(my_list):\n",
        "  if element == \"три\":\n",
        "    my_list[i] = 3\n",
        "print(my_list)"
      ],
      "execution_count": null,
      "outputs": [
        {
          "output_type": "stream",
          "text": [
            "[1, 2, 3, 8, 5, 3, 7, 9, 3]\n"
          ],
          "name": "stdout"
        }
      ]
    },
    {
      "cell_type": "markdown",
      "metadata": {
        "id": "ru35mF0D27ET"
      },
      "source": [
        "12. Используя условия, найдите в списке наибольший элемент из тех, которые делятся на 2 без остатка, и замените его на 12."
      ]
    },
    {
      "cell_type": "code",
      "metadata": {
        "colab": {
          "base_uri": "https://localhost:8080/"
        },
        "id": "8riIFtC727ET",
        "outputId": "5a41d7a8-efc9-438a-d7e1-f8645a6778a0"
      },
      "source": [
        "my_list = [1, 2, 3, 4, 5, 6, 7, 8, 9, 10, 11, 22, 13]\n",
        "\n",
        "### YOUR CODE HERE ###\n",
        "for i, element in enumerate(my_list):\n",
        "  if element % 2 == 0:\n",
        "    my_list[i] = 12\n",
        "print(my_list)"
      ],
      "execution_count": null,
      "outputs": [
        {
          "output_type": "stream",
          "text": [
            "[1, 12, 3, 12, 5, 12, 7, 12, 9, 12, 11, 12, 13]\n"
          ],
          "name": "stdout"
        }
      ]
    },
    {
      "cell_type": "markdown",
      "metadata": {
        "id": "OtmLs7-T27ET"
      },
      "source": [
        "Стоит дать небольшое пояснение по поводу цикла for. Ранее мы уже меняли элементы списка при проходе в цикле, но не меняли сам список. И заметьте, что делать это крайне нежелательно! В цикле for количество итераций определяется сразу, как только цикл начинается. Если вы удалите элемент из списка при проходе, то длина списка уменьшится, а количество итераций не изменится. В итоге вы можете выйти за границы списка, что вызовет ошибку. Поэтому лучше подобные действия совершать в цикле while. Он не имеет заранее известного количества итераций и работает, пока не выполнится условие.\n",
        "\n",
        "13. С помощью цикла while выведите на экран все элементы списка. Для этого заранее заведите переменную-счётчик и на каждой итерации прибавляйте к ней единицу, а условие будет выглядеть вот так: (while *счётчик* < len(my_list):)"
      ]
    },
    {
      "cell_type": "code",
      "metadata": {
        "colab": {
          "base_uri": "https://localhost:8080/"
        },
        "id": "orcnX7ze27ET",
        "outputId": "97637531-e502-4bd9-cf38-3eac5272ceea"
      },
      "source": [
        "my_list = [1, 2, 3, 4, 5]\n",
        "\n",
        "### YOUR CODE HERE ###\n",
        "i = 0\n",
        "while i < len(my_list):\n",
        "  print(my_list[i])\n",
        "  i += 1"
      ],
      "execution_count": null,
      "outputs": [
        {
          "output_type": "stream",
          "text": [
            "1\n",
            "2\n",
            "3\n",
            "4\n",
            "5\n"
          ],
          "name": "stdout"
        }
      ]
    },
    {
      "cell_type": "markdown",
      "metadata": {
        "id": "4jMfdhAG27ET"
      },
      "source": [
        "14. С помощью while выведите все элементы списка с конца и до начала"
      ]
    },
    {
      "cell_type": "code",
      "metadata": {
        "colab": {
          "base_uri": "https://localhost:8080/"
        },
        "id": "f3A4859827EU",
        "outputId": "35207ff1-abcd-485f-daa0-e2df3a229258"
      },
      "source": [
        "my_list = [1, 2, 3, 4, 5]\n",
        "\n",
        "### YOUR CODE HERE ###\n",
        "\n",
        "i = 0\n",
        "while i < len(my_list):\n",
        "  print(my_list[len(my_list)-(i+1)])\n",
        "  i += 1"
      ],
      "execution_count": null,
      "outputs": [
        {
          "output_type": "stream",
          "text": [
            "5\n",
            "4\n",
            "3\n",
            "2\n",
            "1\n"
          ],
          "name": "stdout"
        }
      ]
    },
    {
      "cell_type": "markdown",
      "metadata": {
        "id": "bfirdIqj27EU"
      },
      "source": [
        "15. Теперь с помощью цикла while удалите из списка все элементы, которые равны 5. Затем распечатайте получившийся список.\n",
        "Совет: на каждой итерации на всякий случай печатайте текущее значение проверяемого элемента. Постарайтесь понять, как поменяется индексация элементов в списке, после удаления одного из них"
      ]
    },
    {
      "cell_type": "code",
      "metadata": {
        "colab": {
          "base_uri": "https://localhost:8080/"
        },
        "id": "q5knWqf127EU",
        "outputId": "48186713-5489-4b80-cf48-72ceae86f191"
      },
      "source": [
        "my_list = [1, 3, 5, 1, 6, 5, 5, 9, 8, 5, 6, 5, 7, 5, 5]\n",
        "\n",
        "### YOUR CODE HERE ###\n",
        "i = 0\n",
        "while i < len(my_list):\n",
        "  if my_list[i] == 5:\n",
        "    del my_list[i]\n",
        "  else:\n",
        "    i += 1\n",
        "print(my_list)"
      ],
      "execution_count": null,
      "outputs": [
        {
          "output_type": "stream",
          "text": [
            "[1, 3, 1, 6, 9, 8, 6, 7]\n"
          ],
          "name": "stdout"
        }
      ]
    },
    {
      "cell_type": "markdown",
      "metadata": {
        "id": "g7AZa7CX27EU"
      },
      "source": [
        "16. Пройдитесь по списку с помощью цикла while и на каждой итерации сравнивайте текущий элемент со следующим. Если текущий элемент больше следующего, то поменяйте их местами (перезапишите значения, чтобы в следующем элементе оказалось значение текущего, а в текущем значение следующего). Если текущий элемент вы можете получить, обращаясь к нему по индексу i, где i - это счётчик вашего цикла, то к следующему вы можете обратиться, используя индекс i+1. Но будьте осторожны с выходом за границы списка!"
      ]
    },
    {
      "cell_type": "code",
      "metadata": {
        "colab": {
          "base_uri": "https://localhost:8080/"
        },
        "id": "S0spAn9b27EU",
        "outputId": "ddb831a0-8114-421a-8ebb-54b2e118d9d5"
      },
      "source": [
        "my_list = [1, 3, 2, 6, 8, 6, 7, 5, 5, 4, 9, 3]\n",
        "\n",
        "### YOUR CODE HERE ###\n",
        "i = 0\n",
        "while i < len(my_list)-1:\n",
        "  if my_list[i] > my_list[i+1]:\n",
        "    # либо так\n",
        "      buf_var = my_list[i]\n",
        "      my_list[i] = my_list[i+1]\n",
        "      my_list[i+1] = buf_var\n",
        "    # либо так \n",
        "    #  my_list[i], my_list[i+1] = my_list[i+1], my_list[i]\n",
        "    # (но так можно не во всех языках программирования!)\n",
        "  else:\n",
        "    i += 1\n",
        "print(my_list)\n",
        "\n",
        "\n",
        "# Заметье, что список не отсортировался полностью! \n",
        "# По формулировке задания нам и не нужно было осуществлять сортировку."
      ],
      "execution_count": null,
      "outputs": [
        {
          "output_type": "stream",
          "text": [
            "[1, 2, 3, 6, 6, 7, 5, 5, 4, 8, 3, 9]\n"
          ],
          "name": "stdout"
        }
      ]
    },
    {
      "cell_type": "markdown",
      "metadata": {
        "id": "ietSm_Xx27EU"
      },
      "source": [
        "17. С помощью цикла while пройдитесь по списку и, если текущий элемент равен 2, то вставляйте в список число 1 через два элемента от текущего "
      ]
    },
    {
      "cell_type": "code",
      "metadata": {
        "colab": {
          "base_uri": "https://localhost:8080/"
        },
        "id": "V2qb9xK627EU",
        "outputId": "1325fe8b-5632-49bc-c83c-59e47f7c5c28"
      },
      "source": [
        "my_list = [1, 2, 3, 2, 1, 1, 6, 2, 5, 19, 3, 2, 8, 8, 0, 2, 5, 5, 6, 7]\n",
        "\n",
        "### YOUR CODE HERE ###\n",
        "i = 0\n",
        "while i < len(my_list):\n",
        "  if my_list[i] == 2:\n",
        "    my_list.insert(i+2, 1)\n",
        "  i += 1\n",
        "print(my_list)"
      ],
      "execution_count": null,
      "outputs": [
        {
          "output_type": "stream",
          "text": [
            "[1, 2, 3, 1, 2, 1, 1, 1, 6, 2, 5, 1, 19, 3, 2, 8, 1, 8, 0, 2, 5, 1, 5, 6, 7]\n"
          ],
          "name": "stdout"
        }
      ]
    },
    {
      "cell_type": "markdown",
      "metadata": {
        "id": "9lRBnJ7G27EU"
      },
      "source": [
        "18. Пройдитесь в цикле по списку и замените каждый его элемент остатком этого элемента от деления на 2"
      ]
    },
    {
      "cell_type": "code",
      "metadata": {
        "colab": {
          "base_uri": "https://localhost:8080/"
        },
        "id": "dXuPc-Wp27EU",
        "outputId": "b6a47525-e10b-4059-f5ae-b8f13f9587b5"
      },
      "source": [
        "my_list = [1, 2, 3, 4, 5, 6]\n",
        "\n",
        "### YOUR CODE HERE ###\n",
        "i = 0\n",
        "while i < len(my_list):\n",
        "  my_list[i] = my_list[i] % 2\n",
        "  i += 1\n",
        "print(my_list)"
      ],
      "execution_count": null,
      "outputs": [
        {
          "output_type": "stream",
          "text": [
            "[1, 0, 1, 0, 1, 0]\n"
          ],
          "name": "stdout"
        }
      ]
    },
    {
      "cell_type": "markdown",
      "metadata": {
        "id": "ENqBo2bX27EU"
      },
      "source": [
        "19. Вам дан список списков. Пройдитесь по нему и распечатайте каждый список, содержащийся внутри списка my_list"
      ]
    },
    {
      "cell_type": "code",
      "metadata": {
        "id": "8CgAF8Vc27EU"
      },
      "source": [
        "my_list = [\n",
        "    [1, 2, 3, 4, 5],\n",
        "    [6, 7, 8, 9, 10],\n",
        "    [11, 12, 13, 14, 15],\n",
        "    [16, 17, 18, 19, 20],\n",
        "    [21, 22, 23, 24, 25]\n",
        "]\n",
        "\n",
        "\n",
        "### YOUR CODE HERE ###\n",
        "for element in my_list:\n",
        "  print(my_list)"
      ],
      "execution_count": null,
      "outputs": []
    },
    {
      "cell_type": "markdown",
      "metadata": {
        "id": "JJcGy1Gz27EU"
      },
      "source": [
        "20. Посчитайте сумму первых элементов всех списков"
      ]
    },
    {
      "cell_type": "code",
      "metadata": {
        "colab": {
          "base_uri": "https://localhost:8080/"
        },
        "id": "2NhW2GNp27EU",
        "outputId": "2be652a4-73f3-4f5e-d060-7df86f52c723"
      },
      "source": [
        "my_list = [\n",
        "    [1, 2, 3, 4, 5],\n",
        "    [6, 7, 8, 9, 10],\n",
        "    [11, 12, 13, 14, 15],\n",
        "    [16, 17, 18, 19, 20],\n",
        "    [21, 22, 23, 24, 25]\n",
        "]\n",
        "\n",
        "### YOUR CODE HERE ###\n",
        "my_sum = 0\n",
        "for element in my_list:\n",
        "  my_sum += element[0]\n",
        "print(my_sum)"
      ],
      "execution_count": null,
      "outputs": [
        {
          "output_type": "stream",
          "text": [
            "55\n"
          ],
          "name": "stdout"
        }
      ]
    },
    {
      "cell_type": "markdown",
      "metadata": {
        "id": "zS0nhMQT27EU"
      },
      "source": [
        "21. Посчитайте сумму всех элементов первого списка."
      ]
    },
    {
      "cell_type": "code",
      "metadata": {
        "colab": {
          "base_uri": "https://localhost:8080/"
        },
        "id": "ckocZVld27EU",
        "outputId": "9d1db770-91b0-4f0e-a877-015d87a5aca5"
      },
      "source": [
        "my_list = [\n",
        "    [1, 2, 3, 4, 5],\n",
        "    [6, 7, 8, 9, 10],\n",
        "    [11, 12, 13, 14, 15],\n",
        "    [16, 17, 18, 19, 20],\n",
        "    [21, 22, 23, 24, 25]\n",
        "]\n",
        "\n",
        "### YOUR CODE HERE ###\n",
        "my_sum = 0\n",
        "for element in my_list[0]:\n",
        "  my_sum += element\n",
        "print(my_sum)"
      ],
      "execution_count": null,
      "outputs": [
        {
          "output_type": "stream",
          "text": [
            "15\n"
          ],
          "name": "stdout"
        }
      ]
    },
    {
      "cell_type": "markdown",
      "metadata": {
        "id": "7cWwlzS127EU"
      },
      "source": [
        "22. Посчитайте сумму всех элементов всех списков."
      ]
    },
    {
      "cell_type": "code",
      "metadata": {
        "colab": {
          "base_uri": "https://localhost:8080/"
        },
        "id": "EjilomJ027EU",
        "outputId": "da43ab34-6bc8-44eb-bc16-c5a2cfe024d3"
      },
      "source": [
        "my_list = [\n",
        "    [1, 2, 3, 4, 5],\n",
        "    [6, 7, 8, 9, 10],\n",
        "    [11, 12, 13, 14, 15],\n",
        "    [16, 17, 18, 19, 20],\n",
        "    [21, 22, 23, 24, 25]\n",
        "]\n",
        "\n",
        "### YOUR CODE HERE ###\n",
        "my_sum = 0\n",
        "for element in my_list:\n",
        "  my_sum += element[0] + element[1] + element[2] + element[3] + element[4]\n",
        "print(my_sum)"
      ],
      "execution_count": null,
      "outputs": [
        {
          "output_type": "stream",
          "text": [
            "325\n"
          ],
          "name": "stdout"
        }
      ]
    },
    {
      "cell_type": "markdown",
      "metadata": {
        "id": "QFz-f01727EU"
      },
      "source": [
        "23. И ещё раз, только теперь списки разной длины."
      ]
    },
    {
      "cell_type": "code",
      "metadata": {
        "colab": {
          "base_uri": "https://localhost:8080/"
        },
        "id": "IrzoXQTE27EU",
        "outputId": "2c2d58b6-73a7-4512-986c-78f65825db49"
      },
      "source": [
        "my_list = [\n",
        "    [1, 2, 3, 4, 5],\n",
        "    [6, 7, 8, 9, 10, 26],\n",
        "    [11, 12, 13, 14, 15, 27, 28, 29, 30, 31, 32],\n",
        "    [16, 17, 18, 19, 20, 33, 34],\n",
        "    [21]\n",
        "]\n",
        "\n",
        "### YOUR CODE HERE ###\n",
        "my_sum = 0\n",
        "for element_list in my_list:\n",
        "  for element in element_list:\n",
        "    my_sum += element\n",
        "print(my_sum)"
      ],
      "execution_count": null,
      "outputs": [
        {
          "output_type": "stream",
          "text": [
            "501\n"
          ],
          "name": "stdout"
        }
      ]
    },
    {
      "cell_type": "markdown",
      "metadata": {
        "id": "luctKiXZ27EU"
      },
      "source": [
        "24. Пройдитесь по всем спискам и из каждого удалите цифру 1221."
      ]
    },
    {
      "cell_type": "code",
      "metadata": {
        "colab": {
          "base_uri": "https://localhost:8080/"
        },
        "id": "uBOcx_pb27EU",
        "outputId": "208199d3-b95b-4ba8-dd64-0dcabb714118"
      },
      "source": [
        "my_list = [\n",
        "    [1, 2, 3, 4, 5, 6, 7, 8, 1221, 9, 10],\n",
        "    [1221, 7, 8, 1221, 9, 10],\n",
        "    [11, 12, 1221, 14, 15],\n",
        "    [1221],\n",
        "    [1221, 1221, 1221, 22, 1221, 1221, 1221]\n",
        "]\n",
        "\n",
        "### YOUR CODE HERE ###\n",
        "for i, lst in enumerate(my_list):\n",
        "  j = 0\n",
        "  while j < len(lst):\n",
        "    if lst[j] == 1221:\n",
        "      del lst[j]\n",
        "    else:\n",
        "      j += 1\n",
        "  my_list[i] = lst # Строго говоря, эту строку можно убрать — ничего не изменится. \n",
        "  #Для того, чтобы понять, почему так, рекомендуется ознакомиться со следующим материалом:\n",
        "  # https://pythonist-ru.turbopages.org/pythonist.ru/s/kopirovanie-obektov-v-python/\n",
        "\n",
        "my_list"
      ],
      "execution_count": null,
      "outputs": [
        {
          "output_type": "execute_result",
          "data": {
            "text/plain": [
              "[[1, 2, 3, 4, 5, 6, 7, 8, 9, 10], [7, 8, 9, 10], [11, 12, 14, 15], [], [22]]"
            ]
          },
          "metadata": {
            "tags": []
          },
          "execution_count": 31
        }
      ]
    }
  ]
}